{
 "cells": [
  {
   "cell_type": "markdown",
   "metadata": {},
   "source": [
    "# 데이터 특징"
   ]
  },
  {
   "cell_type": "markdown",
   "metadata": {},
   "source": [
    "* 데이터가 가진 특징을 명확히 인지할 때,<br>데이터를 처리할 수 있는 기술적 사항을 고려하여 설계 가능\n",
    "\n",
    "|일반적인<br>데이터 특징|수집 단계에서<br>데이터 특징|\n",
    "|:----:|:----:|\n",
    "|●존재론적 특징<br>●목적론적 특징|●가역적 데이터<br>●불가역적 데이터|\n"
   ]
  },
  {
   "cell_type": "markdown",
   "metadata": {},
   "source": [
    "## 데이터의 존재론적 특징"
   ]
  },
  {
   "cell_type": "markdown",
   "metadata": {},
   "source": [
    "* 정성적 데이터qualitative data 와 정량적 데이터quantitative data로 구분<br>\n",
    "<br>\n",
    "*정성적 데이터는 데이터 자체가 하나의 텍스트<br>(\"환율이 내리고 있어 올해 목표한 수출목표의 조기 달성이 가능해 보인다.\")<br>를 이루고 있기 때문에 데이터 하나 하나가 함축된정보를 가짐<br>\n",
    "<br>\n",
    "* 정량적 데이터는 여러 속성(이름, 나이, 성별, 주소 등)이 모여 하나의 객체를 형성하고,<br>각 속성은 속성 하나 혹은 여러 개의 속성이 결합해 측정이나 설명이 가능<br>"
   ]
  },
  {
   "cell_type": "markdown",
   "metadata": {},
   "source": [
    "|구분|정성적 데이터(Qualitative Data)|정량적 데이터(Quantitative Data)|\n",
    "|-----|-----|-----|\n",
    "|형태|비정형 데이터|정형, 반정형 데이터|\n",
    "|특징|객체 하나에 함의된 정보를 가짐|속성이 모여 객체를 이룸|\n",
    "|구성|언어, 문자 등으로 이루어짐|수치, 도형, 기호 등으로 이루어짐|\n",
    "|저장 형태|파일, 웹|데이터베이스, 스프레드시트|\n",
    "|소스 위치|외부 시스템(주로 소셜 데이터)|내부 시스템(주로 DBMS)|"
   ]
  },
  {
   "cell_type": "markdown",
   "metadata": {},
   "source": [
    "## 데이터의 목적론적 특징\n",
    "\n",
    "* '데이터'라고 인식하게 되는 객체가 갖고 있는 존재 목적\n",
    "* 하나의 서비스 혹은 활용(데이터 분석)을 위해 데이터가 존재하고 있다는 목적 인식\n",
    "* 데이터에서 목적에 맞는 특징을 찾아내는 것\n",
    "* 데이터는 관점에 따라 여러 종류의 데이터로 인식 가능\n",
    "* 원본 데이터의 속성 분리, 다른 데이터와의 병합이 발생해 새로운 데이터 객체 생성"
   ]
  },
  {
   "cell_type": "markdown",
   "metadata": {},
   "source": [
    "## 수집 데이터의 특징 정의\n",
    "* 수집에서 일어나는 모든 과정은 데이터를 활용하기 위한 재생산 과정\n",
    "* 재생산은 원천 데이터를 탐색·수집·정제·저장하는 과정을 거처 새로운 데이터를 생산하는 것을 의미\n",
    "* 수집된 데이터는 원본 데이터와 재생산 데이터의 관계를 고려할 필요가 있음\n",
    "* 재생산된 데이터는 가역적 데이터와 불가역적 데이터로 구분"
   ]
  },
  {
   "cell_type": "markdown",
   "metadata": {},
   "source": [
    "### 가역적 데이터\n",
    "* 생산된 데이터의 원본으로 일정 수준 환원이 가능한 데이터\n",
    "* 데이터 원본의 내용이 변경되었을 경우 변경 이력에 대한 추적이 가능\n",
    "* 원본 데이터의 흔적이 재생산된 데이터에도남아 있음"
   ]
  },
  {
   "cell_type": "markdown",
   "metadata": {},
   "source": [
    "### 불가역적 데이터\n",
    "* 생산된 데이터의 원본으로 환원이 불가능한데이터\n",
    "* 원본 데이터와는 전혀 다른 형태로 재생산되기 때문에 재생산된 데이터의 원본 데이터에 대한 추적이 불가능\n",
    "* 원본 데이터의 내용이 변경되었더라도 재생산된 데이터에는 아무런 영향을 미치지 않음\n"
   ]
  },
  {
   "cell_type": "markdown",
   "metadata": {},
   "source": [
    "|구분|가역적 데이터|불가역적 데이터|\n",
    "|---|----|----|\n",
    "|환원 가능성|가능|불가능|\n",
    "|의존성|원본 데이터에 의존|원본 데이터에 독립적|\n",
    "|원본 데이터와의 관계|1:1|1:N 혹은 N:1|\n",
    "|처리 과정|탐색|병합|\n",
    "|활용 분야|데이터 웨어하우징, 로그 수집|소셜 분석, 텍스트 마이닝|\n"
   ]
  },
  {
   "cell_type": "markdown",
   "metadata": {},
   "source": [
    "# 데이터 수집 정의"
   ]
  },
  {
   "cell_type": "markdown",
   "metadata": {},
   "source": [
    "* 서비스 활용에 필요한 데이터를 시스템의 내부 혹은 외부에서 주기성을 갖고 필요한 형태로 수집하는 활동<br>\n",
    "<br>\n",
    "\n",
    "* 데이터 수집 요소\n",
    "    - 수집 데이터의 저장 형태\n",
    "    - 서비스 활용\n",
    "    - 데이터 위치\n",
    "    - 주기성"
   ]
  },
  {
   "attachments": {},
   "cell_type": "markdown",
   "metadata": {},
   "source": [
    "![image.png](data:image/png;base64,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)"
   ]
  },
  {
   "cell_type": "markdown",
   "metadata": {},
   "source": [
    "## 서비스 활용"
   ]
  },
  {
   "cell_type": "markdown",
   "metadata": {},
   "source": [
    "* 서비스 활용에서 데이터 수집의 역할은 서비스의 품질을 결정할 뿐 아니라 서비스의 생명주기에도 영향을 미침\n",
    "\n",
    "* 어떤 서비스를 할 것인지 결정했으면 먼저 수집할 원천 데이터 탐색 필요\n",
    "\n",
    "* 데이터 탐색 과정에서 고려해야 할 사항\n",
    "    - 수집의 난이도적 측면과 비용적 측면\n",
    "    - 데이터 수집의 안정성\n"
   ]
  },
  {
   "cell_type": "markdown",
   "metadata": {},
   "source": [
    "## 데이터 위치\n",
    "\n",
    "* 수집 데이터의 위치에 따라 구축하려는 시스템 내부 혹은 외부의 데이터로 구분\n"
   ]
  },
  {
   "cell_type": "markdown",
   "metadata": {},
   "source": [
    "|내부 데이터|외부데이터|\n",
    "|-----|-----|\n",
    "|• 내부 시스템에서 데이터를 가져오는 경우<br><br>• 대부분 정형 데이터인 경우가 많음<br><br>• 외부 데이터 수집과 비교하면 수집에 드는비용이나 난이도 측면에서 훨씬 유리<br><br>• 서비스의 생명주기 관리에 용이<br>|• 협약된 곳에서 수집하는 데이터를 제외하고는대부분이 비정형 데이터<br><br>• 수집에 드는 비용이나 난이도가 내부 데이터 수집과 비교하면 상대적으로 어려움<br><br>• 외부 환경은 내부 시스템과는 다르게 통제가불가능하기 때문에 서비스의 수명주기 관리가원천 데이터에 의존할 경우 수집이 불가능<br><br>• 원천 데이터를 수집할 수 없을 경우에 대비한<br>서비스 관리 정책이 별도로 필요|\n",
    "\n"
   ]
  },
  {
   "cell_type": "markdown",
   "metadata": {},
   "source": [
    "## 주기성\n",
    "\n",
    "* 데이터 수집의 주기성을 나눌 때 일반적으로 배치(일괄) 혹은 실시간이냐에 따라 주기를결정 (서비스의 활용적인 측면이지 원본 데이터의 생명주기에 관한 것이 아님)\n",
    "* 데이터의 수집은 다른 곳에서 생성한 데이터를 복제하는 행위\n",
    "* 주기를 갖고 계속 수집하는 행위인지 아니면 한 번의 수집으로 끝나는 과정인지를 먼저고려해야 함\n",
    "* 일회성 수집이 아니고 일정한 주기를 기준으로 수집 활동이 진행되어야 한다면, 서비스의 종류 및 환경에 따라 실시간으로 수집할 것인지 아니면 배치 작업을 통해 수집할 것인가를 결정해야 함"
   ]
  },
  {
   "cell_type": "markdown",
   "metadata": {},
   "source": [
    "## 수집 데이터의 저장 형태\n",
    "\n",
    "* 서비스 활용에 대해 수집 대상 데이터의 위치·주기·수집방법이 결정됐으면, 수집한데이터를 어떠한 형태로 저장할 것인지를 고려해야 됨\n",
    "* 빅데이터 처리에서 일반적으로 사용되는 저장소는 분산 파일 시스템이지만, 수집된 데이터를 가공· 처리하기 위해서 DBMS가 사용될 수도 있고, 서비스를 DBMS를 통해 제공할 수도 있으므로 서비스 환경에 맞는 아키텍처를 설계해야 함\n",
    "* 원본 데이터의 형태에 따라 사용되는 수집 기술이 다르고 수집되는 형태도 다르기 때문에 데이터 저장소의 아키텍처 설계 시 파일 시스템, 관계형 데이터베이스, 분산처리DBMS 등을 고려해야 함\n"
   ]
  }
 ],
 "metadata": {
  "kernelspec": {
   "display_name": "Python 3",
   "language": "python",
   "name": "python3"
  },
  "language_info": {
   "codemirror_mode": {
    "name": "ipython",
    "version": 3
   },
   "file_extension": ".py",
   "mimetype": "text/x-python",
   "name": "python",
   "nbconvert_exporter": "python",
   "pygments_lexer": "ipython3",
   "version": "3.8.5"
  },
  "toc": {
   "base_numbering": 1,
   "nav_menu": {},
   "number_sections": true,
   "sideBar": true,
   "skip_h1_title": false,
   "title_cell": "Table of Contents",
   "title_sidebar": "Contents",
   "toc_cell": false,
   "toc_position": {},
   "toc_section_display": true,
   "toc_window_display": true
  }
 },
 "nbformat": 4,
 "nbformat_minor": 4
}
