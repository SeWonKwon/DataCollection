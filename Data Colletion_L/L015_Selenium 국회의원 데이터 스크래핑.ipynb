{
 "cells": [
  {
   "cell_type": "markdown",
   "metadata": {},
   "source": [
    "빅카인즈\n",
    "https://www.bigkinds.or.kr/\n"
   ]
  },
  {
   "cell_type": "markdown",
   "metadata": {},
   "source": [
    "# 국회의원 데이터 스크래핑 "
   ]
  },
  {
   "cell_type": "markdown",
   "metadata": {},
   "source": [
    "## Selenium 및 웹 드라이버 설치 "
   ]
  },
  {
   "cell_type": "code",
   "execution_count": 1,
   "metadata": {
    "ExecuteTime": {
     "end_time": "2021-07-07T08:18:00.394024Z",
     "start_time": "2021-07-07T08:18:00.386015Z"
    }
   },
   "outputs": [],
   "source": [
    "# !pip install selenium\n",
    "# !apt-get update\n",
    "# !apt install chromium-chromedriver\n",
    "# !cp /usr/lib/chromium-brower/chromdriver /usr/bin\n",
    "\n",
    "# import sys\n",
    "# sys.path.insert(0, '/usr/lib/chromium-brower/chromdriver')"
   ]
  },
  {
   "cell_type": "code",
   "execution_count": 2,
   "metadata": {
    "ExecuteTime": {
     "end_time": "2021-07-07T08:18:00.409037Z",
     "start_time": "2021-07-07T08:18:00.395023Z"
    }
   },
   "outputs": [],
   "source": [
    "# chrome_options = webdriver.ChromeOptions()\n",
    "# chrome_options.add_argument('--headless')\n",
    "# chrome_options.add_argument('--no-sandbox')\n",
    "# chrome_options.add_argument('--disable-dev-shm-usage')"
   ]
  },
  {
   "cell_type": "code",
   "execution_count": 3,
   "metadata": {
    "ExecuteTime": {
     "end_time": "2021-07-07T08:18:02.255716Z",
     "start_time": "2021-07-07T08:18:00.410038Z"
    }
   },
   "outputs": [],
   "source": [
    "import os\n",
    "import shutil\n",
    "import time\n",
    "import pandas as pd\n",
    "from selenium import webdriver\n",
    "from selenium.common.exceptions import NoSuchElementException\n",
    "from urllib.request import urlretrieve\n"
   ]
  },
  {
   "cell_type": "markdown",
   "metadata": {},
   "source": [
    "## `get_politician_info()`: 국회의원 정보 스크래핑"
   ]
  },
  {
   "cell_type": "code",
   "execution_count": 4,
   "metadata": {
    "ExecuteTime": {
     "end_time": "2021-07-07T08:18:02.270730Z",
     "start_time": "2021-07-07T08:18:02.256717Z"
    }
   },
   "outputs": [],
   "source": [
    "def get_politician_info(dir_name, wd):\n",
    "    \n",
    "    profile_info = wd.find_element_by_xpath('//*[@id=\"contents\"]/div[1]/section[1]')\n",
    "    \n",
    "    cols = profile_info.find_elements_by_tag_name('dt')\n",
    "    columns = [col.text for col in cols]\n",
    "    \n",
    "    infos = profile_info.find_elements_by_tag_name('dd')\n",
    "    detail_info = [info.text for info in infos]\n",
    "    \n",
    "    info_dic = {col:info for col,info in zip(columns, detail_info)}\n",
    "    \n",
    "    return info_dic"
   ]
  },
  {
   "cell_type": "markdown",
   "metadata": {},
   "source": [
    "## `get_news_quote()` : 국회의원 뉴스 인용문"
   ]
  },
  {
   "cell_type": "code",
   "execution_count": 5,
   "metadata": {
    "ExecuteTime": {
     "end_time": "2021-07-07T08:18:02.285744Z",
     "start_time": "2021-07-07T08:18:02.271729Z"
    }
   },
   "outputs": [],
   "source": [
    "def get_news_quote(dir_name, name, wd):\n",
    "    page_no = 0 \n",
    "    news_count= 0 \n",
    "    news_max = 20\n",
    "    news_total = wd.find_element_by_id('newsInQoutTotalCount').text[1:-2]\n",
    "    news_file = open(dir_name + '/' + name + '뉴스 인용문.txt', 'w')\n",
    "    news_max = min(news_max, int(news_total))\n",
    "    while True:\n",
    "        try:\n",
    "            page_no += 1\n",
    "            box_list = wd.find_element_by_id('depthAnal-quotations-results')\n",
    "            \n",
    "            \n",
    "            quotes = box_list.find_elements_by_class_name('title')\n",
    "            \n",
    "            for quote in quotes:\n",
    "                news_file.write(quote.text + '\\n')\n",
    "                news_count += 1\n",
    "                print(f\" {news_count}/{news_total}\", quote.text[:10])\n",
    "                \n",
    "         \n",
    "            if news_count >= news_max:\n",
    "                \n",
    "                break\n",
    "                \n",
    "            wd.find_element_by_xpath('//*[@id=\"newsInQuotListPaging\"]/a[3]').click()\n",
    "            \n",
    "            time.sleep(1)\n",
    "            \n",
    "            \n",
    "        except:\n",
    "            print('error')\n",
    "            break\n",
    "            \n",
    "        if news_count >= news_max:\n",
    "            \n",
    "            break\n",
    "            \n",
    "        \n",
    "    news_file.close()"
   ]
  },
  {
   "cell_type": "markdown",
   "metadata": {},
   "source": [
    "## `scraping()` : 스크래핑 함수"
   ]
  },
  {
   "cell_type": "code",
   "execution_count": 6,
   "metadata": {
    "ExecuteTime": {
     "end_time": "2021-07-07T08:18:02.300751Z",
     "start_time": "2021-07-07T08:18:02.286745Z"
    }
   },
   "outputs": [],
   "source": [
    "def scraping(dir_name, politician_max=5):\n",
    "    page_no = 0 \n",
    "    politician_count = 0 \n",
    "    politician_df = pd.DataFrame()\n",
    "    \n",
    "    wd = webdriver.Chrome('c:/WebDriver/bin/chromedriver.exe')\n",
    "    wd.execute_script('window.open(\"about:blank\",\"_blank\");') # 탭 창을 여는 자바 명령어\n",
    "    tabs = wd.window_handles\n",
    "    \n",
    "    while True:\n",
    "        try:\n",
    "            \n",
    "            page_no += 1\n",
    "            wd.switch_to.window(tabs[0])\n",
    "\n",
    "            url = f\"https://www.bigkinds.or.kr/v2/depthAnalysis/assembly.do?page={page_no}\"\n",
    "            wd.get(url)\n",
    "            politician_total = wd.find_element_by_xpath('//*[@id=\"contents\"]/section[1]/div/div/div[1]/div[2]').text\n",
    "            politician_items = wd.find_elements_by_xpath('//*[@id=\"contents\"]/section[3]/div/ul/li')\n",
    "\n",
    "            if not politician_items:\n",
    "                break\n",
    "\n",
    "            for item in politician_items:\n",
    "                wd.switch_to.window(tabs[0])\n",
    "\n",
    "                politician_count += 1\n",
    "\n",
    "                print('-----------------------------------')\n",
    "                print(f\"국회의원{politician_count}/{int(politician_total)}명\")\n",
    "                name = item.find_element_by_class_name('sp-kname').text\n",
    "                print(name)\n",
    "                \n",
    "                detail_link = item.find_element_by_tag_name('a').get_attribute('href')\n",
    "                \n",
    "                wd.switch_to.window(tabs[1])\n",
    "                wd.get(detail_link)\n",
    "                \n",
    "                print('[프로필 이미지 다운로드]')\n",
    "                profile_image = wd.find_element_by_xpath('//*[@id=\"contents\"]/div[1]/div/div/div[2]')\n",
    "                image_src = profile_image.find_element_by_tag_name('img').get_attribute('src')\n",
    "                file_name = dir_name + '/' + name + '.jpg'\n",
    "                \n",
    "                print(file_name)\n",
    "                \n",
    "                urlretrieve(image_src, file_name)\n",
    "               \n",
    "                time.sleep(0.1)\n",
    "                \n",
    "                print('[기본 정보 스크래핑]')\n",
    "                politician_dic = get_politician_info(dir_name, wd)\n",
    "                politician_dic['이름'] = name\n",
    "                print(\"  \", politician_dic)\n",
    "                \n",
    "                \n",
    "                politician_df = politician_df.append(politician_dic, ignore_index=True)\n",
    "                \n",
    "                print(\"[뉴스 인용문 스크래핑]\")\n",
    "                \n",
    "                wd.find_element_by_xpath('//*[@id=\"tabs-news1\"]/div[2]/div[2]/div/ul/li[1]').click\n",
    "                get_news_quote(dir_name, name, wd)\n",
    "                \n",
    "                \n",
    "\n",
    "                \n",
    "                \n",
    "        \n",
    "                if politician_count>=politician_max:\n",
    "                    break\n",
    "\n",
    "                    \n",
    "            if politician_count>=politician_max:\n",
    "                    break\n",
    "                \n",
    "        except AttributeError as e:\n",
    "            print(e)\n",
    "            break\n",
    "            \n",
    "        except NoSuchElementException as e:\n",
    "            print(e)\n",
    "            break\n",
    "        \n",
    "    \n",
    "        \n",
    "\n",
    "    wd.close()\n",
    "    \n",
    "    return politician_df\n",
    "    \n",
    "            "
   ]
  },
  {
   "cell_type": "markdown",
   "metadata": {},
   "source": [
    "## 스크래핑 시작"
   ]
  },
  {
   "cell_type": "code",
   "execution_count": 7,
   "metadata": {
    "ExecuteTime": {
     "end_time": "2021-07-07T08:18:16.483516Z",
     "start_time": "2021-07-07T08:18:02.301752Z"
    },
    "scrolled": false
   },
   "outputs": [
    {
     "name": "stdout",
     "output_type": "stream",
     "text": [
      "./politician 디렉토리 생성\n",
      "-----------------------------------\n",
      "국회의원1/300명\n",
      "강기윤(姜起潤)\n",
      "[프로필 이미지 다운로드]\n",
      "./politician/강기윤(姜起潤).jpg\n",
      "[기본 정보 스크래핑]\n",
      "   {'지역구': '경남 창원시성산구', '당선기록': '재선(19대, 21대)', '소속위원회': '보건복지위원회', '사무실전화': '02-784-1751', '보좌관': '김홍광 , 한영애', '이메일주소': 'ggotop@naver.com', '홈페이지': 'http://blog.naver.com/ggotop', '경력': '[학력] 마산공고(26회) 창원대학교 행정학과 중앙대학교 행정대학원 지방의회과 석사 창원대학교 대학원 행정학 박사 [경력] 현) 국회 보건복지위원회 국민의힘 간사 현) 국민의힘 소상공인살리기 특별위원회 부위원장 현) 국민의힘 코로나19 대책 특별위원회 위원 미래통합당 경남도당 민생특위 위원장 제19대 국회의원 (새누리당/경남 창원시 성산구) 새누리당 원내부대표', '이름': '강기윤(姜起潤)'}\n",
      "[뉴스 인용문 스크래핑]\n",
      " 1/28 대리수술이나 수술 \n",
      " 2/28 수술실 내부 CCT\n",
      " 3/28 내·외부 어디가 좋\n",
      " 4/28 여야 할 것 없이 \n",
      " 5/28 대리 수술과 수술실\n",
      " 6/28 여야 할 것 없이 \n",
      " 7/28 대리수술이나 성범죄\n",
      " 8/28 여·야 할 것 없이\n",
      " 9/28 정부도 수술실 내부\n",
      " 10/28 대리수술·성범죄·불\n",
      " 11/28 대리수술이나 성범죄\n",
      " 12/28 대리수술이나 수술실\n",
      " 13/28 질병청이 찬성하고 \n",
      " 14/28 근로자와 기업들을 \n",
      " 15/28 의혹은 있지만 법적\n",
      " 16/28 문체부 장관은 삼성\n",
      " 17/28 문체부 장관은 삼성\n",
      " 18/28 수술실 출입구에 설\n",
      " 19/28 공공형어린이집 지정\n",
      " 20/28 불법체류자의 경우 \n",
      "-----------------------------------\n",
      "국회의원2/300명\n",
      "강대식(姜大植)\n",
      "[프로필 이미지 다운로드]\n",
      "./politician/강대식(姜大植).jpg\n",
      "[기본 정보 스크래핑]\n",
      "   {'지역구': '대구 동구을', '당선기록': '초선(21대)', '소속위원회': '국방위원회', '사무실전화': '02-784-5275', '보좌관': '박홍규 , 정운태', '이메일주소': 'kds21341@naver.com', '홈페이지': '', '경력': '[학력] 송정초등학교 안심중학교 경북대학교 사범대학 부속고등학교 영남대학교 경영대학원 경영학 석사 영남대학교 대학원 경영학 박사 [경력] 현) 국민의힘 원내부대표 현) 제21대 국회의원 (대구 동구을/국민의힘) 현) 제21대 국회 국방위원회 위원 전) 대구광역시 동구 구청장 전) 대구광역시 동구의회 의장 전) 대구광역시 동구의회 의원 전) 대구광역시 동구문화재단 이사장', '이름': '강대식(姜大植)'}\n",
      "[뉴스 인용문 스크래핑]\n",
      " 1/18 다른 지역은 지역 \n",
      " 2/18 (국방부가) 공군본\n",
      " 3/18 서 장관도 이번 사\n",
      " 4/18 공군참모총장 사의 \n",
      " 5/18 이번 사건과 관련해\n",
      " 6/18 식약처에서 고생을 \n",
      " 7/18 A대위가 성추행 피\n",
      " 8/18 A대위가 성추행 피\n",
      " 9/18 특식 날이라는 사실\n",
      " 10/18 도박판 같은 코인 \n",
      " 11/18 만약 원내대표에 선\n",
      " 12/18 향후 초선들의 개혁\n",
      " 13/18 문재인 정부는 키리\n",
      " 14/18 문재인 정부는 키리\n",
      " 15/18 제대군인은 일반 공\n",
      " 16/18 제대 군인은 일반 \n",
      " 17/18 제대군인은 일반 공\n",
      "error\n",
      "-----------------------------------\n",
      "국회의원3/300명\n",
      "강득구(姜得求)\n",
      "[프로필 이미지 다운로드]\n",
      "./politician/강득구(姜得求).jpg\n",
      "[기본 정보 스크래핑]\n",
      "   {'지역구': '경기 안양시만안구', '당선기록': '초선(21대)', '소속위원회': '교육위원회', '사무실전화': '02-784-2747~9', '보좌관': '서용선 , 안홍식', '이메일주소': 'mainsail440@daum.net', '홈페이지': '', '경력': '2018. 10. ~ 2019. 5. 민주연구원 자치발전연구센터 본부장 2016. 10. ~ 2018. 3. 경기도 연정부지사 2014. 7. ~ 2016. 1. 경기도의회 의장 2010. 7. ~ 2014. 6. 경기도의회 의원(2013. 7. ~ 2014. 6. 민주당 대표) 1998. 7. ~ 2002. 6. 경기도의회 의원', '이름': '강득구(姜得求)'}\n",
      "[뉴스 인용문 스크래핑]\n",
      " 1/27 사립학교에 대한 차\n",
      " 2/27 코로나19(신종 코\n",
      " 3/27 학교 도서관이 미래\n",
      " 4/27 학생들이 방대한 디\n",
      " 5/27 돌풍이 현실이 됐다\n",
      " 6/27 해직 교사 특별법은\n",
      " 7/27 초등학교의 2학기 \n",
      " 8/27 2학기 전면등교 시\n",
      " 9/27 ‘방과후수업 중단 \n",
      " 10/27 2학기 전면 등교를\n",
      " 11/27 학교협동조합은 교육\n",
      " 12/27 현행법은 중앙행정기\n",
      " 13/27 지역구 시민들의 민\n",
      " 14/27 인사혁신처나 교육부\n",
      " 15/27 학원과 교습소는 학\n",
      " 16/27 학교가 학생들이 미\n",
      " 17/27 민원처리 담당자의 \n",
      " 18/27 삶의 현장과 맞닿은\n",
      " 19/27 사할린 동포의 직계\n",
      " 20/27 사유재산이라는 이유\n",
      "-----------------------------------\n",
      "국회의원4/300명\n",
      "강민국(姜旻局)\n",
      "[프로필 이미지 다운로드]\n",
      "./politician/강민국(姜旻局).jpg\n",
      "[기본 정보 스크래핑]\n",
      "   {'지역구': '경남 진주시을', '당선기록': '초선(21대)', '소속위원회': '국회운영위원회 , 정무위원회', '사무실전화': '02-784-0797', '보좌관': '강민승 , 박진우', '이메일주소': 'strongwind01@naver.com', '홈페이지': '', '경력': '[학력] - 봉곡초등학교 졸업(14회) - 진주중학교 졸업(36회) - 진주동명고등학교 졸업(36회) - 경남대학교 법정대학 법학과 졸업 - 경남대학교 대학원 법학과 졸업 (법학박사) [경력] - 전) 한국국제대학교 경찰복지행정학부 조교수 - 전) 새누리당 중앙청년위원회 상임전국위원 - 전) 새누리당 중앙당 부대변인 - 전) 경상남도 도지사 비서실장 - 전) 경상남도 정무보좌역 - 전) 제10대 ·제11대 경상담도의회 의원 - 전) 2015년 경남도교육청 소관 추경예산위원회 예·결산특별위원장 - 전) 제10대 후반기 경상남도의회 의회운영위원회 부위원장 - 전) 남부내륙철도 조기건설 특별위원회 부위원장 - 전) 제11대 전반기 경상남도의회 건설소방위원회 위원장 - 현) 제21대 국회의원 (경상남도 진주을) - 현) 제21대 국회 정무위원회 위원 - 현) 국민의힘 원내대변인 - 현) 국민의힘 중앙윤리위원회 위원 - 현) 국민의힘 경상남도당 수석부위원장 - 현) 국민의힘 라임·옵티머스 권력형 비리게이트 특별위원회 위원 - 현) 국민의힘 중앙재해대책위원 - 현) 국민의힘 정부정책 감시 특별위원', '이름': '강민국(姜旻局)'}\n",
      "[뉴스 인용문 스크래핑]\n",
      " 1/21 문체부 장관은 삼성\n",
      " 2/21 문체부 장관은 삼성\n",
      " 3/21 이번 'LH 혁신방\n",
      " 4/21 비대해진 LH 조직\n",
      " 5/21 진주혁신도시는 국토\n",
      " 6/21 분할은 국토 균형 \n",
      " 7/21 민주적 절차가 담보\n",
      " 8/21 최근 가상화폐 이용\n",
      " 9/21 최근 가상화폐 이용\n",
      " 10/21 내년 대선과 지방선\n",
      " 11/21 최근 가상화폐가 단\n",
      " 12/21 최근 암호화폐 투자\n",
      " 13/21 내년부터 과세 대상\n",
      " 14/21 암호화폐를 규제할 \n",
      " 15/21 최근 암호화폐 투자\n",
      " 16/21 암호화폐와 관련한 \n",
      " 17/21 IBK서비스에 4개\n",
      " 18/21 김 회장은 독립유공\n",
      " 19/21 금융 당국이 공모주\n",
      " 20/21 정치적 중립 의무를\n",
      "-----------------------------------\n",
      "국회의원5/300명\n",
      "강민정(姜旼姃)\n",
      "[프로필 이미지 다운로드]\n",
      "./politician/강민정(姜旼姃).jpg\n",
      "[기본 정보 스크래핑]\n",
      "   {'지역구': '비례대표', '당선기록': '초선(21대)', '소속위원회': '국회운영위원회 , 교육위원회', '사무실전화': '02-784-2477', '보좌관': '손성조 , 윤호숙', '이메일주소': 'kmj2020edu@gmail.com', '홈페이지': 'https://blog.naver.com/kmgedu21', '경력': '현) 열린민주당 원내대표 전) 서울시교육청 혁신학교운영위원회 위원장 전) 교육부 민주시민교육자문위원회 위원 전) 교육자치정책협의회 위원 전) 징검다리교육공동체 상임이사 전) 서울시교육청 혁신교육지구 정책연구교사 전) 북서울중학교 혁신부장 초선 (21대)', '이름': '강민정(姜旼姃)'}\n",
      "[뉴스 인용문 스크래핑]\n",
      " 1/5 (대학들이) 어떻게\n",
      " 2/5 한국 대학 80% \n",
      " 3/5 학령인구 감소는 2\n",
      " 4/5 정부의 책임만 일방\n",
      " 5/5 정부의 책임만 일방\n"
     ]
    }
   ],
   "source": [
    "dir_name = './politician'\n",
    "if os.path.isdir(dir_name):\n",
    "    shutil.rmtree(dir_name)\n",
    "    \n",
    "os.makedirs(dir_name)\n",
    "print(f\"{dir_name} 디렉토리 생성\")\n",
    "\n",
    "politician_df = scraping(dir_name)"
   ]
  },
  {
   "cell_type": "code",
   "execution_count": null,
   "metadata": {},
   "outputs": [],
   "source": []
  },
  {
   "cell_type": "code",
   "execution_count": null,
   "metadata": {},
   "outputs": [],
   "source": []
  }
 ],
 "metadata": {
  "kernelspec": {
   "display_name": "Python 3",
   "language": "python",
   "name": "python3"
  },
  "language_info": {
   "codemirror_mode": {
    "name": "ipython",
    "version": 3
   },
   "file_extension": ".py",
   "mimetype": "text/x-python",
   "name": "python",
   "nbconvert_exporter": "python",
   "pygments_lexer": "ipython3",
   "version": "3.8.5"
  },
  "toc": {
   "base_numbering": 1,
   "nav_menu": {},
   "number_sections": true,
   "sideBar": true,
   "skip_h1_title": false,
   "title_cell": "Table of Contents",
   "title_sidebar": "Contents",
   "toc_cell": false,
   "toc_position": {},
   "toc_section_display": true,
   "toc_window_display": false
  }
 },
 "nbformat": 4,
 "nbformat_minor": 4
}
