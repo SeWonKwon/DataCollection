{
 "cells": [
  {
   "cell_type": "markdown",
   "metadata": {},
   "source": [
    "# 구글 이미지 스크래핑"
   ]
  },
  {
   "cell_type": "markdown",
   "metadata": {},
   "source": [
    "* 스크롤을 내려야만 다음 것을 선택\n",
    "* 클릭후 오른쪽 창에 나온것이 원본 이미지"
   ]
  },
  {
   "cell_type": "markdown",
   "metadata": {},
   "source": [
    "## Selenium 및 웹 드라이버 설치"
   ]
  },
  {
   "cell_type": "code",
   "execution_count": null,
   "metadata": {
    "ExecuteTime": {
     "end_time": "2021-06-30T07:32:09.216398Z",
     "start_time": "2021-06-30T07:32:09.208396Z"
    }
   },
   "outputs": [],
   "source": [
    "# # coloab\n",
    "# !pip install Selenium\n",
    "# !apt-get update\n",
    "# !apt install chromium-chromedriver\n",
    "# !cp /usr/lib/chromium-browser/chromedriver /usr/bin\n",
    "\n",
    "# import sys\n",
    "# sys.path.insert(0, '/usr/lib/chromium-browser/chromedriver')\n",
    "\n",
    "# from selenium import webdriver\n",
    "# chrome_options = webdriver.ChromeOptions()\n",
    "# chrome_options.add_argument('--headless')\n",
    "# chrome_options.add_argument('--no-sandbox')\n",
    "# chrome_options.add_argument('--disable-dev-shm-usage')\n",
    "\n",
    "# wd = webdriver.Chrome('chromedirver', options=chrome_options)"
   ]
  },
  {
   "cell_type": "markdown",
   "metadata": {
    "ExecuteTime": {
     "end_time": "2021-06-30T03:29:32.776657Z",
     "start_time": "2021-06-30T03:29:32.759499Z"
    }
   },
   "source": [
    "## 라이브러리 import"
   ]
  },
  {
   "cell_type": "code",
   "execution_count": null,
   "metadata": {
    "ExecuteTime": {
     "end_time": "2021-06-30T07:32:09.231407Z",
     "start_time": "2021-06-30T07:32:09.218393Z"
    }
   },
   "outputs": [],
   "source": [
    "import os\n",
    "import time\n",
    "import socket # 소켓 에러 방지\n",
    "\n",
    "from selenium import webdriver\n",
    "from urllib.request import urlretrieve\n",
    "from urllib.error import HTTPError, URLError # 각종 Error 대비\n",
    "from selenium.common.exceptions import ElementClickInterceptedException, NoSuchElementException, ElementNotInteractableException\n",
    "from PIL import Image"
   ]
  },
  {
   "cell_type": "markdown",
   "metadata": {},
   "source": [
    "## `scroll_down()` : 스크롤을 밑으로 내리는 함수"
   ]
  },
  {
   "cell_type": "markdown",
   "metadata": {},
   "source": [
    "![image.png](https://slid-capture.s3.ap-northeast-2.amazonaws.com/public/image_upload/db18ea1b27fb47efa72eea8cc6971d80/f7f810b9-44f5-460e-a06f-4a9030a87994.png)\n",
    "\n",
    "Xpath:\n",
    "\n",
    "```\n",
    "//*[@id=\"islmp\"]/div/div/div/div/div[2]/div[2]/input\n",
    "```"
   ]
  },
  {
   "cell_type": "code",
   "execution_count": null,
   "metadata": {
    "ExecuteTime": {
     "end_time": "2021-06-30T07:32:09.246392Z",
     "start_time": "2021-06-30T07:32:09.234397Z"
    }
   },
   "outputs": [],
   "source": [
    "def scroll_down(t=1):\n",
    "    scroll_count = 0 \n",
    "    print(\"[scroll_down(): 스크롤 다운 시작]\")\n",
    "    \n",
    "    last_height = wd.execute_script('return document.body.scrollHeight')\n",
    "    after_click = False\n",
    "    while True:\n",
    "        print(f\"[스크롤 다운: {scroll_count}]\")\n",
    "        wd.execute_script(\"window.scrollTo(0, document.body.scrollHeight);\") # 스크롤을 내리는 명령어\n",
    "        scroll_count += 1\n",
    "        time.sleep(t)\n",
    "        \n",
    "        new_height = wd.execute_script('return document.body.scrollHeight')\n",
    "        \n",
    "        if last_height == new_height: # 내려 갈때가 없다면\n",
    "            if after_click is True: # 결과 더보기 버튼이 있으면\n",
    "                break\n",
    "            \n",
    "            else:\n",
    "                try:\n",
    "                    more_button = wd.find_element_by_xpath('//*[@id=\"islmp\"]/div/div/div/div/div[2]/div[2]/input')\n",
    "                    if more_button.is_displayed():\n",
    "                        more_button.click()\n",
    "                        after_click = True\n",
    "                except NoSuchElementException as e:\n",
    "                    print(type(e))\n",
    "                    break\n",
    "                    \n",
    "        last_height = new_height\n",
    "    \n",
    "\n",
    "    \n"
   ]
  },
  {
   "cell_type": "markdown",
   "metadata": {},
   "source": [
    "## `click_and_save()` : 썸네일 이미지 선택 후 원본 이미지 저장\n"
   ]
  },
  {
   "cell_type": "markdown",
   "metadata": {},
   "source": [
    "![img.save](https://slid-capture.s3.ap-northeast-2.amazonaws.com/public/image_upload/db18ea1b27fb47efa72eea8cc6971d80/785eb566-c6e0-4e72-b07a-2f1438f03ecd.png)\n",
    "\n",
    "```\n",
    "//*[@id=\"Sva75c\"]/div/div/div[3]/div[2]/c-wiz/div/div[1]/div[1]/div[2]/div[1]/a/img\n",
    "\n",
    "```"
   ]
  },
  {
   "cell_type": "markdown",
   "metadata": {},
   "source": [
    "보통 png 또는 jpg"
   ]
  },
  {
   "cell_type": "markdown",
   "metadata": {},
   "source": [
    "//*[@id=\"Sva75c\"]/div/div/div[3]/div[2]/c-wiz/div/div[1]/div[1]/div[2]/div[1]/a/img\n",
    "\n",
    "#Sva75c > div > div > div.pxAole > div.tvh9oe.BIB1wf > c-wiz > div > div.OUZ5W > div.zjoqD > div.qdnLaf.isv-id > div.v4dQwb > a > img\n",
    "\n",
    "//*[@id=\"Sva75c\"]/div/div/div[3]/div[2]/c-wiz/div/div[1]/div[1]/div[2]/div[1]/a/img"
   ]
  },
  {
   "cell_type": "code",
   "execution_count": null,
   "metadata": {
    "ExecuteTime": {
     "end_time": "2021-06-30T07:32:09.261410Z",
     "start_time": "2021-06-30T07:32:09.249393Z"
    }
   },
   "outputs": [],
   "source": [
    "'dataddfd'.startswith('data')"
   ]
  },
  {
   "cell_type": "code",
   "execution_count": null,
   "metadata": {
    "ExecuteTime": {
     "end_time": "2021-06-30T07:32:09.276411Z",
     "start_time": "2021-06-30T07:32:09.264397Z"
    }
   },
   "outputs": [],
   "source": [
    "def click_and_save(dir_name, index, img, img_list_length):\n",
    "    global scraped_count\n",
    "    \n",
    "    try:\n",
    "        img.click()\n",
    "        time.sleep(0.1)\n",
    "        cnt = 0 \n",
    "        src = wd.find_element_by_xpath('//*[@id=\"Sva75c\"]/div/div/div[3]/div[2]/c-wiz/div/div[1]/div[1]/div[2]/div[1]/a/img').get_attribute('src')\n",
    "        while src.startswith('data'):\n",
    "            time.sleep(0.1)\n",
    "            src = wd.find_element_by_xpath('//*[@id=\"Sva75c\"]/div/div/div[3]/div[2]/c-wiz/div/div[1]/div[1]/div[2]/div[1]/a/img').get_attribute('src')\n",
    "            cnt +=1\n",
    "            if cnt == 3:\n",
    "                break\n",
    "        \n",
    "        if src.startswith('data'):\n",
    "            print('data.img')\n",
    "        else:\n",
    "            print(src)\n",
    "        \n",
    "            if src.split('.')[-1] == 'png':\n",
    "                urlretrieve(src, dir_name + '/' + str(scraped_count + 1 ) + '.png')\n",
    "                print(f\"{index+1}/{img_list_length} PNG 이미지 저장 완료\")\n",
    "            else:\n",
    "                urlretrieve(src, dir_name + '/' + str(scraped_count + 1 ) + '.jpg')\n",
    "                print(f\"{index+1}/{img_list_length} JPG 이미지 저장 완료\")\n",
    "\n",
    "            scraped_count += 1\n",
    "    \n",
    "    except HTTPError as e:\n",
    "        print(e)\n",
    "        pass\n",
    "    except ElementClickInterceptedException as e:\n",
    "        print('Click intercepted  Error Ocurred')\n",
    "        pass"
   ]
  },
  {
   "cell_type": "markdown",
   "metadata": {},
   "source": [
    "## `scraping()` : 구글 이미지 스크래핑 함수 정의"
   ]
  },
  {
   "cell_type": "markdown",
   "metadata": {},
   "source": [
    "![imag.xpath](https://slid-capture.s3.ap-northeast-2.amazonaws.com/public/image_upload/db18ea1b27fb47efa72eea8cc6971d80/acb22326-c460-4899-92fe-d38a03777450.png)\n",
    "\n",
    "Xpath:\n",
    "\n",
    "```\n",
    "//*[@id=\"islrg\"]/div[1]\n",
    "\n",
    "```\n"
   ]
  },
  {
   "cell_type": "markdown",
   "metadata": {},
   "source": [
    "![css.selector](https://slid-capture.s3.ap-northeast-2.amazonaws.com/public/image_upload/db18ea1b27fb47efa72eea8cc6971d80/e670a5dd-b8a7-4b7e-9dce-0208583a1602.png)\n",
    "\n",
    "class=\"rg_i Q4LuWd\"\n",
    "\n",
    "* . 을 찍고 rg_i Q4LuWd 해주면 css_selector 에 넣으면 된다. \n",
    "\n",
    "\n",
    "----\n",
    "\n",
    "`img_list = wd.find_elements_by_css_selector('.rg_i Q4LuWd')` 에서 결과 값을 못 가져 온다. 다른 것을 시도 해본다. \n",
    "\n",
    "`#islrg > div.islrc > div:nth-child(8) > a.wXeWr.islib.nfEiy > div.bRMDJf.islir > img` selector 에서"
   ]
  },
  {
   "cell_type": "code",
   "execution_count": null,
   "metadata": {
    "ExecuteTime": {
     "end_time": "2021-06-30T07:32:09.291402Z",
     "start_time": "2021-06-30T07:32:09.278400Z"
    }
   },
   "outputs": [],
   "source": [
    "def scraping(dir_name, query):\n",
    "    global scraped_count\n",
    "    \n",
    "    url = f'https://www.google.co.kr/search?q={query}&tbm=isch&hl=en&tbs=isz:l&authuser=0&sa=X&ved=0CAIQpwVqFwoTCNDqnPW2vvECFQAAAAAdAAAAABAC&biw=826&bih=959'\n",
    "    wd.get(url)\n",
    "    wd.maximize_window() # 창을 가장 크게 해야 이미지 노출 수가 증가 함으로\n",
    "    print(url)\n",
    "    scroll_down()\n",
    "    \n",
    "    div = wd.find_element_by_xpath('//*[@id=\"islrg\"]/div[1]')\n",
    "    img_list = div.find_elements_by_css_selector('div.bRMDJf.islir > img')\n",
    "#     print(img_list)\n",
    "    print('ok')\n",
    "    wd.execute_script(\"window.scrollTo(0, 1)\") # 초반부에 자꾸 Element ClickInterception Error 발생 방지용\n",
    "    time.sleep(5) # 맨 위로 올라가서 사용하기\n",
    "    \n",
    "    for index, img in enumerate(img_list):\n",
    "        \n",
    "        if index%10 ==1:\n",
    "            time.sleep(3)\n",
    "            \n",
    "        print(index)\n",
    "        try:\n",
    "            click_and_save(dir_name, index, img, len(img_list))\n",
    "        \n",
    "        except ElementClickInterceptedException as e:\n",
    "            print(e)\n",
    "            wd.execute_script(\"window.scrollTo(0, window.scrollY + 100)\")\n",
    "            time.sleep(1)\n",
    "            click_and_save(dir_name, index, img, len(img_list))\n",
    "        \n",
    "        except NoSuchElementException as e:\n",
    "            print(e)\n",
    "            wd.execute_script(\"window.scrollTo(0, window.scrollY + 100)\")\n",
    "            time.sleep(1)\n",
    "            click_and_save(dir_name, index, img, len(img_list))            \n",
    "\n",
    "        except ConnectionResetError as e:\n",
    "            print(e)\n",
    "            pass\n",
    "            \n",
    "        except URLError as e: \n",
    "            print(e)\n",
    "            pass\n",
    "        \n",
    "        except socket.timeout as e: \n",
    "            print(e)\n",
    "            pass\n",
    "        \n",
    "        except socket.gaierror as e: \n",
    "            print(e)\n",
    "            pass\n",
    "        \n",
    "        except ElementNotInteractableException as e:\n",
    "            print(e)\n",
    "            break\n",
    "    try: \n",
    "        print(\"[스크래핑 종료 (성공률: %.2f%%)]\"%(scraped_count / len(img_list) * 100.0 ))\n",
    "    \n",
    "    except ZeroDivisionError as e: \n",
    "        print(e)\n",
    "        \n",
    "    wd.quit()\n",
    "        "
   ]
  },
  {
   "cell_type": "markdown",
   "metadata": {},
   "source": [
    "## `filter_and_remove()` : 일정 해상도 이하이거나 손상된 이미지 제거"
   ]
  },
  {
   "cell_type": "code",
   "execution_count": null,
   "metadata": {
    "ExecuteTime": {
     "end_time": "2021-06-30T07:32:09.306405Z",
     "start_time": "2021-06-30T07:32:09.293403Z"
    }
   },
   "outputs": [],
   "source": [
    "def filter_and_remove(dir_name, query, filter_size):\n",
    "    filtered_count = 0 \n",
    "    for index, file_name in enumerate(os.listdir(dir_name)):\n",
    "        try:\n",
    "            \n",
    "            file_path = os.path.join(dir_name, file_name)\n",
    "            img = Image.open(file_path)\n",
    "            if img.width < filter_size and img.height < filter_size :\n",
    "                img.close()\n",
    "                os.remove(file_path)\n",
    "                print(f'{index} 이미지 제거')\n",
    "                filtered_count += 1\n",
    "        except OSError as e: \n",
    "            print(e)\n",
    "            os.remove(file_path)\n",
    "            print(f'{index} 이미지 제거')\n",
    "            filtered_count += 1\n",
    "    else:\n",
    "        print(f'[이미지 제거 개수: {filtered_count}/{scraped_count}]')\n",
    "    \n",
    "\n"
   ]
  },
  {
   "cell_type": "markdown",
   "metadata": {},
   "source": [
    "## 스크래핑 실행"
   ]
  },
  {
   "cell_type": "code",
   "execution_count": null,
   "metadata": {
    "ExecuteTime": {
     "end_time": "2021-06-30T07:33:39.340853Z",
     "start_time": "2021-06-30T07:33:06.068870Z"
    },
    "scrolled": true
   },
   "outputs": [],
   "source": [
    "# os.removedirs('sea/')\n",
    "socket.setdefaulttimeout(30) # 30초 이상 지체되면 끊어줘~\n",
    "\n",
    "wd = webdriver.Chrome('chromedriver')\n",
    "scraped_count = 0 \n",
    "\n",
    "path = \"./\"\n",
    "# query = input(\"검색어 입력:\")\n",
    "query = 'sea'\n",
    "\n",
    "dir_name = path + query\n",
    "os.makedirs(dir_name)\n",
    "print(f\"[{dir_name} 디렉토리 생성]\")\n",
    "\n",
    "scraping(dir_name, query)\n",
    "\n",
    "filter_size = 400\n",
    "filter_and_remove(dir_name, query, filter_size)\n"
   ]
  },
  {
   "cell_type": "markdown",
   "metadata": {},
   "source": [
    "문제점 발견 \n",
    "\n",
    "* 원래의 의도는 고용량의 사진을 가져 오기 위한 셋팅이었는데 실제로는 작은 파일을 그대로 가지고 오고 있다. \n",
    "\n",
    "    - 해결 방법 time.sleep()의 부재로 생긴 일 : 클릭후 시간을 1.5초 정도 필요\n",
    "    \n",
    "* 처음 부분을 저용량으로 받아오는 문제 생김\n",
    "\n",
    "    - "
   ]
  },
  {
   "cell_type": "code",
   "execution_count": null,
   "metadata": {},
   "outputs": [],
   "source": []
  },
  {
   "cell_type": "code",
   "execution_count": null,
   "metadata": {},
   "outputs": [],
   "source": []
  }
 ],
 "metadata": {
  "kernelspec": {
   "display_name": "Python 3",
   "language": "python",
   "name": "python3"
  },
  "language_info": {
   "codemirror_mode": {
    "name": "ipython",
    "version": 3
   },
   "file_extension": ".py",
   "mimetype": "text/x-python",
   "name": "python",
   "nbconvert_exporter": "python",
   "pygments_lexer": "ipython3",
   "version": "3.8.5"
  },
  "toc": {
   "base_numbering": 1,
   "nav_menu": {},
   "number_sections": true,
   "sideBar": true,
   "skip_h1_title": false,
   "title_cell": "Table of Contents",
   "title_sidebar": "Contents",
   "toc_cell": false,
   "toc_position": {},
   "toc_section_display": true,
   "toc_window_display": false
  }
 },
 "nbformat": 4,
 "nbformat_minor": 4
}
