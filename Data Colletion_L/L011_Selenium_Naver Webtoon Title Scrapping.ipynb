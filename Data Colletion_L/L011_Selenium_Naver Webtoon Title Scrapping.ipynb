{
 "cells": [
  {
   "cell_type": "markdown",
   "metadata": {},
   "source": [
    "# 네이버 웹툰 스크래핑"
   ]
  },
  {
   "cell_type": "markdown",
   "metadata": {},
   "source": [
    "* 클릭이 필요한 홈페이지는 BS4 로 스크래핑 하기가 힘들다."
   ]
  },
  {
   "cell_type": "markdown",
   "metadata": {},
   "source": [
    "# Selenium 및 웹 드라이버 설치"
   ]
  },
  {
   "cell_type": "code",
   "execution_count": 22,
   "metadata": {
    "ExecuteTime": {
     "end_time": "2021-06-28T04:47:34.220553Z",
     "start_time": "2021-06-28T04:47:34.203012Z"
    }
   },
   "outputs": [],
   "source": [
    "import os\n",
    "from selenium import webdriver\n",
    "from selenium.webdriver.support.ui import WebDriverWait\n",
    "from selenium.webdriver.support import expected_conditions as EC \n",
    "from selenium.webdriver.common.by import By\n",
    "import time"
   ]
  },
  {
   "cell_type": "code",
   "execution_count": 11,
   "metadata": {
    "ExecuteTime": {
     "end_time": "2021-06-28T04:34:46.504967Z",
     "start_time": "2021-06-28T04:34:44.367892Z"
    }
   },
   "outputs": [],
   "source": [
    "wd = webdriver.Chrome('chromedriver')\n",
    "wd.get('https://comic.naver.com/index.nhn')"
   ]
  },
  {
   "cell_type": "code",
   "execution_count": 12,
   "metadata": {
    "ExecuteTime": {
     "end_time": "2021-06-28T04:34:47.287140Z",
     "start_time": "2021-06-28T04:34:47.052088Z"
    }
   },
   "outputs": [
    {
     "name": "stdout",
     "output_type": "stream",
     "text": [
      "컷툰\n",
      "신입일기\n",
      "수영만화일기\n",
      "오늘의 순정망화\n",
      "칼가는 소녀\n",
      "닥터앤닥터 육아일기\n",
      "약한영웅\n",
      "하루땃따\n",
      "하나리즈\n",
      "낡은이 traveler\n",
      "어둠의 일상툰\n",
      "국밥소녀\n",
      "판타지 세계에서 여행을\n",
      "신과의 대화\n",
      "행복을 찾다.\n",
      "하드오피스\n",
      "아낌없이 프러포즈[독점]\n",
      "숨겨진 세계\n",
      "포로롱 포롱 [독점]\n",
      "평행우주[독점]\n",
      "황성 절대검신 패키지 [단행본]\n",
      "마황의 귀환\n"
     ]
    }
   ],
   "source": [
    "for title in wd.find_elements_by_class_name('title'):\n",
    "    print(title.text)"
   ]
  },
  {
   "cell_type": "markdown",
   "metadata": {},
   "source": [
    "위에서는 우리가 원하는 전부가 나오지 않는다. 그래서 클릭을 해서 우리가 원하는 곳을 찾은후에 다시 받아 오기로 한다. "
   ]
  },
  {
   "attachments": {},
   "cell_type": "markdown",
   "metadata": {},
   "source": [
    "![image.png](data:image/png;base64,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)"
   ]
  },
  {
   "cell_type": "markdown",
   "metadata": {},
   "source": [
    "`genreRecomInfo2` tag 안에서 text를 가져오면 '컷툰'이 같이 딸려 오므로 'title' 안에서 'a' 태그 안에 있는 것만 가져 오기로 한다.  "
   ]
  },
  {
   "cell_type": "code",
   "execution_count": 24,
   "metadata": {
    "ExecuteTime": {
     "end_time": "2021-06-28T04:48:04.451248Z",
     "start_time": "2021-06-28T04:47:50.382827Z"
    },
    "scrolled": false
   },
   "outputs": [
    {
     "name": "stdout",
     "output_type": "stream",
     "text": [
      "[ 에피소드 ]\n",
      "\t 신입일기 - 자까\n",
      "\t 수영만화일기 - 해오\n",
      "\t 오늘의 순정망화 - 손하기\n",
      "\t 칼가는 소녀 - 오리\n",
      "\t 닥터앤닥터 육아일기 - 닥터베르\n",
      "\t 약한영웅 - 서패스 / 김진석\n",
      "[ 옴니버스 ]\n",
      "\t 히어로메이커 - 빤쓰\n",
      "\t 중독연구소 - 김택기\n",
      "\t 결혼생활 그림일기 - 은꼼지\n",
      "\t 내일 - 라마\n",
      "\t AI가 세상을 지배한다면 - POGO / HOOPA\n",
      "\t 굿 리스너 - 쥬드프라이데이\n",
      "[ 스토리 ]\n",
      "\t 히어로메이커 - 빤쓰\n",
      "\t 중독연구소 - 김택기\n",
      "\t 결혼생활 그림일기 - 은꼼지\n",
      "\t 내일 - 라마\n",
      "\t AI가 세상을 지배한다면 - POGO / HOOPA\n",
      "\t 굿 리스너 - 쥬드프라이데이\n",
      "[ 일상 ]\n",
      "\t 히어로메이커 - 빤쓰\n",
      "\t 중독연구소 - 김택기\n",
      "\t 결혼생활 그림일기 - 은꼼지\n",
      "\t 내일 - 라마\n",
      "\t AI가 세상을 지배한다면 - POGO / HOOPA\n",
      "\t 굿 리스너 - 쥬드프라이데이\n",
      "[ 개그 ]\n",
      "\t 오늘의 순정망화 - 손하기\n",
      "\t 모죠의 일지 - 모죠\n",
      "\t 후덜덜덜 남극전자 - 김민혁\n",
      "\t 가슴털 로망스 - 갸오오\n",
      "\t 감자마을 - 박지독\n",
      "\t 주님, 악마가 되게 해주세요! - 불사 / 용가리\n",
      "[ 판타지 ]\n",
      "\t 히어로메이커 - 빤쓰\n",
      "\t 라서드 - 감람\n",
      "\t 백호랑 - 박혬\n",
      "\t 앵무살수 - 김성진\n",
      "\t 트리거 - 고경빈\n",
      "\t 리턴 투 플레이어 - 인덱스,엄키 / 세혼\n",
      "[ 액션 ]\n",
      "\t 보살님이 캐리해! - 성코 / 콩자\n",
      "\t 참교육 - 채용택 / 한가람\n",
      "\t 장씨세가 호위무사 - 조형근 / 김인호\n",
      "\t 살아간다 - 이행복\n",
      "\t 삼매경 - 이원식 / 꿀찬\n",
      "\t 약한영웅 - 서패스 / 김진석\n",
      "[ 드라마 ]\n",
      "\t 와이키키 뱀파이어 - 요니요니\n",
      "\t 중독연구소 - 김택기\n",
      "\t 하루의 하루 - 김이랑\n",
      "\t 요리GO - HO9\n",
      "\t 뷰티풀 군바리 - 설이 / 윤성원\n",
      "\t 착한건 돈이된다 - 유성연\n",
      "[ 순정 ]\n",
      "\t 아, 쫌 참으세요 영주님! - daybook / 새우초밥\n",
      "\t 유일무이 로맨스 - 두부\n",
      "\t 선배, 그 립스틱 바르지 마요 - 까페라떼 / JINHA\n",
      "\t 사랑의 헌옷수거함 - 고잉\n",
      "\t 또다시, 계약 부부 - 설우희,제제 / 제제\n",
      "\t 모락모락 왕세자님 - 원해\n",
      "[ 감성 ]\n",
      "\t 드로잉 레시피 - 꼬모소이\n",
      "\t 연우의 순정 - 이솔\n",
      "\t 숲속의 담 - 다홍\n",
      "\t 안녕 나의 모모로 - 켄타\n",
      "\t 미스테리오소 - 송일곤 / 이제\n",
      "\t 우리는 요정! - 억수씨\n",
      "[ 스릴러 ]\n",
      "\t 꿈의 기업 - 문지현\n",
      "\t 침범 - 공세리 / 영영이\n",
      "\t 파이게임 - 배진수\n",
      "\t 행성인간 - 조석\n",
      "\t 제타 - 하지\n",
      "\t 가짜인간 - 0환이 / 반얀\n",
      "[ 시대극 ]\n",
      "\t 사막에 핀 달 - 선지\n",
      "\t 몽홀 - 장태산\n",
      "\t 삼국지톡 - 무적핑크 / 이리\n",
      "\t 화산귀환 - 비가 / LICO\n",
      "\t 칼부림 - 고일권\n",
      "\t 봉이 김선달 - 양우석,정하용 / 제피가루\n",
      "[ 스포츠 ]\n",
      "\t 윈드브레이커 - 조용석\n",
      "\t 군주 - 박산하\n",
      "\t 태권보이 - 김우준\n",
      "\t 인피니티 - 2오\n",
      "\t 미드나잇 체이서 - 석재윤\n",
      "\t 불릿 6미리 - 김도근\n"
     ]
    }
   ],
   "source": [
    "wd = webdriver.Chrome('chromedriver')\n",
    "wd.get('https://comic.naver.com/index.nhn')\n",
    "genre_ul = wd.find_element_by_class_name('tab_gr')\n",
    "genre_list = genre_ul.find_elements_by_tag_name('a')\n",
    "\n",
    "for genre in genre_list:\n",
    "    genre.click()\n",
    "    time.sleep(0.5) # 클릭후 슬립 필수!!\n",
    "    print(\"[\", genre.text,\"]\")\n",
    "    genre_rec_list = wd.find_elements_by_class_name('genreRecomInfo2')\n",
    "    time.sleep(0.5)\n",
    "    for genre_rec in genre_rec_list:\n",
    "        title_class = genre_rec.find_element_by_class_name('title')\n",
    "        title = title_class.find_element_by_tag_name('a').text\n",
    "        user = genre_rec.find_element_by_class_name('user').text\n",
    "        print(\"\\t\", title, \"-\", user)"
   ]
  }
 ],
 "metadata": {
  "kernelspec": {
   "display_name": "Python 3",
   "language": "python",
   "name": "python3"
  },
  "language_info": {
   "codemirror_mode": {
    "name": "ipython",
    "version": 3
   },
   "file_extension": ".py",
   "mimetype": "text/x-python",
   "name": "python",
   "nbconvert_exporter": "python",
   "pygments_lexer": "ipython3",
   "version": "3.8.5"
  },
  "toc": {
   "base_numbering": 1,
   "nav_menu": {},
   "number_sections": true,
   "sideBar": true,
   "skip_h1_title": false,
   "title_cell": "Table of Contents",
   "title_sidebar": "Contents",
   "toc_cell": false,
   "toc_position": {},
   "toc_section_display": true,
   "toc_window_display": false
  }
 },
 "nbformat": 4,
 "nbformat_minor": 4
}
