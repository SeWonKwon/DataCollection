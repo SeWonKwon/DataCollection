{
 "cells": [
  {
   "cell_type": "markdown",
   "id": "06ab7d1a",
   "metadata": {},
   "source": [
    "# 기본 라이브러리 로드"
   ]
  },
  {
   "cell_type": "code",
   "execution_count": 1,
   "id": "8aa92bf0",
   "metadata": {},
   "outputs": [],
   "source": [
    "import time\n",
    "import pandas as pd\n",
    "import numpy as np\n",
    "\n",
    "\n",
    "from bs4 import BeautifulSoup\n",
    "from selenium import webdriver\n",
    "from selenium.webdriver.common.keys import Keys\n",
    "from selenium.common.exceptions import NoSuchElementException\n",
    "from selenium.common.exceptions import ElementNotInteractableException\n",
    "from selenium.common.exceptions import StaleElementReferenceException\n",
    "from selenium.common.exceptions import ElementClickInterceptedException\n",
    "from webdriver_manager.chrome import ChromeDriverManager\n",
    "from selenium.webdriver.common.by import By\n",
    "\n",
    "\n",
    "import warnings\n",
    "warnings.filterwarnings(action = 'ignore')\n"
   ]
  },
  {
   "cell_type": "markdown",
   "id": "7c5ed882",
   "metadata": {},
   "source": [
    "# 함수"
   ]
  },
  {
   "cell_type": "code",
   "execution_count": 2,
   "id": "579ce8f2",
   "metadata": {},
   "outputs": [],
   "source": [
    "def try_none_text(x):\n",
    "    try:\n",
    "        return x.text\n",
    "    except:\n",
    "        return 'NA'\n",
    "        "
   ]
  },
  {
   "cell_type": "code",
   "execution_count": 3,
   "id": "730d9784",
   "metadata": {},
   "outputs": [],
   "source": [
    "def try_none_text_by_class_name(wd,class_name, col='col'):\n",
    "    try:\n",
    "        return wd.find_element_by_class_name(class_name).text\n",
    "    except NoSuchElementException:\n",
    "        print(col, end=' ')\n",
    "        return 'NA'\n",
    "        "
   ]
  },
  {
   "cell_type": "code",
   "execution_count": 4,
   "id": "877b7640",
   "metadata": {},
   "outputs": [],
   "source": [
    "def strong_try_none_text_by_class_name(wd,class_name, col='col'):\n",
    "    try:\n",
    "        temps = wd.find_elements_by_class_name(class_name)\n",
    "        for temp in temps:\n",
    "            if temp.text.startswith('편의'):\n",
    "                return temp.text.split('\\n')[1]\n",
    "        else:\n",
    "            return 'NA'\n",
    "    except NoSuchElementException:\n",
    "        print(col, end=' ')\n",
    "        return 'NA'\n",
    "        "
   ]
  },
  {
   "cell_type": "markdown",
   "id": "5564de61",
   "metadata": {},
   "source": [
    "## 가게 스크래핑 함수"
   ]
  },
  {
   "cell_type": "code",
   "execution_count": 5,
   "id": "4e5c1a51",
   "metadata": {},
   "outputs": [],
   "source": [
    "def get_store_info(wd):\n",
    "    name = wd.find_element_by_class_name('_3XamX').text\n",
    "#     print(name)\n",
    "    address = try_none_text_by_class_name(wd,'_2yqUQ','address')\n",
    "#     print(address)\n",
    "    tel = try_none_text_by_class_name(wd,'_3ZA0S','tel') \n",
    "#     print(tel)\n",
    "    detail = try_none_text_by_class_name(wd,'WoYOw','detail')\n",
    "#     print('d1',detail)\n",
    "    strong = strong_try_none_text_by_class_name(wd,'_1M_Iz.undefined','strong')\n",
    "#     strong = try_none_text_by_selector(wd, '#app-root > div > div > div.place_detail_wrapper > div:nth-child(4) > div > div:nth-child(3) > div > ul > li._1M_Iz.undefined > div','strong')\n",
    "#     print('s1',strong)\n",
    "\n",
    "    try:\n",
    "        datalab_1 = {}\n",
    "        datalab_list = wd.find_elements_by_class_name('_3Ryhx')\n",
    "        for datalab in datalab_list:\n",
    "            datalab_1[datalab.find_element_by_class_name('_3hvd9').text] = [x.text for x in datalab.find_elements_by_class_name('_2irYJ') if x.text != '']\n",
    "    except:\n",
    "        datalab_1 = 'NA'\n",
    "        \n",
    "#     print(name, datalab_1)\n",
    "        \n",
    "        \n",
    "\n",
    "    nums_list = wd.find_elements_by_class_name('_1Y6hi')\n",
    "    score = nums_list[0].find_element_by_tag_name('em').text\n",
    "    review_num = nums_list[1].find_element_by_tag_name('em').text\n",
    "    blog_nums = nums_list[2].find_element_by_tag_name('em').text\n",
    "#     print(score, review_num, blog_nums)\n",
    "\n",
    "    return name, address,tel, score, detail, strong, datalab_1, review_num, blog_nums\n"
   ]
  },
  {
   "cell_type": "markdown",
   "id": "049b92e5",
   "metadata": {},
   "source": [
    "## 댓글 스크래핑 함수"
   ]
  },
  {
   "cell_type": "markdown",
   "id": "551aad20",
   "metadata": {},
   "source": [
    "## 스크래핑 함수"
   ]
  },
  {
   "cell_type": "code",
   "execution_count": 6,
   "id": "0faad0f9",
   "metadata": {},
   "outputs": [],
   "source": [
    "구이름 = '송파구'\n",
    "동이름 = '방이동'\n",
    "업종 = '식당'"
   ]
  },
  {
   "cell_type": "code",
   "execution_count": 7,
   "id": "70101f6d",
   "metadata": {},
   "outputs": [
    {
     "name": "stdout",
     "output_type": "stream",
     "text": [
      "https://map.naver.com/v5/search/송파구%20방이동%20식당\n"
     ]
    }
   ],
   "source": [
    "search_url = 'https://map.naver.com/v5/search/'\n",
    "search_url_detail = search_url + 구이름 +'%20'+ 동이름 + '%20' + 업종\n",
    "print(search_url_detail)"
   ]
  },
  {
   "cell_type": "code",
   "execution_count": null,
   "id": "cb5af9fa",
   "metadata": {
    "scrolled": false
   },
   "outputs": [
    {
     "name": "stdout",
     "output_type": "stream",
     "text": [
      "송파구 방이동 식당 시작합니다~~ 후비고~~\n",
      "ch\n",
      "50\n",
      "s1 단체석, 주차, 포장, 배달, 예약, 무선 인터넷, 남/녀 화장실 구분, 국민지원금\n",
      "0#s1 단체석\n",
      "1#s1 단체석, 포장, 배달, 무선 인터넷, 남/녀 화장실 구분, 국민지원금\n",
      "2#s1 단체석, 주차, 포장, 무선 인터넷, 남/녀 화장실 구분, 국민지원금\n",
      "3#s1 단체석, 포장, 예약, 무선 인터넷, 남/녀 화장실 구분, 국민지원금\n",
      "4#s1 단체석, 발렛파킹, 포장, 예약, 무선 인터넷, 남/녀 화장실 구분\n",
      "5#s1 예약, 무선 인터넷, 제로페이, 국민지원금\n",
      "6#s1 포장, 예약, 무선 인터넷, 남/녀 화장실 구분, 국민지원금\n",
      "7#s1 단체석, 주차, 포장, 배달, 예약, 무선 인터넷, 반려동물 동반, 남/녀 화장실 구분, 지역화폐(카드형), 지역화폐(모바일형), 제로페이, 국민지원금\n",
      "8#s1 단체석, 예약, 무선 인터넷, 남/녀 화장실 구분\n",
      "9#s1 단체석, 발렛파킹, 예약\n",
      "10#s1 단체석, 발렛파킹, 포장, 남/녀 화장실 구분, 장애인 편의시설\n",
      "11#s1 포장, 배달, 무선 인터넷, 국민지원금\n",
      "12#s1 무선 인터넷, 남/녀 화장실 구분, 지역화폐(카드형), 제로페이, 국민지원금\n",
      "13#s1 단체석, 예약, 무선 인터넷\n"
     ]
    }
   ],
   "source": [
    "options = webdriver.ChromeOptions()\n",
    "# options.add_argument('--no-sandbox')\n",
    "\n",
    "options.add_argument('headless')\n",
    "wd = webdriver.Chrome('chromedriver.exe')  # chromedriver 열기\n",
    "wd.implicitly_wait(3)\n",
    "\n",
    "wd.execute_script('window.open(\"about:blank\", \"_blank\");')\n",
    "tabs = wd.window_handles\n",
    "\n",
    "wd.switch_to.window(tabs[0])\n",
    "\n",
    "wd.get(search_url_detail)\n",
    "time.sleep(1)\n",
    "store_idx = 0\n",
    "store_df = pd.DataFrame(columns=(\"name\",\"address\",\"tel\",\"score\",\"detail\",\"strong\",\"datalab_1\",\"review_num\",\"blog_num\"))\n",
    "review_idx = 0\n",
    "review_df = pd.DataFrame()\n",
    "\n",
    "\n",
    "start_time = time.time()\n",
    "\n",
    "print(f'{구이름} {동이름} {업종} 시작합니다~~ 후비고~~')\n",
    "\n",
    "time.sleep(2)\n",
    "\n",
    "wd.switch_to_frame('searchIframe')\n",
    "# print('ch')\n",
    "\n",
    "while True:\n",
    "    # 스크롤 다운(iframe)\n",
    "    \n",
    "    dfd = wd.find_element_by_tag_name('body')\n",
    "    dfd.click()\n",
    "    for _ in range(7):\n",
    "        dfd.send_keys(Keys.END)\n",
    "        time.sleep(0.3)\n",
    "\n",
    "        \n",
    "    time.sleep(2)\n",
    "    \n",
    "    # 가게 링크\n",
    "    inline_list = wd.find_elements_by_class_name('Ow5Yt')\n",
    "    print(len(inline_list))\n",
    "    \n",
    "    # 각각의 가게 정보 스크랩핑\n",
    "    for inline in inline_list:\n",
    "        try:\n",
    "            inline.click()\n",
    "        except ElementClickInterceptedException:\n",
    "            print('Ele_C_Ex')\n",
    "            pass\n",
    "        time.sleep(0.8)\n",
    "\n",
    "        # iframe 전환\n",
    "        wd.switch_to_default_content()\n",
    "        wd.switch_to_frame('entryIframe')    \n",
    "\n",
    "        store_df.loc[store_idx] = get_store_info(wd)\n",
    "        print(store_idx, end='#')\n",
    "        store_idx += 1\n",
    "\n",
    "        \n",
    "#         리뷰\n",
    "#         review_df.loc[review_idx] = (name, date, score, comment)\n",
    "#         review_idx += 1\n",
    "\n",
    "\n",
    "\n",
    "\n",
    "\n",
    "\n",
    "\n",
    "        # iframe전환\n",
    "        wd.switch_to_default_content()\n",
    "        wd.switch_to_frame('searchIframe')\n",
    "    else:\n",
    "        print('f{current_num}page done', end= ' ')\n",
    "        \n",
    "    last_num = wd.find_elements_by_class_name('_2tk2s ')[-1].text\n",
    "    current_num = wd.find_element_by_class_name('_5vmWW').text\n",
    "    \n",
    "    if last_num == current_num:\n",
    "        print(구이름,동이름,업종, f'가게 {store_idx}개, 리뷰 {review_idx}  완료' )\n",
    "        print(f'{start_time-time.time()} 소요')\n",
    "        break\n",
    "    \n",
    "    try:\n",
    "        next_bnt = wd.find_element_by_css_selector('#app-root > div > div._2lx2y > div._2ky45 > a:nth-child(7) > svg')\n",
    "        next_bnt.click()\n",
    "        time.sleep(1)\n",
    "        \n",
    "    except:\n",
    "        print('page button 에러')\n",
    "        break\n",
    "\n",
    "    print(current_num,last_num)\n",
    "    "
   ]
  },
  {
   "cell_type": "code",
   "execution_count": null,
   "id": "9d99d201",
   "metadata": {
    "scrolled": false
   },
   "outputs": [],
   "source": [
    "store_df"
   ]
  },
  {
   "cell_type": "code",
   "execution_count": null,
   "id": "edc29a79",
   "metadata": {},
   "outputs": [],
   "source": []
  },
  {
   "cell_type": "code",
   "execution_count": null,
   "id": "87f913d0",
   "metadata": {},
   "outputs": [],
   "source": []
  }
 ],
 "metadata": {
  "kernelspec": {
   "display_name": "Python 3 (ipykernel)",
   "language": "python",
   "name": "python3"
  },
  "language_info": {
   "codemirror_mode": {
    "name": "ipython",
    "version": 3
   },
   "file_extension": ".py",
   "mimetype": "text/x-python",
   "name": "python",
   "nbconvert_exporter": "python",
   "pygments_lexer": "ipython3",
   "version": "3.8.11"
  },
  "toc": {
   "base_numbering": 1,
   "nav_menu": {},
   "number_sections": true,
   "sideBar": true,
   "skip_h1_title": false,
   "title_cell": "Table of Contents",
   "title_sidebar": "Contents",
   "toc_cell": false,
   "toc_position": {},
   "toc_section_display": true,
   "toc_window_display": false
  }
 },
 "nbformat": 4,
 "nbformat_minor": 5
}
