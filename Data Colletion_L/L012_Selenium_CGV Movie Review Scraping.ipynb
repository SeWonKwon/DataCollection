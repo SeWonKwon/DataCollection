{
 "cells": [
  {
   "cell_type": "markdown",
   "metadata": {},
   "source": [
    "# CGV 영화 리뷰 스크래핑 with Selenium"
   ]
  },
  {
   "cell_type": "markdown",
   "metadata": {},
   "source": [
    "https://www.cgv.co.kr/"
   ]
  },
  {
   "cell_type": "code",
   "execution_count": null,
   "metadata": {},
   "outputs": [],
   "source": [
    "# !pip install selenium\n",
    "# !apt get update\n",
    "# !apt install chromium-chromium-chromedriver\n",
    "# !cp /usr/lib/chromium-brower/chromedriver /usr/bin\n",
    "\n",
    "# import sys\n",
    "# sys.path.insert(0, '/usr/lib/chromium-brower/chromedriver')\n",
    "\n",
    "# from selenium import webdriver\n",
    "# chrome_options = webdriver.ChromeOptions()\n",
    "# chrome_options.add_argument('--headless')\n",
    "# chrome_options.add_argument('--no-sandbox')\n",
    "# chrome_options.add_argument('--disable-dev-shm-usage')\n"
   ]
  },
  {
   "cell_type": "code",
   "execution_count": 20,
   "metadata": {
    "ExecuteTime": {
     "end_time": "2021-06-29T03:53:28.392361Z",
     "start_time": "2021-06-29T03:53:28.386365Z"
    }
   },
   "outputs": [],
   "source": [
    "import os\n",
    "from selenium import webdriver\n",
    "import pandas as pd\n",
    "import time\n",
    "\n",
    "from selenium.common.exceptions import NoSuchElementException\n",
    "# 페이지 10개씩 넘기다가 마지막 페이지에서 멈추기 위한 라이브러리"
   ]
  },
  {
   "cell_type": "code",
   "execution_count": 2,
   "metadata": {
    "ExecuteTime": {
     "end_time": "2021-06-29T03:20:22.694229Z",
     "start_time": "2021-06-29T03:20:22.644398Z"
    },
    "scrolled": true
   },
   "outputs": [
    {
     "name": "stdout",
     "output_type": "stream",
     "text": [
      " C 드라이브의 볼륨에는 이름이 없습니다.\n",
      " 볼륨 일련 번호: 50B4-87C1\n",
      "\n",
      " C:\\Users\\N\\OneDrive\\WorkJ\\Data_Collection 디렉터리\n",
      "\n",
      "2021-06-29  오후 12:18    <DIR>          .\n",
      "2021-06-29  오후 12:18    <DIR>          ..\n",
      "2021-06-29  오후 12:14    <DIR>          .ipynb_checkpoints\n",
      "2021-06-08  오후 08:07        11,107,328 chromedriver.exe\n",
      "2021-06-28  오후 01:52    <DIR>          Data Colletion_L\n",
      "2021-06-28  오전 11:14    <DIR>          OpenAPI\n",
      "2021-06-29  오후 12:18             1,554 Selenium_CGV 영화 리뷰 스크래핑 .ipynb\n",
      "2021-06-28  오전 11:14    <DIR>          Web Crawling\n",
      "2021-06-28  오후 03:30           379,992 데이터 수집 절차.ipynb\n",
      "               3개 파일          11,488,874 바이트\n",
      "               6개 디렉터리  152,748,191,744 바이트 남음\n"
     ]
    }
   ],
   "source": [
    "!dir"
   ]
  },
  {
   "cell_type": "markdown",
   "metadata": {},
   "source": [
    "리뷰가 있는 url http://www.cgv.co.kr/movies/detail-view/?midx=84643"
   ]
  },
  {
   "attachments": {},
   "cell_type": "markdown",
   "metadata": {},
   "source": [
    "![image.png](data:image/png;base64,iVBORw0KGgoAAAANSUhEUgAAAQ8AAACeCAYAAAAsYo9sAAAgAElEQVR4Ae2d289c1XnG+Rt6mX+ilXLV2yq56GWk9qJRehGMfdFEQhUXDrGhrlCqRlThFCAlvYhwklYcA06jhJBCCkXIGBIUMIcQH8CcwsEmCTYQyK5+Yz/7e+adtfbs+WZmz8znd0njtfda72k9e73PrLX3ns+XfPLxmWaTP08d+flGx7/J2M8X+6PNrXv2NHvsc/WhF+vX8siNY7Lo3XqkMndP3d1cbXY7ZTX/Xedbj9bjkLzVR741Po49e25sjlh/Ead2PD1kzdaEr6vvbl61/jFfrQ+Lb4axPferxztxuGTMWS2INW5P8qgk0Bpfs088UUOS7ykkw6uH9k8Qh0hngnBKCSMftcSJOjW5CUxfbH54tSWm/Izq/c0PT9WujYizSybqzuZrgmTGYutHWEkeExc8XpQ8H/YLRImzp9njSWoJPLaiMKJxotgiFEvAWWQvzIvWztV3N0dEUh5Xx/xpdfdYDB9bkheIEKzbxO7pZ0xnbFWzfSzHsK+MMcmjAsywCZMENYb3kRsLW46tpCuSxEQi1uRvLHzjbyXZGDGFudGSQa+kLvsfjbMlMSeVC3Og7ev37b+F26PNrYW42pgNH5GT49jamcF/kkeYIC2I2d65nx0ep61k9ATvSoQ2cQpJNR6/yKOQzDYP+tuDCLpslsfyia1KfIzjsc72RTMZc8237Cru6eSV5GGTY56LlLqafEuqi9+IUxJBWx371i1ep55yk4nYMdZivFvyRdJTHGP3H8L2bab5Wsan6Ft2p8Tt+CV5CLSs12ylsZVoTNjyhC8nRzvBlYyd5DHFhs2L5ZKHvvFrN1inrwTacSvm2vjVHp9ItcTRj7CSPAR01mtLHm3STpDAlMRXkkzobRGTSKnPDcI2jqnboDPN1hOjctLLr+47tLbnTOiWQFoiKG3FtnDTU6nxuqSzhVnrY0rO5KPaKQD1BTLlZp98I8xEAGNPEWRrKwmK9wikWyGPNmEr/fGatfILJ4+tcYhMxnxrHEUMhIXXW6uYIi4X5nQ7noVtkzyGM822yePjP55u1uHz5BMPr0Uc64DF5sXwSHPLhXciDr1Snk9P3Hp+mX/1/S9MXOdT9194/+PWRyb6Pn7lrgsvit3QPNFzrnbam7DRFfsLzaEL73/c8gTj0vn+pjjOGWPtwqQ+BxRvfzzqts5fq97kMc3QqvqTPMpJt6rr0d+vEmpPcz7ByuNoE/rqu5pTYwm8pT9JLEqUSrKO2dny2/oqkdGETof/lgzkv0MWu0/ccP4luIkxbsUmXGeLcUt/e4SzpS//Xk8lDxfW8R8/ercpfT768J1m6M+Rww8N7nPoMe5Ef4dv2d3s3r272X3L/3Zfv5N3Nlcht3t3c9V9z7WyL9+377z+7n3N/Sd93j3X3H/VpHwfDFub02K6MM9b+bEYtvzvvurO5mXlxOHrL8S7u7n5sMVbGV8x3tbG9c1h2e1Ttz5m1Jtiu5M8RBbUIgsf1IcfvN3UPh+ce6sZ4nP48Z8N4meIsVwsPk7c+9Xmsssu6/h8tfnBia350yW//96jY9f/8Zu77NJ3XfN4ZW62fm5+eMzm6Lo8ft0o3nF/R5sf7K/5Gx8DNjpj239Hc0Jxnbij2Q8+HofaOnAbj20LP/mt9W933lXJQ8ThpCGiwNm5s78dfc6+/2azys/jjz24Uv+rHPtm+n6muXffrmbXro7Pvv9qjsd59dg3JnRueizOvYeam7rs0vfNh6rz5fg9V4587LvnmQmZx76peL/RPBZi2+qry7TXqjCO6E9x7Np1ZXPvsfNj3GqTj1hvyba+iLP1Nxn3mFwYU5++InnUiAPCwOj7f3ij+cPvz39+/7vXm9+999rKPv/3yE9W5nuV407fA8+5R/6tufTSS5sr73x6+fPtxe83V156aXPpDQ8u39ccuTtBHk4cbFFYbbDSEGmILM6cPtWcfveV5t13Xm7eeftk+3n7rRPNkJ+H/+eHg/obcmzpa9i5lHjPhvcYeThxsF1x4mCl8d6ZV0eEAVm89dvjzZtv/KZ54/WXmtdf+3Xz2qsvjn1ePfVCM8Tnpz+5dxA/Q4wlfQwzZxLnxeBcJQ9WHVpxsNpgpQFpnD37XvOnP33SZEkEEoGLG4EJ8mDFoe0KWxWtOEQcH35wtvnkk48vbtRy9IlAIrD1hqlvWbTq4MYoWxXua7BFYcWRxJGzJhFIBECgXXlAHr7q4MkK2xVuinJ/g31ilkQgEUgEhMCIPEqrDrYsPA5ku8JN0ZMnjkon60QgEUgEzq88nDz0hIUtCzdJteo49ptfJVyJQCKQCLQITKw8IA+2LNwoZcvCvY5XXn6++fWLv2yV8iARSAQSgTHy0FMW3e/gRqm2LC88/1SilQgkAolAi0AneXC/gxfAThx/tnn+uSdbpTxIBBKBRGCCPPzFMMiDN0ePH3umee7okUQrEUgEEoEWgSp58KSFd/1FHkeffaJVyoNEIBFIBKaSB+938KSlL3l8dPaj5v49dzf/+mcHRjXnO7ncfffx5lOf+n7zmc/8qHnppfd28lCLYzt37uNm797DIwzAIsvFg0Bv8nj2mcO9UFkmebz86Inmlj+/rnn7hbcmYnn4n3+6ErKalTwOH/7tjiIaCBPihEAhEcgky8WBwMaQx9PffWq0monksUyy6jMFZiGPWWT7+F4HmVx5rMNVWE0Ml/C/zPNHhPnw90D5s378dS7+yA5/K4OfvP/3oTuae+462CvCZSVzkkcv+FMoERgMgaWvPF564MXRioF7IHzYeqiUCCGSz9l33m/vocgGNSuQl37y4qj2do6554IdClscZF2GLY4XYlI/x/Tr3G25jo59NcGW5POff2i0hGcZf91159/K9W9n2vXRfRL01MYxejrvuxVwGz//+evtfQjsRBuKWT5KMozPbRLrj3/8SrtFwQbl3Xc/aMes8bpen/F4POCHH8WGfqk4pozvmWfebWNDN+q5fLTt8TpWHpfGW4rlYm1bKnkoAWMtAlk2eTgpxBicFLrk0CPOWvEJpknpNQlVmrjIlMjDdXXcZ+J6AkjPa08KJ6eazLRxKaZp5OH2dSxdMK3FItlIAroONUylBwkRG8VjVL9qxeLjxafriBTlO+vzCCydPEQUvgLQN38f8tAKoiTLEOJKRfJn336/uf2z3x6tIJwoZAdSUGxOHorN43X9OHF80mmS+cT2SSxZkYZseeLLxqw3It1GiSiiT/mmjnF54pRskXjoUFxWsXssaiuNx9sk59jhB1ul4nI+NuyIGKSrNh+Lxqw2HwdtBw/+emTHr18pjou5bank4UlXSnIlst8ELclxgUqytNfknRBEEsg7qYgoSrI1u3GyaBL6BEam1F5qQ9aTTRPek0MTPPr285KNmm3a3b6STclas+XJzlgonnQigJK++9N4ZsFj5Mz+KdmjO/r2+HycOnZycF3105aljMBSyUPJKdec841/+2e/PUriEiHUkrYki92afIkQorziK8nW7GosqpUAPgnp84moCSjZSDQl2VJylBIhJmy0HRPe7SpBvCaWUjyMKdqizWOKsWBXY3e/60QeES+tUog9XlNd86zPIzAYeZSSsUQIJTlCLcnSXpMvEQLyy1p5xIlWIopSGzGVkrWUbJ6oSviuhC3Zdl/EM01GyY/cppOHsBoNuvCPYyN8hVFB/KJvWip5+HbEkxkioExr822Py3LsJa5o6HOScDsiodo9D9kukZInr5JKhMBk00RzOX3LEpNPTunX2kvk4WOOx25bSeI2RG6KV+fY8W9b7DhJePwuVxqr/HosGqfHIpsuJ12XA1PpK27pupzaalgq7rjKwLbsx2t2zTW/GN3ziDoR94v5fKnkQYLGz+0XtiyA7jcloxznnvRR1onJCcH1Yrv70JaFOErEVCKP0mTXpNY3Vaw1OfHjSYmcJqbblXwtOWqT1W3EGDhXsk+Tk38lXMmW2/OkEwG4D9krjcfban7Qdzlh5m3TyCPi7r4Un8Yr+66jcdWwv1jbl0oeJP+Rf3+8JZDbjTgEuCcuhPD6L15t3+tw8kDeycDJwxPdyQOdSDr0Y8eLx7DdlQeTzt+DYIJqYrovJxtNVOQ0oaVTSw635cdugzhYWcimiEPyHgOJx3shkpV/ZJVQ9GGPPmLmXDbnIQ98+DixW4tHMYsoXE9t2HMcfCwep8YqPdmm3YnCx6/xCsN563PnzjU33XRT88ADD3Saoh855GtFtq655prmzJkzNbGx9j4603wvnDzGIsyTwRCoJc0iAxjCB/EqmUWuixzDqm2dPHmy2bdvX3PFFVeMPiXyUGJLZhp5PP300yNbs5BHTWcW30keq55NC/K/6MRm9cLSXcWX8X6/RP3brb/73ZdGT2yk7+PQykB9O6GGLA4ePDhaSdRWHhDMtddeO1pFTPv2V7Ij35c8unRm8Z3ksRNmZMdyfbvD07e/lvhek+CLKr41cB87cdXhmCmBSysPl5tGHiIj6r7k0Vdnmu8kD79SG3zs39iLSO4SeSxjJVAiD7/vsMGXpDP0RZBHXCX0IY9ZdJI8Oi9hdiYCq0FgXvLgxihkwb0LSp+Vx6w6SR6rmRvpNRHoRGBe8uC+CR+VPuQxq06Sh9DNOhFYIwTmIY9SUk8jj0XpOIR5z8PRyONEYCAEtkse2nroMW6phii8bEcH/RLhuN0kD0cjjxOBgRDYLnnUwpu28ijpTdNJ8iihlm2JwIoRWDZ5aLXh90XikNeWPPRS0SIeG8ZB53kisOkIJHlUruCi3zmouMnmRCARWCECS7nnkeSxwiuarhOBgRBYOHmU3hjktePcvgx0RdNNIjAQAkkeAwGdbhKBnYbAwskDgHLbstOmSY4nEZhEIMljEpNsSQQSgR4IJHn0AClFEoFEYBKBJI9JTLIlEUgEeiCwFPLQC2I8ZVn0337sMaYUSQQSgQEQWAp5lP7YbD6qHeBqpotEYEAElkIexO9PXPI9jwGvaLpKBAZCYGnkMVD86SYRSARWhECSx4qAT7eJwKYjkOSx6Vcw408EVoRAkseKgE+3icCmI5DkselXMONPBFaEQJLHioBPt4nApiOQ5LHpVzDjTwRWhECSx4qAT7eJwKYjkOSx6Vcw408EVoRAkseKgE+3icCmI5DkselXMONPBFaEwEaQx7Fjx5q9e/c21FkSgURgPRBYOnncdtttzZ49e8Y+tM1SkjxmQStlLyYEjh0/2Xz5iiub06fPjD4c06bC8V9/7u+av/jLvxp9OPZ+5M6d+6C58p++1soge++hH8nEqC7JLI08SPjLL7+8iURBe9f/YjUW8YWTJI8SKtmWCDTNkad+OUp8khtS+Nq114/IQNg88LOHx8gCUogEgh5yKiIcJ5CSzFLIQ8Tx5JNPKp656iSPueBL5TVH4Itf/GLT51MaBgmuJIdIbri5e1WvFYR0SjZpo5/VCPK1shTyYLURVxy1AGg/dOjQ2Lbm61//esN/x6dSI4++epDYV77ylZGPRRGaYss6EZgXAYjj05/+dOcHGRW2KH9/2ZfGthnalqiukYh0IZqugn7NhvQWTh6nT58eJWqfJIUgIAoni1JbJI+STKlNegcOHMibrbriWa8dArOShwbAqoBtClsKCsnehxSmrSiwEbc28qkamYWThxKWelqBYLgvEmUjAUWbs+hhnxVKlkRgXRHYLnlAGn6zFFJgZeFF2xStSGrkwjZFMrUVR5RZKXmwtfFVhwatVYS2PpE8ZtGDPPqsguQ760RgaAS2Sx4QgRIdIok3S0vjQB6SqJEIOvQhI9slO8gshTz6JiwkIIKIAXpfiTy2oxd95HkisA4IzEoeIgCtFGLN/ZC4AvFxor+IrcvCySOuGjzoeAwBLHvlkS+XRdTzfN0QmJU8FD8koBUEx9OeoEgPuWkEw0qG+x6yL12vF04eGK/dk3DHkuMpCPc4vPS557EdPfeRx4nAuiCwHfJgZaEXwnRfoyvRfaxru/JQkHqMGm9WsgXRS2JapfjqQ22+LYnbFsnMqqfYsk4E1gmB7ZCH3+OASEo3S2n/zzvuGRsqBBOfpCDj2xyOWZn4SqYks5SVh6Il6bn/EV9PjzcwIQqXKRFOafuxXT3Fl3UisA4IQB59PrPGqhWJ3xMpbVf8KYpk4yqmJLNU8ph1sCmfCCQCm4NAksfmXKuMNBFYKwSSPNbqcmQwicDmIJDksTnXKiNNBNYKgSSPtbocGUwisDkIJHlszrXKSBOBQRDo88IZj3OTPAa5HOkkEVgtAnpjVI9ivY7vfUwjjxMvv9L87Rd2LYc89IKYv7vBsb/4tUgo40tk89jmeXZ8759n3g62H0fg5/HdR7c0CWIMer7vL/nItl4A8jGUnv0jzyRCrmSHfnBxXdmO8oo5tmNDseLLi3x7nPHdA+SxiUzUly18f2HXP7Q/W6e9ZNvHqXFEXGVTNtynxujxcgw+b7zx5mhOxXmFHY2/1CebpXF7LDomHvCQTdfDln6BK3nqGj6layW9//jO95p/ufaG5ZFH6fVxOV90PS95CGxd+NKFLMXMxfIJVJJZZBu+ShOai8kkUNF44gRQovmkQqfWjj8wKflEDzt9yANZbLmsYo2TmnP8RVxr7YqdOOO48IFeiTy6rrHIA5s1OeLzGBVfKQbiIM7a+BlvqQ9bNeyFn9fEgx9df4+F+JI8HK0Lx/OShwML+LUJ465Lk9L7F33MxOgTF341eRiLyrSJWOrHJz/zxm/JNzo+6ZV07lf+a8mFDz6ULv1av64XcXos7ne75PH9O+4ZJW9pPB43vmrj8zggAk9o+rBNfKU+fJRwl81YI489XX/35XPc9UrzGDtdX6RL37b0WXnE18vjtobX2LFz/Pjx9s8Ixu1PtEF/fP3dwZp2rMnIBegqcfIgqzZNJF0An3wcx28Tybuc+y5dYO+Px5o8sqdz4qsVyUgHOeSZvM8+93wxiWYhD7cnbOO48F0iAI8ZGU8o6Rw/cXKkG8cYfZTicPscO4lhP14v2XBfuoaesG63hK/sQFKMCV8qNXn1l2riwYZ0PRbiW9TKA99gtJQbptzz6CIP/WrWyaLUBglABm5LbU4Q8648/EIAvk9O79NxaULSx8XjW8T/KIsmlU8M5NwH53xqpU9MrqvJI59KBp9MLq/j6MfjpC8m9qzkEXGL447nisvraMPjIp6Y6FEeWz4ut61j4YVtYYmOlxirrnMXxtGv/KATse9jz+OZdix7+kLzOmJGnMQzrSyNPEj6+FHC18glkkCJKPSLWieeqDdt0F398SKWZGsygB4TDH3kvV0XkknDx/tK/uJELcl4mya8JgD+4tLd5XUcx+WTXTZpU4mxKxnkV3JeaywxJtnv0sVO1EPe8fOYS/K0IePJw7EnUByHXy+NRePQuWSiXeRUwMv9OH6xL45LNoaoiXnadSCOpZGHrxZ8wKXkV79WH/pVLeRRsgNx+M/xhyQPTSwudiyA7isK9ccJTzsXh2Ukn2kXKk5U2a3VMRFL/ku6xOHxx/EoQTR2n/zYEzZd41EsrM6wrxJjVnuspU9NwZeTR4whyqMTxxV9RBslP/Ga4AdiEDbRJueyKxliFwaxL9ov2RuyTeNzclwZeYggHAARi/rWkTxiwnj8tQtemsBKFk9Wt+XH2O0jJx3ZVhLHiSm5WCPvfkp+aVOyRizkR36jfZ1jw7+BvZ2+rhKxxJfikR5tsh/lkSmNS7rUpXGoTfFR6xgdJZeIwe35sfTiNUJGffI1DUe32+cYe578HIMdMYOX9/XxvTLy8G2HBr4JKw9dYMXsda0vJhk6XJzaXXa3ybEuLhO0T4kTU+fEVyuS8UmDvJMJuprY9MVxqc9tlPzRHxMeuVq720DGYyrpaCzIcbM3btlK43IftXEwXhKMGht8VPqSh+LFRoyrq09+FlkTc+kmKuMillrR2AcnDwJiZeHbDgUZtx/rtvLQpOLClwqglpKCdp/wPtE0YbBdK0oG7PQppTiJWd/GJRulOGLc0sMWSRTHK79dEw8bJV+0T9N33BRLzZZk2R7FJK2NSza74tCYuZ4cq8hfbW64HPEQl88J+rFR65P+PDVY+eqC49p87bqGjJvPSshDKwxffahNWxZA6kse0kV+3gJo8aLK5rQEBFAllevQpkkViSCeSy/WmtClix1fEquNQZNHscgH7SViYTw1LDRWj0cxYq+r0O96LqskxL4XtUfbXbboA/s4tq5x4bNrHOqL11nxRWx9DBzrekf9aX3yO81+9Ofn4FG7ni4HPhHn2I/MSsiDQHR/w5/IxOTvSx7Yg3RkK9rxgU877gK4qw+7ACrgmRy1iRsnMxMC2T4TA/uyrZoJcfrMe6OJQVstMYlRk1y61LUJha9anyaz+1Kb29axjw0cXS9eE08w6UfMpNNlS3aibglD/NBO0TiwXSq6XpJHpoQrNqNvZLFLn2MiP4ot9mG/tMWQXp8av7Xr6frEUBs7cvTzWQp5eCAX07FAvZjGnGMdBgGSmfk1TxFpiZBVR6LAT2xzv/Sjm+ThqMx5nOQxJ4CpXkWAuRVXI1XhgTqSPBYIdJLHAsFMU2uPQJLH2l+iDDARWE8EkjzW87pkVInA2iOQ5LH2lygDTATWE4GNJo/ao9z1hHq+qPQui78HM5/F1E4E5kNgKeTh71zo3YvSD9zmC73+Etm8dtdRP8ljHa/KamPi6Yve2yi9B6JHqnokqzo+htUj3NrTHPVLX/XSyCOSBW+TxrZ5oc+Vx7wIpv4mI0BSQxAUEl/HGhPnIhe1xVov0n3pH/dWZfFTeqlvMPKIv1uJg9jOeZLHdlBLnXVC4L777mr6fEoxQw5aLZDgfLz0IQ+tWLATfwMkW2tJHhDK5Zdf3r5WzjFtscRtkH4TE8nDX3mnTyXqP/jgg6NVkO4fSI9zbLPVkg9sRP34o74Yh/xiw+1IruvPKkoXWW35qGPMkst6sxGAOD768J3ODzIqtdfgtZWgFon0IQ9kkaNQS1f+qFdKHp6cHtTBgwfHyIIkjVsbks/bsEUiUZSM3A+gIBsJCJveplhISPooajtw4EDb5u1OFpL1thjHyOiFeCJ54NfHI5KgVukTs2Sz3mwEZiUPjZbf37AloWbrwa90IRYv08hDv+HR6oW6tD0ZnDz8W5NjTzYfoB/rpqASidoT32U5pl+JGBOO/mhP+lrxRPKIMdb8R7seh3xQQxwl8kBeRWQkuWhbcjFmtWe92QhslzxIdN3PgDQgD0jEC+ThKxKO/Yd6kSwimcgW5BHtcD7YPY9SchOcksLJRsmFTkxoDYhaSctKBH3pSYbzEvkoQSN5KIGlz3nJf0x4xYFdL+i7zS45+ekbs/vJ481FYLvkQULzoUAC2no4EtNWHvRHvVLb4CsPrQh8MJ5MSkBPbiU1CURxebejY+REOp6k3l+KQ34ieehc+l3+va+LFDyuLjknjz4xK8asNxuBWchDT0ZKqwC1aTUCKl3k0XXvxFcn2FkL8vCVRCmRlNT0UTxBRw3hH9mghoRi8qs/rgjkR/IiMp3LDf6V1GqjlryIoeYnxt8lJz81mRizx5PHm4vALOShUfo9DhEKq49YusijRgjaumhVg82a7GDbFoLwZColCW2+/SjJOEDeL10nAG2J6POidsmKDHQuWbevNmolsuxib+/evWM3f2VTBINezR4yIg/FJtvyq/YYo/qz3kwEtkMerBr0h4FIdo7jzVLQqJGHCIf+Uol6KycPJr1vUZQMShIlpJOHElCJxUBpqz1twYfrI09i+jbA/SgR5UfnAlTt0T/nTgqS8zbF4m19yKNvzIox681GYDvk4fc4ajdLQSWSgJDSlqW0WkGGdt+6DE4euheh2hNYg1CCIQOxKLlEKJIjAWWHWkkueQhBRTY9aV2fOPSehewo+XUuW6pd3/2rn1pkqDixhZ7HUYoXXWScoNQmW45NLUaPJY83BwHIo89nOyOqkQftpUey8hFXJoOSh4JY11qrj0hS6xpvxpUIrCMCS7nnsY4D9ZggDd9CeV8eJwKJQD8Edjx5xLdYtb3I5X+/CZJSiUANgR1PHpCE7h2ozu1KbTpkeyLQH4EdTx79oUjJRCARmAWBJI9Z0ErZRCARaBG46MhDj2X9EWqLRh4kAolAbwSWQh66zzAtQbn3wH2IaXK9R9NDMMmjB0gpsvEI8C6Hfu/iL3wtcmBLJY/Si2EePKQxNHm4/zxOBHYiAvHlsNpLXvOOfWnkwR/WiX9cx4PlkSm/B+Ez5MrDY8jjRGCnIcCr5/HPCeqNUUhkkWVp5MGqg3csaqsPCMM/PiitSPRoNZKL9LQ98le71Sbd+Of7tG1BTkX2tI2Sbj7SFUJZbwoCEIT/LF9x+2rECca3N/7Kun5dS78XziW3VPLQb0hiEvrr4UpcBciKBNJRkWxMdlYsLoc8Mv7mqIgCMpC+2nSOHjEgQ63CcY34JJN1IrBuCJDcMeGJ0bcuIg9WKP7jOCcGdOIP6KRHTVkqeZD4JKmvDHDqbZE8RlGFf1yerlJii2QiUcU3SmvkEYlCetFeCC1PE4G1QqBGHpCEVgwihbiN0WrD27Gnv5VK7X1LJw/d26CmxCSvkQft2j5QOwHR5+fYJcl91aErKn9aadTIA5teop735XEisK4IzEIevurQeKK+CIV2kY9kl04eOHKCIMn9W977kKU/biFKK4+Y7NGuBhhJIMlDyGS9ExGIya8xsmLQvZC4/ZAMdUkfkuGxbySbQchDq4KjR4+OVgxaBRCsk0cpsZFJ8vDLm8eJQB0BJwmXoh1ioNTIo/RURiuP0v8oNwh5iBRuvPHG0eNbVgMq08hDur5NcR3Zqd2jULsIS/Z0jn7JXlyxyE/WicA6I8DqIL4UFkmhds9D7b7CgHBYsbz+xpujbcug9zwEdGk7Ql9MXM6dKEjy0j0P5GKhzbdEIgD0RRZJHhG1PN9JCIgotEVhbHE1IpJwkinpRSKK54OsPP+q+0cAAAOjSURBVBgAicxLY7pxqgsWycMTXvc+SHwnlKgjW9T0occHItHj4iQPRymPdzICIgK9nu5Ewri1bYEMuAkqOW1rJAO5eJvsyt5SyGOdLozIiJVPlkQgEdgiD0hknrLjyUM3a+OKZx7QUjcR2GQEtPJI8rCrmH9y0MDIw0SggkCSRwEY3VzVPQ/q3K4UgMqmRGABCOz4bcsCMEoTiUAiUEAgyaMASjYlAonAdAQ2jjz63gCNcnpZLLcx0ydFSiQCfRBYCnmU7j2UfrTWJ8AoE0kh9us8yiV5CJn1rnn3QO8dUPsbjcuOHF/uW+8z1PzqvYf4g7Ga/CLa5VNxDunb4werSz458e3mc39zW3Pqj6ebjz58p/ng3FvN2fffbH733mvN22+daF499UJz7De/ap595rDrdh5DHv6mJ8K0LYJAIinUAukrV9PP9uERiG8w8lSAF5VoX3bB139853utGyVpF4GI6IZKYMXkL27p9XH6ll3kX8Q1GHnotXDeAJ2n9CWFvnLzxJK6i0NAEzOuNDjvSuDFRTBpqeuRpuLlB2NDkQdkFX3ph2tDEeyXr7iyweegKw8ujb9Wrjc/pz1Wja+b82cFSyuYaXJsW/jrY3pZTGTGisi3WSXbMVZelb/zzjsnVleT0y9b+iJQS1SSwn+DwTctH61K9C3opMOx6xCD5F1uWmxdiYkd4qD2hBap0K6ViWL0BEfX9YhF8i7nMWrs3iZ/9FEcR9rk231pXNKRPc5dTu2lmvGdX3lccklzyeizr3l4SdsWT1aCIWFZHajElYLk/Tctum/hCd5XrkYekBexUEq2RBy+YiJW9OLWTGPJenYESJjSxFXSK6GY4Pz5vK9de31D4lAkw4RWQc5XLJzzmaV4Iroe7f4N7HErmVmRuL9IDJKTjM59DO6zqx8bGqtinvdPDLrv0vEWeQxwz4Pk60o2Ja4SmQQtydPv5NFXrkYeTk6AFEkMf1EGuWnjKQGebXUEauShb0knD09WWWQye7sIBb2abemWaiWrklsyMZ7oV3pKZulRe5JzTlxaIWGnpCN92UUuFtfVuKOc4vZ2xUMfvr0v+ojnyC7tnodvRzguJaC+1V1W5EFylnRicveVq5GH/AkcrW7wI0LDRyzolcgtyuV5PwRqCa5JTz9FE55k8qJvXGoVJjgrBD6zJIYS1clINvHPRwW7Liddl5FsaYwaDzY0Rsl7LbulcdAm4hF5lGzF2IUt7T4G91s7xuf/A3iZfz9Wo7IrAAAAAElFTkSuQmCC)\n",
    "\n",
    "다음 페이지를 인스펙션 해보면 \n",
    "* class = 'btn-paging next' 이다. 뛰어쓰기에 . 을 넣어서 위의 스샷처럼 해주길 바란다. \n",
    "    - next_button = page_ul.find_element_by_class_name('btn-paging.next')"
   ]
  },
  {
   "cell_type": "code",
   "execution_count": 49,
   "metadata": {
    "ExecuteTime": {
     "end_time": "2021-06-29T04:08:22.068477Z",
     "start_time": "2021-06-29T04:08:22.048480Z"
    }
   },
   "outputs": [],
   "source": [
    "def get_movie_reviews(midx, page_num=10):\n",
    "    \n",
    "#     midx = '84643'\n",
    "   \n",
    "    url = 'http://www.cgv.co.kr/movies/detail-view/?midx='+str(midx)\n",
    "    wd = webdriver.Chrome('chromedriver')\n",
    "    wd.get(url)\n",
    "    writer_list = []\n",
    "    review_list = []\n",
    "    date_list = []\n",
    "    \n",
    "    for page_no in range(1, page_num+1):\n",
    "        try:    \n",
    "            page_ul = wd.find_element_by_id('paging_point')\n",
    "            page_a = page_ul.find_element_by_link_text(str(page_no))\n",
    "            page_a.click()\n",
    "            time.sleep(1)\n",
    "\n",
    "            writers = wd.find_elements_by_class_name('writer-name')\n",
    "            writer_list += [ writer.text for writer in writers ]\n",
    "            reviews = wd.find_elements_by_class_name('box-comment')\n",
    "            review_list += [review.text for review in reviews]\n",
    "            dates = wd.find_elements_by_class_name('day')\n",
    "            date_list += [date.text for date in dates]\n",
    "            print('#',end='')\n",
    "\n",
    "\n",
    "            if page_no % 10 == 0:\n",
    "                \n",
    "                next_button = page_ul.find_element_by_class_name('btn-paging.next')\n",
    "                next_button.click()\n",
    "                \n",
    "                time.sleep(1)\n",
    "            \n",
    "        except NoSuchElementException:\n",
    "            break\n",
    "\n",
    "    \n",
    "    movie_review_df = pd.DataFrame({\"Writer\": writer_list, \n",
    "                                    \"Review\": review_list,\n",
    "                                    \"Date\": date_list})\n",
    "    \n",
    "    return movie_review_df\n",
    "        "
   ]
  },
  {
   "cell_type": "code",
   "execution_count": 50,
   "metadata": {
    "ExecuteTime": {
     "end_time": "2021-06-29T04:08:44.753697Z",
     "start_time": "2021-06-29T04:08:26.050783Z"
    },
    "scrolled": false
   },
   "outputs": [
    {
     "name": "stdout",
     "output_type": "stream",
     "text": [
      "##########버튼 눌러\n",
      "안된거 같은데\n",
      "##"
     ]
    },
    {
     "data": {
      "text/html": [
       "<div>\n",
       "<style scoped>\n",
       "    .dataframe tbody tr th:only-of-type {\n",
       "        vertical-align: middle;\n",
       "    }\n",
       "\n",
       "    .dataframe tbody tr th {\n",
       "        vertical-align: top;\n",
       "    }\n",
       "\n",
       "    .dataframe thead th {\n",
       "        text-align: right;\n",
       "    }\n",
       "</style>\n",
       "<table border=\"1\" class=\"dataframe\">\n",
       "  <thead>\n",
       "    <tr style=\"text-align: right;\">\n",
       "      <th></th>\n",
       "      <th>Writer</th>\n",
       "      <th>Review</th>\n",
       "      <th>Date</th>\n",
       "    </tr>\n",
       "  </thead>\n",
       "  <tbody>\n",
       "    <tr>\n",
       "      <th>0</th>\n",
       "      <td>eg**38</td>\n",
       "      <td>화려한 패션 구경도하고 음악도 배우연기도 좋았습니다~</td>\n",
       "      <td>2021.06.29</td>\n",
       "    </tr>\n",
       "    <tr>\n",
       "      <th>1</th>\n",
       "      <td>ji**on01</td>\n",
       "      <td>재미있어요. 추천추천</td>\n",
       "      <td>2021.06.29</td>\n",
       "    </tr>\n",
       "    <tr>\n",
       "      <th>2</th>\n",
       "      <td>al**ys2619</td>\n",
       "      <td>최근 본 영화중에 최고였어요 내용 영상 음악 그 어느것 하나 빠지지 않았습니다</td>\n",
       "      <td>2021.06.29</td>\n",
       "    </tr>\n",
       "    <tr>\n",
       "      <th>3</th>\n",
       "      <td>tn**s2837</td>\n",
       "      <td>너무 재밌음 2번 봐도 될듯 추천!</td>\n",
       "      <td>2021.06.29</td>\n",
       "    </tr>\n",
       "    <tr>\n",
       "      <th>4</th>\n",
       "      <td>sj**hjks1</td>\n",
       "      <td>디지니영화팬으로서 무조건추천합니다</td>\n",
       "      <td>2021.06.29</td>\n",
       "    </tr>\n",
       "    <tr>\n",
       "      <th>...</th>\n",
       "      <td>...</td>\n",
       "      <td>...</td>\n",
       "      <td>...</td>\n",
       "    </tr>\n",
       "    <tr>\n",
       "      <th>67</th>\n",
       "      <td>gk**s1317</td>\n",
       "      <td>크루엘라가 되는 반전의 반전</td>\n",
       "      <td>2021.06.28</td>\n",
       "    </tr>\n",
       "    <tr>\n",
       "      <th>68</th>\n",
       "      <td>ca**yh</td>\n",
       "      <td>좋았어요 (크루엘라)</td>\n",
       "      <td>2021.06.28</td>\n",
       "    </tr>\n",
       "    <tr>\n",
       "      <th>69</th>\n",
       "      <td>in**o0630</td>\n",
       "      <td>너무 재밌고 멋있게 잘 봤습니다!</td>\n",
       "      <td>2021.06.28</td>\n",
       "    </tr>\n",
       "    <tr>\n",
       "      <th>70</th>\n",
       "      <td>꿈쟁이</td>\n",
       "      <td>엠마스톤의 매력이 너무나도 돋보인 영화~ 의상의 화려함과 연기가 다했다!</td>\n",
       "      <td>2021.06.28</td>\n",
       "    </tr>\n",
       "    <tr>\n",
       "      <th>71</th>\n",
       "      <td>대왕개미</td>\n",
       "      <td>연출, 스토리, 영상, 배우, 음악, 무엇 하나 빠지는 게 없다.</td>\n",
       "      <td>2021.06.28</td>\n",
       "    </tr>\n",
       "  </tbody>\n",
       "</table>\n",
       "<p>72 rows × 3 columns</p>\n",
       "</div>"
      ],
      "text/plain": [
       "        Writer                                       Review        Date\n",
       "0       eg**38                화려한 패션 구경도하고 음악도 배우연기도 좋았습니다~  2021.06.29\n",
       "1     ji**on01                                  재미있어요. 추천추천  2021.06.29\n",
       "2   al**ys2619  최근 본 영화중에 최고였어요 내용 영상 음악 그 어느것 하나 빠지지 않았습니다  2021.06.29\n",
       "3    tn**s2837                          너무 재밌음 2번 봐도 될듯 추천!  2021.06.29\n",
       "4    sj**hjks1                           디지니영화팬으로서 무조건추천합니다  2021.06.29\n",
       "..         ...                                          ...         ...\n",
       "67   gk**s1317                              크루엘라가 되는 반전의 반전  2021.06.28\n",
       "68      ca**yh                                  좋았어요 (크루엘라)  2021.06.28\n",
       "69   in**o0630                           너무 재밌고 멋있게 잘 봤습니다!  2021.06.28\n",
       "70         꿈쟁이     엠마스톤의 매력이 너무나도 돋보인 영화~ 의상의 화려함과 연기가 다했다!  2021.06.28\n",
       "71        대왕개미         연출, 스토리, 영상, 배우, 음악, 무엇 하나 빠지는 게 없다.  2021.06.28\n",
       "\n",
       "[72 rows x 3 columns]"
      ]
     },
     "execution_count": 50,
     "metadata": {},
     "output_type": "execute_result"
    }
   ],
   "source": [
    "midx = '84643'\n",
    "get_movie_reviews(midx, 12)"
   ]
  },
  {
   "cell_type": "markdown",
   "metadata": {},
   "source": [
    "---"
   ]
  },
  {
   "cell_type": "markdown",
   "metadata": {},
   "source": [
    "# 여러개를 해볼까?!  CGV 상영작 스크래핑"
   ]
  },
  {
   "cell_type": "code",
   "execution_count": 53,
   "metadata": {
    "ExecuteTime": {
     "end_time": "2021-06-29T04:30:49.471998Z",
     "start_time": "2021-06-29T04:29:33.340506Z"
    }
   },
   "outputs": [
    {
     "name": "stdout",
     "output_type": "stream",
     "text": [
      "크루엘라 예매율7.1% 2021.05.26 개봉 http://www.cgv.co.kr/movies/detail-view/?midx=84643\n",
      "##        Writer                                             Review        Date\n",
      "0      ly**h91                    정말 간만에 역대급 영화 봤습니다. 보는 내내 즐거웠어요  2021.06.29\n",
      "1      ke**o08  재밌긴 한데 좀 산만하고, 음악 하나하나는 좋았지만 너무 크고 부조화스러운 느낌.....  2021.06.29\n",
      "2    destiny운명                     시작부터 끝까지 엄청 재미있게 봤어요. 넘 재밌어요??  2021.06.29\n",
      "3     Litstsfc                                       재밌었어요 크루엘라 짱  2021.06.29\n",
      "4       eg**38                      화려한 패션 구경도하고 음악도 배우연기도 좋았습니다~  2021.06.29\n",
      "5     ji**on01                                        재미있어요. 추천추천  2021.06.29\n",
      "6   al**ys2619        최근 본 영화중에 최고였어요 내용 영상 음악 그 어느것 하나 빠지지 않았습니다  2021.06.29\n",
      "7    tn**s2837                                너무 재밌음 2번 봐도 될듯 추천!  2021.06.29\n",
      "8    sj**hjks1                                 디지니영화팬으로서 무조건추천합니다  2021.06.29\n",
      "9     ji**3975                                       감사합니다 좋았어요 ㅎ  2021.06.29\n",
      "10         민해우                   짜잔 사실은 빌런이 아니었습니다. 빌런일… 수는 있지만요.  2021.06.29\n",
      "11     nu**eng  와 너무 재밌게 봤어요! 취저입니다. 보고 나와서 걷는데 크루엘라처럼 건들거리며 걷...  2021.06.29\n",
      "발신제한 예매율6.5% 2021.06.23 개봉 http://www.cgv.co.kr/movies/detail-view/?midx=84686\n",
      "##          Writer                                             Review  \\\n",
      "0         나는영화광펜  처음에는 스릴러 영화답게 긴장감 있게 시작하여 재미있게 보다가 점점 스토리가 매듭 ...   \n",
      "1            전우치                           현대자동차가 제작한 줄, 그래도 나쁘진 않음   \n",
      "2            모태구                              조우진 배우님의 연기만 남는거 같은..   \n",
      "3          주니어jr         몇년전 이러한 내용은 꼭 알고 넘어 가야 된다는 사실 영화 소제 너무 좋았음   \n",
      "4             s♥                                     발신제한..뭔가 아쉬운….   \n",
      "5            참아라                            초중반까지는 잘끌어왔으나~아쉬움이남는 후반   \n",
      "6        아메리카노쪼아                             조우진 배우의 명연기와 쫄깃한 긴장감 ㅋ   \n",
      "7            먈리브                                        잘 모르겠습니다...   \n",
      "8          겁없는녀석                            내용이...그래 모..특별한 감흥은 없네요   \n",
      "9             은이                             재밌어요 시간가는 줄 몰라요 스릴짱이예요   \n",
      "10         코카콜라갑                    처음부터 몰입감이 좋았어요!! 배우분들연기도 좋았습니다!   \n",
      "11  za**kang1472                 실시간으로 다른생각 안들게만든 영화인것같습니다 너무 잘봤습니다   \n",
      "\n",
      "          Date  \n",
      "0   2021.06.29  \n",
      "1   2021.06.29  \n",
      "2   2021.06.29  \n",
      "3   2021.06.29  \n",
      "4   2021.06.29  \n",
      "5   2021.06.29  \n",
      "6   2021.06.29  \n",
      "7   2021.06.29  \n",
      "8   2021.06.29  \n",
      "9   2021.06.29  \n",
      "10  2021.06.29  \n",
      "11  2021.06.29  \n",
      "킬러의 보디가드2 예매율5.2% 2021.06.23 개봉 http://www.cgv.co.kr/movies/detail-view/?midx=84647\n",
      "##    Writer                                             Review        Date\n",
      "0     영수타크               역시 라이언 레이놀즈 믿고 보네요 ㅎㅎ 너무 재미있었어요 ㅋㅋㅋㅋ  2021.06.29\n",
      "1      전우치                              내내 졸았음, 정말로 잔거나 진배 없음  2021.06.29\n",
      "2      은똥이                                 가볍게 보기 좋아요~ 재밌네요 ~  2021.06.29\n",
      "3    운명의만남                                    유쾌상쾌 통쾌 스릴 만점 굿  2021.06.29\n",
      "4    늘푸른친구                             음악도 좋아서 시간 가는줄 모르고 봤어요  2021.06.29\n",
      "5      한지오                                      역시 꿀잼 배우분들입니다  2021.06.29\n",
      "6      먈리브                                        웃긴 영화였습니다!!  2021.06.29\n",
      "7      먀리브                                        웃긴 영화였습니다!!  2021.06.29\n",
      "8       은이                           완전 재밌어요 1도 재밌는데 2도 개재밌어요  2021.06.29\n",
      "9     식식이♥     1편이 전체적으로 더 재밌고 좋았던것 같아요 ~ 2편도 나름대로 유쾌하고 재밌어요~  2021.06.29\n",
      "10    날렵팬더  아~~~ 스토리도 이상하고 연결도 되지않고 내용은 19금은 아니고 대화만 19금이고...  2021.06.29\n",
      "11  이쁜성희꺼♥                                      잼있게 잘봤어요 ~!!!  2021.06.29\n",
      "콰이어트 플레이스 2 예매율3.6% 2021.06.16 개봉 http://www.cgv.co.kr/movies/detail-view/?midx=83078\n",
      "##        Writer                                             Review        Date\n",
      "0          뿌거스                                1편을 못봤지만 본것 같은 느낌이다  2021.06.29\n",
      "1          모태구  콰이어트 플레이스1이 너무 강렬해서 2는 전체적으로 스토리도 몰입감도 긴장감도..그...  2021.06.29\n",
      "2        빨강오르막                   뻔한 결말이었지만 끊이지 않은 긴장감으로 잘 감상했습니다!  2021.06.29\n",
      "3   pa**erby03                                        재밌었어요 좋았습니다  2021.06.29\n",
      "4          참아라                                      전편을 잇는 괜찮은 속편  2021.06.29\n",
      "5     cj**nyim         soso. 1편을 보지 못해서.. 음악 & 음향효과 good . 미래세대..  2021.06.29\n",
      "6     mintlove                                      1편 안봤는데 볼만했어요  2021.06.29\n",
      "7           은이                         1은 못 봤는데도 내용 이해하기 쉬워요 재밌어요  2021.06.29\n",
      "8          강보안                                     결론이 ? 재미있게 봤어요  2021.06.29\n",
      "9       안젤리카 리                                       아이들이 어른을 구하네  2021.06.29\n",
      "10     지붕위의고양이                                    재미있어요 쫄깃쫄깃 합니다.  2021.06.29\n",
      "11  ma**ix2086                              3편을기다리게하는영화. 쫄깃쫄깃했어요.  2021.06.29\n",
      "루카 예매율2.0% 2021.06.17 개봉 http://www.cgv.co.kr/movies/detail-view/?midx=84644\n",
      "##       Writer                               Review        Date\n",
      "0      분실물보관소                   어른들을 위한 동화. 역시 디즈니  2021.06.29\n",
      "1    tjhyunju                조카 보여줬는데 영상미가 좋대요~^^*  2021.06.29\n",
      "2      eg**38                      감동적이었어요 역시 디즈니!  2021.06.29\n",
      "3    yong7007                   생각보다 너무 재밌엇어요 인생영화  2021.06.29\n",
      "4   th**d0773  어른이 더 좋아하는 디즈니 오랜만에 힐링 제대로 했네요 재밌어요  2021.06.29\n",
      "5     wh**c07                         너무좋았어요너무좋았어요  2021.06.29\n",
      "6      분실물보관소                   어른들을 위한 동화. 역시 디즈니  2021.06.29\n",
      "7    tjhyunju                조카 보여줬는데 영상미가 좋대요~^^*  2021.06.29\n",
      "8      eg**38                      감동적이었어요 역시 디즈니!  2021.06.29\n",
      "9    yong7007                   생각보다 너무 재밌엇어요 인생영화  2021.06.29\n",
      "10  th**d0773  어른이 더 좋아하는 디즈니 오랜만에 힐링 제대로 했네요 재밌어요  2021.06.29\n",
      "11    wh**c07                         너무좋았어요너무좋았어요  2021.06.29\n",
      "크레센도 예매율0.6% 2021.06.24 개봉 http://www.cgv.co.kr/movies/detail-view/?midx=84678\n",
      "##        Writer                                             Review        Date\n",
      "0      Kkakang                               재미있었을꺼에요. 보질 못해서. 젝일  2021.06.29\n",
      "1   annabanana  정말 고약한 관계다 한국과 일본은 그들에 비하면 절친이라는 느낌을 받을 정도로.. ...  2021.06.29\n",
      "2        아프락사스               음악으로 화해와 통합을 만들어가다 결말이 현실적이면서 또 영화같은  2021.06.29\n",
      "3         허허버버  넘 좋았어요 엔딩이 망에 들진 않지만.. 전쟁으로 잘못 없는 학생들까지 고통받아야하...  2021.06.29\n",
      "4      placebo                 좋은 의도지만.. 작위적인 느낌이 강해 감흥이 오지 않는다..  2021.06.29\n",
      "5      te**ace                                       크레센도 영화 좋있어요  2021.06.29\n",
      "6          봄x2                                       크레센도. 인상깊다..  2021.06.29\n",
      "7         온리무비                                      좋았어요. 아주 ....  2021.06.29\n",
      "8       노노노215                              분쟁과 갈등속에서도 음악이 주는 힘이란  2021.06.29\n",
      "9      jt**149                                         Crescendo.  2021.06.29\n",
      "10          아비                               조화와 협업으로 이룬 앙상블의 중요성  2021.06.29\n",
      "11   le**j2033                                      괜찮은 음악영화였다 추천  2021.06.29\n",
      "흩어진 밤 예매율0.6% 2021.06.24 개봉 http://www.cgv.co.kr/movies/detail-view/?midx=84669\n"
     ]
    },
    {
     "ename": "WebDriverException",
     "evalue": "Message: chrome not reachable\n  (Session info: chrome=91.0.4472.114)\n",
     "output_type": "error",
     "traceback": [
      "\u001b[1;31m---------------------------------------------------------------------------\u001b[0m",
      "\u001b[1;31mWebDriverException\u001b[0m                        Traceback (most recent call last)",
      "\u001b[1;32m<ipython-input-53-31bd3d311f33>\u001b[0m in \u001b[0;36m<module>\u001b[1;34m\u001b[0m\n\u001b[0;32m     11\u001b[0m     \u001b[0minfo\u001b[0m \u001b[1;33m=\u001b[0m \u001b[0mcontent\u001b[0m\u001b[1;33m.\u001b[0m\u001b[0mfind_element_by_class_name\u001b[0m\u001b[1;33m(\u001b[0m\u001b[1;34m'txt-info'\u001b[0m\u001b[1;33m)\u001b[0m\u001b[1;33m.\u001b[0m\u001b[0mtext\u001b[0m\u001b[1;33m\u001b[0m\u001b[1;33m\u001b[0m\u001b[0m\n\u001b[0;32m     12\u001b[0m     \u001b[0mprint\u001b[0m\u001b[1;33m(\u001b[0m\u001b[0mtitle\u001b[0m\u001b[1;33m,\u001b[0m \u001b[0mpercent\u001b[0m\u001b[1;33m,\u001b[0m \u001b[0minfo\u001b[0m\u001b[1;33m,\u001b[0m \u001b[0mlink\u001b[0m\u001b[1;33m)\u001b[0m\u001b[1;33m\u001b[0m\u001b[1;33m\u001b[0m\u001b[0m\n\u001b[1;32m---> 13\u001b[1;33m     \u001b[0mprint\u001b[0m\u001b[1;33m(\u001b[0m\u001b[0mget_movie_reviews\u001b[0m\u001b[1;33m(\u001b[0m\u001b[0mlink\u001b[0m\u001b[1;33m[\u001b[0m\u001b[1;33m-\u001b[0m\u001b[1;36m5\u001b[0m\u001b[1;33m:\u001b[0m\u001b[1;33m]\u001b[0m\u001b[1;33m,\u001b[0m\u001b[1;36m2\u001b[0m\u001b[1;33m)\u001b[0m\u001b[1;33m)\u001b[0m\u001b[1;33m\u001b[0m\u001b[1;33m\u001b[0m\u001b[0m\n\u001b[0m\u001b[0;32m     14\u001b[0m \u001b[1;33m\u001b[0m\u001b[0m\n",
      "\u001b[1;32m<ipython-input-49-3b59a3228c45>\u001b[0m in \u001b[0;36mget_movie_reviews\u001b[1;34m(midx, page_num)\u001b[0m\n\u001b[0;32m     17\u001b[0m             \u001b[0mtime\u001b[0m\u001b[1;33m.\u001b[0m\u001b[0msleep\u001b[0m\u001b[1;33m(\u001b[0m\u001b[1;36m1\u001b[0m\u001b[1;33m)\u001b[0m\u001b[1;33m\u001b[0m\u001b[1;33m\u001b[0m\u001b[0m\n\u001b[0;32m     18\u001b[0m \u001b[1;33m\u001b[0m\u001b[0m\n\u001b[1;32m---> 19\u001b[1;33m             \u001b[0mwriters\u001b[0m \u001b[1;33m=\u001b[0m \u001b[0mwd\u001b[0m\u001b[1;33m.\u001b[0m\u001b[0mfind_elements_by_class_name\u001b[0m\u001b[1;33m(\u001b[0m\u001b[1;34m'writer-name'\u001b[0m\u001b[1;33m)\u001b[0m\u001b[1;33m\u001b[0m\u001b[1;33m\u001b[0m\u001b[0m\n\u001b[0m\u001b[0;32m     20\u001b[0m             \u001b[0mwriter_list\u001b[0m \u001b[1;33m+=\u001b[0m \u001b[1;33m[\u001b[0m \u001b[0mwriter\u001b[0m\u001b[1;33m.\u001b[0m\u001b[0mtext\u001b[0m \u001b[1;32mfor\u001b[0m \u001b[0mwriter\u001b[0m \u001b[1;32min\u001b[0m \u001b[0mwriters\u001b[0m \u001b[1;33m]\u001b[0m\u001b[1;33m\u001b[0m\u001b[1;33m\u001b[0m\u001b[0m\n\u001b[0;32m     21\u001b[0m             \u001b[0mreviews\u001b[0m \u001b[1;33m=\u001b[0m \u001b[0mwd\u001b[0m\u001b[1;33m.\u001b[0m\u001b[0mfind_elements_by_class_name\u001b[0m\u001b[1;33m(\u001b[0m\u001b[1;34m'box-comment'\u001b[0m\u001b[1;33m)\u001b[0m\u001b[1;33m\u001b[0m\u001b[1;33m\u001b[0m\u001b[0m\n",
      "\u001b[1;32m~\\Anaconda3\\lib\\site-packages\\selenium\\webdriver\\remote\\webdriver.py\u001b[0m in \u001b[0;36mfind_elements_by_class_name\u001b[1;34m(self, name)\u001b[0m\n\u001b[0;32m    578\u001b[0m             \u001b[0melements\u001b[0m \u001b[1;33m=\u001b[0m \u001b[0mdriver\u001b[0m\u001b[1;33m.\u001b[0m\u001b[0mfind_elements_by_class_name\u001b[0m\u001b[1;33m(\u001b[0m\u001b[1;34m'foo'\u001b[0m\u001b[1;33m)\u001b[0m\u001b[1;33m\u001b[0m\u001b[1;33m\u001b[0m\u001b[0m\n\u001b[0;32m    579\u001b[0m         \"\"\"\n\u001b[1;32m--> 580\u001b[1;33m         \u001b[1;32mreturn\u001b[0m \u001b[0mself\u001b[0m\u001b[1;33m.\u001b[0m\u001b[0mfind_elements\u001b[0m\u001b[1;33m(\u001b[0m\u001b[0mby\u001b[0m\u001b[1;33m=\u001b[0m\u001b[0mBy\u001b[0m\u001b[1;33m.\u001b[0m\u001b[0mCLASS_NAME\u001b[0m\u001b[1;33m,\u001b[0m \u001b[0mvalue\u001b[0m\u001b[1;33m=\u001b[0m\u001b[0mname\u001b[0m\u001b[1;33m)\u001b[0m\u001b[1;33m\u001b[0m\u001b[1;33m\u001b[0m\u001b[0m\n\u001b[0m\u001b[0;32m    581\u001b[0m \u001b[1;33m\u001b[0m\u001b[0m\n\u001b[0;32m    582\u001b[0m     \u001b[1;32mdef\u001b[0m \u001b[0mfind_element_by_css_selector\u001b[0m\u001b[1;33m(\u001b[0m\u001b[0mself\u001b[0m\u001b[1;33m,\u001b[0m \u001b[0mcss_selector\u001b[0m\u001b[1;33m)\u001b[0m\u001b[1;33m:\u001b[0m\u001b[1;33m\u001b[0m\u001b[1;33m\u001b[0m\u001b[0m\n",
      "\u001b[1;32m~\\Anaconda3\\lib\\site-packages\\selenium\\webdriver\\remote\\webdriver.py\u001b[0m in \u001b[0;36mfind_elements\u001b[1;34m(self, by, value)\u001b[0m\n\u001b[0;32m   1003\u001b[0m         \u001b[1;31m# Return empty list if driver returns null\u001b[0m\u001b[1;33m\u001b[0m\u001b[1;33m\u001b[0m\u001b[1;33m\u001b[0m\u001b[0m\n\u001b[0;32m   1004\u001b[0m         \u001b[1;31m# See https://github.com/SeleniumHQ/selenium/issues/4555\u001b[0m\u001b[1;33m\u001b[0m\u001b[1;33m\u001b[0m\u001b[1;33m\u001b[0m\u001b[0m\n\u001b[1;32m-> 1005\u001b[1;33m         return self.execute(Command.FIND_ELEMENTS, {\n\u001b[0m\u001b[0;32m   1006\u001b[0m             \u001b[1;34m'using'\u001b[0m\u001b[1;33m:\u001b[0m \u001b[0mby\u001b[0m\u001b[1;33m,\u001b[0m\u001b[1;33m\u001b[0m\u001b[1;33m\u001b[0m\u001b[0m\n\u001b[0;32m   1007\u001b[0m             'value': value})['value'] or []\n",
      "\u001b[1;32m~\\Anaconda3\\lib\\site-packages\\selenium\\webdriver\\remote\\webdriver.py\u001b[0m in \u001b[0;36mexecute\u001b[1;34m(self, driver_command, params)\u001b[0m\n\u001b[0;32m    319\u001b[0m         \u001b[0mresponse\u001b[0m \u001b[1;33m=\u001b[0m \u001b[0mself\u001b[0m\u001b[1;33m.\u001b[0m\u001b[0mcommand_executor\u001b[0m\u001b[1;33m.\u001b[0m\u001b[0mexecute\u001b[0m\u001b[1;33m(\u001b[0m\u001b[0mdriver_command\u001b[0m\u001b[1;33m,\u001b[0m \u001b[0mparams\u001b[0m\u001b[1;33m)\u001b[0m\u001b[1;33m\u001b[0m\u001b[1;33m\u001b[0m\u001b[0m\n\u001b[0;32m    320\u001b[0m         \u001b[1;32mif\u001b[0m \u001b[0mresponse\u001b[0m\u001b[1;33m:\u001b[0m\u001b[1;33m\u001b[0m\u001b[1;33m\u001b[0m\u001b[0m\n\u001b[1;32m--> 321\u001b[1;33m             \u001b[0mself\u001b[0m\u001b[1;33m.\u001b[0m\u001b[0merror_handler\u001b[0m\u001b[1;33m.\u001b[0m\u001b[0mcheck_response\u001b[0m\u001b[1;33m(\u001b[0m\u001b[0mresponse\u001b[0m\u001b[1;33m)\u001b[0m\u001b[1;33m\u001b[0m\u001b[1;33m\u001b[0m\u001b[0m\n\u001b[0m\u001b[0;32m    322\u001b[0m             response['value'] = self._unwrap_value(\n\u001b[0;32m    323\u001b[0m                 response.get('value', None))\n",
      "\u001b[1;32m~\\Anaconda3\\lib\\site-packages\\selenium\\webdriver\\remote\\errorhandler.py\u001b[0m in \u001b[0;36mcheck_response\u001b[1;34m(self, response)\u001b[0m\n\u001b[0;32m    240\u001b[0m                 \u001b[0malert_text\u001b[0m \u001b[1;33m=\u001b[0m \u001b[0mvalue\u001b[0m\u001b[1;33m[\u001b[0m\u001b[1;34m'alert'\u001b[0m\u001b[1;33m]\u001b[0m\u001b[1;33m.\u001b[0m\u001b[0mget\u001b[0m\u001b[1;33m(\u001b[0m\u001b[1;34m'text'\u001b[0m\u001b[1;33m)\u001b[0m\u001b[1;33m\u001b[0m\u001b[1;33m\u001b[0m\u001b[0m\n\u001b[0;32m    241\u001b[0m             \u001b[1;32mraise\u001b[0m \u001b[0mexception_class\u001b[0m\u001b[1;33m(\u001b[0m\u001b[0mmessage\u001b[0m\u001b[1;33m,\u001b[0m \u001b[0mscreen\u001b[0m\u001b[1;33m,\u001b[0m \u001b[0mstacktrace\u001b[0m\u001b[1;33m,\u001b[0m \u001b[0malert_text\u001b[0m\u001b[1;33m)\u001b[0m\u001b[1;33m\u001b[0m\u001b[1;33m\u001b[0m\u001b[0m\n\u001b[1;32m--> 242\u001b[1;33m         \u001b[1;32mraise\u001b[0m \u001b[0mexception_class\u001b[0m\u001b[1;33m(\u001b[0m\u001b[0mmessage\u001b[0m\u001b[1;33m,\u001b[0m \u001b[0mscreen\u001b[0m\u001b[1;33m,\u001b[0m \u001b[0mstacktrace\u001b[0m\u001b[1;33m)\u001b[0m\u001b[1;33m\u001b[0m\u001b[1;33m\u001b[0m\u001b[0m\n\u001b[0m\u001b[0;32m    243\u001b[0m \u001b[1;33m\u001b[0m\u001b[0m\n\u001b[0;32m    244\u001b[0m     \u001b[1;32mdef\u001b[0m \u001b[0m_value_or_default\u001b[0m\u001b[1;33m(\u001b[0m\u001b[0mself\u001b[0m\u001b[1;33m,\u001b[0m \u001b[0mobj\u001b[0m\u001b[1;33m,\u001b[0m \u001b[0mkey\u001b[0m\u001b[1;33m,\u001b[0m \u001b[0mdefault\u001b[0m\u001b[1;33m)\u001b[0m\u001b[1;33m:\u001b[0m\u001b[1;33m\u001b[0m\u001b[1;33m\u001b[0m\u001b[0m\n",
      "\u001b[1;31mWebDriverException\u001b[0m: Message: chrome not reachable\n  (Session info: chrome=91.0.4472.114)\n"
     ]
    }
   ],
   "source": [
    "url = 'http://www.cgv.co.kr/movies/'\n",
    "wd = webdriver.Chrome('chromedriver')\n",
    "wd.get(url)\n",
    "\n",
    "movie_chart = wd.find_element_by_class_name('sect-movie-chart')\n",
    "contents = movie_chart.find_elements_by_class_name('box-contents')\n",
    "for content in contents:\n",
    "    link = content.find_element_by_tag_name('a').get_attribute('href')\n",
    "    title = content.find_element_by_class_name('title').text\n",
    "    percent = content.find_element_by_class_name('percent').text\n",
    "    info = content.find_element_by_class_name('txt-info').text\n",
    "    print(title, percent, info, link)\n",
    "    print(get_movie_reviews(link[-5:],2))\n",
    "    \n"
   ]
  },
  {
   "cell_type": "code",
   "execution_count": null,
   "metadata": {},
   "outputs": [],
   "source": []
  },
  {
   "cell_type": "code",
   "execution_count": null,
   "metadata": {},
   "outputs": [],
   "source": []
  },
  {
   "cell_type": "code",
   "execution_count": null,
   "metadata": {},
   "outputs": [],
   "source": []
  },
  {
   "cell_type": "code",
   "execution_count": null,
   "metadata": {},
   "outputs": [],
   "source": []
  },
  {
   "cell_type": "code",
   "execution_count": null,
   "metadata": {},
   "outputs": [],
   "source": []
  },
  {
   "cell_type": "code",
   "execution_count": null,
   "metadata": {},
   "outputs": [],
   "source": []
  },
  {
   "cell_type": "code",
   "execution_count": null,
   "metadata": {},
   "outputs": [],
   "source": []
  },
  {
   "cell_type": "code",
   "execution_count": null,
   "metadata": {},
   "outputs": [],
   "source": []
  },
  {
   "cell_type": "code",
   "execution_count": null,
   "metadata": {},
   "outputs": [],
   "source": []
  },
  {
   "cell_type": "code",
   "execution_count": null,
   "metadata": {},
   "outputs": [],
   "source": []
  },
  {
   "cell_type": "code",
   "execution_count": null,
   "metadata": {},
   "outputs": [],
   "source": []
  },
  {
   "cell_type": "code",
   "execution_count": null,
   "metadata": {},
   "outputs": [],
   "source": []
  },
  {
   "cell_type": "code",
   "execution_count": null,
   "metadata": {},
   "outputs": [],
   "source": []
  },
  {
   "cell_type": "code",
   "execution_count": null,
   "metadata": {},
   "outputs": [],
   "source": []
  },
  {
   "cell_type": "code",
   "execution_count": null,
   "metadata": {},
   "outputs": [],
   "source": []
  },
  {
   "cell_type": "code",
   "execution_count": null,
   "metadata": {},
   "outputs": [],
   "source": []
  },
  {
   "cell_type": "code",
   "execution_count": null,
   "metadata": {},
   "outputs": [],
   "source": []
  },
  {
   "cell_type": "code",
   "execution_count": null,
   "metadata": {},
   "outputs": [],
   "source": []
  },
  {
   "cell_type": "code",
   "execution_count": null,
   "metadata": {},
   "outputs": [],
   "source": []
  },
  {
   "cell_type": "code",
   "execution_count": null,
   "metadata": {},
   "outputs": [],
   "source": []
  }
 ],
 "metadata": {
  "kernelspec": {
   "display_name": "Python 3",
   "language": "python",
   "name": "python3"
  },
  "language_info": {
   "codemirror_mode": {
    "name": "ipython",
    "version": 3
   },
   "file_extension": ".py",
   "mimetype": "text/x-python",
   "name": "python",
   "nbconvert_exporter": "python",
   "pygments_lexer": "ipython3",
   "version": "3.8.5"
  },
  "toc": {
   "base_numbering": 1,
   "nav_menu": {},
   "number_sections": true,
   "sideBar": true,
   "skip_h1_title": false,
   "title_cell": "Table of Contents",
   "title_sidebar": "Contents",
   "toc_cell": false,
   "toc_position": {},
   "toc_section_display": true,
   "toc_window_display": false
  }
 },
 "nbformat": 4,
 "nbformat_minor": 4
}
