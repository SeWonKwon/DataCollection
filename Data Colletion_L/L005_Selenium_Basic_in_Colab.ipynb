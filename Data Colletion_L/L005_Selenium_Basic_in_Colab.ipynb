{
 "cells": [
  {
   "cell_type": "code",
   "execution_count": null,
   "metadata": {
    "colab": {
     "base_uri": "https://localhost:8080/"
    },
    "id": "xrv-bLiHDPQD",
    "outputId": "da3ff069-a046-449f-9086-b4532ef0e10b"
   },
   "outputs": [
    {
     "name": "stdout",
     "output_type": "stream",
     "text": [
      "Collecting Selenium\n",
      "\u001b[?25l  Downloading https://files.pythonhosted.org/packages/80/d6/4294f0b4bce4de0abf13e17190289f9d0613b0a44e5dd6a7f5ca98459853/selenium-3.141.0-py2.py3-none-any.whl (904kB)\n",
      "\u001b[K     |████████████████████████████████| 911kB 7.8MB/s \n",
      "\u001b[?25hRequirement already satisfied: urllib3 in /usr/local/lib/python3.7/dist-packages (from Selenium) (1.24.3)\n",
      "Installing collected packages: Selenium\n",
      "Successfully installed Selenium-3.141.0\n",
      "E: Invalid operation upadate\n",
      "Reading package lists... Done\n",
      "Building dependency tree       \n",
      "Reading state information... Done\n",
      "The following additional packages will be installed:\n",
      "  chromium-browser chromium-browser-l10n chromium-codecs-ffmpeg-extra\n",
      "Suggested packages:\n",
      "  webaccounts-chromium-extension unity-chromium-extension\n",
      "The following NEW packages will be installed:\n",
      "  chromium-browser chromium-browser-l10n chromium-chromedriver\n",
      "  chromium-codecs-ffmpeg-extra\n",
      "0 upgraded, 4 newly installed, 0 to remove and 39 not upgraded.\n",
      "Need to get 86.0 MB of archives.\n",
      "After this operation, 298 MB of additional disk space will be used.\n",
      "Get:1 http://archive.ubuntu.com/ubuntu bionic-updates/universe amd64 chromium-codecs-ffmpeg-extra amd64 91.0.4472.101-0ubuntu0.18.04.1 [1,124 kB]\n",
      "Get:2 http://archive.ubuntu.com/ubuntu bionic-updates/universe amd64 chromium-browser amd64 91.0.4472.101-0ubuntu0.18.04.1 [76.1 MB]\n",
      "Get:3 http://archive.ubuntu.com/ubuntu bionic-updates/universe amd64 chromium-browser-l10n all 91.0.4472.101-0ubuntu0.18.04.1 [3,937 kB]\n",
      "Get:4 http://archive.ubuntu.com/ubuntu bionic-updates/universe amd64 chromium-chromedriver amd64 91.0.4472.101-0ubuntu0.18.04.1 [4,837 kB]\n",
      "Fetched 86.0 MB in 5s (15.7 MB/s)\n",
      "Selecting previously unselected package chromium-codecs-ffmpeg-extra.\n",
      "(Reading database ... 160772 files and directories currently installed.)\n",
      "Preparing to unpack .../chromium-codecs-ffmpeg-extra_91.0.4472.101-0ubuntu0.18.04.1_amd64.deb ...\n",
      "Unpacking chromium-codecs-ffmpeg-extra (91.0.4472.101-0ubuntu0.18.04.1) ...\n",
      "Selecting previously unselected package chromium-browser.\n",
      "Preparing to unpack .../chromium-browser_91.0.4472.101-0ubuntu0.18.04.1_amd64.deb ...\n",
      "Unpacking chromium-browser (91.0.4472.101-0ubuntu0.18.04.1) ...\n",
      "Selecting previously unselected package chromium-browser-l10n.\n",
      "Preparing to unpack .../chromium-browser-l10n_91.0.4472.101-0ubuntu0.18.04.1_all.deb ...\n",
      "Unpacking chromium-browser-l10n (91.0.4472.101-0ubuntu0.18.04.1) ...\n",
      "Selecting previously unselected package chromium-chromedriver.\n",
      "Preparing to unpack .../chromium-chromedriver_91.0.4472.101-0ubuntu0.18.04.1_amd64.deb ...\n",
      "Unpacking chromium-chromedriver (91.0.4472.101-0ubuntu0.18.04.1) ...\n",
      "Setting up chromium-codecs-ffmpeg-extra (91.0.4472.101-0ubuntu0.18.04.1) ...\n",
      "Setting up chromium-browser (91.0.4472.101-0ubuntu0.18.04.1) ...\n",
      "update-alternatives: using /usr/bin/chromium-browser to provide /usr/bin/x-www-browser (x-www-browser) in auto mode\n",
      "update-alternatives: using /usr/bin/chromium-browser to provide /usr/bin/gnome-www-browser (gnome-www-browser) in auto mode\n",
      "Setting up chromium-chromedriver (91.0.4472.101-0ubuntu0.18.04.1) ...\n",
      "Setting up chromium-browser-l10n (91.0.4472.101-0ubuntu0.18.04.1) ...\n",
      "Processing triggers for man-db (2.8.3-2ubuntu0.1) ...\n",
      "Processing triggers for hicolor-icon-theme (0.17-2) ...\n",
      "Processing triggers for mime-support (3.60ubuntu1) ...\n",
      "Processing triggers for libc-bin (2.27-3ubuntu1.2) ...\n",
      "/sbin/ldconfig.real: /usr/local/lib/python3.7/dist-packages/ideep4py/lib/libmkldnn.so.0 is not a symbolic link\n",
      "\n",
      "cp: '/usr/lib/chromium-browser/chromedriver' and '/usr/bin/chromedriver' are the same file\n"
     ]
    }
   ],
   "source": [
    "!pip install Selenium \n",
    "!apt-get upadate\n",
    "!apt install chromium-chromedriver\n",
    "!cp /usr/lib/chromium-browser/chromedriver /usr/bin\n",
    "\n",
    "import sys\n",
    "sys.path.insert(0, '/usr/lib/chromium-browser/chromedirver')"
   ]
  },
  {
   "cell_type": "markdown",
   "metadata": {
    "id": "_mCNyWZuDT95"
   },
   "source": [
    "## 웹 드라이버 설정"
   ]
  },
  {
   "cell_type": "code",
   "execution_count": null,
   "metadata": {
    "id": "uhQFt0kODSba"
   },
   "outputs": [],
   "source": [
    "from selenium import webdriver\n",
    "\n",
    "chrome_options = webdriver.ChromeOptions()\n",
    "chrome_options.add_argument('--headless')\n",
    "chrome_options.add_argument('--no-sandbox')\n",
    "chrome_options.add_argument('--disable-dev-shm-usage')"
   ]
  },
  {
   "cell_type": "markdown",
   "metadata": {
    "id": "jrVyhNPCDpkJ"
   },
   "source": [
    "## 웹 드라이버 객체 생성"
   ]
  },
  {
   "cell_type": "code",
   "execution_count": null,
   "metadata": {
    "id": "2UW1oTPoDsAG"
   },
   "outputs": [],
   "source": [
    "wd = webdriver.Chrome('chromedriver', options= chrome_options)"
   ]
  },
  {
   "cell_type": "markdown",
   "metadata": {
    "id": "QQ6g10J2D1GF"
   },
   "source": [
    "## Selenium 실행\n",
    "\n",
    "예제 site : \n",
    "\n",
    "suanlab.com"
   ]
  },
  {
   "cell_type": "code",
   "execution_count": null,
   "metadata": {
    "id": "3ITbeQObD3kr"
   },
   "outputs": [],
   "source": [
    "wd.get('http://suanlab.com/')"
   ]
  },
  {
   "cell_type": "markdown",
   "metadata": {
    "id": "4e3dDT8xEiek"
   },
   "source": [
    "### 스크린샷 가져오기"
   ]
  },
  {
   "cell_type": "code",
   "execution_count": null,
   "metadata": {
    "colab": {
     "base_uri": "https://localhost:8080/"
    },
    "id": "HjkCFqG2EEhH",
    "outputId": "f46bc309-b8fe-4fa1-bc26-73e74907cd74"
   },
   "outputs": [
    {
     "data": {
      "text/plain": [
       "True"
      ]
     },
     "execution_count": 6,
     "metadata": {
      "tags": []
     },
     "output_type": "execute_result"
    }
   ],
   "source": [
    "wd.get_screenshot_as_file('suanlab.png')"
   ]
  },
  {
   "cell_type": "code",
   "execution_count": null,
   "metadata": {
    "colab": {
     "base_uri": "https://localhost:8080/",
     "height": 17
    },
    "id": "3023F-9DEIjy",
    "outputId": "cd861754-11f2-4652-c420-e7d2848d1cb5"
   },
   "outputs": [
    {
     "data": {
      "application/javascript": [
       "\n",
       "    async function download(id, filename, size) {\n",
       "      if (!google.colab.kernel.accessAllowed) {\n",
       "        return;\n",
       "      }\n",
       "      const div = document.createElement('div');\n",
       "      const label = document.createElement('label');\n",
       "      label.textContent = `Downloading \"${filename}\": `;\n",
       "      div.appendChild(label);\n",
       "      const progress = document.createElement('progress');\n",
       "      progress.max = size;\n",
       "      div.appendChild(progress);\n",
       "      document.body.appendChild(div);\n",
       "\n",
       "      const buffers = [];\n",
       "      let downloaded = 0;\n",
       "\n",
       "      const channel = await google.colab.kernel.comms.open(id);\n",
       "      // Send a message to notify the kernel that we're ready.\n",
       "      channel.send({})\n",
       "\n",
       "      for await (const message of channel.messages) {\n",
       "        // Send a message to notify the kernel that we're ready.\n",
       "        channel.send({})\n",
       "        if (message.buffers) {\n",
       "          for (const buffer of message.buffers) {\n",
       "            buffers.push(buffer);\n",
       "            downloaded += buffer.byteLength;\n",
       "            progress.value = downloaded;\n",
       "          }\n",
       "        }\n",
       "      }\n",
       "      const blob = new Blob(buffers, {type: 'application/binary'});\n",
       "      const a = document.createElement('a');\n",
       "      a.href = window.URL.createObjectURL(blob);\n",
       "      a.download = filename;\n",
       "      div.appendChild(a);\n",
       "      a.click();\n",
       "      div.remove();\n",
       "    }\n",
       "  "
      ],
      "text/plain": [
       "<IPython.core.display.Javascript object>"
      ]
     },
     "metadata": {
      "tags": []
     },
     "output_type": "display_data"
    },
    {
     "data": {
      "application/javascript": [
       "download(\"download_7f3caee7-1dd7-4186-bd6b-1dae864af16f\", \"suanlab.png\", 293358)"
      ],
      "text/plain": [
       "<IPython.core.display.Javascript object>"
      ]
     },
     "metadata": {
      "tags": []
     },
     "output_type": "display_data"
    }
   ],
   "source": [
    "from google.colab import files\n",
    "files.download('suanlab.png')"
   ]
  },
  {
   "cell_type": "markdown",
   "metadata": {
    "id": "jtSSAQAZElbB"
   },
   "source": [
    "## 가져오기 label 객체\n",
    "\n",
    "`.text` 는 text 만 가져오게 한다. \n",
    "\n",
    "`element` 는 한개만\n",
    "\n",
    "`elements`는 여러개"
   ]
  },
  {
   "cell_type": "code",
   "execution_count": null,
   "metadata": {
    "colab": {
     "base_uri": "https://localhost:8080/"
    },
    "id": "z4L91OcXENl5",
    "outputId": "a737e17a-b45a-421c-f3f0-f3c5265b484e"
   },
   "outputs": [
    {
     "name": "stdout",
     "output_type": "stream",
     "text": [
      "[2020-10-07] \"이력서 작성·레시피 제공 다양하게 활용되는 GPT3\" 칼럼\n",
      "[2020-05-20] \"인공지능의 보안 위협\" 칼럼\n",
      "[2020-03-04] \"데이터 경제 시대\" 칼럼\n",
      "[2019-12-25] \"마이데이터 시대의 도래 데이터 주권과 새로운 가치\" 칼럼\n",
      "[2019-09-25] \"유튜브 탄생과 크리에이터 시대\" 칼럼\n",
      "[2019-09-04] \"농업으로 들어간 인공지능\" 칼럼\n",
      "[2019-08-07] \"AI시대 지배할 것인가 지배당하며 살 것인가\" 칼럼\n",
      "[2018-12-30] \"파이썬으로 텍스트 분석하기\" 책 출판\n"
     ]
    }
   ],
   "source": [
    "for label in wd.find_elements_by_tag_name('label'):\n",
    "  print(label.text)"
   ]
  },
  {
   "cell_type": "markdown",
   "metadata": {
    "id": "kh_9rf7KFE9F"
   },
   "source": [
    "셀렉터로 가져오기"
   ]
  },
  {
   "cell_type": "markdown",
   "metadata": {
    "id": "jR2igPgYE6ZF"
   },
   "source": [
    "![image.png](data:image/png;base64,iVBORw0KGgoAAAANSUhEUgAAAaoAAAE2CAYAAAAwK9bOAAAgAElEQVR4Ae2dbY8dyXXf9zNsXhhY+AVJ8DPkAwTwF/CrTQST4PohQOwoCJ1gN6RtcWYMmQnX9FqY9UaRyc0Y8pCbe0NxY61ic7l2ONk1E9O6E8ozK8hmYMnSisMxNgFliEEU2ic49Xiqurpv9+2+91Z3/wcgbz9Unar6V1f97qmq2/UCreHv2bNntLW1RefPny/84+t8v84fx2/6dzR9gy6/uEMPCxEf051zl+jyi5foxoPCzZVf+OvbP0lf/IkX3L/d249XnodFEzzau0U3t3fp9t4R0ZOP6Pb2Lt3c+YiOFjW4sngH9Jsv7dJL7t8d+tOF0z6g97nc23fokIgO3+XjXXqfT/AHBaBAIwVeaBS6w8CPHj0qQIrBw9fr/g0ZVF6DP6bf+4kXqE+gosM7olM2HXYKVN//iH7mpV36za/70uZy9OQrt+ill9qA6oju73hAW3gDVLnUMPLRJwXWBioW6Stf+UoAKz5v8tctqJqkvMqwAwHVuwdF0UYHqlt0/0lRBlyBAlCgWoG1goqz9vrrrytY8WfTvxBU+pv7vG+s5UN/TVNfVfi+g8p4FiMHlfYyY1BVaLOqxwvpQIEeKLB2UH3ve99ToOLPpn8OVGao6WaqM/zkPXrrRT33xPNP+p+co/JzU/reG3TnkygnD3bo8ouJ68b2W9MF5o+Ofpd2xRzUF7/wx1Gi9nQeqPR9OZ/1e4WhtMf04Wf9fJcK+9nfpb+2SZjPeF7siz/xk/ThEiaW9LCanAuSx/FwWzxvdItufT/KOMVhrL0wbGm6v1H09uYO/X39jpjL2qWXEjbiXCbPezWHlywBLkKBpSuwdlBxCT/99NOFCnrv3j2yY/9q4j62ogATLo6o9KjKgEQzusGQuzILUqi0FYSMTr7+q2qRRDDv9PVfpSJgOF4VqBhAv0rfFOY1bELAfPMLL9AXE2AS0YhUnsJ4wf1lnMwb+jP3f+YrnpYWNn5ey0BKgEKHSUFKXivGk0WsAlXx3hHd+rkWsCK78CL2uGSOcAwFxqtAFqBaTH4zbLJd1riNp9QELqWgIipCKW1/flmMB1TqQcUWqkAVhyUi46l56Blvak56GnAh9GLr9ksBr14r/Et5s7GB+HwOqP70N3bppZ/7iMJpnQgKKRuJaylbqWs2i0UY2TsacB6U5rrysGJv0Map94mVgfV0QqjxKdBTUNlvoHrpb7ratBcULzUvAkfErgAVmWE+Z0+dJ4YDhbnkYQEkyVDi4hxQGe9MDv3xsQcVGW/JDP2VelYGoGo4ckWeVQIovuAaSNKbsvcURBzAip5RCjL6WtGjStnndFI2VPomz34Jux1m5E9p3+a22af7MrAI+JslhdBQoDcK9BRUrO88j6pjUBHRwyt++E8B79x7zX8b1CWoUkOIVfbNPQ21Mu8pnM8KgNf1Y90JqIyH5X77VAKMeE6Jw4vhwrho80BV8KhiAwucw6NaQDREGYUCPQaVrh/7DbQ4R6VBFS90ULBJ/uCXiKo8Kk5O3eeFGHrYz3lXjR6VOR5SwVZ5+ORwXRWorO06Yag4ZGi1Lgz78VDgIh5AJaiI0kNz0dBfrSG3cu/MShJ/loLKLNwo88RiO/XO533pqmcFoaDAUBXoPahUxZSs+ouhpM955Z9c9Seqdh6ozKKKG1NeSVhiQ5grO7Sr6wJvZZHFFPECCOExBbbjjMTx4vvqvByQyeALXSwO2wVmjBckoVAYwlNh5g25RXALEkmflIPKDgt29ENlrPpLVwCuQgGhwDBApQqU+h1VuPRceVfOK7IqmBV9bum6XcLuh/lsSP7Uc1yXKPbUZJhax/HcUrTYQa3Uk8vX3XE4ZBeG47klDRgPKn0ezmEV56BCO3o+K1iVWKtQCwQqzPlECxLm3SfjeQVDf3reSAKOCnbs3JJIrzTMLgW23ByWtWE+K4YS08rgd1RpXXAVCoQKDAhUYcFwNg4Fyjyf0PPSnlsMG7K/v2oMmHFoi1JCgVwUAKhyqQnkYyEF1DxW4p18wXXjKRVAVXZ9oZwgEhSAAstSAKBalrKwuyIFUqv+Er+/Sq36y/SFuCsSDslAgd4oAFD1pqqQUSgABaDAOBUAqMZZ7yg1FIACUKA3CgBUvakqZBQKQAEoME4FXtg/ek74Bw3wDOAZwDOAZyDXZwCgAqjxRQXPAJ4BPANZPwMAFR7QrB/QXL/hIV/wPvAMrO4ZAKgAKoAKzwCeATwDWT8DowLV7lf/KOvKwDe01X1Dg9bQGs9Af56BUYGKt67Hw9mfhxN1hbrCM4BngJ+BXoDqv3/7b+iXL20Rgyb+x9f5fp0Hei6o/uDf02X5ctrP/Wktu8W0v0e7//ASXV44vnw4jS2Xrzdo96G8P7zjPzx8TL/8b94k/ixqO7zyooyoUzwD1c9AL0DFlfj7D/68ACkGD1+vW8lzQeXGqduCpm38kkpTIB0uqP7tO1+jf/zP/5X79y8u/esCrBhefN2G4zh16x/hSp4r99zjPp6RPJ+B3oCKH6B/97u3AljxeZMHC6DK8yG8/5c/oF+58lvE0Hnw3f9Dr3/pBt248yeFun3vT/5CAYo/ud5tvFTYJs8Fwub5XKBeUC/2GegVqDjTW5evKFjxpy1E3U8Lqj9/9G3CP2iAZyB8Buq2I4QDQFb9DPQOVB88/CsFKv5sKpYE1ThfRIJSQ4G0Agztpu0J4QGsVT0DvQMVC/Nfv3W8UKPi5ekf/f4t5U2lmyuuQoFxKgBQATqrgs4i6fQSVIsUdP/o+/S1t3fp5jZANc6uGKWuUgCgAqgW61dXo9tIQPVn9O42Q+oP6O7Rc3hUVT0W7o1SAYBqNR1uzjDIOW8jARU/hPCoRtkDo9C1FGBQffjof9N/+/bfqJWXX//+j2j2+P8tNMSec4eHvPUTyCMCla4gzFHV6rcQaGQKMKhuf/Qx/f7+t+nDv/hfClYAVT879SHCeHSg4krkRok/KAAFvALcJr7w5f9Ev/PeRwpW/Bs19qqG2OmhTP0DMEDl2yqOoMBoFWBQ/cqvf1HBij0rHgYEqPrXoQ8VwgDVaLsmFBwKeAUYVP9y6yq9fu0/0H/c+zM1/Pf1T/4vPCq8XiqLZwCg8m0VR1BgtAowqH5x43W68tvv0PTeNwAqACoLQFkPEaAabdeEgkMBrwBAhWE+C4UcPwEq31Z7dzTbPE0bs3S2q+6lY7S/uo402+caFlgBgAqgyhFQNk8AVYb9FHf4Jzb35+asCgxV98oNH9Pk7DmaHPsQ1XY4/Gk6YyJUh/U2C0fHUzpzdkoi2UIQXFiuAgAVQGWhkOMnQLXc9r+A9X3aOHuOzpzcohJnydmsAkPVPWegcNAUVKGBxdIkIoAqFHINZwAVQJUjoGyeXlhDm1h7ktwoc/07npxTHkqy0+cO/eRpOsH/zk5pIof+qu4VCqs9IWXnpPWg9mnD2ubPzT9U3pIOo9M7Jg6zRZPJOTph4sl8quNJmEfrJclwnB1bTppt6fKYtO1QJt+3adtrhWLgQmcKcJu4evUqTSYTOjg4oKdPn9Lz5887sw9DUKCNAgBVG/U6jys8Gu7Ag+EwDRLXaRsw6fOqe4lMzqZ+eC9IR6RvooWA0enYoT4OIu/z8QnhCSrYmCFMGY7jOVCpk2joL8gTp2lhajKFj84VAKg6lxQGO1QAoOpQzNamgiGwqIPmzjuat3Kdf9W9eZkK0qwDqnBI0uUhgpZOlocx9dyTDMf3ykFVzAOHdYCeVx7cX0gBgGoh2RBpRQoAVCsSuk4y0gPh8Ny5O+9ltuWPjTHX+VfdSybMMDBDiGYYUQ/RFSHh0lB2GJ4NQWXCh3bmgUrkzQwJOh2S5cHFtgoAVG0VRPxlKgBQLVPdRrb1sJqdl3Gfdviv4DVp2ChPo+peIQ8iHt9bpkclbDcDFYb6CtW25AsA1ZIFhvlWCgBUreTrMDLDxkLJmdXw8vNQogPn8Cft76gSw4TunjNmDsKwDBCfbnuPytsKPcLQW9Tlcl6SABpnMgzL59O5KyDjUuK8mQIAVTO9EHq1CgBUq9W7NLXY47ABg07bwEl5W5v7wUKGYPVcfM8aM5/Kpltl5+eR+La7Z+fDbJoKogyYOUN/m2IVn7Wh0tWenPYU9cpBByry9+xclAIohv2imlveKUC1PG1hub0CAFV7DWEBCvReAYCq91U46AIAVIOuXhQOCtRTAKCqpxNCrUcBgGo9uiNVKJCVAgBVVtWBzEQKAFSRIDiFAmNUAKAaY633p8wAVX/qCjmFAktTAKBamrQw3IECAFUHIsIEFOi7AgBV32tw2PkHqIZdvygdFKilAEBVSyYEWpMCANWahEeyUCAnBQCqnGoDeYkVAKhiRXAOBUaoAEA1wkrvUZEBqh5VFrIKBZalAEC1LGVhtwsFAKouVIQNKNBzBQCqnlfgwLMPUA28glE8KFBHAYCqjkoIsy4FAKp1KY90oUBGCgBUGVUGslJQAKAqSIILUGB8CgBU46vzPpUYoOpTbdm88tYbwRYa9gY+ocBiCgBUi+mGWKtRAKBajc41UvF7Mtndff1+TVF0ASq1b5OFVrQBYRSr/Wliy3tSe0nxHlXF/OtymM0ezb5Wdr+pMDN6I0V3L5lOGANn3SoAUHWrJ6x1qwBA1a2eLaxxRx9uSlhqTIAqCLNWUImcpPLH8Dl7LukJ8maNfA+gEhqu+BCgWrHgSK6RAgBVI7mWGbgKVNJbOUeTiR/6U5385JiCHX5Lt6EXO/iePE3SY/M76lbAMunpJPJdBqrJlDZOGg/LSal3DZ5MAConyRoOAKo1iI4kaysAUNWWatkBEx2+STIY3rNDbGa4z4GKw871qPZpwlBTfwwIMSxnhw9pn2YzEyT+aA2qY7XVvQQkA5bPuRzwqGLBV3cOUK1Oa6TUXAGAqrlmS4ohvabTxPM7uuPWHkfADuGxNAOVzDqnJ0B1dkoWYTJUcMzpntR5Cz8jL0zkz8W3kGOYnrThfR4AKqfUWg4AqrXIjkRrKgBQ1RRq+cHKPKp92oghIkDQFFQc3kNGDMNZCDnPKlFiC5vgViLfIn8uqIjLHqLyqjicKRtA5ZRaywFAtRbZkWhNBQCqmkItP1iiw1eJFj0qBZsFhv5kPL1aT4DKFJDDBENzsuACNv5yIt9zQGWHKCeb1mvUc2cY+vOqrvoIoFq14kiviQIAVRO1lho20eGb9JwHos4ZXKfd6rkALHPmqAI7yoOyQ39TclNXSRjZjOj5pFCGRL7ngcrOs7khQIAq1HT1Z12B6njyCp069XkKhqqTxTmmd86dolO/lgpZdS9prOHFGX3+1Cn6/AOOpo9fcQ2goSkO/uDzdOrUK/TO4wXi2ihd2LC2Ep+zX/Naq+Nz7ySH+nX9naJTp+b8K4mfSHrhSyovJh2AamEZu47IHX40/+OG4Qyc1PzQFs0ECAJQOQB4TyXIpZofMmls7tNs03pUkf0gkjhJQmwRUHH/EEKPyyE9Kj88yfm1c1oiLzjsVIF5oKrswESn1RRUaUC0BZWGT9jZSpA0B1Vlucogo67P6fAtqMts1KxlBZ8CXPwXhrqgqpNcFejqxNdgL9ElfpYAqlqSIhAUGIUC80CVFOHxO/TKqVMkYVPZoQdGqjyZtqAKEkp4PCsCVZSNytOWoIptSzDxPXneFjTSVpxurfOaZVXPEkBVS1IEggKjUGARUKkOKxrmqw0q621Yj4IMnKRX4O61rIJCx7hKUKWALNM3ZSvksU2Zi2lKuLQDVQdfImqWFaB69O02TwHiQoHBKdAYVAY00ptiUTSo/LBOfF8LZzvSd9RcUXGeqoPOUNZQoWOUoLB5qf5xRmXnXrAvE9dlCXWQ6ZuwlTakvRrHytOVQ52LelQpbVLXauRJBqlZVoAKoJKPDY6hADUClepoPIz0ogQt4nyPSnd0p+xchBk+dOfKzLJAZdI2Xlv9xRQmXpmHV9nxJkBlyix162RBhnmOfQdvdLReqsl/JXSDtpCA0uPj5CKMINq8k0q9fGRfDiIspvC64AgKjFaBuqBSnRx3fKbT02Dy81SVoLJQioYL7co7XvygPY+2oAqBpBdVSA9D368NKgdmvzgheFAqO95Vg8qWPcyrqrcuQBUUfMGTSr28Tftscf0BVF4XHEGB0SowF1Sus7bLuoVU9t65d2hWtjzdQqrMK+Fhw8d2+K0bUIXDbSK/Zkl6XVBZD+QdscRbWqv2hhJlWaJHpfP6efp8tPR/HqgkFMLVkt5zTl+XXwACVcpPmoAKiynKdcQdKDA2BSpBZUFUARmrV6VHZQPN/Ux07kEc6zUkoKnC6fudgMqUXUHNAKZgt7LjTZRlSaCysFF5Nfm2eZ0HqkDeZZ9U6uUTV+UBqLwgOIICY1egElRLEsd2rIVv6nb+qjTdVYHKpCMAbfOsvTGTwcqOd0WgisDEObN5ZVg1BZWNW6ibwrBtaSWV36jUS/+AmvVVeQCoynXEHSgwNgXqgcp0unZyvvQznB8pamntpIaN7L0yb6lorXilwqNSiwH0fQ2bsrAGUomO2XXiFmAlHa+CQ6lGckjt8zQrsVEsW/FKIT8iyGzyDs0ezEgOW6p8lX4ZsOVO1U0IP5FMs0MD1SIErSY6bYAKq/6aPVgIPXgF6oFqvgy605wDqrmdsoFVaWc6Lx+2s7Udn/hUNvX9clDZ+OXl4HK+wnNynJW55ZmX345sVCRT16PS9ZeGlDWvAVyujQ3X9hOgAqjaPkOIPzAFVgmq+Z1hW1DNq5x5oJoXP7oPUEWCdHMKUAFU3TxJsDIYBVYJKn5zv3ohbfJFrvZem6G/edUCUIW/W5N6WW8y7VXZ4Uy7SEPG7PoYoAKoun6mYK/nCqwWVFos7VmJYTk7n7PwkF/dSgCoykFlNCybR1p63fg6BKgAKv804AgKEDV7MwUUgwIrVgA/+F2x4GtJbs4+VWvJk00057zZPI7gsyuPagRSoYhrUACgWoPo6SQT+1F1tQ+ThIHaMHHB/Z2knXQhml9dhs3muSDeVNLth7VA/L5HAaj6XoPDzj9AlU39lmxAeNJubtgio13BoCs7sijLsCnt1zwGqL5NV69epclkQgcHB/T06VN6/vx5TfUQDAosVwGAarn6NrCeABXHFrv5xp2p3N1XH0/1NvV2J2CbuoSBPOb7fK7C++3tiRI7/ipPzO9A7LyPZHybcPjJ+dc79wr41soPaY9n4vN6ZnJMXGa7E7DLT2mZijZOqB2UI0/27LT926HDYvfiDB5VL6pptJkEqLKp+hJQKWjoobp5oDohvS8Gi+10JQzksbItoDGb0uSYf30+1T9kVK9hOUe6QzdQszaVbgw0H5/zxwBJ/SmoKDBYOJrhx4r8SHsKcjZtjsNwlfbsvahMpTYS4QLYpQox4GsA1YArdwBFA6iyqcT2oAohIexJGIhj6ZGVyiA8OuV9OSAw0M6FYGLbFh6BQQZaOC822zSAq8qPsMfA8SDhsnlAag9Q26/KU2hD59/ajO8F2R/BCUA1gkrucREBqmwqT4AlyNM+bRg4xJ2p7JTlsY4uOnMBAwkbjmM76iBJ5W3YYboyz0V39HbozX0KkHmbcijR21Vpi7xxfpwdOxyZLLsom0rEg7C+DYDK1w+Wp0stcJyfAgBVNnWSBpUEUDNQ+c5bwkkeS9teBo4nvJUmHpU3Eh2JvER35udHRwjLXg2q0LP0CYY2ACqvTENQpbapkMZqHusf/C7/nXE1s4NgGSsAUGVTOUVQae/AD5mpcze0xp2/nxOqDCu8FgkGdRxAaUqTb/L8j02T81TuUen4Nqyee5qot3QWRWVISIDMJmbRQpw3l3ZoL4RMOaiq8hTaAKhkLemhv1+kf/RjP0Y//uM/TidOnKDC263t28IrQWVfwZN444SNbxIuBZWxr9+eYF+plH6ljywDjoerAECVTd0aKNghL7lYwOVRhtmiiZgj0t6RWPUnh+BiGMh7cjWfgSB36HoI7hxNZnLeyafvhgxlfGnX5dke+Lhs28WXeeOgJfZCyLAt4fWpoUoBzFo2QlC5dCvLYMsyvM/KOSrzOh23B1MlqFLaGNjUBZXZgddud6/fLwdQpZQdyzWAaiA1rUGVXnE3kCKiGEtUoApUChTyHW+tQBV7XKmhPxPGgG1V20osUV6YbqkAQNVSwFyiA1S51EQ/86FAtXGG/kFy6C/yZuzQXPIlsjGIxBDggh5V6RBhP6VGrhdQAKBaQDREgQJDUyDlUT1+55yap3JDfrbQlR6VBlWdbSAAICsoPucpAFDNUwj3ocAIFAhA9V9+nX5KLaY4R+88ThS+Jah4e3QepAaoEtriUlIBgCopCy5CgXEpwKA68/f/Hv2YGfr7qd/5n+Xv+qsBqsKKQTtMyJ9mvgugGtcz1qa0AFUb9RAXCgxEAT1HtUnX8FLagdTosIoBUA2rPlEaKLCQAsHQ3zv/LP07KukVnVrmVvELFQGRBqwAQDXgykXRoEBdBQJQzdvmo3Loz6eol5WLVX8R6PTwYGp5ureBIyjACgBUeA6gABQIt6LvyKMq/P4q0hlzVJEgOC1VAKAqlQY3oMB4FAg8KgWqn6Ib32u3cSJANZ7nZ9klBaiWrTDsQ4EeKABQ9aCSRpxFgGrElY+iQwGrQBFUiZfSxnNM0ZsmrC37iTkqqwQ+2yoAULVVEPGhwAAUCEA1bzHFAMqLIvRLAYCqX/WF3EKBpSgAUC1FVhjtSAGAqiMh12umYmPCJWcML8NdssArMg9QrUhoJLOQAgDVQrItI1K4X5PeD0rssVSZZE1QxXs/VdqsdzMXUIX7VdXLO0J5BQAqrwWO8lMAoMqmThhUEZjUBoByg8CyzAJUAFXZs1HvOkBVTyeEWo8CANV6dE+kmgAVh2JYue3n9a602tsSu+TGO9yqc7NLr92xVu56K3bYZY+oaC+RPc6K3PnX7NEYe1RpexqkvCOxTovhKz3IEND1bNjySzun6YQtb7oIuFqiAEBVIgwuZ6EAQJVFNXAmSkAlIcSwcR0xd/7W25Iele647VbvqtO3oIuH/krtFUUp2Dmp4cLXz0wMtUrtcf5Ou3AWRDKPTW0ogDstNEStvWLucWWeAgDVPIVwf50KAFTrVD9Iex6o+L4Fk47IHb7unAWoGBYWTCrYPm3YDj0AVZW9IGNEEpbm1mxT58WDqsqeyB/HD/IhvcYGNiKwY+gvrrNm5wBVM70QerUKAFSr1bsiNe6kwyEwHdiChu+b4byT/lN7IgIEDCpxXx8buwEgquzF2dQeUWyXIRmCyufLhi3kj00H+YhBVdMGQBVXUqtzgKqVfIi8ZAUAqiULXN98GlQhCEKPytuOQBV4VD5UCAhOr8yeiKMOhf3oVuP8cfxKUJXlKc5DqBc8qqhiGp4CVA0FQ/CVKgBQrVTuqsTCjpdDMgROmLkgdy4gdDyZ0kyZlJ04H8vOfp8mdg4pAoSyn7RXzCeDwM0jsRM0mZrtxP0cVbk9mb8qUJkyJ/MU2YBHVaykFlcAqhbiIerSFQColi5x3QQYVNGwl+iwrRW/8k6CI+rEGUhu+E8OJ/o07MKDtD2bmvz0cXlYz8b3HpUOm7aXyJ+dN+No0bxaLRsRqJQNLrO0K7OP40oFAKpKeXBzzQoAVGuuACQPBXJQAKDKoRaQhzIFRgKqI7q/s0u3946UDtwo8QcFoIBXAKDyWuAoPwWGD6onH9Ht7V26ufMRaUyR2s00v6pAjqDA+hQAqNanPVKer8CwQXV4h24ypN49CJSARxXIgRMoEG5Fj20+8ERkpsBgQXX47q6C1PuHRcUBqqImuDJuBeBRjbv+cy/9AEGl56Nubt+i+0/S8gNUaV1wdbwKAFTjrfs+lHyAoNKyw6Pqw+OHPOaiAECVS00gHykFBgsqVVjMUaXqHNegQEEBgKogCS5kpMCwQcVCY9VfRo8bspKrAgBVrjWDfLECwweVqmf8jgqPOxSoUgCgqlIH99atwEhAFcrMjRJ/UAAKeAUAKq8FjvJTYNSg4saJf9Bg7M8Ad0sAVX6dM3LkFRg1qLwMOIIC41YAoBp3/edeeoAq9xpC/qDAkhQYuyeJ8i9/NKWrRxeg6kpJ2IECPVOAO2r8QYFlKdDl8wVQLauWYBcKZK5Alx1J5kVF9tagQJfPF0C1hgpEklAgBwW67EhyKA/ykJcCXT5fowXV0dETwj9oMOZnoMuOJK8uErnJQYEuny+ACsACsEf6DHTZkeTQMSIPeSnAz9cPfvADevbsGf3oRz+iv/3bv6W/+7u/WyiTANVIO6kxexIou/akAaqF+kxEqqkAP1/f+ta36Lvf/S49ffpUwWoUoLp3715NiaqDsYDorDDsN/ZnAKCq7idwt50C/Hx99atfpfv37ytY/fCHP1Re1SJWe+VRnT9/nt5880369NNPFymriwNQAVJjhxSXH6ByXQIOlqAAP19f+tKXFKzYs+JhQB7+W+Svd6BiWF28eJH29vYalff69evEcfkPoAKoACqAqlEHgsCNFeB+9o033qDpdEqHh4dq+O/58+eN7XCEXoKKgdPUu+IJva2tLSUSQAVQAVQA1UI9JiLVVoD72atXr9JkMqGDgwOAqq5yjx49UkEBKoAKoAKo6vYbCLeYAqMH1YULF6jNwgqACqAaOqi23/ytuQuGuB3gTysw2zxNGzOo0aUCowbV4BdTHL5NL588TSfMv5evfTy3wxl6p4vyNf9i8cpP/yxd/KVfob/8y/IVrlmD6nhKZ0Q7ODM5nt+HcpyzU6oRsmArD1Ad0+TsOapT1EIBMrwwWlC18aJsPR7t3cp3McXdC3Ti5AW6K37bdXjt7eAcnXbzTnuMmjGo+N8/+fl/SrPZ/0h+2ckWVLMtOnFyi6SDczyZBue2PQefAFUgx7pPRguqdsLr7ehvbucKqg/o1QhScQd7eO0zztM68fLbdGiBxl7Yy2/Ttde8J/bqXd2h333tNNljZY/DvvZBsuOK08N5f1cpjCQAACAASURBVKFoQWU/v/a1/1yo8zxBtU8bEaRku489n+PJOVLeloKbf/7Lh/HYvgknvK/YLp/rUQ3h4RgQTtw9hmnaHue5ng1rX9jh/G3uy2L38higalxtB/T+9i7d3L5Dh7kuT2dvqgogfF/ASUHLhjfDhX6YkKH3Gbp2+ISOIrscLwCXhR0+Cx15n0FtAWU/ewMqBk5FJx0DxYGK+4S5HhUPrfm5KI5r05J25XVl04KT7Z/08TWILGg0mCwg69oIwhGG/sq69l4tTy8rRL3reXtUDBAPmvib/Md07WUDHgcU4YEZj8p5WEdPyANJhDtiO+HQYp87Y+Q9fk78uQVU34b+uOOumo+SQFFskuHngaoAwX3aMF6Vt1v06GabBkax/ciez3sDG+yROc8OoCrry0cEKi1BtnNUkecTdsIpwAh4lYDKgs8N/2HYb1BeU/iMeEjxdQbVxYu/3L/FFFHnH3dcHij6jodDDY+KbdthP/ep58K83WgIzoRTnlIjUNmhQ/+ZtAFQxVWcPB8dqFgFHjutauRruaeG78q8HQGlmh6VgxOHNxAMrjk7YQe3lrIjL50/j71dnq6G18KFFLLn8kDRVxuDqmRY0dstekMu/UagKilDbAOgcvJWHQBUGXWSat5JzEMxNO6+puEV31Pn0RyVm3sqQO8DevXlC/Tqa2IBRkblBhzX82Uhz8UURAyfE244THdfs03d8at7Djba+3FDhQUIxF0fh/dzSkT7NDFrwT2o9FyTs8mLIiZmyXtsP/L+JDTZXi0bAFVcSclzgCqzDlsByA1LhCv2gnsSaGboz6/6i+ez9JyVHQoEGNYDhtx0zxVU3FMpIIl2YBcpkFpwYIfTtmgi56jEPR8+6vcYNs6u93okqMI0/OKJwmKNClDVthGASpTbwTjKf49OseqvZWVlOfTXBpgGVHIxRdgppoYO0VmHGo1Pj5xB1bKJI3oGCgBULSthdKCaC7LxddJjhxSXH6Bq2ZEgeqUCAFWlPPNvDg5UbbwxxO18IUNfIAhQze8rEGJxBQCqxbVTMQEqeFB9gcky8wlQtexIEL1SAYCqUp75NwEqgGqZAOiLbYBqfl+BEIsrAFAtrp2KCVABVH2ByTLzCVC17EgQvVIBgKpSnvk30UDna4QQw1cA7WD4dbzOEgJULdVHA20pIKIPQgG0g0FUY7aFAKhaVg0aaEsBEX0QCqAdDKIasy0EQNWyatBAWwqI6INQAO1gENWYbSEAqpZVgwbaUkBEH4QCaAeDqMZsCwFQ1a2aT96jt158g+58EkawDZQ/8Q8ajPkZCFsGzqBAdwpwu7p69SpNJhM6ODigp0+f0vPnzxdKYNAvpX145RJdvjIrCMMC4g8KjF0BtIOxPwHLLT9AVUvfGd148RLdeFAMjAZa1ARXxqcA2sH46nyVJQaoSG8rf3vvqFT3o+kbdPnce5QKgQZaKhtujEgBtINmlS33m2oWc5yhxw2qJx/R7e1durnzURJC+pF4THfOXaK3po+TTwgaaFIWXByZAlm3g2DfqHATwnVVUx6gOqbJWbn547rUmJ/ueEF1eIduMqTePahW6cEOXU4souBI7Gll3UCrS4a7UKAzBbJtB7wh4Um/qSEX+HgypeJsc2dS1DIEUNWSyQUaJagO391VkHr/0OlQelC2iIJIz1tl20BLS4QbUKB7BfJsB7xdfAipuOTB7r9yy3qzVfxk0+4A7HfnDXfwZfJN6UzFLroc/oTaCdh7LzGoZD78jsI6/7zzsI/PXpC1F5atng1bDrZt7ZymExX5jzVbx/nIQKXno25u36L7T2rIrZakpxdRkFmunmcDrVE2BIECHSqQZTuItncvFJfvCzipjt522Ga48Mzk2ETjjt2AJrLL8TxcwlSKNjVc+LqzHeRDpMNby5/0Q5XK1kkLGr3VfFMbFKSFob+wtjI7q+tRVS2iAKgyq1RkZ60K5AiqAAYFdVKdNIPBeCnGo7KY4uhsTwNJhCO2E3o2PikZTl+dbWrY+bwV85FOx3huAqwKOgqsDWwE+S3G83nP62hkHpUQf+4cVfUiCg2qS5ijEpLicLwK5Agq35Gn6iUFGNFxl4DKejBu+K9y2E97RHrYzg+zMexCUPl7NqxOJwJdnCfn2XG+a9oAqKh/P/itWvWnFlHs0MPUM66uaZBl2UBL84wbUGA5CmTZDrhjtx5SodgCSu6eAEMMBSJycOLwBhLBNWfHHgh79pL5DEHl567CYFH8OE8BqGraAKh6CCr1VKR/R1W+iEI+SjN4VFIOHI9WgSxBZYbr5DwUV9Bs088TyXsMD7eoQEHOzwepBRMB9PZp4+wWbWxOSQ4Pxg8Ag8x6YSrtiQ7vQaW9K5euyrNdlVgXVA1sAFR9BVX8aBHZYb3Umyji0Lk20DifOIcCy1Qg53agACRWuMmFD8E9Of9jvBe/6q/osUjYlGsbDsvZtOO4DLRw2I8t1gcVh65lIwCVARxrYxeRlBdkrXf4+cK7/qIqqFxEEYXNuYFGWcUpFFiaAoNrB/EwW0G51NBhIRAudKQAQNVSyME1UKVH140w+mbYUnNEz0+BwbWDeaCadz+/Kup1jgCqltWXZwNl0CSWzM62/Hg5T8QGY+5SiIGCyk0+y7LiuAsF8mwHXZQMNnJQAKBqWQt5NtAaoKosN0BVKQ9uFhTIsx0UsokLPVUAoGpZcXk20BqgioculIdlJnQ3p+HLKjmsnYyeM+kqJ6ftxHFhUtj84l5NHosJbLXUd+LT4tVSaXvmx4+JPMU27CSxtHPCvmGgZd0julcgz3bg84ejfisAULWsvzwbaENQKRCJVU0KWvac55fssV5ZJJfbBvJxPAceGU/OUXHe/LJfBRADP7Vqyca3cLRgDMAqbYd5CmwoIPq829++BHnGSScK5NkOOikajGSgAEDVshLybKAaBna5q/x0kBEdP8PCXVd6cHzdwRfucTwLj0A7H8de5rjaqxKgKswT8e9R9G9LlDfkXmsd2/M2qvIU2tDLb51nV0jb5hSfbRXIsx20LRXi56IAQNWyJvJsoNzJz1lMEYHKdeZKDw8JhoIEXTxc5+XjOP63IDaOBqCHjPJq7JCd+9R5DSHj86DT8Daq8hTaAKh8/Sz3KM92sNwyw/rqFACoWmqdZwNtDqrQo2IolHhUpXrFYJEBPWSqht9CyMT2vI2CRyWSCm0AVEKapR7m2Q6WWmQYX6ECgwHVvXv3ViibTyrPBtoMVPHrYbTHYuZ22POSy9iPpzRxw3NeBz5S8cSwoN+gzkNGL6wQ80a0TxOzlUIImXJQxfnlc5un0AZAFdbQ8s7ybAfLKy8sr1aBwYDq/Pnz9Oabb9Knn366UgXzbKANQWUhY4bizkz23RyVElMtrjDDenaxQ4nKDIpw2I8DSlBFK/YEBEPIVICKTZbkKbQRgcqtNpSgLCkILjdSIM920KgICJyxAoMCFcPq4sWLtLe310jy69evE8dt+oet6JsqhvBDVQCgGmrN5lGuwYGKgdPUu3r27BltbW01rhGAqrFkiDBQBQCqgVZsJsUCqExFPHr0qHGVAFSNJUOEgSoAUA20YjMp1uBAdeHCBWq/sOKA3t/epfcPq2sJoKrWB3fHowBA1byuj/7oDbr8R1W7WTW3OdQYgwJVJ4spqrao/+Q9euvFS3RZ/EMDHWrTQLmaKJBnOzimu6//Ep1/1f+7ftCkVCLswZfp/M7H4kL7wzxAxRq9QXeftC/PMi0MBlTtvSiio71bdHN7l27vHRU1V1vTXyK5mSI8qqJMuDJOBfIF1ZfpG7ZKntyjy6+Kc3u9zidAVUelpYUZDKjaKaS3o7+5fYvuJ79ZPKY75y7R5SvhD4gAqnaqI/ZwFOgFqIjoGzu/RNarYo/GeltyCI7D6OsaajLc+Ve99yGvW5vpGv2Yrluv7vV7ZL8Gxx5V0h7D9fV7dDfIU9oep13Phi2DsMP569hjTGux2FWAivR81M3tO1Q+JTWjGy+G3pR6KKZvUJ4NdLGHAbGgwKIK5NkOeFgr9KA8qD6mu25+iDts03kHntPH9A07VBhcJyI+d9AR8QsC6uFHCzIFEgOEAFRl9pQX6OGqIWpBE4K3NE+RDZkHIgz9Faos3wvzPCqAKt+6Q85yUKAXoCod+hOddQAMoWwAKhHeBOHO38JIxNJACzyVj+m6AZwHVYU941FZL0zBSNhbyAb5PABUQW3146R8jkqD6q3p46AgD69cgkcVKIKTsSqQL6jsMB5/ht6V8izskJz1qLgCGUrxUFgBVNKuPpbDh+45sLZcOj4fIWRK7DUCVU0bAJWrnv4elKz6YyhdfnGHHpqS6XOAqr8VjZx3qUC+oArhZMusIOU8k6JHw+E8SAy85oS3toPPAHDBHWE/nb4K3QhUfkgwSCm2AVAF8vT4JPU7KrOgwixNV97Vgx14VD2uZWS9OwX6Biqe63EekPJ67BzVPb9U++DLYRgHKrNoITi/51cXBrLG81d+bkyCMAQn2zf2YshE4FvIBkAV1NAoTvJsoKOQHoXMSIE82wF7KmmPihgAdjhu52P6xo71RuRKOBnXXrfh9EKG1KrBQrXItMTwo4QMx/GrDQVEG4Cqto0AVGKloABvoQxrvsDP19WrV2kymdDBwQE9ffqUnj9/vlCuXlgoVs8j5dlAey4qst87BdAOeldlvcowQNWyutBAWwqI6Nkr8NvXrs/NI9rBXIkQoIUCAFUL8Thqng2U93Ly+0Lx/lDhDr4tC90yerxnVKk53nNKbMRYGg43lqrAKz/9s/S5S5v0wx/+sDSdPNtBaXZxo2cKAFQtKyzPBlqycWLLsnYVHaDqSsnV2GFQ8b+f/4XP0ne+81fJRPNsB8ms4mIPFQCoWlZang20ClS82673tjbEW6EUQCa89bz3wPS29Dq8DytsVO74Kzw7FU6ccx5sXLlbr/GgZLonTvodeeV1n5+WlYjolQpYUNnPDz/8qBA+z3ZQyCYu9FQBgKplxeXZQMtApUHhO3gGjocAg8rBg3VhgFiY8OlkSscU2lDgKBme43tuyPF4n2ZmR4PQozqmyWTf1EJoW6UvbQf5CfPeshoRvUIBCyj7CVBViIVbS1EAoGopa76g8l4Tz1EpOCXmfCRMCgA56yHmZCrY2KcNATMXjojKIBamI2MQBfeCtBhiYX7YvoduaAdn3SlgAYWhv+40haVmCgBUzfQqhM4XVFskRvV0vmdb3sOxJREwCCChPKe0DQZf+C8RzthXsBJDiXw5TMd4bsKmg4/IG7+TLF4gktsiESvp0D4ZVJ/73AYWUwytYntUHoCqZWX1DVTxKrr2HlU9ASWc5HFheHHTeH9stgCq0KOqlzJCtVUAy9PbKoj4bRUYDKi62DhxETF7BSrSiyCcx6LOfecfAMQO3YlhPT1HFc8N7dNkkt5O+3gydV6dHKaT6SiPy85DHeuFHC5/AaiKQ4nS/iJ1hzjdKZBnO+iufLC0XgUGA6rz589TJ1vRN6yPPBsoD5OVDcdpWNmhOweF1JCcuVYIa4Cir5elw6TT4FHhBPCUp+RW/Yn8nJ3SLJh3svdCmNr8uIUaDesMwbtXIM920H05YXE9CgwKVAyrixcv0t7eXiM1r1+/Thy36R92+G2qGMIPVQELKv7EP2jQ5TPAbYbtDeJdfwwa+a+Jd/Xs2TPa2tpq3IcAVI0lQ4SBKsAdCf6gwLIUAKiMso8ePWqsMUDVWDJEGKgCANVAKzaTYg0OVBcuXKD2CytS+1EVawygKmqCK+NUAKAaZ72vqtSDAlWT4b5SgUt2+FXhP3mP3jIbJ142n2igpUrixogUQDsYUWWvoaiDAVV7L4roaO8W3dzepdt7R8WqeLBDDKcbD/wteFReCxyNWwGAatz1v+zSDwZU7YQ6ovs7u3Rz+xbdf5KyZLahvxK+6wGgSmmFa2NUAKAaY62vrswAFen5qJvbd+iwVPcZ3Yi8KQ4KUJUKhhsjUwCgGlmFr7i4AJUSfJ5HBVCt+LlEcj1TAKDqWYX1LLsAlaiw8jkqDaq3po9FaKKHVy5lusNvkE2cQIGlKwBQLV3iUScAUMXVX7Lqj6F0+cUdemjC63OAKpYP5+NUAKAaZ72vqtQAVVLp1O+ozIIKsyxdeVcPduBRJfXDxbEpAFCNrcZXW16AqqXeaKAtBUT0QSiAdjCIasy2EABVy6pBA20pIKIPQgG0g0FUY7aFAKhaVs04Gyhvv1GxvUdLTRE9LwWwcWJe9THG3ABULWs9T1DF27b7/ZxaFtdEB6i60bEfVtRW9Jc2+7sVvdwX7eRp6sU+ZtGmofWflJK96GZbptx2j7fTZPd1k/vKqY1MT5b0F0pHf09uhlo/f4uFBKgW083FyhdUwuPhh15uXOhyv+gBQLWocn2Mx6Difz//C5+l73znr5JFyLMd8M6fW3Qi8v57sTP00kDlq49BE0NbXTtbvM6xZpvn6MxZgMor2KOjPBto/K1qnzYcqDRkJpNzdEJ8c+Lt4fU3K/8gcjXob1j6nn+oJaiM92a3k0/Unbd9mk6IcLqhTGmDd/t1O/4mDODSWhWwoLKfH374USE/ebYD+ZwWsqwuyOc7+DLH3sPZKU1cuzhNdjdsfp7tsTYypTPiuY5TSj//3G7CtmbtBnkSbVRed+kH+eQvp3HbN7lxHpXPnW5/x/6Cae8bE96ZW3zR5RAuHZ9nju/yEVjp/oSfr0FsnNi9NPUs5tlAw4c1fCC58YbDH6oB2Iam3Hv7kO7TZGIfZI5nH1LfAXDj8gArahbYNlvb2/DqnmsQGnirevCLOcWVMgUsoOxnb0A1zyuJRhqCZ1W1A/lsi+c/ssvxyp7bwGbw/JeDStVDlIbyDIMvm6Ytmnz69MO27+q0Cahm7D2FMLZlZK/Kdgn2mktjiQcAVUtx8wWV9ZD404KHC+sho4sen2sX3z6MXh7ZsHQc5ZVZwPmA4qho234zY/zxg26hpSIlGpMwhsM1KWAB1behv8LzFegnn2d7QzyvxoOwX9M4hO+YRbgyD0aZlOFMGs5uMf0ADgGoimFdXpw9WwYOK9u+Pw7aWqr9yTIGEPflAKiszj37zBdUMZzsNyH/0Gmp+dw/zHaC1X5D4wZhr/mhQhtHppGqODnkaO/79AsdCUBlRcrqk0H1uc9t9G8xRdDZx5Jyhx4/vwIIBQCEX6wcVDhc6Ze1qudfpGWy5mzyeZD3NHwUeAr5TJVL22sEKgVg7VWpPsCUEaCKn6OenPcDVNKV96DQEsfnXnj5gJJ6cCPYBd+6fDx/lLAtGhZA5ZXK+ai3y9P5WQtGE6TKRVAEow3iObWxUiAJrtmA7rPq+S+mH9gqgMq2PWdcHxTy2RWoLCynwVwaQBXp3/S0i40Tm6bJ4fsBKm4w9kEvNh5uIPLb1mwyJR7yCK5zw0nYUDBzY+dFBdmGXEAhbQJURb36eiXPdmAWA0XP52xTe1Lxs6vOrXekICfmaQrQY29pizY2dVspq7eq51+2BTUkflKkF4DKlMPmTQ3RTUntjrdMUKlpgtPBimGAqqyma14/f/48dbIVfc30bLA8Gyh/qwqH8+xQXvCt0RbCuPl2iM+FNY1VXd/cV8tT9dxVCDvVGKPOwJk2wLO2JbQAKqlSv4/zbAdaUwUgMbztnm8zJ+OeTfkMGwD4VX/2i56vp8Lz628FR6p92PQFbHRbNO3UrDD0eeM2xvd8utKO+2K5VFDJeTldpBhUTjvO69lpUO4uT/j5GsSqPwYV/7t48SLt7e010uj69esqbqNI2DixqVwIP2AFcgbVQrIXABBbKQ7dxSFw3p0CgwOVBVYT7+rZs2e0tbXVWFXs8NtYMkQYqAKjA9VckA20otdULIDKCP/o0aPGVQBQNZYMEQaqwOBANdB66muxBgeqCxcuUPuFFan9qIpVDFAVNcGVcSoAUI2z3ldV6kGBqslwX6nAJTv8qvCfvEdvmY0TL5tPNNBSJXFjRAqgHYyostdQ1MGAqr0XRXS0d4tubu/S7b2jYlU82CGG040H/hY8Kq8FjsatAEA17vpfdukHA6p2Qh3R/Z1durl9i+4/SVky29BfUb9ccAEAKicFDkauAHckR0dP8A8aLOUZAKhIz0fd3L5Dh6WdzYxuRN4UBwWoSgXDjZEpAFAB0sv8ogJQqQ5lnkcFUI2s30VxGyoAUAFUAFXDRrNo8PI5Kg2qt6aPA9MPr1zK9BVKQTZxAgWWrgBABVABVEtvZiKBklV/DKXLL+7QQxNUnwNUQjkcjlgBgAqgAqhW3gGkfkdlFlSYZenKu3qw4zwqbqj4Bw3G/Awss6OC7XGDkNvVIN71t3KWmQRZQPxBgbErwO0AMBk3TJZZ/wBVyx4GoGopIKIPQgGACpACqDJuygBVxpWDrK1MAYCqA1Advk0vv/w2HeK3WAXvnJ8vDP21aM4AVQvxEHUwCmQNKgaA3Q/q5Gl6+drHhY5wmd5AbdutQPUxXXv5M3TtsANgZghKgKplVwFQtRQQ0QehQLagunuBTpy8QHdF53t47e3gvDZIhI2lxAGoSr9AAFQtuwmAqqWAiD4IBfIE1Qf0agSpGDCH1z5DbpdaOexmoHHtNb9T9qt3tbdy97XTZI+VPQ772gfpTlaBUtuQcdiGTld4QTGo+Nx6gpH9MD6X09o7TSdc2PB6nP6r17T9bD1M8cUAoGrZTQBULQVE9EEokCWoGBKu004MifF9AScFLRveQMJ34tzpG6hEdjmehICHYQjKu3c1zIrpGI8vAJVI7+gJMZhsXoL4Rx/TtWtsNx7643MJ1KI9WXaf54ROAhjrCgdQtewmAKqWAiL6IBTIEVTcodvOvdjBxh07d9ACLAE0dOftgSTCKUCEQ4s+rRAO+rqMq+3efc0AUKRZyDvfUxAtxtd2o/JEMOUw0mbBK8wARl63IiwBqpbdBEDVUkBEH4QCOYLqKNFZ+86QO/YYMKKzF9CwcZIdvQNIsXPV8RgsPCxn07LnYqjupPF8RJqclhuStMN6yvv7gF4VXqDNW8GjunuhCGmhB0A1iGZXvxAAVX2tEHK4CmQJKu74HSBikAgoOW9CeCsCGhYGQeduOv3gmrMTp/WEjpw9kUYc3oUJvR+bvgefhZ5MJyqPgJKNnwRtnIdMz/n5GsTy9C42TlykGwGoFlENcYamQJagMsNd8VzM3dd0R6+8FuGdqPNojsrNPRWgx57NBXr1tarfPX1A19xSeO8JMdzkkOTda8aGAJUCm4Ts4dt0TSzm8HNvZXNU2nNz+VfDmn7hRm3AZgKuwYDq/Pnz1MlW9A17EICqoWAIPkgFcgUVexPxMJrvvKN7AlrWA/Kr/nwnn/JQ7LX4k4Fgh/B8uuz9JK5LUDEg2CsKhv2sByXj+3y5clrYKjgl0jGLM3x+rN18PwcFKobVxYsXaW9vr1FncP36deK4Tf+wcWJTxRB+qArkDKoYHrXOY2gUPItoqK1wP99Ov1b5MyvP4EDFwGnqXT179oy2trYa9yEAVQPJZlt0YnO/QYT+BD2enKMzk+P+ZHgJOR0dqOaCDKDqEogAlWm0jx49atx88wXVMU3Oepefhw/W3pFmDSqt16IaAVSktrjpsmOCLYBOPgODA9WFCxeo/cKK1H5URY7lDaotmhWzvL4rWYOqnSwAFUAlO1Ucdw/ZQYGqk8UUJTv8qq7sk/foLbNx4mXzyQLm98ceQgJUx1M6c9Jf5w5WDcfx9bNTmmx6L2xDUo4hYyd1xfDdbPM0bUzYpokn7hFJr+4cTSblQ3+6o5/SBtuxNlReU3aJOF2dn3OkRtxM/v3g2z5tuHLq4wmX9aQJL8pjy6nKwmUuAFXaSqRNRA5UhXxweJNmfg9JpznidoAOuvsOGppqTQcDqvZeFNHR3i26ub1Lt/eOio34wQ4xnG488Lf66FG5TpX2aePslFTnbqDgh764c7Yd7DFNJnZuScNHdu4nrA225+KYDt1Cx0LLnXsN+UgB04GFrxRt2bypsM6OyVsBEBIufCyHPuU9otlMl82BSqXtYS7BFaStNNPhvKasj9XNlMPpE5Z5aGcAFSC1TKgOBlTtGv4R3d/ZpZvbt+j+k5Qlsw39FelmEOUNKut16E8LFw2BLWIPw10rdPQaHu6+kMR36BpGMgx32Po8hIGKXvBUvFHf0etr8Tlx/hScEnY5SiH/Mpw85sB8LmGi0ywrl78e2/HeksyvPGbIWcDqVIb7P3ck+IMCy1IAoCI9H3Vz+w4dlqo8oxuRN8VB8waV8AqicnFn6obY+F6hoxfDWXxfDJXxkJuFk+/EdQJs14Eq9iQagsoNNdphRWVPeIGyTIX8S6jIYxuJrzHAvUZBWRxgZHo2TvELQAAnkZexDPuxqgCVfbbwuQwFACql6jyPakig0h33Bs8vWQdRdK72IXMdNwNGQMddZ35JG2YIz4FKQIBtFuBoEzL3pOcRdPwinPUGbbbdrUL+JZzksYuhD0S8sCwGUA5YHLzcTphfM/w30/N+ft4sSntgpwDVwCo0s+IAVKJCyueoNKjemj4WoYkeXrmU6TdJ7iy9tyAzzZ2qgonopJVHJTwlfe7nX5z3xXFEuLBzD4cL+Z6HD3fyYqGEzFACVDJ9FfR4ShNDJ7br8sNzX2r+jO374TwFRQfKGDD7NHG/efIeU1wW9obOBPNNGsy+TESziZ7jC0FldNjc8l8EovIO8RSgGmKt5lMmgCqui5JVfwylyy/u0EMTXp/nDKpwiEp17gnvSHW8Blp+1Z/v9LUnYWydndLMgq7So2KRDJzsEFuDoT8lMYcPhv1sRekFHcGqP74lwp+Z8ApCC+oYVBo41rb1KmNQKXvCk9Spy7S9RxqDqsr7sqUY2idANbQazas8AFWyPlK/ozILKsyydOVdPdjJ1KNKFqr8ovSuykPhTl0FKqBc10TfwgFUfauxfuUXoGpZX4NooABVy6cgjF7wzsLbgzwbRDsYZM0Mo1AAXLZgMAAACWRJREFUVct6RANtKSCiD0IBtINBVGO2hQCoWlYNGmhLARF9EAqgHWRajQMZLQGoWj5faKAtBUT0QSiQdTvgztouzAneUrIi6aM5S7Vy1ebHvWWlq7yYn0fY30UAVAVhXyhcGcGFrBvoCPRHEfNQINt2oFaD2hWgWqvjyXS1L2wWoIpXiHafF4BqXosAqOYphPtQYKAK5Amq4k8TYvn1b+78zy+sI2Lf1uJ/suF/jlBYLMNeS5VnJEDV5G0lKh350ufg5xLypxL25yTyJyHm94bGo/LlsGFjJfI+5+fr6tWrNJlM6ODggJ4+fUrPnz9fKNMA1UKyIRIU6L8CWYJKACKpMN8Xnb+ClgWOGS70P/BmCJhOPrLL8ezv8UrTMXaDNJKB/UU9ROi9wSDubKp3DuDgQTkSHpX4kX5gwyeV/RFA1bKKsmygLcuE6FCgqQI5tgPulD1o4hJFHbq6LTywxNwO2yu+IozteJjEqajzBNj4B+eVcEv8oF79kFyA1aUV5DUqV3CPY/i3sbj4PTgAqFpWUo4NtGWREB0KNFYgy3YQASIsVAowopMvdPDhi5rd8B+Hs15YmIA/S+aD0zodeHQ+gj5yabgbAqR26xy7KMMBTJSB4xXKAVBh6M89UDiAAuNSIEtQcSftXqUV10fUoavbAgSFDj56CbOBTxEmcTp6aK7Ms6uKX7jn8qQh5zwyd53TjsoV3OP7ANVaQdXFxomJR2zupSwb6NxcIwAU6FaBXNuBmpNx3oYu82xTD9XF99S59Y64g5fDc+pcDvFxh79FG5tm89FSOSVUjmkShJf3igYYVHIOjc818MR8mRki9OEAqqKS4ZW1gur8+fPUyVb0YZnmnuXaQOdmHAGgQIcK5NwOFIDsEJmEj3lzv31Bse/s/ZBZ1Wo5tlvmKbG0Ll0LP3Wx/m+6lEclV/0JO862Kk/oJbl7HB4eVeEpXzuoGFYXL16kvb29QuaqLly/fp04btO/fDdObFoShIcC7RTIGVQLlazQwcdWIs8lvt3BeWHorwObfTXBz9cglqczaOS/Jt7Vs2fPaGtrq3EdDhJUsoHK48bqLDFCzXxVfuOtaWOJpRiU6dGBagXPD0DlmwhAZbR49OiRV6XmUfag4sYkhjyqhilckWUDlMcuQAYHFfnixm03VgSoVldXgwPV6qRDSjUUGByoLly4QO0XVqT2oyqqmTWoeFVStOKp1utaJATkcbH467tSM18A1eqqCKBandZjTGlQoGoy3Fda2SU7/Krwn7xHb5mNEy+bzzwbqFhmW1JQN+HKHpdcFSUhII/l5HDwYk+d1mRyzu3IG3huCpj6FTVuOa1dqaS8vXmvdGH70StuTL5SE90STvKYZVDelrG1wZPUttyBPbuyK5Gu0UDvIBzlqUTnsVzOsx2MRf3hl3MwoGrvRREd7d2im9u7dHvvqFjzD3aI4XTjgb+VrUeV/IGhz3f4yhWzOsmuKJJwkse0T5OJfRMad+IWMKZDt/HNDxGLv+Anms32VSYUJG14TiPy/HxOo+W7x1OazMyKLLF6S9qTcIqPJZAVtCSohD39WxT/5oDYvvdUo/z5jI/uCKAaXZWvtMCDAVU71Y7o/s4u3dy+RfefpCyZbeivcC/p/3IFleygfW7tUWq1EsPGeBISTvLYRlef0oaIa8PMtpK/99C3i+FLX9RZBtxCvvzyXFl2fyzzazIpbchjvl1IN21fWXJlNXZH+gFQjbTiV1RsgIr0fNTN7Tt0WCr6jG5E3hQHzRVUxY5WFow7bTu8Za+Ljlx22vI4Gvo7EXhUkb2gozcelwUh/zLeDuWJTzksaHPF5QiGEe2NKF/y1/YeTvKVN4kySxvymNPg/Iu86WNdRmlfZacsjzavI/kEqEZS0WsqJkClhJ/nUfUMVNzxOjDET5aAkrslvBzZaYtj7qDtarrwNS0irrFX6Mz5urNVDO+yER8EwBM3nS17Le3x+Hwkysy25dCfPWaTZem6OSo7BKrDJmFqszaST4BqJBW9pmICVEL48jkqDaq3po9FaKKHVy5Rrg1UgUV2vtyn1n11jI0ngMBzOq5DVh5HOEfl7imPyd8L5rWM3cAW52tS9hoa7X05b0vOUdk8qhqZB6poHs6+0NPaEOXUFczp2jLwFT8/5+FnHgV4VEqIXNuBqSV89FwBgCquwJJVfwylyy/u0EMTXp/nCyrOpoKVGMJyHX58z3bYKlJxNZzyH7gzt7Y298nPK2kPSa76k+kEK+3cFB97OGbVXLCIIa4M44nZdG0+U2Ax9yRI5LFdIKGH8c7RZFZSTpsFWV7hnYY24VFZuQAqqwQ+l6EAQJVUNfU7KrOgwixLV97Vg51sPapksZZyscFQ3lLSh9EcFACocqiF4eYBoGpZt2igAFXLR2gQ0dEOBlGN2RYCoGpZNWigLQVE9EEogHYwiGrMthAAVcuqQQNtKSCiD0IBtIPuq7EwH9p9Er2xCFC1rCo00JYCIvogFMi6HQQLY8Tq1XUpX/HzB5klgMqrAVB5LRY6yrqBLlQiRIICzRXIth2on1KEP0iv9XLm5hLUjwFQ1dfKhASoGksWRsi2gYbZxBkUWKoCebaD+Qt92GtxbyGxP39gpcxPIPyLj/27H/knF/InGCqsfXdlrLICpX8pc5Ae/1bvm+JnEiau/elH7FH5n3rI3/iJn3rI/Mf56Pk5QNWyAvNsoC0LhehQoKECWbaDeZ4L3xedu4KIBY4ZLkz+kD2yy/ECcDntQlDalzKHbz6J35pS/uN192YYlbfEK72O92kmXprisjGAA4CqZSVm2UBblgnRoUBTBXJsB7FHEpYpBgTfFWAxHpXs9z2QRDj1lpNwaNGnw+Gk92PuJEDngCjedOLzL9PTNqTX5QDmEx7cEUDVskpzbKAti4ToUKCxAlm2gwgIYaEYVDFgBLxKQGWB4ob/OJz1wsIEzBlDhof+RFpxvkRaFkAcOQSVf5OLHaq0XhyH42s2b8ls9PwiQNWyArNsoC3LhOhQoKkCWbYDBoAERFAoASV3XXguAh72toMTXzCwCa7ZgKlPaS8GlfLKotd6FUAlQJeyr97lGc2dlYTr4+XBgKqLjRMXqcAsG+giBUEcKNBCgVzbgfI2xDwUF7H2y5nleygL0OO5pC3a2Cx7oTKn5F9mLLeisZCTcnM+Nza3grku71Hp3amlx2Rf5CxXMCob7n2a0nr/j7sE1f8H0CKuuwLi75AAAAAASUVORK5CYII=)"
   ]
  },
  {
   "cell_type": "markdown",
   "metadata": {
    "id": "oj_3zcC2FHaW"
   },
   "source": [
    "copy selector 를 한후 붙여 넣기를 하면\n",
    "\n",
    "```\n",
    " #wrapper > section > div > div > div:nth-child(1) > div > div:nth-child(1) > label\n",
    "\n",
    "```\n",
    "\n",
    "와 같다 . \n",
    "\n",
    "nth-child(1) 는 한개만 선택 하는것이기 때문에 제거해준다. \n",
    "\n",
    "```\n",
    " #wrapper > section > div > div > div > div > div > label\n",
    "```"
   ]
  },
  {
   "cell_type": "code",
   "execution_count": null,
   "metadata": {
    "colab": {
     "base_uri": "https://localhost:8080/"
    },
    "id": "MjFF2wk7ExER",
    "outputId": "cb7ce20f-44e0-4b9e-a49e-1f5a6b4a76be"
   },
   "outputs": [
    {
     "name": "stdout",
     "output_type": "stream",
     "text": [
      "[2020-10-07] \"이력서 작성·레시피 제공 다양하게 활용되는 GPT3\" 칼럼\n",
      "[2020-05-20] \"인공지능의 보안 위협\" 칼럼\n",
      "[2020-03-04] \"데이터 경제 시대\" 칼럼\n",
      "[2019-12-25] \"마이데이터 시대의 도래 데이터 주권과 새로운 가치\" 칼럼\n",
      "[2019-09-25] \"유튜브 탄생과 크리에이터 시대\" 칼럼\n",
      "[2019-09-04] \"농업으로 들어간 인공지능\" 칼럼\n",
      "[2019-08-07] \"AI시대 지배할 것인가 지배당하며 살 것인가\" 칼럼\n",
      "[2018-12-30] \"파이썬으로 텍스트 분석하기\" 책 출판\n"
     ]
    }
   ],
   "source": [
    "for label in wd.find_elements_by_css_selector('#wrapper > section > div > div > div > div > div > label'):\n",
    "  print(label.text)"
   ]
  },
  {
   "cell_type": "markdown",
   "metadata": {
    "id": "QPp4JdW5E2qW"
   },
   "source": [
    "xpath로 가져오기\n",
    "\n",
    "```\n",
    "//*[@id=\"wrapper\"]/section/div/div/div[1]/div/div[1]/label\n",
    "```\n",
    "\n",
    "[1]는 제거해준다. \n",
    "\n",
    "```\n",
    "\n",
    "//*[@id=\"wrapper\"]/section/div/div/div/div/div/label\n",
    "```"
   ]
  },
  {
   "cell_type": "markdown",
   "metadata": {
    "id": "C1FJh5JPGVT1"
   },
   "source": [
    "![image.png](data:image/png;base64,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)"
   ]
  },
  {
   "cell_type": "code",
   "execution_count": null,
   "metadata": {
    "colab": {
     "base_uri": "https://localhost:8080/"
    },
    "id": "_NmBku0PFps6",
    "outputId": "dbbdc42b-65cb-458c-c343-e72c6e0ab4e2"
   },
   "outputs": [
    {
     "name": "stdout",
     "output_type": "stream",
     "text": [
      "[2020-10-07] \"이력서 작성·레시피 제공 다양하게 활용되는 GPT3\" 칼럼\n",
      "[2020-05-20] \"인공지능의 보안 위협\" 칼럼\n",
      "[2020-03-04] \"데이터 경제 시대\" 칼럼\n",
      "[2019-12-25] \"마이데이터 시대의 도래 데이터 주권과 새로운 가치\" 칼럼\n",
      "[2019-09-25] \"유튜브 탄생과 크리에이터 시대\" 칼럼\n",
      "[2019-09-04] \"농업으로 들어간 인공지능\" 칼럼\n",
      "[2019-08-07] \"AI시대 지배할 것인가 지배당하며 살 것인가\" 칼럼\n",
      "[2018-12-30] \"파이썬으로 텍스트 분석하기\" 책 출판\n"
     ]
    }
   ],
   "source": [
    "for label in wd.find_elements_by_xpath('//*[@id=\"wrapper\"]/section/div/div/div/div/div/label'):\n",
    "  print(label.text)\n",
    "                  "
   ]
  },
  {
   "cell_type": "markdown",
   "metadata": {
    "id": "lwjKlMdrGcJj"
   },
   "source": [
    "class 이름으로 'toggle' 로~"
   ]
  },
  {
   "cell_type": "code",
   "execution_count": null,
   "metadata": {
    "colab": {
     "base_uri": "https://localhost:8080/"
    },
    "id": "ln2ahucyGC6W",
    "outputId": "06656738-1111-4eaf-ee3f-a5c615d3bde2"
   },
   "outputs": [
    {
     "name": "stdout",
     "output_type": "stream",
     "text": [
      "[2020-10-07] \"이력서 작성·레시피 제공 다양하게 활용되는 GPT3\" 칼럼\n",
      "\n",
      "[2020-05-20] \"인공지능의 보안 위협\" 칼럼\n",
      "\n",
      "[2020-03-04] \"데이터 경제 시대\" 칼럼\n",
      "\n",
      "[2019-12-25] \"마이데이터 시대의 도래 데이터 주권과 새로운 가치\" 칼럼\n",
      "\n",
      "[2019-09-25] \"유튜브 탄생과 크리에이터 시대\" 칼럼\n",
      "\n",
      "[2019-09-04] \"농업으로 들어간 인공지능\" 칼럼\n",
      "\n",
      "[2019-08-07] \"AI시대 지배할 것인가 지배당하며 살 것인가\" 칼럼\n",
      "\n",
      "[2018-12-30] \"파이썬으로 텍스트 분석하기\" 책 출판\n",
      "[2020-10-07] \"이력서 작성·레시피 제공 다양하게 활용되는 GPT3\" 칼럼\n",
      "[2020-05-20] \"인공지능의 보안 위협\" 칼럼\n",
      "[2020-03-04] \"데이터 경제 시대\" 칼럼\n",
      "[2019-12-25] \"마이데이터 시대의 도래 데이터 주권과 새로운 가치\" 칼럼\n",
      "[2019-09-25] \"유튜브 탄생과 크리에이터 시대\" 칼럼\n",
      "[2019-09-04] \"농업으로 들어간 인공지능\" 칼럼\n",
      "[2019-08-07] \"AI시대 지배할 것인가 지배당하며 살 것인가\" 칼럼\n",
      "[2018-12-30] \"파이썬으로 텍스트 분석하기\" 책 출판\n"
     ]
    }
   ],
   "source": [
    "for label in wd.find_elements_by_class_name('toggle'):\n",
    "  print(label.text)"
   ]
  },
  {
   "cell_type": "markdown",
   "metadata": {
    "id": "cP8FNR09GqaY"
   },
   "source": [
    "위의 결과 값을 보면 다른것과 좀 다른 것을 알수 있다. 이유는 \n",
    "\n"
   ]
  },
  {
   "cell_type": "markdown",
   "metadata": {
    "id": "dWnxkkayHtsX"
   },
   "source": [
    "![image.png](data:image/png;base64,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)"
   ]
  },
  {
   "cell_type": "markdown",
   "metadata": {
    "id": "NHyRQ4srG1-x"
   },
   "source": [
    "위와 같이 toggle 클래스가 겹치기 때문이다. "
   ]
  },
  {
   "cell_type": "markdown",
   "metadata": {
    "id": "3QGpMPoGH0Y0"
   },
   "source": [
    "해결하기 위해위해서 \n",
    "\n",
    "`class=\"toggle toggle-transparent toggle-bordered-full\"` 에 있는 셀렉터로 접근을 해보면, `#wrapper > section > div > div > div:nth-child(1) > div` 이다. \n",
    "\n",
    "```\n",
    " #wrapper > section > div > div > div > div \n",
    "```\n",
    "셀렉터로 접근해 보자\n",
    "\n",
    "- 셀렉터로 접근하는 이유는 `class=\"toggle toggle-transparent toggle-bordered-full\"` 클래스로 접근해 봤는데 잘 안되어서 ~\n"
   ]
  },
  {
   "cell_type": "code",
   "execution_count": null,
   "metadata": {
    "colab": {
     "base_uri": "https://localhost:8080/"
    },
    "id": "dhqMrhoDHK6-",
    "outputId": "308b34e8-acf0-4d07-b2cb-d3ada75a634d"
   },
   "outputs": [
    {
     "name": "stdout",
     "output_type": "stream",
     "text": [
      "[2020-10-07] \"이력서 작성·레시피 제공 다양하게 활용되는 GPT3\" 칼럼\n",
      "[2020-05-20] \"인공지능의 보안 위협\" 칼럼\n",
      "[2020-03-04] \"데이터 경제 시대\" 칼럼\n",
      "[2019-12-25] \"마이데이터 시대의 도래 데이터 주권과 새로운 가치\" 칼럼\n",
      "[2019-09-25] \"유튜브 탄생과 크리에이터 시대\" 칼럼\n",
      "[2019-09-04] \"농업으로 들어간 인공지능\" 칼럼\n",
      "[2019-08-07] \"AI시대 지배할 것인가 지배당하며 살 것인가\" 칼럼\n",
      "[2018-12-30] \"파이썬으로 텍스트 분석하기\" 책 출판\n"
     ]
    }
   ],
   "source": [
    "toggle_class = wd.find_element_by_css_selector('#wrapper > section > div > div > div > div  ')\n",
    "for label in toggle_class.find_elements_by_class_name('toggle'):\n",
    "  print(label.text)"
   ]
  },
  {
   "cell_type": "markdown",
   "metadata": {
    "id": "gX3KclOGJcsT"
   },
   "source": [
    "## 다른 표현식"
   ]
  },
  {
   "cell_type": "code",
   "execution_count": null,
   "metadata": {
    "id": "tZ6NMZ50H78R"
   },
   "outputs": [],
   "source": [
    "from selenium.webdriver.common.by import By"
   ]
  },
  {
   "cell_type": "markdown",
   "metadata": {
    "id": "9w_mxjSBJ4Xp"
   },
   "source": [
    "```\n",
    "for label in wd.find_elements_by_tag_name('label'):\n",
    "  print(label.text)\n",
    "```\n",
    "과 아래는 같은 의미이다. "
   ]
  },
  {
   "cell_type": "code",
   "execution_count": null,
   "metadata": {
    "colab": {
     "base_uri": "https://localhost:8080/"
    },
    "id": "AkNT_k2nJnsj",
    "outputId": "fd8066b1-a049-4fd8-fe5f-3f3afd6bf0f1"
   },
   "outputs": [
    {
     "name": "stdout",
     "output_type": "stream",
     "text": [
      "[2020-10-07] \"이력서 작성·레시피 제공 다양하게 활용되는 GPT3\" 칼럼\n",
      "[2020-05-20] \"인공지능의 보안 위협\" 칼럼\n",
      "[2020-03-04] \"데이터 경제 시대\" 칼럼\n",
      "[2019-12-25] \"마이데이터 시대의 도래 데이터 주권과 새로운 가치\" 칼럼\n",
      "[2019-09-25] \"유튜브 탄생과 크리에이터 시대\" 칼럼\n",
      "[2019-09-04] \"농업으로 들어간 인공지능\" 칼럼\n",
      "[2019-08-07] \"AI시대 지배할 것인가 지배당하며 살 것인가\" 칼럼\n",
      "[2018-12-30] \"파이썬으로 텍스트 분석하기\" 책 출판\n"
     ]
    }
   ],
   "source": [
    "for label in wd.find_elements(By.TAG_NAME, 'label'):\n",
    "  print(label.text)"
   ]
  },
  {
   "cell_type": "markdown",
   "metadata": {
    "id": "A86H5pcRKLmU"
   },
   "source": [
    "```\n",
    "for label in wd.find_elements_by_css_selector('#wrapper > section > div > div > div > div > div > label'):\n",
    "  print(label.text)\n",
    "  ```"
   ]
  },
  {
   "cell_type": "code",
   "execution_count": null,
   "metadata": {
    "colab": {
     "base_uri": "https://localhost:8080/"
    },
    "id": "oONpCk1lJvv6",
    "outputId": "6a32fe37-7e85-470b-e031-2a35f7c90256"
   },
   "outputs": [
    {
     "name": "stdout",
     "output_type": "stream",
     "text": [
      "[2020-10-07] \"이력서 작성·레시피 제공 다양하게 활용되는 GPT3\" 칼럼\n",
      "[2020-05-20] \"인공지능의 보안 위협\" 칼럼\n",
      "[2020-03-04] \"데이터 경제 시대\" 칼럼\n",
      "[2019-12-25] \"마이데이터 시대의 도래 데이터 주권과 새로운 가치\" 칼럼\n",
      "[2019-09-25] \"유튜브 탄생과 크리에이터 시대\" 칼럼\n",
      "[2019-09-04] \"농업으로 들어간 인공지능\" 칼럼\n",
      "[2019-08-07] \"AI시대 지배할 것인가 지배당하며 살 것인가\" 칼럼\n",
      "[2018-12-30] \"파이썬으로 텍스트 분석하기\" 책 출판\n"
     ]
    }
   ],
   "source": [
    "for label in wd.find_elements(By.CSS_SELECTOR, '#wrapper > section > div > div > div > div > div > label'):\n",
    "  print(label.text)"
   ]
  }
 ],
 "metadata": {
  "colab": {
   "collapsed_sections": [],
   "name": "Selenium 기초_in colab.ipynb",
   "provenance": []
  },
  "kernelspec": {
   "display_name": "Python 3",
   "language": "python",
   "name": "python3"
  },
  "language_info": {
   "codemirror_mode": {
    "name": "ipython",
    "version": 3
   },
   "file_extension": ".py",
   "mimetype": "text/x-python",
   "name": "python",
   "nbconvert_exporter": "python",
   "pygments_lexer": "ipython3",
   "version": "3.8.5"
  },
  "toc": {
   "base_numbering": 1,
   "nav_menu": {},
   "number_sections": true,
   "sideBar": true,
   "skip_h1_title": false,
   "title_cell": "Table of Contents",
   "title_sidebar": "Contents",
   "toc_cell": false,
   "toc_position": {},
   "toc_section_display": true,
   "toc_window_display": false
  }
 },
 "nbformat": 4,
 "nbformat_minor": 1
}
