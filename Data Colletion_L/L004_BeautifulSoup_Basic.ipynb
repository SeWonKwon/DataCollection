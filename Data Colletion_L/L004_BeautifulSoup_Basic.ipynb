{
 "cells": [
  {
   "cell_type": "markdown",
   "metadata": {},
   "source": [
    "# BeautifulSoup 기초"
   ]
  },
  {
   "cell_type": "markdown",
   "metadata": {},
   "source": [
    "## BeautifulSoup 특징\n",
    "* HTML과 XML 파일에서 데이터들 뽑아내기 위한 파이썬 라이브러리\n",
    "* HTML과 XML의 트리 구조를 탐색, 검색, 변경 가능\n",
    "* 다양한 파서(parser)를 선택하여 이용 가능"
   ]
  },
  {
   "cell_type": "markdown",
   "metadata": {},
   "source": [
    "|파서(parser)|선언|장점|단점|\n",
    "|---|---|---|---|\n",
    "|html.parser|BeautifulSoup(markup, 'html.parser')|설치 필요 없음 <br>적절한 속도||\n",
    "|Ixml HTML parser| Beautifulsoup(markup, 'lxml')|매우 빠름|Ixml 추가 설치필요|\n",
    "|Ixml XML parser|BeautifulSoup (markup, 'lxml-xml')<br>BeautifulSoup(markup, 'xml')|매우 빠름<br>유일한 xml parser|Ixml 추가 설치 필요|\n",
    "|html5lib|BeautifulSoup (markup, 'htm15lib')|웹 브란우저와 같은 방식으로 파싱<br>유용한 HTML5 생성 |html5lib 추가 설치 필요<br>매우 느림|\n"
   ]
  },
  {
   "cell_type": "markdown",
   "metadata": {},
   "source": [
    "## HTML 파싱(Parsing)"
   ]
  },
  {
   "cell_type": "markdown",
   "metadata": {},
   "source": [
    "### 웹페이지 예제 생성"
   ]
  },
  {
   "cell_type": "code",
   "execution_count": 5,
   "metadata": {},
   "outputs": [
    {
     "name": "stdout",
     "output_type": "stream",
     "text": [
      "Overwriting exmple.html\n"
     ]
    }
   ],
   "source": [
    "%%writefile exmple.html\n",
    "<!DOCTYPE html>\n",
    "<html>\n",
    "    <head>\n",
    "        <title>Page Title</title>\n",
    "    </head>\n",
    "    <body>\n",
    "        <h1>Heading 1</h1>\n",
    "        <p>Paragraph</p>\n",
    "        <div>\n",
    "            <a href=\"www.google.com\">google</a>\n",
    "        </div>\n",
    "        <div class=\"class1\">\n",
    "            <p>a</p>\n",
    "            <a href=\"www.naver.com\">naver</a>\n",
    "            <p>b</p>\n",
    "            <p>c</p>\n",
    "        </div>\n",
    "        <div id='id1'>\n",
    "            Example page\n",
    "            <p>g</p>\n",
    "        </div>\n",
    "    </body>\n",
    "</html>"
   ]
  },
  {
   "cell_type": "code",
   "execution_count": 6,
   "metadata": {},
   "outputs": [
    {
     "data": {
      "text/plain": [
       "<!DOCTYPE html>\n",
       "\n",
       "<html>\n",
       "<head>\n",
       "<title>Page Title</title>\n",
       "</head>\n",
       "<body>\n",
       "<h1>Heading 1</h1>\n",
       "<p>Paragraph</p>\n",
       "<div>\n",
       "<a href=\"www.google.com\">google</a>\n",
       "</div>\n",
       "<div class=\"class1\">\n",
       "<p>a</p>\n",
       "<a href=\"www.naver.com\">naver</a>\n",
       "<p>b</p>\n",
       "<p>c</p>\n",
       "</div>\n",
       "<div id=\"id1\">\n",
       "            Example page\n",
       "            <p>g</p>\n",
       "</div>\n",
       "</body>\n",
       "</html>"
      ]
     },
     "execution_count": 6,
     "metadata": {},
     "output_type": "execute_result"
    }
   ],
   "source": [
    "from bs4 import BeautifulSoup\n",
    "import urllib.request\n",
    "\n",
    "with open('exmple.html') as fp:\n",
    "    soup = BeautifulSoup(fp, 'html.parser')  # (데이터, parser)\n",
    "\n",
    "soup"
   ]
  },
  {
   "cell_type": "markdown",
   "metadata": {},
   "source": [
    "prettify 조금 더 보기 편하게 보기~"
   ]
  },
  {
   "cell_type": "code",
   "execution_count": 7,
   "metadata": {},
   "outputs": [
    {
     "name": "stdout",
     "output_type": "stream",
     "text": [
      "<!DOCTYPE html>\n",
      "<html>\n",
      " <head>\n",
      "  <title>\n",
      "   Page Title\n",
      "  </title>\n",
      " </head>\n",
      " <body>\n",
      "  <h1>\n",
      "   Heading 1\n",
      "  </h1>\n",
      "  <p>\n",
      "   Paragraph\n",
      "  </p>\n",
      "  <div>\n",
      "   <a href=\"www.google.com\">\n",
      "    google\n",
      "   </a>\n",
      "  </div>\n",
      "  <div class=\"class1\">\n",
      "   <p>\n",
      "    a\n",
      "   </p>\n",
      "   <a href=\"www.naver.com\">\n",
      "    naver\n",
      "   </a>\n",
      "   <p>\n",
      "    b\n",
      "   </p>\n",
      "   <p>\n",
      "    c\n",
      "   </p>\n",
      "  </div>\n",
      "  <div id=\"id1\">\n",
      "   Example page\n",
      "   <p>\n",
      "    g\n",
      "   </p>\n",
      "  </div>\n",
      " </body>\n",
      "</html>\n",
      "\n"
     ]
    }
   ],
   "source": [
    "print(soup.prettify())"
   ]
  },
  {
   "cell_type": "markdown",
   "metadata": {},
   "source": [
    "tag 부분 불러 오기"
   ]
  },
  {
   "cell_type": "code",
   "execution_count": 8,
   "metadata": {},
   "outputs": [
    {
     "data": {
      "text/plain": [
       "<title>Page Title</title>"
      ]
     },
     "execution_count": 8,
     "metadata": {},
     "output_type": "execute_result"
    }
   ],
   "source": [
    "soup.title"
   ]
  },
  {
   "cell_type": "code",
   "execution_count": 9,
   "metadata": {},
   "outputs": [
    {
     "data": {
      "text/plain": [
       "'title'"
      ]
     },
     "execution_count": 9,
     "metadata": {},
     "output_type": "execute_result"
    }
   ],
   "source": [
    "soup.title.name"
   ]
  },
  {
   "cell_type": "markdown",
   "metadata": {},
   "source": [
    "내용 불러 오기"
   ]
  },
  {
   "cell_type": "code",
   "execution_count": 10,
   "metadata": {},
   "outputs": [
    {
     "data": {
      "text/plain": [
       "'Page Title'"
      ]
     },
     "execution_count": 10,
     "metadata": {},
     "output_type": "execute_result"
    }
   ],
   "source": [
    "soup.title.string"
   ]
  },
  {
   "cell_type": "markdown",
   "metadata": {},
   "source": [
    "부모 태그 불러오기"
   ]
  },
  {
   "cell_type": "code",
   "execution_count": 11,
   "metadata": {},
   "outputs": [
    {
     "data": {
      "text/plain": [
       "<head>\n",
       "<title>Page Title</title>\n",
       "</head>"
      ]
     },
     "execution_count": 11,
     "metadata": {},
     "output_type": "execute_result"
    }
   ],
   "source": [
    "soup.title.parent"
   ]
  },
  {
   "cell_type": "code",
   "execution_count": 12,
   "metadata": {},
   "outputs": [
    {
     "data": {
      "text/plain": [
       "'head'"
      ]
     },
     "execution_count": 12,
     "metadata": {},
     "output_type": "execute_result"
    }
   ],
   "source": [
    "soup.title.parent.name"
   ]
  },
  {
   "cell_type": "code",
   "execution_count": 13,
   "metadata": {},
   "outputs": [
    {
     "data": {
      "text/plain": [
       "<h1>Heading 1</h1>"
      ]
     },
     "execution_count": 13,
     "metadata": {},
     "output_type": "execute_result"
    }
   ],
   "source": [
    "soup.h1"
   ]
  },
  {
   "cell_type": "markdown",
   "metadata": {},
   "source": []
  },
  {
   "cell_type": "code",
   "execution_count": 14,
   "metadata": {},
   "outputs": [
    {
     "data": {
      "text/plain": [
       "<p>Paragraph</p>"
      ]
     },
     "execution_count": 14,
     "metadata": {},
     "output_type": "execute_result"
    }
   ],
   "source": [
    "soup.p # 가장 처음 의 태그를 불러옮"
   ]
  },
  {
   "cell_type": "code",
   "execution_count": 15,
   "metadata": {},
   "outputs": [
    {
     "data": {
      "text/plain": [
       "<div>\n",
       "<a href=\"www.google.com\">google</a>\n",
       "</div>"
      ]
     },
     "execution_count": 15,
     "metadata": {},
     "output_type": "execute_result"
    }
   ],
   "source": [
    "soup.div"
   ]
  },
  {
   "cell_type": "code",
   "execution_count": 16,
   "metadata": {},
   "outputs": [
    {
     "data": {
      "text/plain": [
       "<a href=\"www.google.com\">google</a>"
      ]
     },
     "execution_count": 16,
     "metadata": {},
     "output_type": "execute_result"
    }
   ],
   "source": [
    "soup.a"
   ]
  },
  {
   "cell_type": "markdown",
   "metadata": {},
   "source": [
    "## HTML 태그 검색\n",
    "\n",
    "* `find()` : 해당 조건에 맞는 하나의 태그를 가져옴.\n",
    "* `find_all()`: 해당 조건에 맞는 모든 태그를 가져옴\n",
    "* `select()` : CSS 선택자와 같은 형식으로 선택 가능"
   ]
  },
  {
   "cell_type": "markdown",
   "metadata": {},
   "source": [
    "### find & find_all"
   ]
  },
  {
   "cell_type": "code",
   "execution_count": 17,
   "metadata": {},
   "outputs": [
    {
     "name": "stdout",
     "output_type": "stream",
     "text": [
      "<div>\n",
      "<a href=\"www.google.com\">google</a>\n",
      "</div>\n"
     ]
    }
   ],
   "source": [
    "soup_find = soup.find('div')\n",
    "print(soup_find)"
   ]
  },
  {
   "cell_type": "code",
   "execution_count": 18,
   "metadata": {
    "scrolled": true
   },
   "outputs": [
    {
     "name": "stdout",
     "output_type": "stream",
     "text": [
      "[<div>\n",
      "<a href=\"www.google.com\">google</a>\n",
      "</div>, <div class=\"class1\">\n",
      "<p>a</p>\n",
      "<a href=\"www.naver.com\">naver</a>\n",
      "<p>b</p>\n",
      "<p>c</p>\n",
      "</div>, <div id=\"id1\">\n",
      "            Example page\n",
      "            <p>g</p>\n",
      "</div>]\n"
     ]
    }
   ],
   "source": [
    "soup_find_all = soup.find_all('div')\n",
    "print(soup_find_all)"
   ]
  },
  {
   "cell_type": "markdown",
   "metadata": {},
   "source": [
    "find_all 의 결과는 list 안에 들어가 있다. \n",
    "- 위의 결과를 보면 ```<div>, </div>``` 안 에 들어간 리스트로 결과값 리턴"
   ]
  },
  {
   "cell_type": "markdown",
   "metadata": {},
   "source": [
    "### find_all(태그, 속성값)"
   ]
  },
  {
   "cell_type": "code",
   "execution_count": 19,
   "metadata": {},
   "outputs": [
    {
     "name": "stdout",
     "output_type": "stream",
     "text": [
      "[<div id=\"id1\">\n",
      "            Example page\n",
      "            <p>g</p>\n",
      "</div>]\n"
     ]
    }
   ],
   "source": [
    "find_by_id = soup.find_all('div', {'id':'id1'})\n",
    "print(find_by_id)"
   ]
  },
  {
   "cell_type": "code",
   "execution_count": 20,
   "metadata": {},
   "outputs": [
    {
     "name": "stdout",
     "output_type": "stream",
     "text": [
      "[<div class=\"class1\">\n",
      "<p>a</p>\n",
      "<a href=\"www.naver.com\">naver</a>\n",
      "<p>b</p>\n",
      "<p>c</p>\n",
      "</div>]\n"
     ]
    }
   ],
   "source": [
    "find_by_class = soup.find_all('div', {'class':'class1'})\n",
    "print(find_by_class)"
   ]
  },
  {
   "cell_type": "markdown",
   "metadata": {},
   "source": [
    "### ```<a href> ``` 에서 가져오기"
   ]
  },
  {
   "cell_type": "code",
   "execution_count": 22,
   "metadata": {},
   "outputs": [
    {
     "data": {
      "text/plain": [
       "<a href=\"www.google.com\">google</a>"
      ]
     },
     "execution_count": 22,
     "metadata": {},
     "output_type": "execute_result"
    }
   ],
   "source": [
    "soup.find('a')"
   ]
  },
  {
   "cell_type": "code",
   "execution_count": null,
   "metadata": {},
   "outputs": [],
   "source": []
  },
  {
   "cell_type": "code",
   "execution_count": 21,
   "metadata": {},
   "outputs": [
    {
     "data": {
      "text/plain": [
       "'www.google.com'"
      ]
     },
     "execution_count": 21,
     "metadata": {},
     "output_type": "execute_result"
    }
   ],
   "source": [
    "soup.find('a').get('href')"
   ]
  },
  {
   "cell_type": "code",
   "execution_count": 24,
   "metadata": {},
   "outputs": [
    {
     "data": {
      "text/plain": [
       "'google'"
      ]
     },
     "execution_count": 24,
     "metadata": {},
     "output_type": "execute_result"
    }
   ],
   "source": [
    "soup.find('a').get_text()"
   ]
  },
  {
   "cell_type": "markdown",
   "metadata": {},
   "source": [
    "#### finde_all"
   ]
  },
  {
   "cell_type": "code",
   "execution_count": 25,
   "metadata": {},
   "outputs": [
    {
     "data": {
      "text/plain": [
       "[<a href=\"www.google.com\">google</a>, <a href=\"www.naver.com\">naver</a>]"
      ]
     },
     "execution_count": 25,
     "metadata": {},
     "output_type": "execute_result"
    }
   ],
   "source": [
    "site_names = soup.find_all('a')\n",
    "site_names"
   ]
  },
  {
   "cell_type": "code",
   "execution_count": 26,
   "metadata": {},
   "outputs": [
    {
     "name": "stdout",
     "output_type": "stream",
     "text": [
      "<a href=\"www.google.com\">google</a>\n",
      "<a href=\"www.naver.com\">naver</a>\n"
     ]
    }
   ],
   "source": [
    "for name in site_names:\n",
    "    print(name)"
   ]
  },
  {
   "cell_type": "code",
   "execution_count": 27,
   "metadata": {},
   "outputs": [
    {
     "name": "stdout",
     "output_type": "stream",
     "text": [
      "www.google.com\n",
      "www.naver.com\n"
     ]
    }
   ],
   "source": [
    "for name in site_names:\n",
    "    print(name.get('href'))"
   ]
  },
  {
   "cell_type": "code",
   "execution_count": 28,
   "metadata": {},
   "outputs": [
    {
     "name": "stdout",
     "output_type": "stream",
     "text": [
      "google\n",
      "naver\n"
     ]
    }
   ],
   "source": [
    "for name in site_names:\n",
    "    print(name.get_text())"
   ]
  },
  {
   "cell_type": "markdown",
   "metadata": {},
   "source": [
    "## select"
   ]
  },
  {
   "cell_type": "markdown",
   "metadata": {},
   "source": [
    "* \\# id접근\n",
    "* . class접근"
   ]
  },
  {
   "cell_type": "markdown",
   "metadata": {},
   "source": [
    "`div` 태그중에 `id= id1` 인 것 "
   ]
  },
  {
   "cell_type": "code",
   "execution_count": 32,
   "metadata": {},
   "outputs": [
    {
     "data": {
      "text/plain": [
       "[<div id=\"id1\">\n",
       "             Example page\n",
       "             <p>g</p>\n",
       " </div>]"
      ]
     },
     "execution_count": 32,
     "metadata": {},
     "output_type": "execute_result"
    }
   ],
   "source": [
    "id1 = soup.select('div#id1')\n",
    "id1"
   ]
  },
  {
   "cell_type": "markdown",
   "metadata": {},
   "source": [
    "`div` 태그중에 `class= class1` 인것"
   ]
  },
  {
   "cell_type": "code",
   "execution_count": 33,
   "metadata": {},
   "outputs": [
    {
     "data": {
      "text/plain": [
       "[<div class=\"class1\">\n",
       " <p>a</p>\n",
       " <a href=\"www.naver.com\">naver</a>\n",
       " <p>b</p>\n",
       " <p>c</p>\n",
       " </div>]"
      ]
     },
     "execution_count": 33,
     "metadata": {},
     "output_type": "execute_result"
    }
   ],
   "source": [
    "class1 = soup.select('div.class1')\n",
    "class1"
   ]
  },
  {
   "cell_type": "markdown",
   "metadata": {},
   "source": [
    "`div 태그`중에 `class= class1` 인것 중에서 `a 태그`"
   ]
  },
  {
   "cell_type": "code",
   "execution_count": 31,
   "metadata": {},
   "outputs": [
    {
     "data": {
      "text/plain": [
       "[<a href=\"www.naver.com\">naver</a>]"
      ]
     },
     "execution_count": 31,
     "metadata": {},
     "output_type": "execute_result"
    }
   ],
   "source": [
    "class1_a = soup.select('div.class1 > a')\n",
    "class1_a"
   ]
  },
  {
   "cell_type": "markdown",
   "metadata": {},
   "source": [
    "# 웹페이지 콘텐츠 가져오기"
   ]
  },
  {
   "cell_type": "code",
   "execution_count": 34,
   "metadata": {},
   "outputs": [
    {
     "name": "stdout",
     "output_type": "stream",
     "text": [
      "Writing anthem.html\n"
     ]
    }
   ],
   "source": [
    "%%writefile anthem.html\n",
    "<!DOCTYPE html>\n",
    "<html>\n",
    "<head>\n",
    "</head>\n",
    "    <body>\n",
    "        <div>\n",
    "            <p id=\"title\">애국가</p>\n",
    "            <p id=\"content\">\n",
    "                동해물과 백두산이 마르고 닳도록 하는님이 보우하사 우리나라만세.<br />\n",
    "                무궁화 삼천리 화려 강산 대한 사람, 대한으로 길이 보전하세.<br />\n",
    "            </p>\n",
    "            <p id=\"content\">\n",
    "                남산 위에 저 소나무 철갑을 두른 듯 바람 서리 불변함은 우리 기상일세.<br />\n",
    "                무궁화 삼천리 화려 강산 대한 사람, 대한으로 길이 보전하세.<br />\n",
    "            </p>\n",
    "            <p id=\"content\">\n",
    "                가을 하늘 공활한데 높고 구름 없이 밝은 달은 우리 가슴 일편단심일세.<br />\n",
    "                무궁화 삼천리 화려 강산 대한 사람, 대한으로 길이 보전하세.<br />\n",
    "            </p>\n",
    "             <p id=\"content\">\n",
    "                이 기상과 이 맘으로 충성을 다하여 괴로우나 즐거우나 나라 사랑하세.<br />\n",
    "                무궁화 삼천리 화려 강산 대한 사람, 대한으로 길이 보전하세.<br />\n",
    "            </p>\n",
    "        </div>\n",
    "    </body>\n",
    "</html>"
   ]
  },
  {
   "cell_type": "code",
   "execution_count": 36,
   "metadata": {},
   "outputs": [
    {
     "data": {
      "text/plain": [
       "<!DOCTYPE html>\n",
       "\n",
       "<html>\n",
       "<head>\n",
       "</head>\n",
       "<body>\n",
       "<div>\n",
       "<p id=\"title\">애국가</p>\n",
       "<p id=\"content\">\n",
       "                동해물과 백두산이 마르고 닳도록 하는님이 보우하사 우리나라만세.<br/>\n",
       "                무궁화 삼천리 화려 강산 대한 사람, 대한으로 길이 보전하세.<br/>\n",
       "</p>\n",
       "<p id=\"content\">\n",
       "                남산 위에 저 소나무 철갑을 두른 듯 바람 서리 불변함은 우리 기상일세.<br/>\n",
       "                무궁화 삼천리 화려 강산 대한 사람, 대한으로 길이 보전하세.<br/>\n",
       "</p>\n",
       "<p id=\"content\">\n",
       "                가을 하늘 공활한데 높고 구름 없이 밝은 달은 우리 가슴 일편단심일세.<br/>\n",
       "                무궁화 삼천리 화려 강산 대한 사람, 대한으로 길이 보전하세.<br/>\n",
       "</p>\n",
       "<p id=\"content\">\n",
       "                이 기상과 이 맘으로 충성을 다하여 괴로우나 즐거우나 나라 사랑하세.<br/>\n",
       "                무궁화 삼천리 화려 강산 대한 사람, 대한으로 길이 보전하세.<br/>\n",
       "</p>\n",
       "</div>\n",
       "</body>\n",
       "</html>"
      ]
     },
     "execution_count": 36,
     "metadata": {},
     "output_type": "execute_result"
    }
   ],
   "source": [
    "with open('anthem.html', encoding='utf8') as fp:\n",
    "    soup = BeautifulSoup(fp, 'html.parser')\n",
    "\n",
    "soup"
   ]
  },
  {
   "cell_type": "code",
   "execution_count": 39,
   "metadata": {},
   "outputs": [
    {
     "name": "stdout",
     "output_type": "stream",
     "text": [
      "애국가\n",
      "\n",
      "                동해물과 백두산이 마르고 닳도록 하는님이 보우하사 우리나라만세.\n",
      "                무궁화 삼천리 화려 강산 대한 사람, 대한으로 길이 보전하세.\n",
      "\n",
      "\n",
      "                남산 위에 저 소나무 철갑을 두른 듯 바람 서리 불변함은 우리 기상일세.\n",
      "                무궁화 삼천리 화려 강산 대한 사람, 대한으로 길이 보전하세.\n",
      "\n",
      "\n",
      "                가을 하늘 공활한데 높고 구름 없이 밝은 달은 우리 가슴 일편단심일세.\n",
      "                무궁화 삼천리 화려 강산 대한 사람, 대한으로 길이 보전하세.\n",
      "\n",
      "\n",
      "                이 기상과 이 맘으로 충성을 다하여 괴로우나 즐거우나 나라 사랑하세.\n",
      "                무궁화 삼천리 화려 강산 대한 사람, 대한으로 길이 보전하세.\n",
      "\n"
     ]
    }
   ],
   "source": [
    "title = soup.find('p',{'id':'title'})\n",
    "contents = soup.find_all('p',{'id':'content'})\n",
    "\n",
    "print(title.get_text())\n",
    "for text in contents:\n",
    "    print(text.get_text())"
   ]
  },
  {
   "cell_type": "markdown",
   "metadata": {},
   "source": [
    "## 인터넷 웹 페이지 가져오기 "
   ]
  },
  {
   "cell_type": "markdown",
   "metadata": {},
   "source": [
    "http://suanlab.com/"
   ]
  },
  {
   "cell_type": "code",
   "execution_count": 40,
   "metadata": {
    "scrolled": true
   },
   "outputs": [
    {
     "data": {
      "text/plain": [
       "<!DOCTYPE html>\n",
       "\n",
       "<!--[if IE 8]>\t\t\t<html class=\"ie ie8\"> <![endif]-->\n",
       "<!--[if IE 9]>\t\t\t<html class=\"ie ie9\"> <![endif]-->\n",
       "<!--[if gt IE 9]><!--> <html> <!--<![endif]-->\n",
       "<head>\n",
       "<meta charset=\"utf-8\"/>\n",
       "<title>Home | SuanLab</title>\n",
       "<meta content=\"Suan, Computer, Data, Course, Lecture, Research, Big Data, Machine Learning, Deep Learning, Cloud Computing, Data Analysis, Visualzation\" name=\"keywords\"/>\n",
       "<meta content=\"Suan Computer Laboratory\" name=\"description\"/>\n",
       "<meta content=\"Suan Lee\" name=\"Author\"/>\n",
       "<!-- mobile settings -->\n",
       "<meta content=\"width=device-width, maximum-scale=1, initial-scale=1, user-scalable=0\" name=\"viewport\"/>\n",
       "<!--[if IE]><meta http-equiv='X-UA-Compatible' content='IE=edge,chrome=1'><![endif]-->\n",
       "<!-- WEB FONTS : use %7C instead of | (pipe) -->\n",
       "<link href=\"https://fonts.googleapis.com/css?family=Open+Sans:300,400%7CRaleway:300,400,500,600,700%7CLato:300,400,400italic,600,700\" rel=\"stylesheet\" type=\"text/css\"/>\n",
       "<!-- CORE CSS -->\n",
       "<link href=\"assets/plugins/bootstrap/css/bootstrap.min.css\" rel=\"stylesheet\" type=\"text/css\"/>\n",
       "<!-- REVOLUTION SLIDER -->\n",
       "<link href=\"assets/plugins/slider.revolution/css/extralayers.css\" rel=\"stylesheet\" type=\"text/css\"/>\n",
       "<link href=\"assets/plugins/slider.revolution/css/settings.css\" rel=\"stylesheet\" type=\"text/css\"/>\n",
       "<!-- THEME CSS -->\n",
       "<link href=\"assets/css/essentials.css\" rel=\"stylesheet\" type=\"text/css\"/>\n",
       "<link href=\"assets/css/layout.css\" rel=\"stylesheet\" type=\"text/css\"/>\n",
       "<!-- PAGE LEVEL SCRIPTS -->\n",
       "<link href=\"assets/css/header-5.css\" rel=\"stylesheet\" type=\"text/css\"/>\n",
       "<link href=\"assets/css/color_scheme/blue.css\" id=\"color_scheme\" rel=\"stylesheet\" type=\"text/css\"/>\n",
       "<!-- Global site tag (gtag.js) - Google Analytics -->\n",
       "<script async=\"\" src=\"https://www.googletagmanager.com/gtag/js?id=UA-37045461-1\"></script>\n",
       "<script>\n",
       "\t\t\twindow.dataLayer = window.dataLayer || [];\n",
       "\t\t\tfunction gtag(){dataLayer.push(arguments);}\n",
       "\t\t\tgtag('js', new Date());\n",
       "\t\t\tgtag('config', 'UA-37045461-1');\n",
       "\t\t</script>\n",
       "<meta content=\"yC90balEva1NVnga94ts3S2jvOdX3QqkDXA2EzIKODg\" name=\"google-site-verification\"/>\n",
       "</head>\n",
       "<!--                           \n",
       "\t\tAVAILABLE BODY CLASSES:\n",
       "\t\t\n",
       "\t\tsmoothscroll \t\t\t= create a browser smooth scroll\n",
       "\t\tenable-animation\t\t= enable WOW animations\n",
       "\n",
       "\t\tbg-grey\t\t\t\t\t= grey background\n",
       "\t\tgrain-grey\t\t\t\t= grey grain background\n",
       "\t\tgrain-blue\t\t\t\t= blue grain background\n",
       "\t\tgrain-green\t\t\t\t= green grain background\n",
       "\t\tgrain-blue\t\t\t\t= blue grain background\n",
       "\t\tgrain-orange\t\t\t= orange grain background\n",
       "\t\tgrain-yellow\t\t\t= yellow grain background\n",
       "\t\t\n",
       "\t\tboxed \t\t\t\t\t= boxed layout\n",
       "\t\tpattern1 ... patern11\t= pattern background\n",
       "\t\tmenu-vertical-hide\t\t= hidden, open on click\n",
       "\t\t\n",
       "\t\tBACKGROUND IMAGE [together with .boxed class]\n",
       "\t\tdata-background=\"assets/images/boxed_background/1.jpg\"\n",
       "\t-->\n",
       "<body class=\"smoothscroll enable-animation\">\n",
       "<!-- wrapper -->\n",
       "<div id=\"wrapper\">\n",
       "<!-- \n",
       "\t\t\t\tAVAILABLE HEADER CLASSES\n",
       "\n",
       "\t\t\t\tDefault nav height: 96px\n",
       "\t\t\t\t.header-md \t\t= 70px nav height\n",
       "\t\t\t\t.header-sm \t\t= 60px nav height\n",
       "\n",
       "\t\t\t\t.noborder \t\t= remove bottom border (only with transparent use)\n",
       "\t\t\t\t.transparent\t= transparent header\n",
       "\t\t\t\t.translucent\t= translucent header\n",
       "\t\t\t\t.sticky\t\t\t= sticky header\n",
       "\t\t\t\t.static\t\t\t= static header\n",
       "\t\t\t\t.dark\t\t\t= dark header\n",
       "\t\t\t\t.bottom\t\t\t= header on bottom\n",
       "\t\t\t\t\n",
       "\t\t\t\tshadow-before-1 = shadow 1 header top\n",
       "\t\t\t\tshadow-after-1 \t= shadow 1 header bottom\n",
       "\t\t\t\tshadow-before-2 = shadow 2 header top\n",
       "\t\t\t\tshadow-after-2 \t= shadow 2 header bottom\n",
       "\t\t\t\tshadow-before-3 = shadow 3 header top\n",
       "\t\t\t\tshadow-after-3 \t= shadow 3 header bottom\n",
       "\n",
       "\t\t\t\t.clearfix\t\t= required for mobile menu, do not remove!\n",
       "\n",
       "\t\t\t\tExample Usage:  class=\"clearfix sticky header-sm transparent noborder\"\n",
       "\t\t\t-->\n",
       "<div class=\"sticky clearfix\" id=\"header\">\n",
       "<!-- TOP NAV -->\n",
       "<header id=\"topNav\">\n",
       "<div class=\"container\">\n",
       "<!-- Mobile Menu Button -->\n",
       "<button class=\"btn btn-mobile\" data-target=\".nav-main-collapse\" data-toggle=\"collapse\">\n",
       "<i class=\"fa fa-bars\"></i>\n",
       "</button>\n",
       "<!-- BUTTONS -->\n",
       "<ul class=\"pull-right nav nav-pills nav-second-main\">\n",
       "<!-- SEARCH -->\n",
       "<li class=\"search\">\n",
       "<a href=\"javascript:;\">\n",
       "<i class=\"fa fa-search\"></i>\n",
       "</a>\n",
       "<div class=\"search-box\">\n",
       "<form action=\"search-result.html\" method=\"get\">\n",
       "<div class=\"input-group\">\n",
       "<input class=\"form-control\" name=\"src\" placeholder=\"Search\" type=\"text\"/>\n",
       "<span class=\"input-group-btn\">\n",
       "<button class=\"btn btn-primary\" type=\"submit\">Search</button>\n",
       "</span>\n",
       "</div>\n",
       "</form>\n",
       "</div>\n",
       "</li>\n",
       "<!-- /SEARCH -->\n",
       "<!-- QUICK SHOP CART -->\n",
       "<li class=\"quick-cart\">\n",
       "<a href=\"#\">\n",
       "<i class=\"fa fa-wrench\"></i>\n",
       "</a>\n",
       "<div class=\"quick-cart-box\">\n",
       "<h4>Toolbox</h4>\n",
       "<div class=\"quick-cart-wrapper\">\n",
       "<a href=\"http://zeppelin.suanlab.com\" target=\"_blank\"><!-- tool -->\n",
       "<img alt=\"\" height=\"45\" src=\"assets/images/zeppelin-logo.png\" width=\"45\"/>\n",
       "<h6>Apache Zeppelin</h6>\n",
       "<small>http://zeppelin.suanlab.com</small>\n",
       "</a><!-- /tool -->\n",
       "<a href=\"http://jupyter.suanlab.com:8888\" target=\"_blank\"><!-- tool -->\n",
       "<img alt=\"\" height=\"45\" src=\"assets/images/jupyter-logo.png\" width=\"45\"/>\n",
       "<h6>Jupyter</h6>\n",
       "<small>http://jupyter.suanlab.com</small>\n",
       "</a><!-- /tool -->\n",
       "<a href=\"http://rstudio.suanlab.com\" target=\"_blank\"><!-- tool -->\n",
       "<img alt=\"\" height=\"45\" src=\"assets/images/rstudio-logo.png\" width=\"45\"/>\n",
       "<h6>RStudio</h6>\n",
       "<small>http://rstudio.suanlab.com</small>\n",
       "</a><!-- /tool -->\n",
       "<a href=\"http://neo4j.suanlab.com\" target=\"_blank\"><!-- tool -->\n",
       "<img alt=\"\" height=\"45\" src=\"assets/images/neo4j-logo.png\" width=\"45\"/>\n",
       "<h6>neo4j</h6>\n",
       "<small>http://neo4j.suanlab.com</small>\n",
       "</a><!-- /tool -->\n",
       "<a href=\"http://refine.suanlab.com\" target=\"_blank\"><!-- tool -->\n",
       "<img alt=\"\" height=\"45\" src=\"assets/images/openrefine-logo.png\" width=\"45\"/>\n",
       "<h6>OpenRefine</h6>\n",
       "<small>http://refine.suanlab.com</small>\n",
       "</a><!-- /tool -->\n",
       "</div>\n",
       "<!-- quick cart footer -->\n",
       "<!--\n",
       "\t\t\t\t\t\t\t\t\t<div class=\"quick-cart-footer clearfix\">\n",
       "\t\t\t\t\t\t\t\t\t\t<a href=\"shop-cart.html\" class=\"btn btn-primary btn-xs pull-right\">VIEW CART</a>\n",
       "\t\t\t\t\t\t\t\t\t\t<span class=\"pull-left\"><strong>TOTAL:</strong> $54.39</span>\n",
       "\t\t\t\t\t\t\t\t\t</div>\n",
       "\t\t\t\t\t\t\t\t\t-->\n",
       "<!-- /quick cart footer -->\n",
       "</div>\n",
       "</li>\n",
       "<!-- /QUICK SHOP CART -->\n",
       "</ul>\n",
       "<!-- /BUTTONS -->\n",
       "<!-- Logo -->\n",
       "<a class=\"logo pull-left\" href=\"index.html\">\n",
       "<img alt=\"\" src=\"assets/images/logo.png\"/>\n",
       "</a>\n",
       "<!-- \n",
       "\t\t\t\t\t\t\tTop Nav \n",
       "\t\t\t\t\t\t\t\n",
       "\t\t\t\t\t\t\tAVAILABLE CLASSES:\n",
       "\t\t\t\t\t\t\tsubmenu-dark = dark sub menu\n",
       "\t\t\t\t\t\t-->\n",
       "<div class=\"navbar-collapse pull-right nav-main-collapse collapse submenu-dark\">\n",
       "<nav class=\"nav-main\">\n",
       "<!--\n",
       "\t\t\t\t\t\t\t\t\tNOTE\n",
       "\t\t\t\t\t\t\t\t\t\n",
       "\t\t\t\t\t\t\t\t\tFor a regular link, remove \"dropdown\" class from LI tag and \"dropdown-toggle\" class from the href.\n",
       "\t\t\t\t\t\t\t\t\tDirect Link Example: \n",
       "\n",
       "\t\t\t\t\t\t\t\t\t<li>\n",
       "\t\t\t\t\t\t\t\t\t\t<a href=\"#\">HOME</a>\n",
       "\t\t\t\t\t\t\t\t\t</li>\n",
       "\t\t\t\t\t\t\t\t-->\n",
       "<ul class=\"nav nav-pills nav-main\" id=\"topMain\">\n",
       "<li><!-- SUAN -->\n",
       "<a href=\"suan.html\">\n",
       "<span class=\"topMain-icon\">\n",
       "<i class=\"et-profile-male\"></i>\n",
       "\t\t\t\t\t\t\t\t\t\t\t\t이수안\n",
       "\t\t\t\t\t\t\t\t\t\t\t</span>\n",
       "</a>\n",
       "</li>\n",
       "<li><!-- VIDEO -->\n",
       "<a class=\"dropdown-toggle\" href=\"youtube.html\">\n",
       "<span class=\"topMain-icon\">\n",
       "<i class=\"et-video\"></i>\n",
       "\t\t\t\t\t\t\t\t\t\t\t\t유튜브\n",
       "\t\t\t\t\t\t\t\t\t\t\t</span>\n",
       "</a>\n",
       "</li>\n",
       "<li class=\"dropdown\"><!-- LECTURE -->\n",
       "<a class=\"dropdown-toggle\" href=\"lecture.html\">\n",
       "<span class=\"topMain-icon\">\n",
       "<i class=\"et-documents\"></i>\n",
       "\t\t\t\t\t\t\t\t\t\t\t\t강의\n",
       "\t\t\t\t\t\t\t\t\t\t\t</span>\n",
       "</a>\n",
       "<ul class=\"dropdown-menu\">\n",
       "<li>\n",
       "<a href=\"cs.html\">\n",
       "<i class=\"fa fa-desktop\"></i> 컴퓨터과학\n",
       "\t\t\t\t\t\t\t\t\t\t\t\t</a>\n",
       "</li>\n",
       "<li>\n",
       "<a href=\"web.html\">\n",
       "<i class=\"fa fa-html5\"></i> 웹과인터넷\n",
       "\t\t\t\t\t\t\t\t\t\t\t\t</a>\n",
       "</li>\n",
       "<li>\n",
       "<a href=\"excel.html\">\n",
       "<i class=\"fa fa-table\"></i> 엑셀\n",
       "\t\t\t\t\t\t\t\t\t\t\t\t</a>\n",
       "</li>\n",
       "<li>\n",
       "<a href=\"ict.html\">\n",
       "<i class=\"fa fa-globe\"></i> 정보통신기술\n",
       "\t\t\t\t\t\t\t\t\t\t\t\t</a>\n",
       "</li>\n",
       "<li>\n",
       "<a href=\"cp.html\">\n",
       "<i class=\"fa fa-code\"></i> 컴퓨터프로그래밍\n",
       "\t\t\t\t\t\t\t\t\t\t\t\t</a>\n",
       "</li>\n",
       "<li>\n",
       "<a href=\"db.html\">\n",
       "<i class=\"fa fa-database\"></i> 데이터베이스\n",
       "\t\t\t\t\t\t\t\t\t\t\t\t</a>\n",
       "</li>\n",
       "<li>\n",
       "<a href=\"ir.html\">\n",
       "<i class=\"fa fa-search\"></i> 정보검색\n",
       "\t\t\t\t\t\t\t\t\t\t\t\t</a>\n",
       "</li>\n",
       "<li>\n",
       "<a href=\"ds.html\">\n",
       "<i class=\"fa fa-flask\"></i> 데이터사이언스\n",
       "\t\t\t\t\t\t\t\t\t\t\t\t</a>\n",
       "</li>\n",
       "<li>\n",
       "<a href=\"dp.html\">\n",
       "<i class=\"fa fa-wrench\"></i> 데이터전처리\n",
       "\t\t\t\t\t\t\t\t\t\t\t\t</a>\n",
       "</li>\n",
       "<li>\n",
       "<a href=\"dpp.html\">\n",
       "<i class=\"fa fa-tasks\"></i> 데이터처리프로그래밍\n",
       "\t\t\t\t\t\t\t\t\t\t\t\t</a>\n",
       "</li>\n",
       "<li>\n",
       "<a href=\"dv.html\">\n",
       "<i class=\"fa fa-bar-chart\"></i> 데이터시각화\n",
       "\t\t\t\t\t\t\t\t\t\t\t\t</a>\n",
       "</li>\n",
       "<li>\n",
       "<a href=\"dm.html\">\n",
       "<i class=\"fa fa-magic\"></i> 데이터마이닝\n",
       "\t\t\t\t\t\t\t\t\t\t\t\t</a>\n",
       "</li>\n",
       "<li>\n",
       "<a href=\"ml.html\">\n",
       "<i class=\"fa fa-gears\"></i> 머신러닝\n",
       "\t\t\t\t\t\t\t\t\t\t\t\t</a>\n",
       "</li>\n",
       "<li>\n",
       "<a href=\"dl.html\">\n",
       "<i class=\"fa fa-sliders\"></i> 딥러닝\n",
       "\t\t\t\t\t\t\t\t\t\t\t\t</a>\n",
       "</li>\n",
       "<li>\n",
       "<a href=\"bd.html\">\n",
       "<i class=\"fa fa-server\"></i> 빅데이터\n",
       "\t\t\t\t\t\t\t\t\t\t\t\t</a>\n",
       "</li>\n",
       "<li>\n",
       "<a href=\"cc.html\">\n",
       "<i class=\"fa fa-cloud\"></i> 클라우드컴퓨팅\n",
       "\t\t\t\t\t\t\t\t\t\t\t\t</a>\n",
       "</li>\n",
       "</ul>\n",
       "</li>\n",
       "<li><!-- PUBLICATION -->\n",
       "<a href=\"publication.html\">\n",
       "<span class=\"topMain-icon\">\n",
       "<i class=\"et-newspaper\"></i>\n",
       "\t\t\t\t\t\t\t\t\t\t\t\t출판물\n",
       "\t\t\t\t\t\t\t\t\t\t\t</span>\n",
       "</a>\n",
       "</li>\n",
       "<li><!-- NOTEBOOKS -->\n",
       "<!-- <a class=\"dropdown-toggle\" href=\"notebook/notebook.html\">\n",
       "\t\t\t\t\t\t\t\t\t\t\tNOTEBOOK\n",
       "\t\t\t\t\t\t\t\t\t\t</a> -->\n",
       "<a class=\"dropdown-toggle toastr-notify\" data-message=\"Now in preparation\" data-notifytype=\"primary\" data-position=\"top-center\" data-progressbar=\"true\" data-timeout=\"3000\" href=\"#\">\n",
       "<span class=\"topMain-icon\">\n",
       "<i class=\"et-notebook\"></i>\n",
       "\t\t\t\t\t\t\t\t\t\t\t\t노트북\n",
       "\t\t\t\t\t\t\t\t\t\t\t</span>\n",
       "</a>\n",
       "<!--\n",
       "\t\t\t\t\t\t\t\t\t\t<ul class=\"dropdown-menu\">\n",
       "\t\t\t\t\t\t\t\t\t\t\t<li>\n",
       "\t\t\t\t\t\t\t\t\t\t\t\t<a href=\"notebook/deeplearning.html\">\n",
       "\t\t\t\t\t\t\t\t\t\t\t\t\t<i class=\"et-notebook\"></i> DEEP LEARNING\n",
       "\t\t\t\t\t\t\t\t\t\t\t\t</a>\n",
       "\t\t\t\t\t\t\t\t\t\t\t</li>\n",
       "\t\t\t\t\t\t\t\t\t\t\t<li>\n",
       "\t\t\t\t\t\t\t\t\t\t\t\t<a href=\"notebook/machinelearning.html\">\n",
       "\t\t\t\t\t\t\t\t\t\t\t\t\t<i class=\"et-notebook\"></i> MACHINE LEARNING\n",
       "\t\t\t\t\t\t\t\t\t\t\t\t</a>\n",
       "\t\t\t\t\t\t\t\t\t\t\t</li>\n",
       "\t\t\t\t\t\t\t\t\t\t\t<li>\n",
       "\t\t\t\t\t\t\t\t\t\t\t\t<a href=\"notebook/machinelearning.html\">\n",
       "\t\t\t\t\t\t\t\t\t\t\t\t\t<i class=\"et-notebook\"></i> DATA MINING\n",
       "\t\t\t\t\t\t\t\t\t\t\t\t</a>\n",
       "\t\t\t\t\t\t\t\t\t\t\t</li>\n",
       "\t\t\t\t\t\t\t\t\t\t\t<li>\n",
       "\t\t\t\t\t\t\t\t\t\t\t\t<a href=\"notebook/spark.html\">\n",
       "\t\t\t\t\t\t\t\t\t\t\t\t\t<i class=\"et-notebook\"></i> SPARK\n",
       "\t\t\t\t\t\t\t\t\t\t\t\t</a>\n",
       "\t\t\t\t\t\t\t\t\t\t\t</li>\n",
       "\t\t\t\t\t\t\t\t\t\t\t<li>\n",
       "\t\t\t\t\t\t\t\t\t\t\t\t<a href=\"notebook/scala.html\">\n",
       "\t\t\t\t\t\t\t\t\t\t\t\t\t<i class=\"et-notebook\"></i> SCALA\n",
       "\t\t\t\t\t\t\t\t\t\t\t\t</a>\n",
       "\t\t\t\t\t\t\t\t\t\t\t</li>\n",
       "\t\t\t\t\t\t\t\t\t\t\t<li>\n",
       "\t\t\t\t\t\t\t\t\t\t\t\t<a href=\"notebook/python.html\">\n",
       "\t\t\t\t\t\t\t\t\t\t\t\t\t<i class=\"et-notebook\"></i> PYTHON\n",
       "\t\t\t\t\t\t\t\t\t\t\t\t</a>\n",
       "\t\t\t\t\t\t\t\t\t\t\t</li>\n",
       "\t\t\t\t\t\t\t\t\t\t\t<li>\n",
       "\t\t\t\t\t\t\t\t\t\t\t\t<a href=\"notebook/r.html\">\n",
       "\t\t\t\t\t\t\t\t\t\t\t\t\t<i class=\"et-notebook\"></i> R\n",
       "\t\t\t\t\t\t\t\t\t\t\t\t</a>\n",
       "\t\t\t\t\t\t\t\t\t\t\t</li>\n",
       "\t\t\t\t\t\t\t\t\t\t\t<li>\n",
       "\t\t\t\t\t\t\t\t\t\t\t\t<a href=\"notebook/java.html\">\n",
       "\t\t\t\t\t\t\t\t\t\t\t\t\t<i class=\"et-notebook\"></i> JAVA\n",
       "\t\t\t\t\t\t\t\t\t\t\t\t</a>\n",
       "\t\t\t\t\t\t\t\t\t\t\t</li>\n",
       "\t\t\t\t\t\t\t\t\t\t\t<li>\n",
       "\t\t\t\t\t\t\t\t\t\t\t\t<a href=\"notebook/c.html\">\n",
       "\t\t\t\t\t\t\t\t\t\t\t\t\t<i class=\"et-notebook\"></i> C\n",
       "\t\t\t\t\t\t\t\t\t\t\t\t</a>\n",
       "\t\t\t\t\t\t\t\t\t\t\t</li>\t\t\t\t\t\t\t\t\n",
       "\t\t\t\t\t\t\t\t\t\t</ul>-->\n",
       "</li>\n",
       "<li><!-- BLOG -->\n",
       "<!-- <a href=\"blog/blog.html\">BLOG</a> -->\n",
       "<a class=\"toastr-notify\" data-message=\"Now in preparation\" data-notifytype=\"primary\" data-position=\"top-center\" data-progressbar=\"true\" data-timeout=\"3000\" href=\"#\">\n",
       "<span class=\"topMain-icon\">\n",
       "<i class=\"et-browser\"></i>\n",
       "\t\t\t\t\t\t\t\t\t\t\t\t블로그\n",
       "\t\t\t\t\t\t\t\t\t\t\t</span>\n",
       "</a>\n",
       "</li>\n",
       "<li><!-- BOOK -->\n",
       "<a href=\"http://suan.userstorybook.net\" target=\"_blank\">\n",
       "<span class=\"topMain-icon\">\n",
       "<i class=\"et-book-open\"></i>\n",
       "\t\t\t\t\t\t\t\t\t\t\t\t서재\n",
       "\t\t\t\t\t\t\t\t\t\t\t</span>\n",
       "</a>\n",
       "</li>\n",
       "</ul>\n",
       "</nav>\n",
       "</div>\n",
       "</div>\n",
       "</header>\n",
       "<!-- /Top Nav -->\n",
       "</div>\n",
       "<!-- REVOLUTION SLIDER -->\n",
       "<div class=\"slider fullwidthbanner-container roundedcorners\">\n",
       "<!--\n",
       "\t\t\t\t\tNavigation Styles:\n",
       "\t\t\t\t\t\n",
       "\t\t\t\t\t\tdata-navigationStyle=\"\" theme default navigation\n",
       "\t\t\t\t\t\t\n",
       "\t\t\t\t\t\tdata-navigationStyle=\"preview1\"\n",
       "\t\t\t\t\t\tdata-navigationStyle=\"preview2\"\n",
       "\t\t\t\t\t\tdata-navigationStyle=\"preview3\"\n",
       "\t\t\t\t\t\tdata-navigationStyle=\"preview4\"\n",
       "\t\t\t\t\t\t\n",
       "\t\t\t\t\tBottom Shadows\n",
       "\t\t\t\t\t\tdata-shadow=\"1\"\n",
       "\t\t\t\t\t\tdata-shadow=\"2\"\n",
       "\t\t\t\t\t\tdata-shadow=\"3\"\n",
       "\t\t\t\t\t\t\n",
       "\t\t\t\t\tSlider Height (do not use on fullscreen mode)\n",
       "\t\t\t\t\t\tdata-height=\"300\"\n",
       "\t\t\t\t\t\tdata-height=\"350\"\n",
       "\t\t\t\t\t\tdata-height=\"400\"\n",
       "\t\t\t\t\t\tdata-height=\"450\"\n",
       "\t\t\t\t\t\tdata-height=\"500\"\n",
       "\t\t\t\t\t\tdata-height=\"550\"\n",
       "\t\t\t\t\t\tdata-height=\"600\"\n",
       "\t\t\t\t\t\tdata-height=\"650\"\n",
       "\t\t\t\t\t\tdata-height=\"700\"\n",
       "\t\t\t\t\t\tdata-height=\"750\"\n",
       "\t\t\t\t\t\tdata-height=\"800\"\n",
       "\t\t\t\t-->\n",
       "<div class=\"fullwidthbanner\" data-height=\"500\" data-navigationstyle=\"\" data-shadow=\"3\">\n",
       "<ul class=\"hide\">\n",
       "<!-- SLIDE  -->\n",
       "<li data-masterspeed=\"1000\" data-saveperformance=\"off\" data-slotamount=\"1\" data-title=\"Slide\" data-transition=\"random\">\n",
       "<img alt=\"\" data-bgfit=\"cover\" data-bgposition=\"center top\" data-bgrepeat=\"no-repeat\" data-lazyload=\"assets/images/slider/2.jpg\" src=\"assets/images/1x1.png\"/>\n",
       "<div class=\"tp-dottedoverlay twoxtwo\"><!-- dotted overlay --></div>\n",
       "<div class=\"overlay dark-3\"><!-- dark overlay [1 to 9 opacity] --></div>\n",
       "<div class=\"tp-caption customin ltl tp-resizeme text_white\" data-customin=\"x:0;y:150;z:0;rotationZ:0;scaleX:1;scaleY:1;skewX:0;skewY:0;opacity:0;transformPerspective:200;transformOrigin:50% 0%;\" data-easing=\"easeOutQuad\" data-elementdelay=\"0.01\" data-endeasing=\"Power4.easeIn\" data-endelementdelay=\"0.1\" data-endspeed=\"1000\" data-speed=\"800\" data-splitin=\"none\" data-splitout=\"none\" data-start=\"1000\" data-x=\"center\" data-y=\"105\" style=\"z-index: 10;\">\n",
       "<span class=\"weight-300\">BIG DATA / DEEP LEARNING / MACHINE LEARNING / PROGRAMMING</span>\n",
       "</div>\n",
       "<div class=\"tp-caption customin ltl tp-resizeme large_bold_white\" data-customin=\"x:0;y:150;z:0;rotationZ:0;scaleX:1;scaleY:1;skewX:0;skewY:0;opacity:0;transformPerspective:200;transformOrigin:50% 0%;\" data-easing=\"easeOutQuad\" data-elementdelay=\"0.01\" data-endeasing=\"Power4.easeIn\" data-endelementdelay=\"0.1\" data-endspeed=\"1000\" data-speed=\"800\" data-splitin=\"none\" data-splitout=\"none\" data-start=\"1200\" data-x=\"center\" data-y=\"155\" style=\"z-index: 10;\">\n",
       "\t\t\t\t\t\t\t\tWELCOME TO SUANLAB\n",
       "\t\t\t\t\t\t\t</div>\n",
       "<div class=\"tp-caption customin ltl tp-resizeme small_light_white font-lato\" data-customin=\"x:0;y:150;z:0;rotationZ:0;scaleX:1;scaleY:1;skewX:0;skewY:0;opacity:0;transformPerspective:200;transformOrigin:50% 0%;\" data-easing=\"easeOutQuad\" data-elementdelay=\"0.01\" data-endeasing=\"Power4.easeIn\" data-endelementdelay=\"0.1\" data-endspeed=\"1000\" data-speed=\"800\" data-splitin=\"none\" data-splitout=\"none\" data-start=\"1400\" data-x=\"center\" data-y=\"245\" style=\"z-index: 10; width: 100%; max-width: 750px; white-space: normal; text-align:center; font-size:20px;\">\n",
       "\t\t\t\t\t\t\t\tSuanLab is a laboratory that studies everything about computer.\n",
       "\t\t\t\t\t\t\t</div>\n",
       "<div class=\"tp-caption customin ltl tp-resizeme\" data-customin=\"x:0;y:150;z:0;rotationZ:0;scaleX:1;scaleY:1;skewX:0;skewY:0;opacity:0;transformPerspective:200;transformOrigin:50% 0%;\" data-easing=\"easeOutQuad\" data-elementdelay=\"0.01\" data-endeasing=\"Power4.easeIn\" data-endelementdelay=\"0.1\" data-endspeed=\"1000\" data-speed=\"800\" data-splitin=\"none\" data-splitout=\"none\" data-start=\"1550\" data-x=\"center\" data-y=\"333\" style=\"z-index: 10;\">\n",
       "<a class=\"btn btn-default btn-lg\" href=\"suan.html\">\n",
       "<span>About SUAN</span>\n",
       "</a>\n",
       "</div>\n",
       "</li>\n",
       "<!-- SLIDE  -->\n",
       "<li data-masterspeed=\"300\" data-saveperformance=\"off\" data-slotamount=\"7\" data-transition=\"fade\">\n",
       "<img alt=\"\" data-bgfit=\"cover\" data-bgposition=\"left top\" data-bgrepeat=\"no-repeat\" data-lazyload=\"assets/images/slider/1.jpg\" src=\"assets/images/1x1.png\"/>\n",
       "<div class=\"tp-caption block_black sft\" data-easing=\"easeOutExpo\" data-elementdelay=\"0.1\" data-endelementdelay=\"0.1\" data-endspeed=\"300\" data-hoffset=\"-70\" data-speed=\"750\" data-splitin=\"none\" data-splitout=\"none\" data-start=\"1100\" data-x=\"right\" data-y=\"87\" style=\"z-index: 3; max-width: auto; max-height: auto; white-space: nowrap;\">BIG DATA\n",
       "\t\t\t\t\t\t\t</div>\n",
       "<div class=\"tp-caption block_black sfb\" data-easing=\"easeOutExpo\" data-elementdelay=\"0.1\" data-endelementdelay=\"0.1\" data-endspeed=\"300\" data-hoffset=\"-70\" data-speed=\"750\" data-splitin=\"none\" data-splitout=\"none\" data-start=\"1400\" data-x=\"right\" data-y=\"126\" style=\"z-index: 4; max-width: auto; max-height: auto; white-space: nowrap;\">DATA SCIENTIST\n",
       "\t\t\t\t\t\t\t</div>\n",
       "<div class=\"tp-caption block_theme_color sft\" data-easing=\"easeOutExpo\" data-elementdelay=\"0.1\" data-endelementdelay=\"0.1\" data-endspeed=\"300\" data-hoffset=\"-70\" data-speed=\"750\" data-splitin=\"none\" data-splitout=\"none\" data-start=\"1700\" data-x=\"right\" data-y=\"189\" style=\"z-index: 5; max-width: auto; max-height: auto; white-space: nowrap;\">DEEP LEARNING\n",
       "\t\t\t\t\t\t\t</div>\n",
       "<div class=\"tp-caption block_theme_color sfb\" data-easing=\"easeOutExpo\" data-elementdelay=\"0.1\" data-endelementdelay=\"0.1\" data-endspeed=\"300\" data-hoffset=\"-70\" data-speed=\"750\" data-splitin=\"none\" data-splitout=\"none\" data-start=\"2000\" data-x=\"right\" data-y=\"228\" style=\"z-index: 6; max-width: auto; max-height: auto; white-space: nowrap;\">MACHINE LEARNING\n",
       "\t\t\t\t\t\t\t</div>\n",
       "<div class=\"tp-caption block_black sft\" data-easing=\"easeOutExpo\" data-elementdelay=\"0.1\" data-endelementdelay=\"0.1\" data-endspeed=\"300\" data-hoffset=\"-70\" data-speed=\"750\" data-splitin=\"none\" data-splitout=\"none\" data-start=\"2300\" data-x=\"right\" data-y=\"290\" style=\"z-index: 7; max-width: auto; max-height: auto; white-space: nowrap;\">CLOUD COMPUTING\n",
       "\t\t\t\t\t\t\t</div>\n",
       "<div class=\"tp-caption block_black sft\" data-easing=\"easeOutExpo\" data-elementdelay=\"0.1\" data-endelementdelay=\"0.1\" data-endspeed=\"300\" data-hoffset=\"-70\" data-speed=\"750\" data-splitin=\"none\" data-splitout=\"none\" data-start=\"2600\" data-x=\"right\" data-y=\"329\" style=\"z-index: 8; max-width: auto; max-height: auto; white-space: nowrap;\">PROGRAMMING\n",
       "\t\t\t\t\t\t\t</div>\n",
       "</li>\n",
       "<!-- SLIDE  -->\n",
       "<li data-delay=\"10000\" data-masterspeed=\"500\" data-slotamount=\"14\" data-transition=\"random\">\n",
       "<!-- COVER IMAGE -->\n",
       "<img alt=\"\" data-bgfit=\"cover\" data-bgposition=\"left top\" data-bgrepeat=\"no-repeat\" data-lazyload=\"assets/images/demo/wall.jpg\" src=\"assets/images/1x1.png\"/>\n",
       "<div class=\"tp-caption lft boxshadow\" data-easing=\"easeOutBack\" data-speed=\"900\" data-start=\"500\" data-x=\"70\" data-y=\"90\">\n",
       "<iframe allow=\"autoplay; encrypted-media\" allowfullscreen=\"\" frameborder=\"0\" height=\"360\" src=\"https://www.youtube.com/embed/videoseries?list=PL7ZVZgsnLwEEx-ghkKzxtBh3L1t4vwCRP\" width=\"640\"></iframe>\n",
       "</div>\n",
       "<div class=\"tp-caption sft large_bold_white\" data-easing=\"easeOutExpo\" data-speed=\"300\" data-start=\"1200\" data-x=\"750\" data-y=\"85\">VIDEO\n",
       "\t\t\t\t\t\t\t</div>\n",
       "<div class=\"tp-caption lfb medium_light_white\" data-easing=\"easeOutExpo\" data-speed=\"300\" data-start=\"1400\" data-x=\"750\" data-y=\"200\">• Hardware\n",
       "\t\t\t\t\t\t\t</div>\n",
       "<div class=\"tp-caption lfb medium_light_white\" data-easing=\"easeOutExpo\" data-speed=\"300\" data-start=\"1700\" data-x=\"750\" data-y=\"237\">• Programming\n",
       "\t\t\t\t\t\t\t</div>\n",
       "<div class=\"tp-caption lfb medium_light_white\" data-easing=\"easeOutExpo\" data-speed=\"300\" data-start=\"2000\" data-x=\"750\" data-y=\"274\">• IT Knowledge\n",
       "\t\t\t\t\t\t\t</div>\n",
       "<div class=\"tp-caption customin lfb tp-resizeme\" data-customin=\"x:0;y:150;z:0;rotationZ:0;scaleX:1;scaleY:1;skewX:0;skewY:0;opacity:0;transformPerspective:200;transformOrigin:50% 0%;\" data-easing=\"easeOutExpo\" data-elementdelay=\"0.01\" data-endeasing=\"Power4.easeIn\" data-endelementdelay=\"0.1\" data-endspeed=\"1000\" data-speed=\"300\" data-splitin=\"none\" data-splitout=\"none\" data-start=\"2300\" data-x=\"751\" data-y=\"350\" style=\"z-index: 10;\">\n",
       "<a class=\"btn btn-default btn-lg\" href=\"youtube.html\">\n",
       "<span>Watch Video</span>\n",
       "</a>\n",
       "</div>\n",
       "</li>\n",
       "<!-- SLIDE  -->\n",
       "<li data-masterspeed=\"1000\" data-saveperformance=\"off\" data-slotamount=\"1\" data-title=\"Slide\" data-transition=\"random\">\n",
       "<img alt=\"\" data-bgfit=\"100\" data-bgfitend=\"110\" data-bgposition=\"center center\" data-duration=\"10000\" data-ease=\"Linear.easeNone\" data-kenburns=\"on\" data-lazyload=\"assets/images/slider/8.jpg\" src=\"assets/images/1x1.png\"/>\n",
       "<div class=\"tp-dottedoverlay twoxtwo\"><!-- dotted overlay --></div>\n",
       "<div class=\"overlay dark-3\"><!-- dark overlay [1 to 9 opacity] --></div>\n",
       "<div class=\"tp-caption very_large_text lfb ltt tp-resizeme\" data-easing=\"Power4.easeOut\" data-elementdelay=\"0.01\" data-endeasing=\"Power4.easeIn\" data-endelementdelay=\"0.1\" data-endspeed=\"500\" data-hoffset=\"-100\" data-speed=\"600\" data-splitin=\"none\" data-splitout=\"none\" data-start=\"800\" data-voffset=\"-100\" data-x=\"right\" data-y=\"center\" style=\"z-index: 10;\">\n",
       "\t\t\t\t\t\t\t\t‘컴퓨터가 생각할 수 있을까?’\n",
       "\t\t\t\t\t\t\t</div>\n",
       "<div class=\"tp-caption medium_light_white lfb ltt tp-resizeme\" data-easing=\"Power4.easeOut\" data-elementdelay=\"0.01\" data-endeasing=\"Power4.easeIn\" data-endelementdelay=\"0.1\" data-endspeed=\"500\" data-hoffset=\"-110\" data-speed=\"600\" data-splitin=\"none\" data-splitout=\"none\" data-start=\"900\" data-voffset=\"10\" data-x=\"right\" data-y=\"center\" style=\"z-index: 10;\">\n",
       "\t\t\t\t\t\t\t\t‘컴퓨터가 생각할 수 있을까?’라고 묻는 것은<br/>\n",
       "\t\t\t\t\t\t\t\t‘잠수함이 물 속을 다닐 수 있을까?’라고 묻는 것과 같다.<br/>\n",
       "<span style=\"font-size:24px;font-weight:400;\">– Edsger W. Dijkstra, 구조적 프로그래밍, 세마포어 등으로 유명한 컴퓨터 과학자</span>\n",
       "</div>\n",
       "</li>\n",
       "<!-- SLIDE  -->\n",
       "<li data-masterspeed=\"1000\" data-saveperformance=\"off\" data-slotamount=\"1\" data-title=\"Slide\" data-transition=\"random\">\n",
       "<img alt=\"\" data-bgfit=\"100\" data-bgfitend=\"110\" data-bgposition=\"center center\" data-duration=\"10000\" data-ease=\"Linear.easeNone\" data-kenburns=\"on\" data-lazyload=\"assets/images/slider/9.jpg\" src=\"assets/images/1x1.png\"/>\n",
       "<div class=\"tp-dottedoverlay twoxtwo\"><!-- dotted overlay --></div>\n",
       "<div class=\"overlay dark-3\"><!-- dark overlay [1 to 9 opacity] --></div>\n",
       "<div class=\"tp-caption very_large_text lfb ltt tp-resizeme\" data-easing=\"Power4.easeOut\" data-elementdelay=\"0.01\" data-endeasing=\"Power4.easeIn\" data-endelementdelay=\"0.1\" data-endspeed=\"500\" data-hoffset=\"-100\" data-speed=\"600\" data-splitin=\"none\" data-splitout=\"none\" data-start=\"800\" data-voffset=\"-100\" data-x=\"right\" data-y=\"center\" style=\"z-index: 10;\">\n",
       "\t\t\t\t\t\t\t\t‘Any fool can use a computer. Many do.’\n",
       "\t\t\t\t\t\t\t</div>\n",
       "<div class=\"tp-caption medium_light_white lfb ltt tp-resizeme\" data-easing=\"Power4.easeOut\" data-elementdelay=\"0.01\" data-endeasing=\"Power4.easeIn\" data-endelementdelay=\"0.1\" data-endspeed=\"500\" data-hoffset=\"-110\" data-speed=\"600\" data-splitin=\"none\" data-splitout=\"none\" data-start=\"900\" data-voffset=\"10\" data-x=\"right\" data-y=\"center\" style=\"z-index: 10;\">\n",
       "\t\t\t\t\t\t\t\t어떤 바보라도 컴퓨터를 사용할 수 있다.<br/>\n",
       "\t\t\t\t\t\t\t\t그래서 많은 사람들이 컴퓨터를 사용한다.<br/>\n",
       "<span style=\"font-size:24px;font-weight:400;\">– Ted Nelson, HTML을 처음으로 생각해 낸 사회과학자</span>\n",
       "</div>\n",
       "</li>\n",
       "<!-- SLIDE  -->\n",
       "<li data-masterspeed=\"1000\" data-saveperformance=\"off\" data-slotamount=\"1\" data-title=\"Slide\" data-transition=\"random\">\n",
       "<img alt=\"\" data-bgfit=\"100\" data-bgfitend=\"110\" data-bgposition=\"center center\" data-duration=\"10000\" data-ease=\"Linear.easeNone\" data-kenburns=\"on\" data-lazyload=\"assets/images/slider/4.jpg\" src=\"assets/images/1x1.png\"/>\n",
       "<div class=\"tp-dottedoverlay twoxtwo\"><!-- dotted overlay --></div>\n",
       "<div class=\"overlay dark-3\"><!-- dark overlay [1 to 9 opacity] --></div>\n",
       "<div class=\"tp-caption very_large_text lfb ltt tp-resizeme\" data-easing=\"Power4.easeOut\" data-elementdelay=\"0.01\" data-endeasing=\"Power4.easeIn\" data-endelementdelay=\"0.1\" data-endspeed=\"500\" data-hoffset=\"-100\" data-speed=\"600\" data-splitin=\"none\" data-splitout=\"none\" data-start=\"800\" data-voffset=\"-100\" data-x=\"right\" data-y=\"center\" style=\"z-index: 10;\">\n",
       "\t\t\t\t\t\t\t\t‘개발자’\n",
       "\t\t\t\t\t\t\t</div>\n",
       "<div class=\"tp-caption medium_light_white lfb ltt tp-resizeme\" data-easing=\"Power4.easeOut\" data-elementdelay=\"0.01\" data-endeasing=\"Power4.easeIn\" data-endelementdelay=\"0.1\" data-endspeed=\"500\" data-hoffset=\"-110\" data-speed=\"600\" data-splitin=\"none\" data-splitout=\"none\" data-start=\"900\" data-voffset=\"10\" data-x=\"right\" data-y=\"center\" style=\"z-index: 10;\">\n",
       "\t\t\t\t\t\t\t\t훌륭한 기계공은 <br/>일반 기계공보다 <br/>몇 배의 급여를 더 높이 받는다.<br/>그러나 훌륭한 코드를 만들어내는 개발자는 <br/>일반적인 개발자보다 <br/>1만배 이상의 가치가 있다.<br/>\n",
       "<span style=\"font-size:24px;font-weight:400;\">– Bill Gates 빌 게이츠, 마이크로소프트의 창립자</span>\n",
       "</div>\n",
       "</li>\n",
       "<!-- SLIDE  -->\n",
       "<li data-masterspeed=\"1000\" data-saveperformance=\"off\" data-slotamount=\"1\" data-title=\"Slide\" data-transition=\"random\">\n",
       "<img alt=\"\" data-bgfit=\"100\" data-bgfitend=\"110\" data-bgposition=\"center center\" data-duration=\"10000\" data-ease=\"Linear.easeNone\" data-kenburns=\"on\" data-lazyload=\"assets/images/slider/5.jpg\" src=\"assets/images/1x1.png\"/>\n",
       "<div class=\"tp-dottedoverlay twoxtwo\"><!-- dotted overlay --></div>\n",
       "<div class=\"overlay dark-3\"><!-- dark overlay [1 to 9 opacity] --></div>\n",
       "<div class=\"tp-caption very_large_text lfb ltt tp-resizeme\" data-easing=\"Power4.easeOut\" data-elementdelay=\"0.01\" data-endeasing=\"Power4.easeIn\" data-endelementdelay=\"0.1\" data-endspeed=\"500\" data-hoffset=\"-100\" data-speed=\"600\" data-splitin=\"none\" data-splitout=\"none\" data-start=\"800\" data-voffset=\"-100\" data-x=\"right\" data-y=\"center\" style=\"z-index: 10;\">\n",
       "\t\t\t\t\t\t\t\t‘설계 철학’\n",
       "\t\t\t\t\t\t\t</div>\n",
       "<div class=\"tp-caption medium_light_white lfb ltt tp-resizeme\" data-easing=\"Power4.easeOut\" data-elementdelay=\"0.01\" data-endeasing=\"Power4.easeIn\" data-endelementdelay=\"0.1\" data-endspeed=\"500\" data-hoffset=\"-110\" data-speed=\"600\" data-splitin=\"none\" data-splitout=\"none\" data-start=\"900\" data-voffset=\"10\" data-x=\"right\" data-y=\"center\" style=\"z-index: 10;\">\n",
       "\t\t\t\t\t\t\t\t\"자신이 사용하고 싶은 것은 창조하라\"<br/>\n",
       "\t\t\t\t\t\t\t\t\"Create what you want to use\"<br/>\n",
       "<span style=\"font-size:24px;font-weight:400;\">– Steve Wozniak(애플 컴퓨터 공동 창업자)</span>\n",
       "</div>\n",
       "</li>\n",
       "<!-- SLIDE  -->\n",
       "<li data-masterspeed=\"1000\" data-saveperformance=\"off\" data-slotamount=\"1\" data-title=\"Slide\" data-transition=\"random\">\n",
       "<img alt=\"\" data-bgfit=\"100\" data-bgfitend=\"110\" data-bgposition=\"center center\" data-duration=\"10000\" data-ease=\"Linear.easeNone\" data-kenburns=\"on\" data-lazyload=\"assets/images/slider/6.jpg\" src=\"assets/images/1x1.png\"/>\n",
       "<div class=\"tp-dottedoverlay twoxtwo\"><!-- dotted overlay --></div>\n",
       "<div class=\"overlay dark-3\"><!-- dark overlay [1 to 9 opacity] --></div>\n",
       "<div class=\"tp-caption very_large_text lfb ltt tp-resizeme\" data-easing=\"Power4.easeOut\" data-elementdelay=\"0.01\" data-endeasing=\"Power4.easeIn\" data-endelementdelay=\"0.1\" data-endspeed=\"500\" data-hoffset=\"20\" data-speed=\"600\" data-splitin=\"none\" data-splitout=\"none\" data-start=\"800\" data-voffset=\"-110\" data-x=\"left\" data-y=\"center\" style=\"z-index: 10;\">\n",
       "\t\t\t\t\t\t\t\t위대한 프로그래머가 되려면<br/> 어떻게 해야 하나요?\n",
       "\t\t\t\t\t\t\t</div>\n",
       "<div class=\"tp-caption medium_light_white lfb ltt tp-resizeme\" data-easing=\"Power4.easeOut\" data-elementdelay=\"0.01\" data-endeasing=\"Power4.easeIn\" data-endelementdelay=\"0.1\" data-endspeed=\"500\" data-hoffset=\"80\" data-speed=\"600\" data-splitin=\"none\" data-splitout=\"none\" data-start=\"900\" data-voffset=\"60\" data-x=\"left\" data-y=\"center\" style=\"z-index: 10;\">\n",
       "\t\t\t\t\t\t\t\t저는 작지만 유용한 프로그램들을 매일 작성할 것을 추천합니다.<br/>누군가가 똑같거나 혹은 더 나은 걸 이미 만들었다는 데에 절대 신경쓰지 마세요.<br/>유용성과 복잡성 간의 균형 감각을 얻기 위해서는<br/>당신 자신이 만든 프로그램의 유용성을 직접 느껴봐야만 합니다.<br/>\n",
       "<span style=\"font-size:24px;font-weight:400;\">– Ward Cunningham(위키위키 개념을 만든 사람)</span>\n",
       "</div>\n",
       "</li>\n",
       "<!-- SLIDE  -->\n",
       "<li data-masterspeed=\"1000\" data-saveperformance=\"off\" data-slotamount=\"1\" data-title=\"Slide\" data-transition=\"random\">\n",
       "<img alt=\"\" data-bgfit=\"100\" data-bgfitend=\"110\" data-bgposition=\"center center\" data-duration=\"10000\" data-ease=\"Linear.easeNone\" data-kenburns=\"on\" data-lazyload=\"assets/images/slider/3.jpg\" src=\"assets/images/1x1.png\"/>\n",
       "<div class=\"tp-dottedoverlay twoxtwo\"><!-- dotted overlay --></div>\n",
       "<div class=\"overlay dark-3\"><!-- dark overlay [1 to 9 opacity] --></div>\n",
       "<div class=\"tp-caption very_large_text lfb ltt tp-resizeme\" data-easing=\"Power4.easeOut\" data-elementdelay=\"0.01\" data-endeasing=\"Power4.easeIn\" data-endelementdelay=\"0.1\" data-endspeed=\"500\" data-hoffset=\"-100\" data-speed=\"600\" data-splitin=\"none\" data-splitout=\"none\" data-start=\"800\" data-voffset=\"-100\" data-x=\"right\" data-y=\"center\" style=\"z-index: 10;\">\n",
       "\t\t\t\t\t\t\t\t‘코드(Code)’\n",
       "\t\t\t\t\t\t\t</div>\n",
       "<div class=\"tp-caption medium_light_white lfb ltt tp-resizeme\" data-easing=\"Power4.easeOut\" data-elementdelay=\"0.01\" data-endeasing=\"Power4.easeIn\" data-endelementdelay=\"0.1\" data-endspeed=\"500\" data-hoffset=\"-110\" data-speed=\"600\" data-splitin=\"none\" data-splitout=\"none\" data-start=\"900\" data-voffset=\"10\" data-x=\"right\" data-y=\"center\" style=\"z-index: 10;\">\n",
       "\t\t\t\t\t\t\t\t훌륭한 코드는 훌륭한 문서보다 낫다.<br/>\n",
       "<span style=\"font-size:24px;font-weight:400;\">– Steve McConnell, 개발자</span>\n",
       "</div>\n",
       "</li>\n",
       "</ul>\n",
       "<div class=\"tp-bannertimer\"><!-- progress bar --></div>\n",
       "</div>\n",
       "</div>\n",
       "<!-- /REVOLUTION SLIDER -->\n",
       "<!-- WELCOME -->\n",
       "<section>\n",
       "<div class=\"container\">\n",
       "<div class=\"row\">\n",
       "<div class=\"col-sm-6\">\n",
       "<header class=\"margin-bottom-10\">\n",
       "<h2>연구소 새로운 소식</h2>\n",
       "</header>\n",
       "<div class=\"toggle toggle-transparent toggle-bordered-full\">\n",
       "<div class=\"toggle\">\n",
       "<label>[2020-10-07] \"이력서 작성·레시피 제공 다양하게 활용되는 GPT3\" 칼럼</label>\n",
       "<div class=\"toggle-content\">\n",
       "<p>\n",
       "\t\t\t\t\t\t\t\t\t\t\t\"[테크 인사이드] 이력서 작성·레시피 제공 다양하게 활용되는 GPT3\" 강원일보 칼럼 기고<br/>\n",
       "<a href=\"http://www.kwnews.co.kr/nview.asp?s=401&amp;aid=220100600056\" target=\"_blank\"> <i class=\"et-newspaper\"></i> 칼럼 보기</a>\n",
       "</p>\n",
       "</div>\n",
       "</div>\n",
       "<div class=\"toggle\">\n",
       "<label>[2020-05-20] \"인공지능의 보안 위협\" 칼럼</label>\n",
       "<div class=\"toggle-content\">\n",
       "<p>\n",
       "\t\t\t\t\t\t\t\t\t\t\t\"[테크 인사이드] 인공지능의 보안 위협\" 강원일보 칼럼 기고<br/>\n",
       "<a href=\"http://www.kwnews.co.kr/nview.asp?aid=220051900034\" target=\"_blank\"> <i class=\"et-newspaper\"></i> 칼럼 보기</a>\n",
       "</p>\n",
       "</div>\n",
       "</div>\n",
       "<div class=\"toggle\">\n",
       "<label>[2020-03-04] \"데이터 경제 시대\" 칼럼</label>\n",
       "<div class=\"toggle-content\">\n",
       "<p>\n",
       "\t\t\t\t\t\t\t\t\t\t\t\"[테크 인사이드] 데이터 경제 시대\" 강원일보 칼럼 기고<br/>\n",
       "<a href=\"http://www.kwnews.co.kr/nview.asp?aid=220030300001\" target=\"_blank\"> <i class=\"et-newspaper\"></i> 칼럼 보기</a>\n",
       "</p>\n",
       "</div>\n",
       "</div>\n",
       "<div class=\"toggle\">\n",
       "<label>[2019-12-25] \"마이데이터 시대의 도래 데이터 주권과 새로운 가치\" 칼럼</label>\n",
       "<div class=\"toggle-content\">\n",
       "<p>\n",
       "\t\t\t\t\t\t\t\t\t\t\t\"[테크 인사이드] 마이데이터 시대의 도래 데이터 주권과 새로운 가치\" 강원일보 칼럼 기고<br/>\n",
       "<a href=\"http://www.kwnews.co.kr/nview.asp?aid=219122400022\" target=\"_blank\"> <i class=\"et-newspaper\"></i> 칼럼 보기</a>\n",
       "</p>\n",
       "</div>\n",
       "</div>\n",
       "<div class=\"toggle\">\n",
       "<label>[2019-09-25] \"유튜브 탄생과 크리에이터 시대\" 칼럼</label>\n",
       "<div class=\"toggle-content\">\n",
       "<p>\n",
       "\t\t\t\t\t\t\t\t\t\t\t\"[테크 인사이드] 유튜브 탄생과 크리에이터 시대\" 강원일보 칼럼 기고<br/>\n",
       "<a href=\"http://www.kwnews.co.kr/nview.asp?aid=219092400039\" target=\"_blank\"> <i class=\"et-newspaper\"></i> 칼럼 보기</a>\n",
       "</p>\n",
       "</div>\n",
       "</div>\n",
       "<div class=\"toggle\">\n",
       "<label>[2019-09-04] \"농업으로 들어간 인공지능\" 칼럼</label>\n",
       "<div class=\"toggle-content\">\n",
       "<p>\n",
       "\t\t\t\t\t\t\t\t\t\t\t\"[테크 인사이드] 농업으로 들어간 인공지능\" 강원일보 칼럼 기고<br/>\n",
       "<a href=\"http://www.kwnews.co.kr/nview.asp?aid=219090300125\" target=\"_blank\"> <i class=\"et-newspaper\"></i> 칼럼 보기</a>\n",
       "</p>\n",
       "</div>\n",
       "</div>\n",
       "<div class=\"toggle\">\n",
       "<label>[2019-08-07] \"AI시대 지배할 것인가 지배당하며 살 것인가\" 칼럼</label>\n",
       "<div class=\"toggle-content\">\n",
       "<p>\n",
       "\t\t\t\t\t\t\t\t\t\t\t\"[테크 인사이드] AI시대 지배할 것인가 지배당하며 살 것인가\" 강원일보 칼럼 기고<br/>\n",
       "<a href=\"http://www.kwnews.co.kr/nview.asp?aid=219080600011\" target=\"_blank\"> <i class=\"et-newspaper\"></i> 칼럼 보기</a>\n",
       "</p>\n",
       "</div>\n",
       "</div>\n",
       "<div class=\"toggle\">\n",
       "<label>[2018-12-30] \"파이썬으로 텍스트 분석하기\" 책 출판</label>\n",
       "<div class=\"toggle-content\">\n",
       "<p>\n",
       "\t\t\t\t\t\t\t\t\t\t\t『파이썬으로 텍스트 분석하기』는 파이썬 텍스트 분석에 앞서 선행되어야 할 부분인 파이썬 설치 및 코딩하는 방법부터 시작해서, 본격적인 텍스트 분석에 앞서 꼭 알아두어야 할 통계분석을 파이썬으로 어떻게 코딩하는가를 설명했고, 이어서 방대한 빅데이터를 어디에서 어떻게 수집하는가 하는 웹 크롤링, 그리고 수집된 텍스트 데이터를 정제하는 자연어처리를 설명하였다. 또한, 이러한 내용을 숙지한 후 핵심어 분석, 의미 연결망분석, 군집분석, 토픽 모델링, 단어임베딩, 감정분석 등 많이 활용되는 텍스트 분석기법을 파이썬으로 어떻게 코딩하는가를 기본 개념과 예제 중심으로 설명하였다.<br/>\n",
       "<a href=\"http://www.yes24.com/Product/Goods/77708059\" target=\"_blank\"> <i class=\"et-notebook\"></i> Yes24</a>\n",
       "</p>\n",
       "</div>\n",
       "</div>\n",
       "</div>\n",
       "</div>\n",
       "<div class=\"col-sm-6\">\n",
       "<!-- \n",
       "\t\t\t\t\t\t\t\tcontrolls-over\t\t= navigation buttons over the image \n",
       "\t\t\t\t\t\t\t\tbuttons-autohide \t= navigation buttons visible on mouse hover only\n",
       "\t\t\t\t\t\t\t\t\n",
       "\t\t\t\t\t\t\t\tdata-plugin-options:\n",
       "\t\t\t\t\t\t\t\t\t\"singleItem\": true\n",
       "\t\t\t\t\t\t\t\t\t\"autoPlay\": true (or ms. eg: 4000)\n",
       "\t\t\t\t\t\t\t\t\t\"navigation\": true\n",
       "\t\t\t\t\t\t\t\t\t\"pagination\": true\n",
       "\t\t\t\t\t\t\t\t\t\"transitionStyle\":\"fadeUp\" (fade,backSlide,goDown,fadeUp)\n",
       "\t\t\t\t\t\t\t-->\n",
       "<div class=\"owl-carousel buttons-autohide controlls-over\" data-plugin-options='{\"singleItem\": true, \"autoPlay\": 3400, \"navigation\": true, \"pagination\": true, \"transitionStyle\":\"fadeUp\"}'>\n",
       "<div>\n",
       "<img alt=\"\" class=\"img-responsive\" src=\"assets/images/home/bigdata.jpg\"/>\n",
       "</div>\n",
       "<div>\n",
       "<img alt=\"\" class=\"img-responsive\" src=\"assets/images/home/cloud.jpg\"/>\n",
       "</div>\n",
       "<div>\n",
       "<img alt=\"\" class=\"img-responsive\" src=\"assets/images/home/dl.jpg\"/>\n",
       "</div>\n",
       "<div>\n",
       "<img alt=\"\" class=\"img-responsive\" src=\"assets/images/home/market.jpg\"/>\n",
       "</div>\n",
       "<div>\n",
       "<img alt=\"\" class=\"img-responsive\" src=\"assets/images/home/sn.jpg\"/>\n",
       "</div>\n",
       "<div>\n",
       "<img alt=\"\" class=\"img-responsive\" src=\"assets/images/home/snvis.jpg\"/>\n",
       "</div>\n",
       "<div>\n",
       "<img alt=\"\" class=\"img-responsive\" src=\"assets/images/home/network.jpg\"/>\n",
       "</div>\n",
       "</div>\n",
       "</div>\n",
       "</div>\n",
       "</div>\n",
       "</section>\n",
       "<!-- /WELCOME -->\n",
       "<!-- FOOTER -->\n",
       "<footer id=\"footer\">\n",
       "<div class=\"container\">\n",
       "<div class=\"row\">\n",
       "<div class=\"col-md-4\">\n",
       "<div class=\"clearfix\">\n",
       "<!-- Footer Logo -->\n",
       "<img alt=\"\" class=\"footer-logo\" src=\"assets/images/logo-footer.png\">\n",
       "<!-- Small Description -->\n",
       "<p>SuanLab is a laboratory that studies everything about computer. I am offering interesting computer videos and various lecture materials. I will continue to share the necessary information to those who want to know about computers. SuanLab will make everyone like computers.</p>\n",
       "<!-- Social Icons -->\n",
       "<div class=\"margin-top-20\">\n",
       "<a class=\"social-icon social-icon-border social-instagram pull-left\" data-placement=\"top\" data-toggle=\"tooltip\" href=\"https://www.instagram.com/suanlab\" target=\"_blank\" title=\"Instagram\">\n",
       "<i class=\"icon-instagram\"></i>\n",
       "<i class=\"icon-instagram\"></i>\n",
       "</a>\n",
       "<a class=\"social-icon social-icon-border social-facebook pull-left\" data-placement=\"top\" data-toggle=\"tooltip\" href=\"https://www.facebook.com/suanlab\" target=\"_blank\" title=\"Facebook\">\n",
       "<i class=\"icon-facebook\"></i>\n",
       "<i class=\"icon-facebook\"></i>\n",
       "</a>\n",
       "<a class=\"social-icon social-icon-border social-linkedin pull-left\" data-placement=\"top\" data-toggle=\"tooltip\" href=\"https://www.linkedin.com/in/suan-lee-46aaa15b/\" target=\"_blank\" title=\"Linkedin\">\n",
       "<i class=\"icon-linkedin\"></i>\n",
       "<i class=\"icon-linkedin\"></i>\n",
       "</a>\n",
       "<a class=\"social-icon social-icon-border social-youtube pull-left\" data-placement=\"top\" data-toggle=\"tooltip\" href=\"https://www.youtube.com/channel/UCFfALXX0DOx7zv6VeR5U_Bg\" target=\"_blank\" title=\"Youtube\">\n",
       "<i class=\"icon-youtube\"></i>\n",
       "<i class=\"icon-youtube\"></i>\n",
       "</a>\n",
       "<a class=\"social-icon social-icon-border social-twitter pull-left\" data-placement=\"top\" data-toggle=\"tooltip\" href=\"https://twitter.com/webdizen\" target=\"_blank\" title=\"Twitter\">\n",
       "<i class=\"icon-twitter\"></i>\n",
       "<i class=\"icon-twitter\"></i>\n",
       "</a>\n",
       "</div>\n",
       "<!-- /Social Icons -->\n",
       "</img></div>\n",
       "</div>\n",
       "<div class=\"col-md-4\">\n",
       "<h4 class=\"letter-spacing-1\">YOUTUBE</h4>\n",
       "<iframe allow=\"autoplay; encrypted-media\" allowfullscreen=\"\" frameborder=\"0\" height=\"204\" src=\"https://www.youtube.com/embed/cB8bRCTgqJ8\" width=\"360\"></iframe>\n",
       "</div>\n",
       "<div class=\"col-md-4\">\n",
       "<h4 class=\"letter-spacing-1\">INSTAGRAM</h4>\n",
       "<div id=\"instafeed\"></div>\n",
       "</div>\n",
       "</div>\n",
       "</div>\n",
       "<div class=\"copyright\">\n",
       "<div class=\"container\">\n",
       "<ul class=\"pull-right nomargin list-inline mobile-block\">\n",
       "<li><a href=\"#\">Terms &amp; Conditions</a></li>\n",
       "<li>•</li>\n",
       "<li><a href=\"#\">Privacy</a></li>\n",
       "</ul>\n",
       "\t\t\t\t\t\t© All Rights Reserved, SuanLab\n",
       "\t\t\t\t\t</div>\n",
       "</div>\n",
       "</footer>\n",
       "<!-- /FOOTER -->\n",
       "</div>\n",
       "<!-- /wrapper -->\n",
       "<!-- SCROLL TO TOP -->\n",
       "<a href=\"#\" id=\"toTop\"></a>\n",
       "<!-- JAVASCRIPT FILES -->\n",
       "<script type=\"text/javascript\">var plugin_path = 'assets/plugins/';</script>\n",
       "<script src=\"assets/plugins/jquery/jquery-2.2.3.min.js\" type=\"text/javascript\"></script>\n",
       "<script src=\"assets/js/scripts.js\" type=\"text/javascript\"></script>\n",
       "<!-- LAYER SLIDER -->\n",
       "<script src=\"assets/plugins/slider.layerslider/js/layerslider_pack.js\" type=\"text/javascript\"></script>\n",
       "<script src=\"assets/js/view/demo.layerslider_slider.js\" type=\"text/javascript\"></script>\n",
       "<!-- INSTAFEED -->\n",
       "<script src=\"assets/js/instafeed.min.js\" type=\"text/javascript\"></script>\n",
       "<script type=\"text/javascript\">\n",
       "\t\t    var userFeed = new Instafeed({\n",
       "\t\t        get: 'user',\n",
       "\t\t        userId: '1602984095',\n",
       "\t\t        accessToken: '1602984095.0291eac.1c586ce5aa894da5884d87fb00284e1e',\n",
       "\t\t        sortBy: 'most-recent',\n",
       "\t\t        limit: 6,\n",
       "\t\t        template: '<a href=\"{{link}}\" target=\"_blank\"><img src=\"{{image}}\" width=\"120px\" /></a>'\n",
       "\t\t    });\n",
       "\t\t    userFeed.run();\n",
       "\t\t</script>\n",
       "<!-- REVOLUTION SLIDER -->\n",
       "<script src=\"assets/plugins/slider.revolution/js/jquery.themepunch.tools.min.js\" type=\"text/javascript\"></script>\n",
       "<script src=\"assets/plugins/slider.revolution/js/jquery.themepunch.revolution.min.js\" type=\"text/javascript\"></script>\n",
       "<script src=\"assets/js/view/demo.revolution_slider.js\" type=\"text/javascript\"></script>\n",
       "<!-- PARTICLE EFFECT -->\n",
       "<script src=\"assets/plugins/effects/canvas.particles.js\" type=\"text/javascript\"></script>\n",
       "</body>\n",
       "</html>"
      ]
     },
     "execution_count": 40,
     "metadata": {},
     "output_type": "execute_result"
    }
   ],
   "source": [
    "url = 'http://suanlab.com/'\n",
    "html = urllib.request.urlopen(url).read()\n",
    "\n",
    "soup = BeautifulSoup(html, 'html.parser')\n",
    "soup "
   ]
  },
  {
   "cell_type": "markdown",
   "metadata": {},
   "source": [
    "분석 도구를 열고 아래와 같이 구조를 파악한다. "
   ]
  },
  {
   "attachments": {
    "image.png": {
     "image/png": "[encoded data removed]"
    }
   },
   "cell_type": "markdown",
   "metadata": {},
   "source": [
    "![image.png](attachment:image.png)"
   ]
  },
  {
   "cell_type": "markdown",
   "metadata": {},
   "source": [
    "label 태그 안에 제목이 있는것을 확인했고 , label 태그의 모든 내용을 가져온다. "
   ]
  },
  {
   "cell_type": "code",
   "execution_count": 41,
   "metadata": {},
   "outputs": [
    {
     "name": "stdout",
     "output_type": "stream",
     "text": [
      "[2020-10-07] \"이력서 작성·레시피 제공 다양하게 활용되는 GPT3\" 칼럼\n",
      "[2020-05-20] \"인공지능의 보안 위협\" 칼럼\n",
      "[2020-03-04] \"데이터 경제 시대\" 칼럼\n",
      "[2019-12-25] \"마이데이터 시대의 도래 데이터 주권과 새로운 가치\" 칼럼\n",
      "[2019-09-25] \"유튜브 탄생과 크리에이터 시대\" 칼럼\n",
      "[2019-09-04] \"농업으로 들어간 인공지능\" 칼럼\n",
      "[2019-08-07] \"AI시대 지배할 것인가 지배당하며 살 것인가\" 칼럼\n",
      "[2018-12-30] \"파이썬으로 텍스트 분석하기\" 책 출판\n"
     ]
    }
   ],
   "source": [
    "labels = soup.find_all(['label'])\n",
    "for label in labels:\n",
    "    print(label.get_text())"
   ]
  },
  {
   "cell_type": "markdown",
   "metadata": {},
   "source": [
    "select 로는 어떻게 해야 할까? \n",
    "\n",
    "* select 는 css 를 가져온다. \n",
    "* "
   ]
  },
  {
   "attachments": {
    "image.png": {
     "image/png": "[encoded data removed]"
    }
   },
   "cell_type": "markdown",
   "metadata": {},
   "source": [
    "![image.png](attachment:image.png)"
   ]
  },
  {
   "cell_type": "markdown",
   "metadata": {},
   "source": [
    "Copy selector 를 한 결과 값은 아래와 같다. \n",
    "\n",
    "```\n",
    "#wrapper > section > div > div > div:nth-child(1) > div > div:nth-child(1) > label\n",
    "```\n",
    "\n",
    "```\n",
    "nth-child(1) 부분은 첫번째를 의미 하기 때문에 제거해준다. 우리는 하나만 가져 오려는게 아니기 때문에\n",
    "```"
   ]
  },
  {
   "cell_type": "code",
   "execution_count": 43,
   "metadata": {},
   "outputs": [
    {
     "name": "stdout",
     "output_type": "stream",
     "text": [
      "[2020-10-07] \"이력서 작성·레시피 제공 다양하게 활용되는 GPT3\" 칼럼\n",
      "[2020-05-20] \"인공지능의 보안 위협\" 칼럼\n",
      "[2020-03-04] \"데이터 경제 시대\" 칼럼\n",
      "[2019-12-25] \"마이데이터 시대의 도래 데이터 주권과 새로운 가치\" 칼럼\n",
      "[2019-09-25] \"유튜브 탄생과 크리에이터 시대\" 칼럼\n",
      "[2019-09-04] \"농업으로 들어간 인공지능\" 칼럼\n",
      "[2019-08-07] \"AI시대 지배할 것인가 지배당하며 살 것인가\" 칼럼\n",
      "[2018-12-30] \"파이썬으로 텍스트 분석하기\" 책 출판\n"
     ]
    }
   ],
   "source": [
    "labels = soup.select('#wrapper > section > div > div > div > div > div > label')\n",
    "for label in labels:\n",
    "    print(label.get_text())"
   ]
  },
  {
   "cell_type": "markdown",
   "metadata": {},
   "source": [
    "출처:\n",
    "\n",
    "https://www.crummy.com/software/BeautifulSoup/bs4/doc/\n",
    "\n",
    "http://suanlab.com/\n",
    "\n"
   ]
  }
 ],
 "metadata": {
  "kernelspec": {
   "display_name": "Python 3",
   "language": "python",
   "name": "python3"
  },
  "language_info": {
   "codemirror_mode": {
    "name": "ipython",
    "version": 3
   },
   "file_extension": ".py",
   "mimetype": "text/x-python",
   "name": "python",
   "nbconvert_exporter": "python",
   "pygments_lexer": "ipython3",
   "version": "3.8.5"
  },
  "toc": {
   "base_numbering": 1,
   "nav_menu": {},
   "number_sections": true,
   "sideBar": true,
   "skip_h1_title": false,
   "title_cell": "Table of Contents",
   "title_sidebar": "Contents",
   "toc_cell": false,
   "toc_position": {},
   "toc_section_display": true,
   "toc_window_display": false
  }
 },
 "nbformat": 4,
 "nbformat_minor": 4
}
