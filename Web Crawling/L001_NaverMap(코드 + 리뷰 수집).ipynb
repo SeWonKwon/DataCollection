{
 "cells": [
  {
   "cell_type": "markdown",
   "id": "54e6c7fa",
   "metadata": {},
   "source": [
    "# 기본 라이브러리 로드"
   ]
  },
  {
   "cell_type": "code",
   "execution_count": 1,
   "id": "cf8851bf",
   "metadata": {
    "ExecuteTime": {
     "end_time": "2021-10-15T07:43:51.181133Z",
     "start_time": "2021-10-15T07:43:50.561729Z"
    }
   },
   "outputs": [],
   "source": [
    "import time\n",
    "import pandas as pd\n",
    "import numpy as np\n",
    "import json\n",
    "\n",
    "from selenium import webdriver\n",
    "from selenium.webdriver.common.keys import Keys\n",
    "from selenium.common.exceptions import NoSuchElementException\n",
    "from selenium.common.exceptions import ElementNotInteractableException\n",
    "from selenium.common.exceptions import StaleElementReferenceException\n",
    "from selenium.common.exceptions import ElementClickInterceptedException\n",
    "from webdriver_manager.chrome import ChromeDriverManager\n",
    "from selenium.webdriver.common.by import By\n",
    "\n",
    "import warnings\n",
    "warnings.filterwarnings(action = 'ignore')\n"
   ]
  },
  {
   "cell_type": "markdown",
   "id": "6a2db927",
   "metadata": {},
   "source": [
    "# 함수"
   ]
  },
  {
   "cell_type": "code",
   "execution_count": 2,
   "id": "27fe50b0",
   "metadata": {
    "ExecuteTime": {
     "end_time": "2021-10-15T07:43:51.195872Z",
     "start_time": "2021-10-15T07:43:51.182133Z"
    }
   },
   "outputs": [],
   "source": [
    "def try_none_text(x):\n",
    "    try:\n",
    "        return x.text\n",
    "    except:\n",
    "        return 'NA'\n",
    "        "
   ]
  },
  {
   "cell_type": "code",
   "execution_count": 3,
   "id": "990a2c0c",
   "metadata": {
    "ExecuteTime": {
     "end_time": "2021-10-15T07:43:51.211129Z",
     "start_time": "2021-10-15T07:43:51.196136Z"
    }
   },
   "outputs": [],
   "source": [
    "def try_none_text_by_class_name(wd,class_name, col='col'):\n",
    "    try:\n",
    "        return wd.find_element_by_class_name(class_name).text\n",
    "    except NoSuchElementException:\n",
    "        print(col, end=' ')\n",
    "        return 'NA'\n",
    "        "
   ]
  },
  {
   "cell_type": "code",
   "execution_count": 4,
   "id": "266ea21d",
   "metadata": {
    "ExecuteTime": {
     "end_time": "2021-10-15T07:43:51.226114Z",
     "start_time": "2021-10-15T07:43:51.212130Z"
    }
   },
   "outputs": [],
   "source": [
    "def strong_try_none_text_by_class_name(wd,class_name, col='col'):\n",
    "    try:\n",
    "        temps = wd.find_elements_by_class_name(class_name)\n",
    "        for temp in temps:\n",
    "            if temp.text.startswith('편의'):\n",
    "                return temp.text.split('\\n')[1]\n",
    "        else:\n",
    "            return 'NA'\n",
    "    except NoSuchElementException:\n",
    "        print(col, end='')\n",
    "        return 'NA'\n",
    "        "
   ]
  },
  {
   "cell_type": "code",
   "execution_count": 5,
   "id": "ac3fa78e",
   "metadata": {
    "ExecuteTime": {
     "end_time": "2021-10-15T07:43:51.241130Z",
     "start_time": "2021-10-15T07:43:51.227119Z"
    }
   },
   "outputs": [],
   "source": [
    "def review_dict(s):\n",
    "    review_dict = {}\n",
    "#     print(s.split('평균 별점'))\n",
    "    s = s.split('평균 별점')\n",
    "    review_dict['평균_별점'] = s[-1].strip()\n",
    "    s = s[0].split('사진')\n",
    "    if len(s) >= 2:\n",
    "        review_dict['사진'] = int(s[-1])\n",
    "        review_dict['리뷰'] = s[0].split()[-1]\n",
    "    else:\n",
    "        review_dict['사진'] = 'NA'\n",
    "        review_dict['리뷰'] = s[0].split()[-1]\n",
    "# print(s)\n",
    "    return review_dict"
   ]
  },
  {
   "cell_type": "markdown",
   "id": "98aa6ce5",
   "metadata": {},
   "source": [
    "## 지역구 함수"
   ]
  },
  {
   "cell_type": "code",
   "execution_count": 6,
   "id": "f16a3a26",
   "metadata": {
    "ExecuteTime": {
     "end_time": "2021-10-15T07:43:51.271157Z",
     "start_time": "2021-10-15T07:43:51.242130Z"
    }
   },
   "outputs": [],
   "source": [
    "dong_list = ['종로구 청운효자동', '종로구 사직동', '종로구 삼청동', '종로구 부암동', '종로구 평창동', '종로구 무악동',\n",
    "       '종로구 교남동', '종로구 가회동', '종로구 종로1.2.3.4가동', '종로구 종로5.6가동', '종로구 이화동',\n",
    "       '종로구 혜화동', '종로구 창신제1동', '종로구 창신제2동', '종로구 창신제3동', '종로구 숭인제1동',\n",
    "       '종로구 숭인제2동', '중구 소공동', '중구 회현동', '중구 명동', '중구 필동', '중구 장충동',\n",
    "       '중구 광희동', '중구 을지로동', '중구 신당동', '중구 다산동', '중구 약수동', '중구 청구동',\n",
    "       '중구 신당제5동', '중구 동화동', '중구 황학동', '중구 중림동', '용산구 후암동', '용산구 용산2가동',\n",
    "       '용산구 남영동', '용산구 청파동', '용산구 원효로제1동', '용산구 원효로제2동', '용산구 효창동',\n",
    "       '용산구 용문동', '용산구 한강로동', '용산구 이촌제1동', '용산구 이촌제2동', '용산구 이태원제1동',\n",
    "       '용산구 이태원제2동', '용산구 한남동', '용산구 서빙고동', '용산구 보광동', '성동구 왕십리제2동',\n",
    "       '성동구 왕십리도선동', '성동구 마장동', '성동구 사근동', '성동구 행당제1동', '성동구 행당제2동',\n",
    "       '성동구 응봉동', '성동구 금호1가동', '성동구 금호2.3가동', '성동구 금호4가동', '성동구 옥수동',\n",
    "       '성동구 성수1가제1동', '성동구 성수1가제2동', '성동구 성수2가제1동', '성동구 성수2가제3동',\n",
    "       '성동구 송정동', '성동구 용답동', '광진구 화양동', '광진구 군자동', '광진구 중곡제1동',\n",
    "       '광진구 중곡제2동', '광진구 중곡제3동', '광진구 중곡제4동', '광진구 능동', '광진구 광장동',\n",
    "       '광진구 자양제1동', '광진구 자양제2동', '광진구 자양제3동', '광진구 자양제4동', '광진구 구의제1동',\n",
    "       '광진구 구의제2동', '광진구 구의제3동', '동대문구 용신동', '동대문구 제기동', '동대문구 전농제1동',\n",
    "       '동대문구 전농제2동', '동대문구 답십리제1동', '동대문구 답십리제2동', '동대문구 장안제1동',\n",
    "       '동대문구 장안제2동', '동대문구 청량리동', '동대문구 회기동', '동대문구 휘경제1동', '동대문구 휘경제2동',\n",
    "       '동대문구 이문제1동', '동대문구 이문제2동', '중랑구 면목제2동', '중랑구 면목제4동', '중랑구 면목제5동',\n",
    "       '중랑구 면목본동', '중랑구 면목제7동', '중랑구 면목제3.8동', '중랑구 상봉제1동', '중랑구 상봉제2동',\n",
    "       '중랑구 중화제1동', '중랑구 중화제2동', '중랑구 묵제1동', '중랑구 묵제2동', '중랑구 망우본동',\n",
    "       '중랑구 망우제3동', '중랑구 신내1동', '중랑구 신내2동', '성북구 성북동', '성북구 삼선동',\n",
    "       '성북구 동선동', '성북구 돈암제1동', '성북구 돈암제2동', '성북구 안암동', '성북구 보문동',\n",
    "       '성북구 정릉제1동', '성북구 정릉제2동', '성북구 정릉제3동', '성북구 정릉제4동', '성북구 길음제1동',\n",
    "       '성북구 길음제2동', '성북구 종암동', '성북구 월곡제1동', '성북구 월곡제2동', '성북구 장위제1동',\n",
    "       '성북구 장위제2동', '성북구 장위제3동', '성북구 석관동', '강북구 삼양동', '강북구 미아동',\n",
    "       '강북구 송중동', '강북구 송천동', '강북구 삼각산동', '강북구 번1동', '강북구 번2동', '강북구 번3동',\n",
    "       '강북구 수유1동', '강북구 수유2동', '강북구 수유3동', '강북구 우이동', '강북구 인수동',\n",
    "       '도봉구 창제1동', '도봉구 창제2동', '도봉구 창제3동', '도봉구 창제4동', '도봉구 창제5동',\n",
    "       '도봉구 도봉제1동', '도봉구 도봉제2동', '도봉구 쌍문제1동', '도봉구 쌍문제2동', '도봉구 쌍문제3동',\n",
    "       '도봉구 쌍문제4동', '도봉구 방학제1동', '도봉구 방학제2동', '도봉구 방학제3동', '노원구 월계1동',\n",
    "       '노원구 월계2동', '노원구 월계3동', '노원구 공릉1동', '노원구 공릉2동', '노원구 하계1동',\n",
    "       '노원구 하계2동', '노원구 중계본동', '노원구 중계1동', '노원구 중계4동', '노원구 중계2.3동',\n",
    "       '노원구 상계1동', '노원구 상계2동', '노원구 상계3.4동', '노원구 상계5동', '노원구 상계6.7동',\n",
    "       '노원구 상계8동', '노원구 상계9동', '노원구 상계10동', '은평구 녹번동', '은평구 불광제1동',\n",
    "       '은평구 불광제2동', '은평구 갈현제1동', '은평구 갈현제2동', '은평구 구산동', '은평구 대조동',\n",
    "       '은평구 응암제1동', '은평구 응암제2동', '은평구 응암제3동', '은평구 역촌동', '은평구 신사제1동',\n",
    "       '은평구 신사제2동', '은평구 증산동', '은평구 수색동', '은평구 진관동', '서대문구 천연동',\n",
    "       '서대문구 북아현동', '서대문구 충현동', '서대문구 신촌동', '서대문구 연희동', '서대문구 홍제제1동',\n",
    "       '서대문구 홍제제3동', '서대문구 홍제제2동', '서대문구 홍은제1동', '서대문구 홍은제2동',\n",
    "       '서대문구 남가좌제1동', '서대문구 남가좌제2동', '서대문구 북가좌제1동', '서대문구 북가좌제2동',\n",
    "       '마포구 아현동', '마포구 공덕동', '마포구 도화동', '마포구 용강동', '마포구 대흥동', '마포구 염리동',\n",
    "       '마포구 신수동', '마포구 서강동', '마포구 서교동', '마포구 합정동', '마포구 망원제1동',\n",
    "       '마포구 망원제2동', '마포구 연남동', '마포구 성산제1동', '마포구 성산제2동', '마포구 상암동',\n",
    "       '양천구 목1동', '양천구 목2동', '양천구 목3동', '양천구 목4동', '양천구 목5동', '양천구 신월1동',\n",
    "       '양천구 신월2동', '양천구 신월3동', '양천구 신월4동', '양천구 신월5동', '양천구 신월6동',\n",
    "       '양천구 신월7동', '양천구 신정1동', '양천구 신정2동', '양천구 신정3동', '양천구 신정4동',\n",
    "       '양천구 신정6동', '양천구 신정7동', '강서구 염창동', '강서구 등촌제1동', '강서구 등촌제2동',\n",
    "       '강서구 등촌제3동', '강서구 화곡제1동', '강서구 화곡제2동', '강서구 화곡제3동', '강서구 화곡제4동',\n",
    "       '강서구 화곡본동', '강서구 화곡제6동', '강서구 화곡제8동', '강서구 가양제1동', '강서구 가양제2동',\n",
    "       '강서구 가양제3동', '강서구 발산제1동', '강서구 우장산동', '강서구 공항동', '강서구 방화제1동',\n",
    "       '강서구 방화제2동', '강서구 방화제3동', '구로구 신도림동', '구로구 구로제1동', '구로구 구로제2동',\n",
    "       '구로구 구로제3동', '구로구 구로제4동', '구로구 구로제5동', '구로구 가리봉동', '구로구 고척제1동',\n",
    "       '구로구 고척제2동', '구로구 개봉제1동', '구로구 개봉제2동', '구로구 개봉제3동', '구로구 오류제1동',\n",
    "       '구로구 오류제2동', '구로구 수궁동', '구로구 항동', '금천구 가산동', '금천구 독산제1동',\n",
    "       '금천구 독산제2동', '금천구 독산제3동', '금천구 독산제4동', '금천구 시흥제1동', '금천구 시흥제2동',\n",
    "       '금천구 시흥제3동', '금천구 시흥제4동', '금천구 시흥제5동', '영등포구 영등포본동', '영등포구 영등포동',\n",
    "       '영등포구 여의동', '영등포구 당산제1동', '영등포구 당산제2동', '영등포구 도림동', '영등포구 문래동',\n",
    "       '영등포구 양평제1동', '영등포구 양평제2동', '영등포구 신길제1동', '영등포구 신길제3동',\n",
    "       '영등포구 신길제4동', '영등포구 신길제5동', '영등포구 신길제6동', '영등포구 신길제7동',\n",
    "       '영등포구 대림제1동', '영등포구 대림제2동', '영등포구 대림제3동', '동작구 노량진제1동',\n",
    "       '동작구 노량진제2동', '동작구 상도제1동', '동작구 상도제2동', '동작구 상도제3동', '동작구 상도제4동',\n",
    "       '동작구 흑석동', '동작구 사당제1동', '동작구 사당제2동', '동작구 사당제3동', '동작구 사당제4동',\n",
    "       '동작구 사당제5동', '동작구 대방동', '동작구 신대방제1동', '동작구 신대방제2동', '관악구 보라매동',\n",
    "       '관악구 청림동', '관악구 성현동', '관악구 행운동', '관악구 낙성대동', '관악구 청룡동', '관악구 은천동',\n",
    "       '관악구 중앙동', '관악구 인헌동', '관악구 남현동', '관악구 서원동', '관악구 신원동', '관악구 서림동',\n",
    "       '관악구 신사동', '관악구 신림동', '관악구 난향동', '관악구 조원동', '관악구 대학동', '관악구 삼성동',\n",
    "       '관악구 미성동', '관악구 난곡동', '서초구 서초1동', '서초구 서초2동', '서초구 서초3동',\n",
    "       '서초구 서초4동', '서초구 잠원동', '서초구 반포본동', '서초구 반포1동', '서초구 반포2동',\n",
    "       '서초구 반포3동', '서초구 반포4동', '서초구 방배본동', '서초구 방배1동', '서초구 방배2동',\n",
    "       '서초구 방배3동', '서초구 방배4동', '서초구 양재1동', '서초구 양재2동', '서초구 내곡동',\n",
    "       '강남구 신사동', '강남구 논현1동', '강남구 논현2동', '강남구 압구정동', '강남구 청담동',\n",
    "       '강남구 삼성1동', '강남구 삼성2동', '강남구 대치1동', '강남구 대치2동', '강남구 대치4동',\n",
    "       '강남구 역삼1동', '강남구 역삼2동', '강남구 도곡1동', '강남구 도곡2동', '강남구 개포1동',\n",
    "       '강남구 개포2동', '강남구 개포4동', '강남구 세곡동', '강남구 일원본동', '강남구 일원1동',\n",
    "       '강남구 일원2동', '강남구 수서동', '송파구 풍납1동', '송파구 풍납2동', '송파구 거여1동',\n",
    "       '송파구 거여2동', '송파구 마천1동', '송파구 마천2동', '송파구 방이1동', '송파구 방이2동',\n",
    "       '송파구 오륜동', '송파구 오금동', '송파구 송파1동', '송파구 송파2동', '송파구 석촌동', '송파구 삼전동',\n",
    "       '송파구 가락본동', '송파구 가락1동', '송파구 가락2동', '송파구 문정1동', '송파구 문정2동',\n",
    "       '송파구 장지동', '송파구 위례동', '송파구 잠실본동', '송파구 잠실2동', '송파구 잠실3동',\n",
    "       '송파구 잠실4동', '송파구 잠실6동', '송파구 잠실7동', '강동구 강일동', '강동구 상일제1동',\n",
    "       '강동구 상일제2동', '강동구 명일제1동', '강동구 명일제2동', '강동구 고덕제1동', '강동구 고덕제2동',\n",
    "       '강동구 암사제1동', '강동구 암사제2동', '강동구 암사제3동', '강동구 천호제1동', '강동구 천호제2동',\n",
    "       '강동구 천호제3동', '강동구 성내제1동', '강동구 성내제2동', '강동구 성내제3동', '강동구 길동',\n",
    "       '강동구 둔촌제1동', '강동구 둔촌제2동']\n"
   ]
  },
  {
   "cell_type": "code",
   "execution_count": 7,
   "id": "c9270578",
   "metadata": {
    "ExecuteTime": {
     "end_time": "2021-10-15T07:43:51.286174Z",
     "start_time": "2021-10-15T07:43:51.272158Z"
    },
    "scrolled": true
   },
   "outputs": [],
   "source": [
    "from collections import defaultdict\n",
    "dong_dict = defaultdict(list)\n",
    "for 구, 동 in [x.split() for x in dong_list]:\n",
    "    dong_dict[구].append(동)\n",
    "# dong_dict"
   ]
  },
  {
   "cell_type": "code",
   "execution_count": 8,
   "id": "99dd37f0",
   "metadata": {
    "ExecuteTime": {
     "end_time": "2021-10-15T07:43:51.301185Z",
     "start_time": "2021-10-15T07:43:51.287173Z"
    }
   },
   "outputs": [],
   "source": [
    "dong_key_list = list(dong_dict.keys())\n",
    "dong_key_list.sort()\n",
    "# dong_key_list"
   ]
  },
  {
   "cell_type": "code",
   "execution_count": 9,
   "id": "c14aeb3d",
   "metadata": {
    "ExecuteTime": {
     "end_time": "2021-10-15T07:43:51.316198Z",
     "start_time": "2021-10-15T07:43:51.302188Z"
    }
   },
   "outputs": [],
   "source": [
    "for 구이름 in dong_key_list:\n",
    "    dong_dict[구이름] = sorted(dong_dict[구이름])\n",
    "#     print(dong_dict[구이름])\n",
    "    "
   ]
  },
  {
   "cell_type": "code",
   "execution_count": 10,
   "id": "16c968f0",
   "metadata": {
    "ExecuteTime": {
     "end_time": "2021-10-15T07:43:51.331199Z",
     "start_time": "2021-10-15T07:43:51.318200Z"
    },
    "scrolled": false
   },
   "outputs": [],
   "source": [
    "for 구이름 in dong_key_list:\n",
    "    for 동이름 in dong_dict[구]:\n",
    "#         print(구이름, 동이름)\n",
    "        pass"
   ]
  },
  {
   "cell_type": "code",
   "execution_count": 11,
   "id": "12055410",
   "metadata": {
    "ExecuteTime": {
     "end_time": "2021-10-15T07:43:51.346211Z",
     "start_time": "2021-10-15T07:43:51.332200Z"
    }
   },
   "outputs": [],
   "source": [
    "import os\n",
    "def check_file(file_path, file_name):\n",
    "    return os.path.isfile(file_path+file_name)"
   ]
  },
  {
   "cell_type": "code",
   "execution_count": 12,
   "id": "248287f8",
   "metadata": {
    "ExecuteTime": {
     "end_time": "2021-10-15T07:43:51.361226Z",
     "start_time": "2021-10-15T07:43:51.347213Z"
    }
   },
   "outputs": [],
   "source": [
    "def scroll_down(wd,SCROLL_PAUSE_SEC = 1):\n",
    "\n",
    "    # 스크롤 높이 가져옴\n",
    "    last_height = wd.execute_script(\"return document.body.scrollHeight\")\n",
    "#     print(last_height)\n",
    "    while True:\n",
    "        # 끝까지 스크롤 다운\n",
    "        wd.execute_script(\"window.scrollTo(0, document.body.scrollHeight);\")\n",
    "\n",
    "        # 1초 대기\n",
    "        time.sleep(SCROLL_PAUSE_SEC)\n",
    "\n",
    "        # 스크롤 다운 후 스크롤 높이 다시 가져옴\n",
    "        new_height = wd.execute_script(\"return document.body.scrollHeight\")\n",
    "        if new_height == last_height:\n",
    "            break\n",
    "        last_height = new_height"
   ]
  },
  {
   "cell_type": "markdown",
   "id": "fa1f3f0e",
   "metadata": {},
   "source": [
    "## json to list"
   ]
  },
  {
   "cell_type": "code",
   "execution_count": 13,
   "id": "cb155009",
   "metadata": {
    "ExecuteTime": {
     "end_time": "2021-10-15T07:43:51.376136Z",
     "start_time": "2021-10-15T07:43:51.362227Z"
    }
   },
   "outputs": [],
   "source": [
    "def restNo_script_to_list(wd):\n",
    "    restNo_list=[]\n",
    "    script_text = wd.find_element_by_xpath('/html/body/script[3]')\n",
    "\n",
    "    text1 = script_text.get_attribute('text')\n",
    "    text1 = text1.split('__APOLLO_STATE__ ')[1]\n",
    "    text1 = text1.split('[')[1]\n",
    "    text1 = text1.split(']')[0]\n",
    "    text1 = '{ \"result\":[ ' + text1 + ' ]}'\n",
    "    jsonObj = json.loads(text1)\n",
    "    \n",
    "    print(len(jsonObj['result']),end='개완료#')\n",
    "    for code_num in jsonObj['result']:\n",
    "        restNo_list.append(str(code_num['id'].split(':')[1]))\n",
    "    return restNo_list"
   ]
  },
  {
   "cell_type": "markdown",
   "id": "550f054d",
   "metadata": {},
   "source": [
    "## 가게코드 가져오기"
   ]
  },
  {
   "cell_type": "code",
   "execution_count": 14,
   "id": "e6515ac3",
   "metadata": {
    "ExecuteTime": {
     "end_time": "2021-10-15T07:43:51.391135Z",
     "start_time": "2021-10-15T07:43:51.377137Z"
    },
    "scrolled": true
   },
   "outputs": [],
   "source": [
    "def restaurant_code_store_scraping( 구이름, 동이름, 업종, slow=1):\n",
    "    options = webdriver.ChromeOptions()\n",
    "\n",
    "    # options.add_argument(\"--start-maximized\")\n",
    "    wd = webdriver.Chrome(ChromeDriverManager().install(), options= options)  # chromedriver 열기\n",
    "    wd.implicitly_wait(3)\n",
    "\n",
    "\n",
    "\n",
    "    pcmap_code_url = 'https://pcmap.place.naver.com/restaurant/list?query='\n",
    "\n",
    "    search_url_detail = pcmap_code_url + 구이름 +'%20'+ 동이름 + '%20' + 업종\n",
    "    code_file = '가게코드_' + 구이름 + '_' + 동이름+ '_'+ 업종 + '.csv'\n",
    "    code_path = 'data/코드/'\n",
    "    \n",
    "    code_df = pd.DataFrame()\n",
    "    store_idx= 0\n",
    "    wd.get(search_url_detail)\n",
    "    time.sleep(3*slow)\n",
    "\n",
    "    restNo_list=[]\n",
    "    print(\"@@@@@@@@@@@@@@@@@@@@@@@@@@@@@@@@@@@@@@@@@@@@@@@@@@@@@@@@@@@@@@@\")\n",
    "    print(f'@@@{구이름} {동이름} {업종} 식당 코드 수집을 시작합니다~~ 후비고~~')\n",
    "\n",
    "    last_num = wd.find_elements_by_class_name('_2tk2s ')[-1].text\n",
    "    current_num = wd.find_element_by_class_name('_5vmWW').text\n",
    "    \n",
    "    restNo_list += restNo_script_to_list(wd)\n",
    "\n",
    "    code_df = pd.DataFrame(data={'rest_No':list(set(restNo_list))})\n",
    "    code_df.to_csv(code_path + code_file, index=False)\n",
    "    print('\\n')\n",
    "    print(구이름,동이름,업종, f'가게 {code_df.shape[0]}개 식당코드 수집 완료' )\n",
    "    print('\\n','########################################################')\n",
    "    wd.close()\n",
    "\n",
    "\n",
    "    "
   ]
  },
  {
   "cell_type": "code",
   "execution_count": 15,
   "id": "d162fbe9",
   "metadata": {
    "ExecuteTime": {
     "end_time": "2021-10-15T07:43:51.406134Z",
     "start_time": "2021-10-15T07:43:51.392136Z"
    }
   },
   "outputs": [],
   "source": [
    "# 구이름 = '중랑구'\n",
    "# 동이름 = '망우본동'\n",
    "# 업종 = '식당'\n",
    "\n"
   ]
  },
  {
   "cell_type": "code",
   "execution_count": 16,
   "id": "0d417d73",
   "metadata": {
    "ExecuteTime": {
     "end_time": "2021-10-15T07:43:51.421129Z",
     "start_time": "2021-10-15T07:43:51.407135Z"
    }
   },
   "outputs": [],
   "source": [
    "# restaurant_code_store_scraping(구이름, 동이름, 업종)"
   ]
  },
  {
   "cell_type": "code",
   "execution_count": 17,
   "id": "48091235",
   "metadata": {
    "ExecuteTime": {
     "end_time": "2021-10-15T07:43:51.436133Z",
     "start_time": "2021-10-15T07:43:51.422130Z"
    }
   },
   "outputs": [],
   "source": [
    "def get_review(review_block, name, code_no):\n",
    "    reviewer_info = review_block.find_element_by_class_name('ql4ZC').text.replace('\\n', ' ')\n",
    "    reviewer_info = review_dict(reviewer_info)\n",
    "#             print('reviewer_info',reviewer_info)\n",
    "\n",
    "    r_score = review_block.find_element_by_class_name('_2tObC').text\n",
    "#             print('r_score',r_score)\n",
    "\n",
    "    r_info_list = review_block.find_element_by_class_name('ZvQ8X').find_elements_by_class_name('_3WqoL')\n",
    "#     print(len(r_info_list))\n",
    "    r_date = r_info_list[0].text\n",
    "    r_times = r_info_list[1].text\n",
    "    proving = r_info_list[2].text\n",
    "#             print('r_date',r_date)\n",
    "#             print('r_times',r_times)\n",
    "#             print('proving',proving)\n",
    "\n",
    "    r_comment = try_none_text_by_class_name(review_block,'PVBo8','').replace('접기','r')            \n",
    "#             print('#### r_comment ####')\n",
    "#             print(r_comment)\n",
    "\n",
    "    owner_reply = try_none_text_by_class_name(review_block,'Dp7-j','o')\n",
    "#             print('####owner_reply###')\n",
    "#             print(owner_reply)\n",
    "\n",
    "#             print('##################')\n",
    "    return name, code_no, reviewer_info, r_score, r_date, r_times, proving, r_comment, owner_reply"
   ]
  },
  {
   "cell_type": "code",
   "execution_count": 18,
   "id": "03081a2e",
   "metadata": {
    "ExecuteTime": {
     "end_time": "2021-10-15T07:43:51.451123Z",
     "start_time": "2021-10-15T07:43:51.437132Z"
    },
    "scrolled": true
   },
   "outputs": [],
   "source": [
    "def naver_review_scrapping( 구이름, 동이름, 업종, slow= 1):\n",
    "    start_time = time.time()\n",
    "\n",
    "    options = webdriver.ChromeOptions()\n",
    "\n",
    "    # options.add_argument(\"--start-maximized\")\n",
    "    wd = webdriver.Chrome(ChromeDriverManager().install(), options= options)  # chromedriver 열기\n",
    "    wd.implicitly_wait(1*slow)\n",
    "    \n",
    "    review_path = 'data/리뷰/'\n",
    "    code_path = 'data/코드/'\n",
    "    \n",
    "    code_file = '가게코드_' + 구이름 + '_' + 동이름+ '_'+ 업종 + '.csv'\n",
    "    review_file = '리뷰정보_' + 구이름 + '_' + 동이름+ '_'+ 업종 + '.csv'\n",
    "    \n",
    "    code_df = pd.read_csv(code_path+code_file, dtype='str')\n",
    "    \n",
    "    print(f'{구이름} {동이름} {업종} 의 리뷰 스크래핑을 시작합니다.')\n",
    "\n",
    "    review_idx = 0\n",
    "    review_df = pd.DataFrame(columns=(\"name\", \"code_no\", \"reviewer_info\", \"r_score\", \"r_date\", 'r_times', 'proving', 'r_comments', 'owner_reply'))\n",
    "\n",
    "    code_no = code_df.loc[3].values[0]\n",
    "    for store_idx, code_no_ in code_df.iterrows():\n",
    "        code_no = code_no_.values[0]\n",
    "    \n",
    "        place_url = 'https://pcmap.place.naver.com/restaurant/'+str(code_no)+'/review/visitor'\n",
    "        wd.get(place_url)\n",
    "        time.sleep(1*slow)\n",
    "        scroll_down(wd,2)\n",
    "        cnt_idx = 0\n",
    "        error_idx = 0 \n",
    "\n",
    "        name = wd.find_element_by_class_name('_3XamX').text\n",
    "        print(f'{store_idx}번째 {name} 시작', end='\\t')\n",
    "#         print('name',name)\n",
    "#         print('code_no',code_no)\n",
    "        scroll_start_time=time.time()\n",
    "        try:\n",
    "            while (time.time() - scroll_start_time) < 10: # 20권장 \n",
    "#                 print(time.time() - scroll_start_time)\n",
    "                wd.find_element_by_class_name('_3iTUo').click()\n",
    "                time.sleep(0.3*slow)\n",
    "        except NoSuchElementException:\n",
    "            print(f'{int(time.time() - scroll_start_time)}초 소요','로딩완료', end='\\t')\n",
    "        except StaleElementReferenceException :\n",
    "            print(\"S_E_Exc\")\n",
    "            pass\n",
    "        except:\n",
    "            pass\n",
    "        \n",
    "        \n",
    "        for o_bnt in wd.find_elements_by_class_name('dX2wL'):\n",
    "            try:\n",
    "                o_bnt.find_element_by_xpath('..').find_element_by_xpath('..').click()\n",
    "                print('펼', end='')\n",
    "            except:\n",
    "                pass\n",
    "        else:\n",
    "            print('펼치기 완료')\n",
    "        review_block_list = wd.find_elements_by_class_name('_2Cv-r')\n",
    "#         print(len(review_block_list))\n",
    "        for review_block in review_block_list:\n",
    "\n",
    "            try:\n",
    "                review_df.loc[review_idx] = get_review(review_block, name, code_no)\n",
    "                review_idx += 1\n",
    "                cnt_idx += 1\n",
    "                print('#',end='')\n",
    "            except:\n",
    "                print('!!',end='')\n",
    "                error_idx += 1\n",
    "                if (error_idx > 10) and (cnt_idx/error_idx < 1):\n",
    "                    break\n",
    "                pass\n",
    "#             #############################\n",
    "#             if cnt_idx > 5:\n",
    "#                 break\n",
    "        else:\n",
    "            print(f'    {name} {cnt_idx}개 완료.')\n",
    "            \n",
    "        if (store_idx+1)%30 == 0:\n",
    "            wd.close()\n",
    "            time.sleep(5*slow)\n",
    "            wd = webdriver.Chrome(ChromeDriverManager().install(), options= options)  # chromedriver 열기\n",
    "            wd.implicitly_wait(1*slow)\n",
    "            print('reboot chrome')\n",
    "        \n",
    "    review_df.to_csv(review_path+review_file, index=False)\n",
    "    print(f'{구이름} {동이름} {업종} 의 리뷰 스크래핑을 완료했습니다.')\n",
    "    print(f'{review_idx} 개 수집완료, {time.time()-start_time}')\n",
    "    wd.close()"
   ]
  },
  {
   "cell_type": "markdown",
   "id": "be245c3c",
   "metadata": {
    "ExecuteTime": {
     "end_time": "2021-10-14T16:45:13.644823Z",
     "start_time": "2021-10-14T16:41:16.760360Z"
    }
   },
   "source": [
    "naver_review_scrapping( 구이름, 동이름, 업종, slow= 1)"
   ]
  },
  {
   "cell_type": "markdown",
   "id": "9da60fad",
   "metadata": {},
   "source": [
    "# 스크래핑 수행"
   ]
  },
  {
   "cell_type": "code",
   "execution_count": 19,
   "id": "c6902d2a",
   "metadata": {
    "ExecuteTime": {
     "end_time": "2021-10-15T07:43:51.466137Z",
     "start_time": "2021-10-15T07:43:51.452122Z"
    }
   },
   "outputs": [
    {
     "data": {
      "text/plain": [
       "['강남구',\n",
       " '강동구',\n",
       " '강북구',\n",
       " '강서구',\n",
       " '관악구',\n",
       " '광진구',\n",
       " '구로구',\n",
       " '금천구',\n",
       " '노원구',\n",
       " '도봉구',\n",
       " '동대문구',\n",
       " '동작구',\n",
       " '마포구',\n",
       " '서대문구',\n",
       " '서초구',\n",
       " '성동구',\n",
       " '성북구',\n",
       " '송파구',\n",
       " '양천구',\n",
       " '영등포구',\n",
       " '용산구',\n",
       " '은평구',\n",
       " '종로구',\n",
       " '중구',\n",
       " '중랑구']"
      ]
     },
     "execution_count": 19,
     "metadata": {},
     "output_type": "execute_result"
    }
   ],
   "source": [
    "dong_key_list # 사용 가능 구이름"
   ]
  },
  {
   "cell_type": "markdown",
   "id": "cb2b9665",
   "metadata": {
    "ExecuteTime": {
     "end_time": "2021-10-14T06:25:14.826634Z",
     "start_time": "2021-10-14T06:25:14.812607Z"
    }
   },
   "source": [
    "* 준혁 : \n",
    "\n",
    "'강남구',\n",
    " '강동구',\n",
    " '강북구',\n",
    " '강서구',\n",
    " '관악구',\n",
    " '광진구',\n",
    " '구로구',\n",
    " '금천구',\n",
    "    \n",
    "    \n",
    "    \n",
    "* 승순 :    \n",
    " '노원구',\n",
    " '도봉구',\n",
    " '동대문구',\n",
    " '동작구',\n",
    " '마포구',\n",
    " '서대문구',\n",
    " '서초구',\n",
    " '성동구',\n",
    " \n",
    " \n",
    " \n",
    "* 세원 :\n",
    " '성북구',\n",
    " '송파구',\n",
    " '양천구',\n",
    " '영등포구',\n",
    " '용산구',\n",
    " '은평구',\n",
    " '종로구',\n",
    " '중구',\n",
    " '중랑구'"
   ]
  },
  {
   "cell_type": "code",
   "execution_count": 20,
   "id": "f6db243f",
   "metadata": {
    "ExecuteTime": {
     "end_time": "2021-10-15T07:43:51.481151Z",
     "start_time": "2021-10-15T07:43:51.467136Z"
    }
   },
   "outputs": [
    {
     "data": {
      "text/plain": [
       "['망우본동',\n",
       " '망우제3동',\n",
       " '면목본동',\n",
       " '면목제2동',\n",
       " '면목제3.8동',\n",
       " '면목제4동',\n",
       " '면목제5동',\n",
       " '면목제7동',\n",
       " '묵제1동',\n",
       " '묵제2동',\n",
       " '상봉제1동',\n",
       " '상봉제2동',\n",
       " '신내1동',\n",
       " '신내2동',\n",
       " '중화제1동',\n",
       " '중화제2동']"
      ]
     },
     "execution_count": 20,
     "metadata": {},
     "output_type": "execute_result"
    }
   ],
   "source": [
    "dong_dict['중랑구'] "
   ]
  },
  {
   "cell_type": "code",
   "execution_count": 21,
   "id": "31360953",
   "metadata": {
    "ExecuteTime": {
     "end_time": "2021-10-15T07:43:51.496165Z",
     "start_time": "2021-10-15T07:43:51.482152Z"
    }
   },
   "outputs": [],
   "source": [
    "dong_dict['중랑구'] = ['망우본동',\n",
    " '망우제3동',\n",
    " '면목본동',\n",
    " '면목제2동',\n",
    " '면목제4동',\n",
    " '면목제5동',\n",
    " '면목제7동',\n",
    " '묵제1동',\n",
    " '묵제2동',\n",
    " '상봉제1동',\n",
    " '상봉제2동',\n",
    " '신내1동',\n",
    " '신내2동',\n",
    " '중화제1동',\n",
    " '중화제2동']"
   ]
  },
  {
   "cell_type": "code",
   "execution_count": 22,
   "id": "e03648af",
   "metadata": {
    "ExecuteTime": {
     "end_time": "2021-10-15T07:43:51.511173Z",
     "start_time": "2021-10-15T07:43:51.497165Z"
    }
   },
   "outputs": [
    {
     "data": {
      "text/plain": [
       "['망우본동',\n",
       " '망우제3동',\n",
       " '면목본동',\n",
       " '면목제2동',\n",
       " '면목제4동',\n",
       " '면목제5동',\n",
       " '면목제7동',\n",
       " '묵제1동',\n",
       " '묵제2동',\n",
       " '상봉제1동',\n",
       " '상봉제2동',\n",
       " '신내1동',\n",
       " '신내2동',\n",
       " '중화제1동',\n",
       " '중화제2동']"
      ]
     },
     "execution_count": 22,
     "metadata": {},
     "output_type": "execute_result"
    }
   ],
   "source": [
    "dong_dict['중랑구']"
   ]
  },
  {
   "cell_type": "code",
   "execution_count": 23,
   "id": "1a973ea9",
   "metadata": {
    "ExecuteTime": {
     "end_time": "2021-10-15T07:43:51.526202Z",
     "start_time": "2021-10-15T07:43:51.512174Z"
    }
   },
   "outputs": [],
   "source": [
    "code_path = 'data/코드/'\n",
    "review_path = 'data/리뷰/'\n",
    "store_path = 'data/가게/'"
   ]
  },
  {
   "cell_type": "code",
   "execution_count": 24,
   "id": "e141f5c1",
   "metadata": {
    "ExecuteTime": {
     "end_time": "2021-10-15T07:43:51.540970Z",
     "start_time": "2021-10-15T07:43:51.527204Z"
    }
   },
   "outputs": [],
   "source": [
    "업종 = '식당' # 까페\n",
    "구이름 = '중랑구'\n",
    "동이름_list = dong_dict[구이름]\n",
    "# 동이름_list = ['망우본동', '망우제3동']\n",
    "\n",
    "code_path = 'data/코드/'\n",
    "review_path = 'data/리뷰/'\n",
    "store_path = 'data/가게/'\n",
    "\n",
    "code_file = '가게코드_' + 구이름 + '_' + 동이름+ '_'+ 업종 + '.csv'\n",
    "review_file = '리뷰정보_' + 구이름 + '_' + 동이름+ '_'+ 업종 + '.csv'\n",
    "store_file = '가게정보' + 구이름 + '_' + 동이름+ '_'+ 업종 + '.csv'"
   ]
  },
  {
   "cell_type": "markdown",
   "id": "f323941a",
   "metadata": {
    "ExecuteTime": {
     "end_time": "2021-10-15T06:15:35.521545Z",
     "start_time": "2021-10-15T06:15:35.507533Z"
    },
    "scrolled": false
   },
   "source": [
    "for 동이름 in 동이름_list:\n",
    "    code_file = '가게코드_' + 구이름 + '_' + 동이름+ '_'+ 업종 + '.csv'\n",
    "    if check_file(file_path=code_path, file_name=code_file):\n",
    "        print(f'{code_file}이 있습니다. 다음 지역으로 이동합니다')\n",
    "        pass\n",
    "    else: restaurant_code_store_scraping(구이름=구이름, 동이름=동이름, 업종=업종)"
   ]
  },
  {
   "cell_type": "markdown",
   "id": "1fb705b7",
   "metadata": {},
   "source": [
    "## 리뷰 수집"
   ]
  },
  {
   "cell_type": "code",
   "execution_count": 25,
   "id": "8913911d",
   "metadata": {
    "ExecuteTime": {
     "end_time": "2021-10-15T07:43:51.555687Z",
     "start_time": "2021-10-15T07:43:51.541975Z"
    }
   },
   "outputs": [],
   "source": [
    "할당_list = ['성북구', '송파구', '양천구', '영등포구', '용산구', '은평구', '종로구', '중구', '중랑구']"
   ]
  },
  {
   "cell_type": "markdown",
   "id": "3e301a35",
   "metadata": {
    "ExecuteTime": {
     "start_time": "2021-10-15T06:06:23.427Z"
    },
    "scrolled": false
   },
   "source": [
    "for 구이름 in 할당_list[::-1]:\n",
    "    동이름_list = dong_dict[구이름]        \n",
    "    for 동이름 in 동이름_list:\n",
    "        review_file = '리뷰정보_' + 구이름 + '_' + 동이름+ '_'+ 업종 + '.csv'\n",
    "        if check_file(file_path=review_path, file_name=review_file):\n",
    "            print(f'{code_file}이 있습니다. 다음 지역으로 이동합니다')\n",
    "            pass\n",
    "        else: naver_review_scrapping(구이름=구이름, 동이름=동이름, 업종=업종)"
   ]
  },
  {
   "cell_type": "code",
   "execution_count": null,
   "id": "f1d6f710",
   "metadata": {},
   "outputs": [],
   "source": []
  },
  {
   "cell_type": "code",
   "execution_count": 26,
   "id": "fc5d8141",
   "metadata": {
    "ExecuteTime": {
     "end_time": "2021-10-15T07:43:51.570703Z",
     "start_time": "2021-10-15T07:43:51.556692Z"
    }
   },
   "outputs": [],
   "source": [
    "할당_list = ['성북구', '송파구', '양천구', '영등포구', '용산구', '은평구', '종로구', '중구', '중랑구']"
   ]
  },
  {
   "cell_type": "markdown",
   "id": "803fbcec",
   "metadata": {
    "ExecuteTime": {
     "end_time": "2021-10-15T06:15:26.352891Z",
     "start_time": "2021-10-15T06:15:25.288975Z"
    },
    "scrolled": false
   },
   "source": [
    "for 구이름 in 할당_list[::-1]:\n",
    "    동이름_list = dong_dict[구이름]        \n",
    "    for 동이름 in 동이름_list:\n",
    "        review_file = '리뷰정보_' + 구이름 + '_' + 동이름+ '_'+ 업종 + '.csv'\n",
    "        if check_file(file_path=review_path, file_name=review_file):\n",
    "            print(f'{code_file}이 있습니다. 다음 지역으로 이동합니다')\n",
    "            pass\n",
    "        else: naver_review_scrapping(구이름=구이름, 동이름=동이름, 업종=업종)"
   ]
  },
  {
   "cell_type": "code",
   "execution_count": null,
   "id": "d1362988",
   "metadata": {
    "ExecuteTime": {
     "start_time": "2021-10-15T07:43:50.583Z"
    },
    "scrolled": false
   },
   "outputs": [
    {
     "name": "stderr",
     "output_type": "stream",
     "text": [
      "[WDM] - \n",
      "\n",
      "[WDM] - ====== WebDriver manager ======\n",
      "[WDM] - Current google-chrome version is 94.0.4606\n",
      "[WDM] - Get LATEST driver version for 94.0.4606\n",
      "[WDM] - Driver [C:\\Users\\bigne\\.wdm\\drivers\\chromedriver\\win32\\94.0.4606.61\\chromedriver.exe] found in cache\n"
     ]
    },
    {
     "name": "stdout",
     "output_type": "stream",
     "text": [
      "가게코드_중랑구_천호제3동_식당.csv이 있습니다. 다음 지역으로 이동합니다\n",
      "중랑구 망우제3동 식당 의 리뷰 스크래핑을 시작합니다.\n",
      "0번째 용마해장국 시작\t9초 소요 로딩완료\t펼펼펼펼펼펼펼펼치기 완료\n",
      "o #o #o #o #o #o #o #o #o #o #o #o #o #o #o #o #o #o #o #o #o #o #o #o #o #o #o #o #o #o #o #o #o #o #o #o #o #o #o #o #o #o #o #o #o #o #o #o #o #o #o #o #o #o #o #o #o #o #o #o #o #o #o #o #o #o #o #o #o #o #o #o #o #o #o #o #o #o #o #o #o #o #o #o #o #o #o #o #o #o #o #o #o #o #o #o #o #o #o #o #o #o #o #o #o #o #o #o #o #o #o #o #o #o #o #o #o #o #o #o #o #o #o #o #o #o #o #o #o #o #o #o #o #o #o #o #o #o #o #o #o #o #o #o #o #o #o #o #o #o #o #o #o #o #o #o #o #o #o #o #o #o #o #o #o #o #o #o #o #o #o #o #o #o #o #o #o #o #o #o #o #o #o #o #o #o #o #o #o #o #o #o #o #o #o #o #o #o #o #o #o #o #o #o #o #o #o #o #o #o #o #o #o #o #o #o #o #o #o #o #o # o #o #o #o #o #o #o #o #    용마해장국 229개 완료.\n",
      "1번째 홍이네떡볶이 시작\t4초 소요 로딩완료\t펼펼펼펼펼펼펼치기 완료\n",
      "o #o #o #o # o #o #o #o #o #o #o #o #o #o #o #o #o #o #o #o #o #o #o #o #o #o #o #o #o #o #o #o #o #o #o #o #o #o #o #o #o #o #o #o #o #o #o #o #o #o #o #o #o #o #o #o #o #o #o #o #o #o #o #o #o #o #o #o #o #o #o #o #o #o #o #o #o #o #o #o #o #o #o #o #o #o #o #o #o #o #o #o #o #o #o #o #o #o #o #o #o #o #o #o #o #o #o #o #o #o #o #o #o #o #o #o #o #o #o #o # o #o #o #o #o #    홍이네떡볶이 125개 완료.\n",
      "2번째 백소정 망우역점 시작\t7초 소요 로딩완료\t펼펼펼펼펼펼펼펼펼치기 완료\n",
      "o #o #o #o #o #o #o #o #o #o #o #o #o #o #o #o #o #o #o #o #o #o #o #o #o #o #o #o #o #o #o #o #o #o #o #o #o #o #o #o #o #o #o #o #o #o #o #o #o #o #o #o #o #o #o #o #o #o #o #o #o #o #o #o #o #o #o #o #o #o #o #o #o #o #o #o ##o #o #o #o #o #o #o #o #o ##o #o #o #o #o #o #o #o #o #o #o #o #o #o #o #o #o #o #o #o #o #o #o #o #o #o #o #o #o #o #o #o #o #o #o #o #o #o #o #o #o #o #o #o #o #o #o #o #o #o #o #o #o #o #o #o #o #o #o #o #o #o #o ##o #o #o #o #o #o #o #o #o ##o #o #o #o #o #o #o #o #o ##o #o #o #o #o #o #o #o #o #o #o #o #o #o ######o #o #o #o #o ######o #o #o #o #o ######    백소정 망우역점 210개 완료.\n",
      "3번째 모나크 시작\t2초 소요 로딩완료\t펼펼펼펼펼펼펼펼펼펼펼펼펼치기 완료\n",
      "o #o #o #o #o #o #o #o #o #o #o #o #o #o #o #o #o #o #o #o #o #o #o #o #o #o #o #o #o #o #o #o #o #o #o #o #o #o #o #o #o #o #o #o #o #o #o #o #o #o #    모나크 50개 완료.\n",
      "4번째 족발상회 시작\t1초 소요 로딩완료\t펼치기 완료\n",
      "o #o #o #o #o #o #o #o #o #o #o #o #o #o #o #o #o #o #o #o #o #o #o #o #o #o #o #o #o #o #o #o #o #o #o #o #o #o #o #o #    족발상회 40개 완료.\n",
      "5번째 대관령쌈밥 시작\t6초 소요 로딩완료\t펼펼펼펼치기 완료\n",
      "o #o #o #o #o #o #o #o #o #o #o #o #o #o #o #o #o #o #o #o #o #o #o #o #o #o #o #o #o #o #o #o #o #o #o #o #o #o #o #o #o #o #o #o #o #o #o #o #o #o #o #o #o #o #o #o #o #o #o #o #o #o #o #o #o #o #o #o #o #o #o #o #o #o #o #o #o #o #o #o #o #o #o #o #o #o #o #o # o #o #o #o #o #o #o #o #o #o # o #o #o #o #o #o #o #o #o #o # o #o #o #o #o #o #o #o #o #o #o #o #o #o #o #o #o #o #o #o #o #o #o #o #o #o #o #o #o #o #o #o #o #o #o #o #o #o #o #o #o #o #o #o #o #o #o #o #o #o #o #o #o #o #o #o #o #o #o #o #o #o #    대관령쌈밥 170개 완료.\n",
      "6번째 Smallmill 시작\t4초 소요 로딩완료\t펼펼펼펼펼치기 완료\n",
      "o #o # o #o #o #o #o #o #o #o #o #o #o #o #o #o #o #o #o #o #o #o #o #o #o #o #o #o #o #o #o #o #o #o #o #o #o #o #o #o #o #o #o #o #o #o #o #o #o #o #o #o #o #o #o #o #o #o #o #o #o #o #o #o #o #o #o #o #o #o #o #o #o #o #o #o #o #o #o #o #o #o #o #o #o #o #o #o #o #o #o #o #o #o #o #o #o #o #o #o #o #o #o #o #o #o #o #o #o #o #o #o #o #o #o #o #o #o #o #o #    Smallmill 120개 완료.\n",
      "7번째 크리스탈 시작\t1초 소요 로딩완료\t펼치기 완료\n",
      "o #o #o #o #o #o #o #o #    크리스탈 8개 완료.\n",
      "8번째 KFC망우동점 시작\t펼펼펼펼치기 완료\n",
      "o #o #o #o #o #o #o #o #o #o #o #o #o #o #o #o #o #o #o #o #o #o #o #o #o #o #o #o #o #o #o #o #o #o #o #o #o #o #o #o #o #o #o #o #o #o #o #o #o #o #o #o #o #o #o #o #o #o #o #o #o #o #o #o #o #o #o #o #o #o #o #o #o #o #o #o #o #o #o #o #o #o #o #o #o #o #o #o #o #o #o #o #o #o #o #o #o #o #o #o #o #o #o #o #o #o #o #o #o #o #o #o #o #o #o #o #o #o #o #o #o #o #o #o #o #o #o #o #o #o #o #o #o #o #o #o #o #o #o #o #o #o #o #o #o #o #o #o #o #o #o #o #o #o #o #o #o #o #o #o #o #o #o #o #o #o #o #o #o #o #o #o #o #o #o #o #o #o #o #o #o #o #o #o #o #o #o #o #o #o #o #o #o #o #o #o #o #o #o #o #o #o #o #o #o #o #o #o #o #o #o #o #o #o #o #o #o #o #o #o #o #o #o #o #o #o #o #o #o #o #    KFC망우동점 230개 완료.\n",
      "9번째 안흥갈비 망우점 시작\t3초 소요 로딩완료\t펼펼펼펼펼펼펼치기 완료\n",
      "o #o #o #o #o #o #o #o #o #o #o #o #o #o #o #o #o #o #o #o #o #o #o #o #o #o #o #o #o #o #o #o #o #o #o #o #o #o #o #o #o #o #o #o #o #o #o #o #o #o #o #o #o #o #o #o #o #o #o #o #o #o #o #o #o #o #o #o #o #o #o #o #o #o #    안흥갈비 망우점 74개 완료.\n",
      "10번째 망우찜쌈밥 본점 시작\t8초 소요 로딩완료\t펼펼펼펼펼펼펼펼펼펼펼펼펼펼펼펼펼치기 완료\n",
      "o #o #o #o #o #o #o #o #o #o #o #o #o # o #o # o #o #o #o #o #o #o #o # o #o # o #o #o #o #o #o #o #o #o #o #o #o #o #o # o #o #o #o #o #o #o #o #o #o # o #o #o #o #o #o #o #o #o #o # o #o #o #o #o #o #o #o #o #o #o #o #o #o #o #o #o #o #o #o #o #o #o #o #o #o #o #o #o #o #o #o #o #o #o #o #o #o #o #o #o #o #o #o #o #o #o #o #o #o #o #o #o #o #o #o #o #o #o #o #o #o #o #o #o #o #o #o #o #o #o #o #o #o #o #o #o #o #o #o #o #o #o #o #o #o #o #o #o #o #o #o #o #o #o #o #o #o #o #o #o #o #o #o #o #o #o #o #o #o #o #o #o #o #o #o #o #o #o #o #o #o #o #o #o #o #o #o #o #o #o #o #o #o #o #o #o #o #o #o #o #o #o #o #o #o #o #o #o #o #o #o #o #o #o #o #o #o #o #o #o #o #o #o #o #o #o #o #o #o #o #o #o #o #o #o #o #o #o #o #o #    망우찜쌈밥 본점 240개 완료.\n",
      "11번째 위자드쏘어 시작\t2초 소요 로딩완료\t펼펼펼펼치기 완료\n",
      "o #o #o #o #o # o #o #o #o #o #o #o #o #o #o #o #o #o #o #o #o #o #o #o #o #o #o #o #o #o #o #o #o #o #o #o #o #o #o #o #o #o #o #o #o #o #o #o #o #o #o #o #o #o #o #o #o #o #o #o #    위자드쏘어 60개 완료.\n",
      "12번째 동부고려제과 시작\t9초 소요 로딩완료\t펼펼펼펼치기 완료\n",
      "o #o #o #o #o #o #o #o #o #o #o #o #o #o #o #o #o #o #o #o #o #o #o #o #o #o #o #o #o #o #o #o #o #o #o #o #o #o #o #o #o #o #o #o #o #o #o #o #o # o #o #o #o #o #o #o #o #o #o # o #o #o #o #o #o #o #o #o #o # o #o #o #o #o #o #o #o #o #o #o #o #o #o #o #o #o #o #o #o #o #o #o #o #o #o #o #o #o #o #o #o #o #o #o #o #o #o #o #o #o #o #o #o #o #o #o #o #o #o #o #o #o #o #o #o #o #o #o #o #o #o #o #o #o #o #o #o #o #o #o #o #o #o #o #o #o #o #o #o #o #o #o #o #o #o #o #o #o #o #o #o #o #o #o #o #o #o #o #o #o #o #o #o #o #o #o #o #o #o #o #o #o #o #o #o #o #o #o #o #o #o #o #o #o #o #o #o #o #o #o #o #o #o #o #o #o #o #o #o #o #o #o #o #o #o #o #o #o #o #o #o #o #o #o #o #o #o #o #o #o #o #o #o #o #o #o #o #o #o #o #o #o #o #o #o #o #o #o #o #o #o #o #o #o #o #o #o #o #o #o #o #o #o #o #o #o #o #o #o #o #o #o #o #o #o #o #o #o #o #o #    동부고려제과 280개 완료.\n",
      "13번째 탐나종합어시장 망우사거리점 시작\t10초 소요 로딩완료\t펼펼펼펼펼펼펼펼펼펼치기 완료\n",
      " o #o #o #o #o #o #o #o #o #o #o #o #o #o #o #o #o #o #o #o #o #o #o #o #o #o #o #o #o #o #o #o #o #o #o #o #o #o #o #o #o #o #o #o #o #o #o #o #o #o #o #o #o #o #o #o #o #o #o #o #o #o #o #o #o # o #o #o #o #o #o #o #o #o #o # o #o #o #o #o #o #o #o #o #o # o #o #o #o #o #o #o #o #o #o #o #o #o #o #o #o #o #o #o #o #o #o #o #o #o #o #o #o #o #o #o #o #o #o #o #o #o #o #o #o #o #o #o #o #o #o #o #o #o #o #o #o #o #o #o #o #o #o #o #o #o #o #o #o #o #o #o #o #o #o #o #o #o #o #o #o #o #o #o #o #o #o #o #o #o #o #o #o #o #o #o #o #o #o #o #o #o #o #o #o #o #o #o #o #o #o #o #o #o #o #o #o #o #o #o #o #o #o #o #o #o #o #o #o #o #o #o #o #o #o #o #o #o #o #o #o #o #o #o #o #o #o #o #o #o #o #o #o #o #o #o #o #o #o #o #o #o #o #o #o #o #o #o #o #o #o #o #o #o #o #o #o #o #o #o #o #o #o #o #o #o #o #o #o #o #o #o #o #o #o #o #o #o #o #o #o #o #o #o #o #o #o #o #o #o #o #    탐나종합어시장 망우사거리점 291개 완료.\n",
      "14번째 소문난순대국 시작\t3초 소요 로딩완료\t펼치기 완료\n",
      "o #o #o #o #o #o #o #o #o #o #o #o #o #o #o #o #o #o #o #o #o #o #o #o #o #o #o #o #o #o #o #o #o #o #o #o #o #o #o #o #o #o #o #o #o #o #o #o #o #o #o #o #o #o #o #o #o #o #o #o #o #o #o #o #o #o #o #o #o #o #    소문난순대국 70개 완료.\n",
      "15번째 제주은희네해장국 중랑망우점 시작\t4초 소요 로딩완료\t펼치기 완료\n",
      "o #o #o #o #o #o #o #o #o #o #o #o #o #o #o #o #o #o # o #o #o #o #o #o #o #o #o #o # o #o #o #o #o #o #o #o #o #o # o #o #o # o #o #o #o #o #o #o #o #o #o # o #o #o #o #o #o #o #o #o #o # o #o #o #o #o #o #o #o #o #o #o #o #o #o #o #o #o #o #o #o #o #o #o #o #o #o #o #o #o #o #o #o #o #o #o #o #o #o #o #    제주은희네해장국 중랑망우점 100개 완료.\n",
      "16번째 써브웨이 망우점 시작\t펼펼펼펼펼펼펼펼펼펼치기 완료\n"
     ]
    },
    {
     "name": "stdout",
     "output_type": "stream",
     "text": [
      "o #o #o #o #o #o #o #o #o #o #o #o #o #o #o #o #o #o #o #o #o #o #o #o #o #o #o #o #o #o #o #o #o #o #o #o #o #o #o #o #o #o #o #o #o #o #o #o #o #o #o #o #o #o #o #o #o #o #o #o #o #o #o #o #o #o #o #o #o #o #o #o #o #o #o #o #o #o #o #o #o #o #o # o #o #o #o #o #o #o #o #o #o # o #o #o #o #o #o #o #o #o #o # o #o #o #o #o #o #o # o #o #o #o #o #o #o #o #o #o # o #o #o #o #o #o #o #o #o #o # o #o #o #o #o #o #o #o #o #o #o #o #o #o #o #o #o #o #o #o #o #o #o #o #o #o #o #o #o #o #o #o #o #o #o #o #o #o #o #o #o #o #o #o #o #o #o #o #o #o #o #o #o #o #o #o #o #o #o #o #o #o #o #o #o #o #o #o #o #o #o #o #o #o #o #o #o #o #o #o #o #o #o #o #o #o #o #o #o #o #o #o #o #o #o #o #o #o #o #o #o #o #o #o #o #o #o #o #o #o #o #o #o #o #o #o #o #o #o #o #o #o #o #o #o #o #o #o #o #o #o #o #o #o #o #o #o #o #o #o #o #o #o #o #o #o #o #o #o #o #o #o #o #o #o #o #o #o #o #o #o #o #o #o #o #o #o #o #o #o #o #o #o #o #o #o #o #o #o #o #o #o #o #o #o #o #o #o #o #o #    써브웨이 망우점 320개 완료.\n",
      "17번째 메종드그릭 시작\t1초 소요 로딩완료\t펼펼펼펼펼펼치기 완료\n",
      "o #o #o #o #o #o #o #o # o #o #o #o ##o #o #o #o #o #    메종드그릭 18개 완료.\n",
      "18번째 카페소고 2호점 시작\t3초 소요 로딩완료\t펼펼펼펼치기 완료\n",
      "o #o #o #o #o #o #o #o #o #o #o #o #o # o #o #o #o #o #o #o #o #o #o # o #o #o #o #o #o #o #o #o #o # o #o #o #o #o #o #o #o #o #o # o #o #o #o #o #o #o #o #o #o # o #o #o #o #o #o #o #o #o #o # o #o #o #o #o #o #o #o #o #o # o #o #o #o #o #o #o #    카페소고 2호점 80개 완료.\n",
      "19번째 BHC치킨 중랑사랑점 시작\t6초 소요 로딩완료\t펼치기 완료\n",
      "o #o #o #o #o #o #o # o #o #o #o #o #o #o #o #o #o #o #o #o #o #o #o #o #o #o #o #o #o #o #o #o #o #o #o #o #o #o #o #o #o #o #o #o #o #o #o #o #o #o #o #o #o #o #o #o #o #o #o #o #o #o # o #o #o #o #o #o #o #o #o #o # o #o #o #o #o #o #o #o #o #o # o #o #o #o #o #o #o #o #o #o #o #o #o #o #o #o #o #o #o #o #o #o #o #o #o #o #o #o #o #o #o #o #o #o #o #o #o #o #o #o #o #o #o #o #o #o #o #o #o #o #o #o #o #o #o #o #o #o #o #o #o #o #o #o #o #o #o #o #o #o #o #o #o #o #o #o #o #o #o #o #o #o #o #o #o #o #o #o #o #o #o #o #o #o #o #o #o #o #    BHC치킨 중랑사랑점 180개 완료.\n",
      "20번째 리얼파스타 망우점 시작\t2초 소요 로딩완료\t펼펼펼펼펼펼펼펼펼펼펼펼펼치기 완료\n",
      "o #o #o #o #o #o #o # o #o #o #o #o #o #o #o #o #o #o #o #o #o #o #o #o #o #o #o #o #o #o #o #o #o #o #o #o #o #o #o #o ###############################    리얼파스타 망우점 70개 완료.\n",
      "21번째 짬뽕9단 상봉점 시작\t5초 소요 로딩완료\t펼펼치기 완료\n",
      "o #o #o #o #o #o #o #o #o #o #o #o #o #o #o #o #o #o #o #o #o #o #o #o #o #o #o #o #o #o #o #o #o #o #o #o #o #o #o #o #o #o #o #o #o #o #o #o #o #o #o #o #o #o #o #o #o #o #o #o #o #o #o #o #o #o #o #o #o #o #o #o #o #o #o #o #o #o #o #o #o #o #o #o #o #o #o #o #o #o #o #o #o #o #o #o #o #o #o #o #o #o #o #o #o #o #o #o #o #o #o #o #o #o #o #o #o #o #o #o #o #o #o #o #o #o #    짬뽕9단 상봉점 126개 완료.\n",
      "22번째 맑은샘 시작\t1초 소요 로딩완료\t펼치기 완료\n",
      "o #o #o #    맑은샘 3개 완료.\n",
      "23번째 네네치킨 망우점 시작\t2초 소요 로딩완료\t펼펼펼펼펼펼펼펼펼치기 완료\n",
      "o #o #o #o #o #o #o #o #o #o #o #o #o #o #o #o #o #o #o #o #o #o #o #o #o #o #o #o #o #o #o #o #o #o #o #o #o #o #o #o #o #o #o #o #o #o #o #o #o #o #    네네치킨 망우점 50개 완료.\n",
      "24번째 파크더블유 시작\t7초 소요 로딩완료\t펼펼펼펼펼펼펼펼펼펼펼펼펼펼펼펼펼펼펼치기 완료\n",
      "o #o #o #o ##o #o #o #o #o #o #o #o #o #o #o #o #o #o #o #o #o #o #o #o #o #o #o #o #o #o #o #o #o #o #o #o #o #o #o #o #o #o #o #o #o #o # o #o #o #o #o #o #o #o #o #o # o #o #o #o #o #o #o #o #o #o # o #o #o ##o #o #o #o #o #o #o #o #o ##o #o #o #o #o #o #o #o #o ##o #o #o #o #o #o #o #o #o #o #o #o #o #o ###o #o #o #o #o #o #o #o ###o #o #o #o #o #o #o #o ###o #o #o ####o #o #####o ####o #o #####o ####o #o #####o #o # o #o ##o #o #o #o #o #o #o # o #o ##o #o #o #o #o #o #o # o #o ##o #o #o #o #o #o #    파크더블유 190개 완료.\n",
      "25번째 순자네다락방 시작\t3초 소요 로딩완료\t펼펼치기 완료\n",
      "o #o #o # o #o #o #o #o #o #o #o #o #o #o #o #o #o #o #o #o #o #o #o #o #o #o #o #o #o #o #o #o #o #o #o #o #o #o #o #o #o #o #o #o #o #o #o #o #o #o #o #o #o #o #o #o #o #o #o #o #o #o #o #o #o #o #o #o #o #o #o #o #o #o #    순자네다락방 74개 완료.\n",
      "26번째 왕십리불곱창 시작\t3초 소요 로딩완료\t펼펼펼치기 완료\n",
      "o #o #o #o #o #o #o #o #o #o #o #o #o #o #o #o #o #o #o #o #o #o #o #o #o #o #o #o #o #o #o #o #o #o #o #o #o #o #o #o #o #o #o #o #o #o #o #o #o #o #o #o #o #o #o #o #o #o #o #o #o #o #o #o #o #o #o #o #o #o #o #o #o #o #o #o #o #o #o #o #o #o #o #o #o #o #o #o #o #o #    왕십리불곱창 90개 완료.\n",
      "27번째 동강오리 본점 시작\t5초 소요 로딩완료\t펼펼펼펼펼펼펼펼치기 완료\n",
      "o #o #o #o #o #o # o #o #o #o #o #o #o #o #o #o #o #o #o #o #o #o #o #o #o #o #o #o #o #o #o #o #o #o #o #o #o #o #o #o #o #o #o #o #o #o #o #o #o #o #o #o #o #o #o #o #o #o #o #o #o #o #o #o #o #o #o #o #o #o #o #o #o #o #o #o #o #o #o #o #o #o #o # o #o #o #o #o #o #o #o #o #o # o #o #o #o #o #o #o #o #o #o # o #o #o #o #o #o #o #o #o #o #o #o #o #o #o #o #o #o #o #o #o #o #o #o #o #o #o #o #o #o #o #o #o #o #o #o #o #    동강오리 본점 140개 완료.\n",
      "28번째 파파도나스 상봉점 시작\t4초 소요 로딩완료\t펼치기 완료\n",
      "o #o #o #o #o #o #o #o #o #o #o #o #o #o #o #o #o #o #o #o #o #o #o #o #o #o #o #o #o #o #o #o #o #o #o #o #o #o #o #o #o #o #o #o #o #o #o #o #o #o #o #o #o #o #o #o #o #o #o #o #o #o #o #o #o #o #o #o #o #o #o #o #o #o #o #o #o #o #o #o #o #o #o #o #o #o #o #o #o #o #o #o #o #o #o #o #o #o #o #o #o #o #o #o #o #o #o #o #o #o #o #o #o #o #o #o #o #o #o #o #o #o #o #o #o #o #o #o #o #o #    파파도나스 상봉점 130개 완료.\n",
      "29번째 본가장수촌 시작\t2초 소요 로딩완료\t펼펼펼펼치기 완료\n",
      "o #o #o #####o #o #o #o #o #o #o #o #o #o #o #o #o #o #o #o #o #o #o #o #o #o #o #o #o #o #o #o #o #o #o #o #o #o #o #o #o #o #o #o #o #o #o #o #o #o #o #o #o #o #o #o #o #    본가장수촌 60개 완료.\n"
     ]
    },
    {
     "name": "stderr",
     "output_type": "stream",
     "text": [
      "[WDM] - \n",
      "\n",
      "[WDM] - ====== WebDriver manager ======\n",
      "[WDM] - Current google-chrome version is 94.0.4606\n",
      "[WDM] - Get LATEST driver version for 94.0.4606\n",
      "[WDM] - Driver [C:\\Users\\bigne\\.wdm\\drivers\\chromedriver\\win32\\94.0.4606.61\\chromedriver.exe] found in cache\n"
     ]
    },
    {
     "name": "stdout",
     "output_type": "stream",
     "text": [
      "reboot chrome\n",
      "30번째 무쏘 망우점 시작\t8초 소요 로딩완료\t펼펼펼펼펼펼펼펼펼펼펼펼펼펼펼펼치기 완료\n",
      "o #o #o #o #o #o #o #o #o #o #o #o #o #o #o #o #o #o #o #o #o #o #o #o #o #o #o #o #o #o #o #o #o #o #o #o #o #o #o #o #o #o #o #o #o #o #o #o #o #o #o #o #o #o #o #o #o #o #o #o #o #o #o #o #o #o #o #o #o #o #o #o #o #o #o #o #o #o #o #o #o #o #o #o #o #o #o #o #o #o #o #o #o #o #o #o #o #o #o #o #o #o #o #o #o #    무쏘 망우점 105개 완료.\n",
      "31번째 소중한식당 시작\t2초 소요 로딩완료\t펼펼펼펼펼펼펼펼펼펼펼치기 완료\n",
      "o #o #o #o #o #o #o #o #o #o #o # o #o #o #o #o #o #o #o #o #o #o #o #o #o #o #o #o #o #o #o #o #o #o #o #o #o #o #o #o #o #o #o #o #o #o #o #o #o #o #o #o #o #o #o #o #    소중한식당 56개 완료.\n",
      "32번째 잉꼬네떡볶이 시작\t1초 소요 로딩완료\t펼치기 완료\n",
      "o #o #o #o #o #o #    잉꼬네떡볶이 6개 완료.\n",
      "33번째 쿠미카페 시작\t2초 소요 로딩완료\t펼치기 완료\n",
      "o #o #o #o #o #o #o #o #o #o #o #o #o #o #o #o #o #o #o #o #o #o #o #o #o #o #o #o #o #o #o #o #o #o #o #o #o #o #o #o #o #o # o #o #o #o #o #o #o #o #o #o #o #o #o #o #o #o #o #    쿠미카페 59개 완료.\n",
      "34번째 알로이 짱 시작\t1초 소요 로딩완료\t펼펼펼펼펼펼펼치기 완료\n",
      "o #o #o #o #o #o # o #o #o #o #o #o #o #o #o #o #o #o #    알로이 짱 18개 완료.\n",
      "35번째 Ebon 시작\t1초 소요 로딩완료\t펼치기 완료\n",
      "o #o #o #o #o #    Ebon 5개 완료.\n",
      "36번째 맹돌이생선구이쌈밥전문점 시작\t2초 소요 로딩완료\t펼펼펼펼펼펼치기 완료\n",
      "o #o #o #o #o #o #o #o #o #o #o #o #o #o #o #o #o #o #o #o #o #o #o #o #o #o #o #o #o #o #o #o #o #o #o #o #    맹돌이생선구이쌈밥전문점 36개 완료.\n",
      "37번째 똑똑카페 시작\t1초 소요 로딩완료\t펼치기 완료\n",
      "o #o #o #o #o #o #o #o #    똑똑카페 8개 완료.\n",
      "38번째 빙수야 망우점 시작\t3초 소요 로딩완료\t펼펼펼펼펼펼펼치기 완료\n",
      "o #o #o #o #o #o #o #o #o #o #o #o #o #o #o #o #o #o # o #o #o #o #o #o #o #o #o #o #o #o #o #o #o #o #o #o #o # o # o #o #o #o #o #o #o #o #o #o #o #o #o #o #o #o #o #o #o #o #o #o #o #o #o #o #o #o # o #o # o #o #########o ###o ##    빙수야 망우점 83개 완료.\n",
      "39번째 식껍 중랑망우점 시작\t1초 소요 로딩완료\t펼펼펼펼펼펼치기 완료\n",
      "###########################    식껍 중랑망우점 27개 완료.\n",
      "40번째 회슐랭 시작\t3초 소요 로딩완료\t펼펼펼펼펼펼펼펼펼펼펼치기 완료\n",
      "o #o #o #o #o #o #o #o #o #o #o #o #o #o #o #o #o #o #o #o #o #o #o #o #o #o #o #o #o #o #o #o #o #o #o #o #o #o #o #o #o #o #o #o #o #o #o #o #o #o #o #o #o #o #o #o #o #o #    회슐랭 58개 완료.\n",
      "41번째 팡도리노 베이커리 시작\t6초 소요 로딩완료\t펼펼펼펼펼펼치기 완료\n",
      "o #o #o #o #o #o #o #o #o #o #o #o #o #o #o #o #o #o #o #o #o #o #o #o #o #o #o #o #o #o #o #o #o #o #o #o #o #o #o #o #o #o #o #o #o #o #o #o #o #o #o #o #o #o #o #o #o #o #o #o #o #o #o #o #o # o #o #o #o #o #o #o #o #o #o #o #o # o #o #o #o #o #o #o #o #o #o #o #o #o #o #o #o #o #o #o #o #o #o #o #o #o #o #o #o #o #o #o #o #o #o #o #o #o #o #o #o #o #o #o #o #o #o #o #o #o #o #o #o #o #o #o #o #    팡도리노 베이커리 133개 완료.\n",
      "42번째 커스버트 케이크 시작\t2초 소요 로딩완료\t펼펼치기 완료\n",
      " o ################# #o ## ################    커스버트 케이크 36개 완료.\n",
      "43번째 용마쉼터 시작\t2초 소요 로딩완료\t펼펼펼펼펼치기 완료\n",
      "o #o #o #o #o #o #o #o #o #o #o #o #o #o # o #o #o #o #o #o #o #o #o #o #o #o #o #o #o #o # o #o #o #o #o #    용마쉼터 35개 완료.\n",
      "44번째 동해세수대야동태탕 상봉점 시작\t4초 소요 로딩완료\t펼치기 완료\n",
      "o #o #o #o #o #o #o #o # o #o #o #o #o #o #o #o #o #o #o #o # o #o #o #o #o #o #o #o #o #o #o #o #o #o #o #o #o #o #o #o #o #o #o #o #o #o #o #o #o #o #o #o #o #o #o #o #o #o #o #o #o #o #o #o #o #o #o #o #o #o #o #o #o #o #o #o #o #o #o #o #o #o #o #o #o #o #o #o #o #o #o #o #o #    동해세수대야동태탕 상봉점 93개 완료.\n",
      "45번째 망우정식 시작\t2초 소요 로딩완료\t펼펼펼치기 완료\n",
      "o #o #o #o #o #o #o #o #o #o #o #o #o #o #o #o #o #o #o #o #o #o #o #o #o #o #o #o #o #o #o #o #o #o #o #o #o #o #o #o #o #o #o #o #o #o #o #o #o #o #o #o #    망우정식 52개 완료.\n",
      "46번째 더파이어닭도리탕 시작\t3초 소요 로딩완료\t펼펼펼치기 완료\n",
      "o #o #o #o #o #o #o #o #o #o #o #o #o #o #o #o #o #o # o #o # o # o #o #o #o #o #o #o #o #o #o #o #o #o # o #o #o ##o #o #o #o #o # o #o #o #o #o #o #o #o #o #o #o #o #o #o #o #o #o #o #o #o #o #o #o #    더파이어닭도리탕 66개 완료.\n",
      "47번째 경상도떡볶이 시작\t1초 소요 로딩완료\t펼치기 완료\n",
      "    경상도떡볶이 0개 완료.\n",
      "48번째 용마갈비 시작\t1초 소요 로딩완료\t펼펼펼펼펼치기 완료\n",
      "o # o #o #o #o #o #o #o #o #o # o #o #o #o #o #o #o #o #o #o #o #o #o #o #o #    용마갈비 25개 완료.\n",
      "49번째 망우리오징어집 본점 시작\t2초 소요 로딩완료\t펼치기 완료\n",
      "o #o #o #o #o #o #o #o #o #o # o #o #o #o #o #o #o #o #o #o #o #o #o #o #o #o #o #o #o #o #o #o #o #o #o #o #o #o #o #o #o #o #o #o #    망우리오징어집 본점 44개 완료.\n",
      "중랑구 망우제3동 식당 의 리뷰 스크래핑을 완료했습니다.\n",
      "4773 개 수집완료, 5619.279662847519\n"
     ]
    },
    {
     "name": "stderr",
     "output_type": "stream",
     "text": [
      "[WDM] - \n",
      "\n",
      "[WDM] - ====== WebDriver manager ======\n",
      "[WDM] - Current google-chrome version is 94.0.4606\n",
      "[WDM] - Get LATEST driver version for 94.0.4606\n",
      "[WDM] - Driver [C:\\Users\\bigne\\.wdm\\drivers\\chromedriver\\win32\\94.0.4606.61\\chromedriver.exe] found in cache\n"
     ]
    },
    {
     "name": "stdout",
     "output_type": "stream",
     "text": [
      "중랑구 면목본동 식당 의 리뷰 스크래핑을 시작합니다.\n",
      "0번째 사가정클라쓰 시작\t2초 소요 로딩완료\t펼펼펼치기 완료\n",
      "o #o #o #o #o #o #o #o #o #o #o #o #o #o #o #o #o #o #o #o #o #o #o #o #o #o #o #o #o #o #o #o #o #o #o #o #o #o #o #o #o #o #o #o #o #o #o #o #o #o #    사가정클라쓰 50개 완료.\n",
      "1번째 팡그루 시작\t6초 소요 로딩완료\t펼펼펼펼펼펼펼치기 완료\n",
      "o #o #o #o #o #o #o #o #o #o #o #o #o #o #o #o #o #o #o #o #o #o #o #o # o #o #o #o #o #o #o #o #o #o #o #o #o #o #o #o #o #o #o #o #o #o #o #o #o #o #o #o #o #o #o #o #o #o #o #o #o #o #o #o #o #o #o #o #o #o #o #o #o #o #o #o #o #o #o #o #o #o #o #o #o #o #o #o #o #o #o #o #o #o #o #o #o #o #o #o #o #o #o #o #o #o #o #o #o #o #o #o #o #o #o #o #o #o #o #o #o #o #o #o #o #o #o #o #o #o #o #o #o #o # o #    팡그루 135개 완료.\n",
      "2번째 뱃놈과백정 사가정점 시작\t4초 소요 로딩완료\t펼펼펼치기 완료\n",
      "o #o #o #o #o #o #o # o #o #o #o #o #o #o #o #o #o #o #o #o #o #o #o #o #o #o #o #o #o #o #o #o #o #o #o #o #o #o #o #o #o #o #o #o #o #o #o #o #o #o #o #o #o #o #o #o #o #o #o #o #o #o #o #o #o #o #o #o #o #o #o #o #o #o #o #o #o #o #o #o #o #o #o #o #o #o #o #o #o #o #o #o #o #o #o #o #o #o #o #o #o #o #o #o #o #o #o # o #o #o # o #    뱃놈과백정 사가정점 111개 완료.\n",
      "3번째 면동떡볶이 시작\t1초 소요 로딩완료\t펼치기 완료\n",
      "o #o #o #o #o #o #o #o #o #o #o #o #    면동떡볶이 12개 완료.\n",
      "4번째 작은부엌 시작\t4초 소요 로딩완료\t펼펼펼펼펼치기 완료\n",
      "o #o #o #o #o #o #o # o #o #o #o #o #o # o #o #o #o #o #o #o #o #o #o #o #o #o #o #o #o #o #o #o #o #o #o #o #o #o #o #o #o #o #o #o # o #o #o #o #o #o #o #o #o #o #o #o #o #o #o #o #o #o #o #o #o #o #o #o #o #o #o #o #o #o #o #o #o # o #o #o #o #o #    작은부엌 82개 완료.\n",
      "5번째 키미노돼지국밥 시작\t7초 소요 로딩완료\t펼펼펼펼펼펼펼펼펼펼펼치기 완료\n",
      "o #o #o #o #o #o #o #o #o #o #o #o ##o #o #o #o #o #o #o #o #o #o #o #o #o #o #o #o #o #o #o #o #o #o #o #o #o #o #o #o #o #o #o #o #o #o #o #o #o #o #o #o #o #o #o #o #o ##o #o #o #o #o #o #o #o #o #o #o #o #o #o #o #o #o #o #o #o #o #o #o #o #o #o #o #o #o #o #o #o #o #o #o #o #o #o #o #o #o #o #o #o #o #o #o #o #o #o #o #o #o #o #o #o #o #    키미노돼지국밥 116개 완료.\n",
      "6번째 홍.순.우 순두부 우동국수 시작\t1초 소요 로딩완료\t펼치기 완료\n",
      "    홍.순.우 순두부 우동국수 0개 완료.\n",
      "7번째 원조부안집 면목동점 시작\t9초 소요 로딩완료\t펼펼펼펼펼펼펼펼펼펼펼펼펼펼펼펼펼펼펼펼펼펼펼펼치기 완료\n",
      "o #o #o #o #o #o #o #o #o ##o ##o #o #o ##o ###o #o #o #o #o #o #o #o #o #o #o #o #o #o #o #o #o #o #o #o #o #o #o #o #o #o #o #o #o #o #o #o #o #o #o #o #o #o #o #o #o #o #o #o #o #o #o #o #o #o #o #o #o #o #o #o #o #o #o #o #o #o #o #o #o #o #o #o #o #o #o #o #o #o #o #o #o #o #o #o #o #o #o #o #o #o #o #o #o #o #o #o #o #o #o #o #o #o #o #o #o #o #o #o #o #o #o #o #o #o #o ##o #o #o #o #o #o #o #o #o #o #o #o #o #o #o #o #o #o #o #o #o #o #o #o #o #o #o ##o #o #o #o #o #o #o #o #o #o #o #o #o #o #o #o #o #o #o #o #o #o #o # o #o #o #o #o #o #o #o #o #o #o #o #o #o #o #o #o #o #o #o #o #o #o #o #o #o #o #o #o #o #o #o #o #o #o #o #o #o #o #o #o #o #    원조부안집 면목동점 224개 완료.\n",
      "8번째 쥬스토 시작\t1초 소요 로딩완료\t펼펼펼펼치기 완료\n",
      "o #o #o #o #o # o #o #o #o #o #o #o #o #o #o #o #o #o #o #o #o #o # o #    쥬스토 23개 완료.\n",
      "9번째 면목식탁 시작\t4초 소요 로딩완료\t펼펼펼펼펼펼펼펼치기 완료\n",
      " o #o #o #o #o # o #o #o #o #o #o #o #o #o #o #o #o #o #o #o #o #o #o #o #o #o #o #o #o #o #o #o #o #o #o #o #o #o #o #o #o #o #o #o #o #o #o #o #o #o #o #o #o #o #o #o #o #o #o #o # o #o #o #o #o #o #o #o #o #o #o #o #o #o #o #o #o #o #o #o #o #o #o #o #o #    면목식탁 85개 완료.\n",
      "10번째 더바른차담소 시작\t펼펼펼펼펼펼펼펼펼펼펼펼펼펼펼펼펼펼펼펼펼펼펼펼펼펼펼치기 완료\n",
      "o #o #o #o #o #o #o #o #o #o #o #o #o #o #o #o #o #o #o #o #o #o # o #o #o #o #o #o #o #o #o #o #o #o #o #o #o #o #o #o #o #o #o # o #o #o #o #o #o #o #o #o #o #o #o #o #o #o #o #o #o #o #o #o #o #o #o #o #o #o #o #o #o #o #o #o #o #o #o # o #o #o #o #o #o #o #o #o #o #o #o #o #o # o #o #o # o #o #o #o #o #o #o #o #o #o #o #o #o #o #o #o #o #o #o #o #o #o #o #o #o #o #o #o #o #o #o #o #o #o #o #o #o #o #o #o #o #o #o # o #o #o #o #o #o #o #o #o #o #o #o #o #o #o #o #o #o #o #o #o #o #o #o #o #o #o #o #o #o ##o #o #o #o #o # o #o #o #o #o #o #o #o #o #o #o #o #o #o #o #o ##o #o #o #o #o #o # o #o #    더바른차담소 200개 완료.\n",
      "11번째 농부보쌈 시작\t4초 소요 로딩완료\t펼펼펼펼치기 완료\n",
      "o #o #o #o #o #o #o #o #o #o #o #o #o #o #o # o #o #o #o #o #o #o #o #o #o # o #o #o #o # o #o #o #o #o #o #o #o #o #o #o #o #o #o #o #o #o #o #o #o #o #o #o #o # o #o #o #o #o #o #o #o #o #o # o #o #o #o #o #o #o #o #o #o #o #o #o #o #o #o #o #o #o #o #o #o #o #o #o #o #o #o #o #o #o #o #o #o #o #o #o #    농부보쌈 100개 완료.\n",
      "12번째 빵꽃빵꽃 시작\t4초 소요 로딩완료\t펼펼펼펼펼펼펼펼펼펼펼펼펼펼펼펼펼펼치기 완료\n",
      "o #o #o #o #o #o #o #o #o #o #o #o #o # o #o #o #o #o #o #o #o #o # o #o #o # o # o #o ##o ########o ##########o #o #o ##o #o #o ###o ###o #o #o #o #o #o #o #o #o #o #o #o #o #o #o ######    빵꽃빵꽃 79개 완료.\n",
      "13번째 위대한족보 시작\t2초 소요 로딩완료\t펼펼펼치기 완료\n",
      "!!o #o #o #o #o #o #o #o #o #o #o #o #o #o #o #o #o #o #o #o #o #o #o #o #o #o #o #o #o #o #o #o #o #o #o #o #o #o #o #o # o #o #o #o #o #    위대한족보 45개 완료.\n",
      "14번째 장수부띠끄 시작\t2초 소요 로딩완료\t펼펼펼펼펼치기 완료\n",
      "o #o #o #o #o #o #o #o #o #o #o #o #o #o #o #o #o #o #o #o # o # o # o #o #o #o #o #o #o #o #o #o #o #o #o #    장수부띠끄 35개 완료.\n",
      "15번째 열혈셰프 면목동본점 시작\t2초 소요 로딩완료\t펼펼펼치기 완료\n",
      "o #o #o #o #o #o #o ############ #####################    열혈셰프 면목동본점 39개 완료.\n",
      "16번째 주노샌드 시작\t4초 소요 로딩완료\t펼펼펼펼펼펼펼펼펼펼펼펼펼치기 완료\n",
      "o #o #o #o #o #o #o #o #o #o #o #o #o #o #o #o #o #o #o #o #o #o #o #o #o #o #o #o #o #o #o #o #o #o #o #o #o #o #o #o #o #o #o #o #o #o #o #o #o #o #o #o #o #o #o #o #o #o #o #o #o #o #o #o #o #o #o #o #o #o #o #o #o #o #o #o #o #o #o #o #o #o #o #o #o #o #o #o #o #o #    주노샌드 90개 완료.\n",
      "17번째 순돈까스 시작\t7초 소요 로딩완료\t펼펼펼펼펼펼펼펼펼펼치기 완료\n",
      "o #o #o #o #o #o #o #o #o #o #o #o #o #o #o #o #o #o #o #o #o #o #o #o #o #o #o #o #o #o #o #o #o #o #o #o #o #o #o #o #o #o #o #o #o #o #o #o #o #o #o #o #o #o #o #o #o #o #o #o #o #o #o #o #o #o #o #o #o #o #o #o #o #o #o #o #o #o #o #o #o #o #o #o #o #o #o #o #o #o #o #o #o #o #o #o #o #o #o #o #o #o #o #o #o #o #o #o #o #o #o #o #o #o #o #o #o #o #o #o #o #o #o #o #o #o #o #o #o #o #o #o #o #o #o #o #o #o #o #o #o #o #o #o #o #o #o #o #o #o #o #o #o #o #o #o #o #o #o #o #o #o #o #o #o #o #o #o #o #o #o #    순돈까스 171개 완료.\n",
      "18번째 재나양과점 시작\t4초 소요 로딩완료\t펼펼펼펼펼치기 완료\n",
      "o #o #o #o #o #o #o #o #o #o #o #o # o #o #o #o #o #o #o #o #o #o #o #o #o #o #o #o #o #o #o # o #o #o #o #o #o #o #o #o #o #o #o #o #o #o #o #o #o #o #o #o #o #o #o #o #o #o #o #o #o #o #o #o #o #o #o #o #o #o #o #o #o #o #o #o #o # o # o # o #o #o #o #o #o #o #o # o #o #o #o #o #o #o #o #o #o #    재나양과점 97개 완료.\n",
      "19번째 카페개인 시작\t3초 소요 로딩완료\t펼치기 완료\n",
      "o #o #o #o #o #o #o #o #o #o #o #o #o #o #o #o #o #o #o #o #o #o #o #o #o #o #o #o #o #o #o #o #o #o #o #o #o #o #o #o #o #o #o #o #o #o #o #o #o #o #o # o #o # o #o #o #o #o #o #o #o #    카페개인 61개 완료.\n",
      "20번째 찜집본점 시작\t9초 소요 로딩완료\t펼펼펼펼펼펼치기 완료\n",
      "o #o #o #o #o #o #o #o #o #o #o #o #o #o #o #o #o #o #o #o #o #o #o #o #o #o #o #o #o #o #o #o #o #o #o #o #o #o #o #o #o # o #o #o #o #o #o #o #o #o #o #o #o #o #o #o #o #o #o #o #o #o #o #o #o #o #o #o #o #o #o #o #o #o #o #o #o # o #o #o #o #o #o #o #o #o #o #o #o #o #o #o #o #o #o #o #o #o #o #o #o #o # o #o #o #o #o #o # o #o # o #o #o #o #o # o #o #o #o #o #o #o #o #o #o #o #o #o #o #o #o #o #o #o #o #o #o #o #o #o #o #o #o #o #o #o #o #o #o #o #o #o #o #o #o #o #o #o # o #o #o #o #o # o #o #o #o #o #o #o #o #o #o #o #o #o #o #o #o #o #o #    찜집본점 181개 완료.\n",
      "21번째 달콤한 나들이 시작\t1초 소요 로딩완료\t펼펼펼펼치기 완료\n",
      "o #o #o #o #o #o #o #o #o #o #o #o #o #o #o #o #o ##o #o #o #o #o #o #    달콤한 나들이 24개 완료.\n",
      "22번째 샤브숲 시작\t6초 소요 로딩완료\t펼펼펼펼치기 완료\n",
      "o #o #o # o #o #o #o #o #o #o #o #o #o #o #o #o #o #o #o #o #o #o #o #o #o #o #o #o #o #o #o #o #o #o #o #o #o #o #o #o #o #o #o #o #o #o #o #o #o #o #o #o #o #o #o #o #o #o #o #o #o #o #o #o #o #o #o #o #o #o #o #o #o #o #o #o #o #o #o #o #o #o #o #o #o #o #o #o #o #o #o #o #o #o #o #o #o #o #o #o #o #o #o #o #o #o #o #o #o #o #o #o #o #o #o #o #o #o #o #o #o #o #o #o #o #o #o #o #o #o #o #o #o #o # o # o #o #o #o #o #o #o #o #o #o #o #o # o #o #o #o #o #o #    샤브숲 153개 완료.\n",
      "23번째 사가정 고기를품다 시작\t펼펼펼펼펼펼펼펼펼펼펼펼펼펼펼펼펼펼펼펼펼펼펼펼펼펼펼펼펼펼펼펼펼펼펼펼펼펼치기 완료\n",
      "o #o #o #o #o #o #o #o #o #o #o #o #o #o #o #o #o #o # o #o #o #o #o # o #o #o #o #o #o #o #o #o #o #o #o #o #o #o #o #o #o #o #o #o ###########################o #####o ############ #o ###################################o #o #o #o #o # #o ###################################o ####################o ##o ######o ###############o ####o #o #o #o #o #o ######################################################    사가정 고기를품다 270개 완료.\n",
      "24번째 버거메이슨 시작\t2초 소요 로딩완료\t펼치기 완료\n"
     ]
    },
    {
     "name": "stdout",
     "output_type": "stream",
     "text": [
      "o #o #o #o #o #o #o #o #o #o #o #o #o #o #o #o # o #o #o #o #o #o #o #o #o #o #o #o #o #o #o #o #o #o #o #o #o #o #o #o #o #o #o #o #o #o #o #    버거메이슨 47개 완료.\n",
      "25번째 이차돌 면목역점 시작\t펼펼펼펼펼펼펼펼펼펼치기 완료\n",
      "o #o #o #o #o #o #o #o #o #o #o #o #o #o #o #o #o #o #o #o #o #o #o #o #o #o #o #o #o #o #o #o #o #o #o #o #o #o #o #o #o #o #o #o #o #o #o #o #o #o #o #o #o #o #o #o #o #o #o #o #o #o #o #o #o #o #o #o #o #o #o #o #o #o #o #o #o #o #o #o #o #o #o #o #o #o #o #o #o #o #o #o #o #o #o #o #o #o #o #o #o #o #o #o #o #o #o #o #o #o #o #o #o #o #o #o #o #o #o #o #o #o #o #o #o #o #o #o #o #o #o #o #o #o #o #o #o #o #o #o #o #o #o #o #o #o #o #o #o #o #o #o #o #o #o #o #o #o #o #o #o #o #o #o #o #o #o #o #o #o #o #o #o #o #o #o #o #o #o #o #o #o #o #o #o #o #o #o #o #o #o #o #o #o #o #o #o #o #o #o #o #o #o #o #o #o #o #o #o #o #o #o #o #o #o #o #o #o #o #o #o #o #o #o #o #o #o #o #o #o #o #o #o #o #o #o #o #o #o #o #o #o #o #o #o #o #o #o #o #o #o #o #o #o #o #o #o #o #o #o #o #o #o #o #o #o #o #o #o #o #    이차돌 면목역점 270개 완료.\n",
      "26번째 찡어찡어 시작\t3초 소요 로딩완료\t펼펼펼펼펼치기 완료\n",
      "o #o #o #o #o #o #o #o #o #o #o #o #o #o #o #o #o #o #o #o #o #o #o #o #o #o #o #o #o #o #o #o #o #o #o #o #o ##o #####o #o #o #o ##o #o #o #o #o #o #o #o #o #o #o #o #o #o #o #o #o #o #o #o #o #o #o #o #o #o #o #o #o #    찡어찡어 77개 완료.\n",
      "27번째 비스트로일상 시작\t5초 소요 로딩완료\t펼펼펼펼펼펼펼펼펼펼펼펼펼펼펼펼치기 완료\n",
      "o #o #o #o #o #o #o #o #o #o #o #o #o #o #o #o #o #o #o #o #o #o #o #o # o #o #o #o #o #o #o #o #o #o #o #o #o #o #o #o #o #o #o #o #o #o #o #o #o #o #o #o #o #o #o #o #o #o #o #o #o #o #o #o #o #o #o #o #o #o #o #o #o #o #o #o #o #o #o #o #o #o #o #o #o #o #o #o #o #o #o #o #o #o #o #o #o #o #o #o #o #o #o #o #o #o #o #o #o #o #o #o #o #o #    비스트로일상 114개 완료.\n",
      "28번째 단조 시작\t4초 소요 로딩완료\t펼펼펼펼펼펼치기 완료\n",
      "o #o #o #o #o #o #o #o #o #o #o #o #o #o #o #o #o #o #o #o #o #o #o #o #o #o #o #o #o # o #o #o #o #o #o #o #o #o #o #o #o #o #o #o #o # o #o #o #o #o #o #o #o #o #o #o #o #o #o #o #o #o #o #o #o #o #o #o #o #o #o #o #o #o #o #o #o #o #o #o #o #o #o #o # o #o #o #o #o #o #o #o #o #o #o #    단조 95개 완료.\n",
      "29번째 사계초밥 시작\t2초 소요 로딩완료\t펼펼펼치기 완료\n",
      "o #o #o #o #o #o #o #o #o #o #o #o #o #o #o #o #o # o #o #o #o #o #o #o # o #o #o #o #o #o #o #o #o #o #o #o #o # o #o #o #o #o #o #o #o #o #    사계초밥 46개 완료.\n"
     ]
    },
    {
     "name": "stderr",
     "output_type": "stream",
     "text": [
      "[WDM] - \n",
      "\n",
      "[WDM] - ====== WebDriver manager ======\n",
      "[WDM] - Current google-chrome version is 94.0.4606\n",
      "[WDM] - Get LATEST driver version for 94.0.4606\n",
      "[WDM] - Driver [C:\\Users\\bigne\\.wdm\\drivers\\chromedriver\\win32\\94.0.4606.61\\chromedriver.exe] found in cache\n"
     ]
    },
    {
     "name": "stdout",
     "output_type": "stream",
     "text": [
      "reboot chrome\n",
      "30번째 금화왕돈까스 용마산역점 시작\t펼펼펼펼펼펼펼펼치기 완료\n",
      "o #o #o #o #o #o #o #o #o #o #o #o #o #o #o #o #o #o #o #o #o #o #o #o #o #o #o #o #o #o #o #o #o # o #o #o #o #o #o #o #o #o #o #o #o #o #o #o #o #o #o #o #o #o #o #o #o #o #o #o #o #o #o #o # o #o #o #o #o #o #o #o #o #o #o #o #o #o #o #o #o #o #o #o #o #o #o #o #o #o #o #o #o #o #o #o #o #o #o #o #o #o #o # o #o #o #o #o #o #o #o #o #o #o #o #o #o #o #o #o #o #o #o #o #o #o #o #o #o #o #o #o #o #o #o #o #o #o #o #o #o #o #o #o #o ##o #o #o #o #o #o #o #o #o #o #o #o #o #o #o #o #o #o #o #o #o #o #o #o #    금화왕돈까스 용마산역점 170개 완료.\n",
      "31번째 루앙의부엉이 시작\t10초 소요 로딩완료\t펼펼펼펼펼펼펼펼펼펼펼펼펼펼펼펼펼펼펼펼치기 완료\n",
      "o #o #o #o #o #o #o #o #o #o #o #o #o #o #o #o #o #o #o #o #o #o #o #o #o #o #o #o #o #o #o #o #o #o #o #o #o #o #o #o #o #o #o #o #o #o #o #o #o #o #o #o #o #o #o #o #o #o #o #o #o #o #o #o #o #o #o #o #o #o #o #o #o #o #o #o #o #o #o #o #o # o #o #o #o #o #o #o #o #o #o #o #o #o #o #o #o #o #o #o #o #o #o #o #o #o #o #o #o #o #o #o #o # o #o #o #o #o #o #o #o #o #o #o #o #o #o #o #o #o #o #o #o #o #o #o #o #o #o #o #o #o #o #o #o #o #o #o #o #o #o #o #o #o #o #o #o #o #o #o #o #o #o #o #o #o #o #o #o #o #o #o #o #o #o #o #o #o #o #o #o #o #o #o #o #o #o #o #o #o #o #o #o #o #o #o #o #o #o #o #o #o #o #o #o #o #o #o #o #o #o #o #o #o #o #o #o # o #o #o #o #o #o #o #o #o #o #o #o #o #o ##o #o #o #o #o #o #o #o #o #o #o #o #o #o #o #o #o #o #o #o ##o #o #o #o #o #o #    루앙의부엉이 259개 완료.\n",
      "32번째 장수살롱 시작\t1초 소요 로딩완료\t펼치기 완료\n",
      "o #o #o #o #o #o #o #o #o #o #o #    장수살롱 11개 완료.\n",
      "33번째 초가네장어구이 시작\t5초 소요 로딩완료\t펼펼펼펼펼펼펼펼펼펼펼펼치기 완료\n",
      "o #o #o #o #o #o #o #o #o #o #o #o #o #o #o #o #o #o #o #o #o #o #o #o #o # o #o #o #o #o #o #o #o #o #o #o #o #o #o #o #o #o #o #o #o #o #o #o #o #o #o ###o #####o ###o #o #o #o #o #o #o #o #o #o #o #o #o #o #o #o #o #o #o #o #o #o #o #o #o #o #o #o #o #o #o #o #o #o #o #o #o # o #o #o #o #o #o #o #o #o #o #o #o #o #o #o #o #o #o #o #o #o #o #o #o #o #o #o #o #o #o #o #    초가네장어구이 129개 완료.\n",
      "34번째 스테이 시작\t2초 소요 로딩완료\t펼펼펼펼펼펼펼펼펼치기 완료\n",
      "o #o #o #o #o #o ########o #o ##################    스테이 32개 완료.\n",
      "35번째 소문난감자탕 시작\t1초 소요 로딩완료\t펼펼치기 완료\n",
      "o #o #o #o #o #o #o #o #o #o #o #o #o #o #o #o #o #o #o #o #o #o #o #o #o #    소문난감자탕 25개 완료.\n",
      "36번째 진아구 사가정점 시작\t5초 소요 로딩완료\t펼펼펼펼펼펼펼펼펼펼치기 완료\n",
      "o #o #o #o #o #o #o #o #o #o #o #o #o #o #o #o #o #o #o #o #o #o #o #o #o #o #o #o #o #o #o #o #o #o #o #o #o #o #o #o #o #o #o #o #o #o #o #o #o #o #o #o #o #o #o #o #o #o #o #o #o # o #o #o #o #o #o #o #o #o #o #o #o #o #o #o #o #o #o #o #o #o #o #o #o #o #o #o #o #o #o #o #o #o #o #o #o # o #o #o #o #o #o #o #o #o #o #o #o #o #o #o #o #o #o #o #o #o #o #o #o #o #o #o #o #    진아구 사가정점 125개 완료.\n",
      "37번째 컨센트릭 시작\t1초 소요 로딩완료\t펼치기 완료\n",
      "o #o #o #o #o #o #o #o #o #o #o #o #o #o #o #o #    컨센트릭 16개 완료.\n",
      "38번째 참맛깔곱창 시작\t8초 소요 로딩완료\t펼치기 완료\n",
      "o #o #o #o #o #o #o #o #o #o #o #o #o #o #o #o # o #o #o #o #o #o #o #o #o #o #o #o #o #o #o #o #o #o #o #o #o #o #o #o #o #o #o #o #o #o #o #o #o #o #o #o #o #o #o #o #o #o #o #o #o #o #o #o #o #o #o #o #o #o #o #o #o #o #o #o #o #o #o #o #o #o #o #o #o #o #o #o # o #o #o #o #o #o #o #o #o #o #o #o #o #o #o #o #o #o #o #o #o #o #o #o #o #o #o #o #o #o #o #o #o #o #o #o #o #o #o #o #o #o #o #o #o #o #o #o #o #o #o #o #o #o #o #o #o #o #o #o #o #o #o #o #o #o #o #o #o #o #o #o #o #o #o #o #o #o #o #o #o #o #o #o #o #o #o #o #o #o #o #o #o #o #o #o #o #o #o #o #o #o #o #o #o #o #o #o #o #o #o #o #o #o #o #o #o #o #o # o #o #o #o #o #o #o #o #o #o #o #o #o #o #o #o #o #o #o #o #    참맛깔곱창 227개 완료.\n",
      "39번째 바다마차 시작\t2초 소요 로딩완료\t펼펼치기 완료\n",
      "o #o #o #o #o #o #o #o #o #o # o #o #o #o #o #o #o #o #o # o #o #o #o #o #o #o #o #o #o #o #o #o #o #o #o #o # o #o #    바다마차 38개 완료.\n",
      "40번째 토리아에즈 사가정점 시작\t1초 소요 로딩완료\t펼펼펼펼치기 완료\n",
      "o ##o #o #o #o #o #o #o #o #o #o #o #o #o #o #o #o # o #o #o #o #o #o #o #o #o #o #o #    토리아에즈 사가정점 29개 완료.\n",
      "41번째 슌락 시작\t1초 소요 로딩완료\t펼펼치기 완료\n",
      "o #o #o #o #o #o #o #o #o #o #o #o #o #o #o #o #o #o #o #o #o #o #    슌락 22개 완료.\n",
      "42번째 통큰소무한리필 사가정점 시작\t10초 소요 로딩완료\t펼펼펼펼펼펼펼펼펼펼펼펼펼펼펼펼펼펼펼펼펼치기 완료\n",
      "o #o #o #o #o #o #o ##o #o #o #o #o #o #o #o #o #o #o #o #o #o #o #o #o #o #o #o #o #o #o #o #o #o #o #o #o #o #o #o #o #o #o #o #o #o # o #o #o #o #o #o #o #o #o #o #o #o ###o #o #o ## o #o #o #o #!!o #o #o #o #o #o #o #o #o #o #o #o #o #o #o #o #o #o #o #o #o #o #o #o #o #o #o #o #o #o #o #o #o #o #o #o #o #o #o #o #o #o #o #o #o #o #o #o #o #o #o #o #o #o #o #o #o #o #o #o #o #o #o #o #o #o #o #o #o #o #o #o #o #o #o #o #o #o #o #o #o #o ##o #o #o #o ##o #o #o #o #o #o #o #o #o #o #o #o #o #o #o #o #o #o #o #o #o #o #o #o #o #o #o #o #o #o #o #o #o #o #o #o #o #o #o #o #o #o #o #o #o #o #o #o #o #o ##o #o #o #o #o #o #o #o #o #o #o #o #o #o #o #o #o #o #o #o #o #o #o #o #o #o #o #o # o #o #o #o #o #o # o #o #o #o #o #o #o #o #o #o #o #o #o #o #    통큰소무한리필 사가정점 255개 완료.\n",
      "43번째 사가정만두만 시작\t8초 소요 로딩완료\t펼펼펼펼펼펼펼펼펼펼펼펼펼펼펼펼펼치기 완료\n",
      "o #o #o #o #o #o #o #o #o #o #o #o #o #o #o #o #o #o #o #o #o #o #o #o #o #o #o #o #o #o #o #o #o #o #o #o #o #o #o #o #o #o #o #o #o #o #o #o #o #o #o #o #o #o #o #o #o #o #o #o #o #o #o # o #o #o #o #o #o #o #o #o #o #o #o #o #o #o #o #o #o #o #o #o #o #o #o #o #o #o #o #o #o #o #o #o #o #o #o #o #o #o #o #o #o #o #o #o #o #o #o #o #o #o #o #o #o #o #o #o #o #o #o #o #o #o #o #o #o #o #o #o #o #o #o #o #o #o #o #o #o #o #o #o #o #o #o #o #o #o #o #o #o #o #o #o #o #o #o # o #o #o #o #o #o #o #o #o #o #o #o #o #o #o #o #o #o #o #o #o #o #o #o ##o ##o #o #o #o #o #o #o #o #o #o #o #o #    사가정만두만 198개 완료.\n",
      "44번째 털보왕족발 시작\t1초 소요 로딩완료\t펼치기 완료\n",
      "o #o #o #o #o #o #o #o #o #o #o #o #o #o #o #o #o #o #o #o #o #o #o #o #o #o #o #o #    털보왕족발 28개 완료.\n",
      "45번째 숯불닭갈비에 반하닭 시작\t3초 소요 로딩완료\t펼펼펼펼펼펼치기 완료\n",
      "#o ####o #####o ##o #o ##o ##o ####o # #o #o #o ###########################################    숯불닭갈비에 반하닭 68개 완료.\n",
      "46번째 코코멧챠 시작\t2초 소요 로딩완료\t펼펼펼펼치기 완료\n",
      "o #o #o # o #o #o #o #o #o #o #o #o #o #o #o #o #o #o #o #o #o #o #o #o #o #o #o #o #o #o #o #o #o #o #o #o #o #o #o #o #o #o #o #o #o #o #o #    코코멧챠 47개 완료.\n",
      "47번째 화계장터 시작\t1초 소요 로딩완료\t펼펼펼치기 완료\n",
      "o #o #o #o #o #o #o #o #o #o #o #o #o #o #o #o #o #o #    화계장터 18개 완료.\n",
      "48번째 향촌칼국수 시작\t3초 소요 로딩완료\t펼펼펼펼펼펼펼펼치기 완료\n",
      "o #o #o #o #o #o #o #o #o #o #o #o #o #o #o #o #o #o #o #o #o #o #o #o #o #o #o #o #o #o #o #o #o #o #o #o #o #o #o #o #o #o #o # o #o #o #o #o #o #o #o #o #o #o #o #o #o #o #o #o #o #o #o #o #o #o #o #o #o #o #o #o #o #o #o #o #o #o #o #o #    향촌칼국수 80개 완료.\n",
      "49번째 자가제빵선명희피자 면목본점 시작\t펼펼펼펼펼펼펼펼펼펼펼펼펼치기 완료\n",
      "o #o #o #o #o #o #o #o #o #o #o #o #o #o #o #o #o #o #o #o #o #o #o #o #o #o #o #o #o #o #o #o #o #o #o ###o ###o ##o #o #o #o #o #o #o #o #o ##o #o #o #o #o #o #o #o #o #o #o #o #o #o #o #o #o #o #o #o #o #o #o #o #o #o #o #o #o #o #o #o #o #o #o #o #o #o #o #o #o #o #o #o ##o #o #o #o #o #o #o #o #o #o #o #o #o #o #o #o #o #o #o #o #o #o #o #o #o #o #o #o #o #o #o #o #o #o #o #o #o #o #o #o #o #o #o #o #o #o #o #o #o #o #o #o #o #o #o #o #o #o #o #o #o #o #o #o #o #o #o #o #o #o #o #o #o #o #o #o #o #o #o #o #o #o #o #o #o #o #o #o #o #o #o #o #o #o #o #o #o #o #o #o #o #o #o #o #o #o #o #o #o #o #o #o #o ##o ####o #########o #########o ############# o ###o ##o #o #o #o ##o ##o #o ##o #o ##o #o #o ##o #o # o #o #o #o #o #o #o #o #o #o #    자가제빵선명희피자 면목본점 280개 완료.\n",
      "중랑구 면목본동 식당 의 리뷰 스크래핑을 완료했습니다.\n",
      "5089 개 수집완료, 5773.542310714722\n"
     ]
    },
    {
     "name": "stderr",
     "output_type": "stream",
     "text": [
      "[WDM] - \n",
      "\n",
      "[WDM] - ====== WebDriver manager ======\n",
      "[WDM] - Current google-chrome version is 94.0.4606\n",
      "[WDM] - Get LATEST driver version for 94.0.4606\n",
      "[WDM] - Driver [C:\\Users\\bigne\\.wdm\\drivers\\chromedriver\\win32\\94.0.4606.61\\chromedriver.exe] found in cache\n"
     ]
    },
    {
     "name": "stdout",
     "output_type": "stream",
     "text": [
      "중랑구 면목제2동 식당 의 리뷰 스크래핑을 시작합니다.\n",
      "0번째 사가정클라쓰 시작\t2초 소요 로딩완료\t펼펼펼치기 완료\n",
      "o #o #o #o #o #o #o #o #o #o #o #o #o #o #o #o #o #o #o #o #o #o #o #o #o #o #o #o #o #o #o #o #o #o #o #o #o #o #o #o #o #o #o #o #o #o #o #o #o #o #    사가정클라쓰 50개 완료.\n",
      "1번째 팡그루 시작\t6초 소요 로딩완료\t펼펼펼펼펼펼펼치기 완료\n",
      "o #o #o #o #o #o #o #o #o #o #o #o #o #o #o #o #o #o #o #o #o #o #o #o # o #o #o #o #o #o #o #o #o #o #o #o #o #o #o #o #o #o #o #o #o #o #o #o #o #o #o #o #o #o #o #o #o #o #o #o #o #o #o #o #o #o #o #o #o #o #o #o #o #o #o #o #o #o #o #o #o #o #o #o #o #o #o #o #o #o #o #o #o #o #o #o #o #o #o #o #o #o #o #o #o #o #o #o #o #o #o #o #o #o #o #o #o #o #o #o #o #o #o #o #o #o #o #o #o #o #o #o #o #o # o #    팡그루 135개 완료.\n",
      "2번째 뱃놈과백정 사가정점 시작\t5초 소요 로딩완료\t펼펼펼치기 완료\n",
      "o #o #o #o #o #o #o # o #o #o #o #o #o #o #o #o #o #o #o #o #o #o #o #o #o #o #o #o #o #o #o #o #o #o #o #o #o #o #o #o #o #o #o #o #o #o #o #o #o #o #o #o #o #o #o #o #o #o #o #o #o #o #o #o #o #o #o #o #o #o #o #o #o #o #o #o #o #o #o #o #o #o #o #o #o #o #o #o #o #o #o #o #o #o #o #o #o #o #o #o #o #o #o #o #o #o #o # o #o #o # o #    뱃놈과백정 사가정점 111개 완료.\n",
      "3번째 면동떡볶이 시작\t1초 소요 로딩완료\t펼치기 완료\n",
      "o #o #o #o #o #o #o #o #o #o #o #o #    면동떡볶이 12개 완료.\n",
      "4번째 작은부엌 시작\t3초 소요 로딩완료\t펼펼펼펼펼치기 완료\n",
      "o #o #o #o #o #o #o # o #o #o #o #o #o # o #o #o #o #o #o #o #o #o #o #o #o #o #o #o #o #o #o #o #o #o #o #o #o #o #o #o #o #o #o #o # o #o #o #o #o #o #o #o #o #o #o #o #o #o #o #o #o #o #o #o #o #o #o #o #o #o #o #o #o #o #o #o #o # o #o #o #o #o #    작은부엌 82개 완료.\n",
      "5번째 키미노돼지국밥 시작\t5초 소요 로딩완료\t펼펼펼펼펼펼펼펼펼펼펼치기 완료\n",
      "o #o #o #o #o #o #o #o #o #o #o #o ##o #o #o #o #o #o #o #o #o #o #o #o #o #o #o #o #o #o #o #o #o #o #o #o #o #o #o #o #o #o #o #o #o #o #o #o #o #o #o #o #o #o #o #o #o ##o #o #o #o #o #o #o #o #o #o #o #o #o #o #o #o #o #o #o #o #o #o #o #o #o #o #o #o #o #o #o #o #o #o #o #o #o #o #o #o #o #o #o #o #o #o #o #o #o #o #o #o #o #o #o #o #o #    키미노돼지국밥 116개 완료.\n",
      "6번째 홍.순.우 순두부 우동국수 시작\t1초 소요 로딩완료\t펼치기 완료\n",
      "    홍.순.우 순두부 우동국수 0개 완료.\n",
      "7번째 원조부안집 면목동점 시작\t10초 소요 로딩완료\t펼펼펼펼펼펼펼펼펼펼펼펼펼펼펼펼펼펼펼펼펼펼펼펼치기 완료\n",
      "o #o #o #o #o #o #o #o #o ##o ##o #o #o ##o ###o #o #o #o #o #o #o #o #o #o #o #o #o #o #o #o #o #o #o #o #o #o #o #o #o #o #o #o #o #o #o #o #o #o #o #o #o #o #o #o #o #o #o #o #o #o #o #o #o #o #o #o #o #o #o #o #o #o #o #o #o #o #o #o #o #o #o #o #o #o #o #o #o #o #o #o #o #o #o #o #o #o #o #o #o #o #o #o #o #o #o #o #o #o #o #o #o #o #o #o #o #o #o #o #o #o #o #o #o #o #o ##o #o #o #o #o #o #o #o #o #o #o #o #o #o #o #o #o #o #o #o #o #o #o #o #o #o #o ##o #o #o #o #o #o #o #o #o #o #o #o #o #o #o #o #o #o #o #o #o #o #o # o #o #o #o #o #o #o #o #o #o #o #o #o #o #o #o #o #o #o #o #o #o #o #o #o #o #o #o #o #o #o #o #o #o #o #o #o #o #o #o #o #o #    원조부안집 면목동점 224개 완료.\n",
      "8번째 쥬스토 시작\t1초 소요 로딩완료\t펼펼펼펼치기 완료\n",
      "o #o #o #o #o # o #o #o #o #o #o #o #o #o #o #o #o #o #o #o #o #o # o #    쥬스토 23개 완료.\n",
      "9번째 면목식탁 시작\t4초 소요 로딩완료\t펼펼펼펼펼펼펼펼치기 완료\n",
      " o #o #o #o #o # o #o #o #o #o #o #o #o #o #o #o #o #o #o #o #o #o #o #o #o #o #o #o #o #o #o #o #o #o #o #o #o #o #o #o #o #o #o #o #o #o #o #o #o #o #o #o #o #o #o #o #o #o #o #o # o #o #o #o #o #o #o #o #o #o #o #o #o #o #o #o #o #o #o #o #o #o #o #o #o #    면목식탁 85개 완료.\n",
      "10번째 더바른차담소 시작\t10초 소요 로딩완료\t펼펼펼펼펼펼펼펼펼펼펼펼펼펼펼펼펼펼펼펼펼펼펼펼펼펼펼치기 완료\n",
      "o #o #o #o #o #o #o #o #o #o #o #o #o #o #o #o #o #o #o #o #o #o # o #o #o #o #o #o #o #o #o #o #o #o #o #o #o #o #o #o #o #o #o # o #o #o #o #o #o #o #o #o #o #o #o #o #o #o #o #o #o #o #o #o #o #o #o #o #o #o #o #o #o #o #o #o #o #o #o # o #o #o #o #o #o #o #o #o #o #o #o #o #o # o #o #o # o #o #o #o #o #o #o #o #o #o #o #o #o #o #o #o #o #o #o #o #o #o #o #o #o #o #o #o #o #o #o #o #o #o #o #o #o #o #o #o #o #o #o # o #o #o #o #o #o #o #o #o #o #o #o #o #o #o #o #o #o #o #o #o #o #o #o #o #o #o #o #o #o ##o #o #o #o #o # o #o #o #o #o #o #o #o #o #o #o #o #o #o #o #o ##o #o #o #o #o #o # o #o #o #o #o #o #o #o #o #o #o #o #o #o #    더바른차담소 212개 완료.\n",
      "11번째 농부보쌈 시작\t4초 소요 로딩완료\t펼펼펼치기 완료\n",
      "o #o #o #o #o #o #o #o #o #o #o #o #o #o #o # o #o #o #o #o #o #o #o #o #o # o #o #o #o # o #o #o #o #o #o #o #o #o #o #o #o #o #o #o #o #o #o #o #o #o #o #o #o # o #o #o #o #o #o #o #o #o #o # o #o #o #o #o #o #o #o #o #o #o #o #o #o #o #o #o #o #o #o #o #o #o #o #o #o #o #o #o #o #o #o #o #o #o #o #o #    농부보쌈 100개 완료.\n",
      "12번째 빵꽃빵꽃 시작\t3초 소요 로딩완료\t펼펼펼펼펼펼펼펼펼펼펼펼펼펼펼펼펼펼치기 완료\n",
      "o #o #o #o #o #o #o #o #o #o #o #o #o # o #o #o #o #o #o #o #o #o # o #o #o # o # o #o ##o ########o ##########o #o #o ##o #o #o ###o ###o #o #o #o #o #o #o #o #o #o #o #o #o #o #o ######    빵꽃빵꽃 79개 완료.\n",
      "13번째 위대한족보 시작\t2초 소요 로딩완료\t펼펼펼치기 완료\n",
      "!!o #o #o #o #o #o #o #o #o #o #o #o #o #o #o #o #o #o #o #o #o #o #o #o #o #o #o #o #o #o #o #o #o #o #o #o #o #o #o #o # o #o #o #o #o #    위대한족보 45개 완료.\n",
      "14번째 장수부띠끄 시작\t2초 소요 로딩완료\t펼펼펼펼펼치기 완료\n",
      "o #o #o #o #o #o #o #o #o #o #o #o #o #o #o #o #o #o #o #o # o # o # o #o #o #o #o #o #o #o #o #o #o #o #o #    장수부띠끄 35개 완료.\n",
      "15번째 열혈셰프 면목동본점 시작\t2초 소요 로딩완료\t펼펼펼치기 완료\n",
      "o #o #o #o #o #o #o ############ #####################    열혈셰프 면목동본점 39개 완료.\n",
      "16번째 주노샌드 시작\t3초 소요 로딩완료\t펼펼펼펼펼펼펼펼펼펼펼펼펼치기 완료\n",
      "o #o #o #o #o #o #o #o #o #o #o #o #o #o #o #o #o #o #o #o #o #o #o #o #o #o #o #o #o #o #o #o #o #o #o #o #o #o #o #o #o #o #o #o #o #o #o #o #o #o #o #o #o #o #o #o #o #o #o #o #o #o #o #o #o #o #o #o #o #o #o #o #o #o #o #o #o #o #o #o #o #o #o #o #o #o #o #o #o #o #    주노샌드 90개 완료.\n",
      "17번째 순돈까스 시작\t7초 소요 로딩완료\t펼펼펼펼펼펼펼펼펼펼치기 완료\n",
      "o #o #o #o #o #o #o #o #o #o #o #o #o #o #o #o #o #o #o #o #o #o #o #o #o #o #o #o #o #o #o #o #o #o #o #o #o #o #o #o #o #o #o #o #o #o #o #o #o #o #o #o #o #o #o #o #o #o #o #o #o #o #o #o #o #o #o #o #o #o #o #o #o #o #o #o #o #o #o #o #o #o #o #o #o #o #o #o #o #o #o #o #o #o #o #o #o #o #o #o #o #o #o #o #o #o #o #o #o #o #o #o #o #o #o #o #o #o #o #o #o #o #o #o #o #o #o #o #o #o #o #o #o #o #o #o #o #o #o #o #o #o #o #o #o #o #o #o #o #o #o #o #o #o #o #o #o #o #o #o #o #o #o #o #o #o #o #o #o #o #o #    순돈까스 171개 완료.\n",
      "18번째 재나양과점 시작\t4초 소요 로딩완료\t펼펼펼펼펼치기 완료\n",
      "o #o #o #o #o #o #o #o #o #o #o #o # o #o #o #o #o #o #o #o #o #o #o #o #o #o #o #o #o #o #o # o #o #o #o #o #o #o #o #o #o #o #o #o #o #o #o #o #o #o #o #o #o #o #o #o #o #o #o #o #o #o #o #o #o #o #o #o #o #o #o #o #o #o #o #o #o # o # o # o #o #o #o #o #o #o #o # o #o #o #o #o #o #o #o #o #o #    재나양과점 97개 완료.\n",
      "19번째 카페개인 시작\t2초 소요 로딩완료\t펼치기 완료\n",
      "o #o #o #o #o #o #o #o #o #o #o #o #o #o #o #o #o #o #o #o #o #o #o #o #o #o #o #o #o #o #o #o #o #o #o #o #o #o #o #o #o #o #o #o #o #o #o #o #o #o #o # o #o # o #o #o #o #o #o #o #o #    카페개인 61개 완료.\n",
      "20번째 찜집본점 시작\t8초 소요 로딩완료\t펼펼펼펼펼펼치기 완료\n",
      "o #o #o #o #o #o #o #o #o #o #o #o #o #o #o #o #o #o #o #o #o #o #o #o #o #o #o #o #o #o #o #o #o #o #o #o #o #o #o #o #o # o #o #o #o #o #o #o #o #o #o #o #o #o #o #o #o #o #o #o #o #o #o #o #o #o #o #o #o #o #o #o #o #o #o #o #o # o #o #o #o #o #o #o #o #o #o #o #o #o #o #o #o #o #o #o #o #o #o #o #o #o # o #o #o #o #o #o # o #o # o #o #o #o #o # o #o #o #o #o #o #o #o #o #o #o #o #o #o #o #o #o #o #o #o #o #o #o #o #o #o #o #o #o #o #o #o #o #o #o #o #o #o #o #o #o #o #o # o #o #o #o #o # o #o #o #o #o #o #o #o #o #o #o #o #o #o #o #o #o #o #    찜집본점 181개 완료.\n",
      "21번째 달콤한 나들이 시작\t1초 소요 로딩완료\t펼펼펼펼치기 완료\n",
      "o #o #o #o #o #o #o #o #o #o #o #o #o #o #o #o #o ##o #o #o #o #o #o #    달콤한 나들이 24개 완료.\n",
      "22번째 샤브숲 시작\t7초 소요 로딩완료\t펼펼펼펼치기 완료\n",
      "o #o #o # o #o #o #o #o #o #o #o #o #o #o #o #o #o #o #o #o #o #o #o #o #o #o #o #o #o #o #o #o #o #o #o #o #o #o #o #o #o #o #o #o #o #o #o #o #o #o #o #o #o #o #o #o #o #o #o #o #o #o #o #o #o #o #o #o #o #o #o #o #o #o #o #o #o #o #o #o #o #o #o #o #o #o #o #o #o #o #o #o #o #o #o #o #o #o #o #o #o #o #o #o #o #o #o #o #o #o #o #o #o #o #o #o #o #o #o #o #o #o #o #o #o #o #o #o #o #o #o #o #o #o # o # o #o #o #o #o #o #o #o #o #o #o #o # o #o #o #o #o #o #    샤브숲 153개 완료.\n",
      "23번째 사가정 고기를품다 시작\t펼펼펼펼펼펼펼펼펼펼펼펼펼펼펼펼펼펼펼펼펼펼펼펼펼펼펼펼펼펼펼펼펼펼치기 완료\n",
      "o #o #o #o #o #o #o #o #o #o #o #o #o #o #o #o #o #o # o #o #o #o #o # o #o #o #o #o #o #o #o #o #o #o #o #o #o #o #o #o #o #o #o #o ###########################o #####o ############ #o ###################################o #o #o #o #o # #o ###################################o ####################o ##o ######o ###############o ####o #o #o #o #o #o ########################    사가정 고기를품다 240개 완료.\n",
      "24번째 버거메이슨 시작\t2초 소요 로딩완료\t펼치기 완료\n"
     ]
    },
    {
     "name": "stdout",
     "output_type": "stream",
     "text": [
      "o #o #o #o #o #o #o #o #o #o #o #o #o #o #o #o #o # o #o #o #o #o #o #o #o #o #o #o #o #o #o #o #o #o #o #o #o #o #o #o #o #o #o #o #o #o #o #o #    버거메이슨 48개 완료.\n",
      "25번째 이차돌 면목역점 시작\t펼펼펼펼펼펼펼펼펼펼치기 완료\n",
      "o #o #o #o #o #o #o #o #o #o #o #o #o #o #o #o #o #o #o #o #o #o #o #o #o #o #o #o #o #o #o #o #o #o #o #o #o #o #o #o #o #o #o #o #o #o #o #o #o #o #o #o #o #o #o #o #o #o #o #o #o #o #o #o #o #o #o #o #o #o #o #o #o #o #o #o #o #o #o #o #o #o #o #o #o #o #o #o #o #o #o #o #o #o #o #o #o #o #o #o #o #o #o #o #o #o #o #o #o #o #o #o #o #o #o #o #o #o #o #o #o #o #o #o #o #o #o #o #o #o #o #o #o #o #o #o #o #o #o #o #o #o #o #o #o #o #o #o #o #o #o #o #o #o #o #o #o #o #o #o #o #o #o #o #o #o #o #o #o #o #o #o #o #o #o #o #o #o #o #o #o #o #o #o #o #o #o #o #o #o #o #o #o #o #o #o #o #o #o #o #o #o #o #o #o #o #o #o #o #o #o #o #o #o #o #o #o #o #o #o #o #o #o #o #o #o #o #o #o #o #o #o #o #o #o #o #o #o #o #o #o #o #o #o #o #o #o #o #o #o #    이차돌 면목역점 250개 완료.\n",
      "26번째 찡어찡어 시작\t3초 소요 로딩완료\t펼펼펼펼펼치기 완료\n",
      "o #o #o #o #o #o #o #o #o #o #o #o #o #o #o #o #o #o #o #o #o #o #o #o #o #o #o #o #o #o #o #o #o #o #o #o #o ##o #####o #o #o #o ##o #o #o #o #o #o #o #o #o #o #o #o #o #o #o #o #o #o #o #o #o #o #o #o #o #o #o #o #o #    찡어찡어 77개 완료.\n",
      "27번째 비스트로일상 시작\t4초 소요 로딩완료\t펼펼펼펼펼펼펼펼펼펼펼펼펼펼펼펼치기 완료\n",
      "o #o #o #o #o #o #o #o #o #o #o #o #o #o #o #o #o #o #o #o #o #o #o #o # o #o #o #o #o #o #o #o #o #o #o #o #o #o #o #o #o #o #o #o #o #o #o #o #o #o #o #o #o #o #o #o #o #o #o #o #o #o #o #o #o #o #o #o #o #o #o #o #o #o #o #o #o #o #o #o #o #o #o #o #o #o #o #o #o #o #o #o #o #o #o #o #o #o #o #o #o #o #o #o #o #o #o #o #o #o #o #o #o #o #    비스트로일상 114개 완료.\n",
      "28번째 단조 시작\t3초 소요 로딩완료\t펼펼펼펼펼펼치기 완료\n",
      "o #o #o #o #o #o #o #o #o #o #o #o #o #o #o #o #o #o #o #o #o #o #o #o #o #o #o #o #o # o #o #o #o #o #o #o #o #o #o #o #o #o #o #o #o # o #o #o #o #o #o #o #o #o #o #o #o #o #o #o #o #o #o #o #o #o #o #o #o #o #o #o #o #o #o #o #o #o #o #o #o #o #o #o # o #o #o #o #o #o #o #o #o #o #o #    단조 95개 완료.\n",
      "29번째 사계초밥 시작\t2초 소요 로딩완료\t펼펼펼치기 완료\n",
      "o #o #o #o #o #o #o #o #o #o #o #o #o #o #o #o #o # o #o #o #o #o #o #o # o #o #o #o #o #o #o #o #o #o #o #o #o # o #o #o #o #o #o #o #o #o #    사계초밥 46개 완료.\n"
     ]
    },
    {
     "name": "stderr",
     "output_type": "stream",
     "text": [
      "[WDM] - \n",
      "\n",
      "[WDM] - ====== WebDriver manager ======\n",
      "[WDM] - Current google-chrome version is 94.0.4606\n",
      "[WDM] - Get LATEST driver version for 94.0.4606\n",
      "[WDM] - Driver [C:\\Users\\bigne\\.wdm\\drivers\\chromedriver\\win32\\94.0.4606.61\\chromedriver.exe] found in cache\n"
     ]
    },
    {
     "name": "stdout",
     "output_type": "stream",
     "text": [
      "reboot chrome\n",
      "30번째 금화왕돈까스 용마산역점 시작\t9초 소요 로딩완료\t펼펼펼펼펼펼펼펼펼펼펼펼펼펼펼치기 완료\n",
      "o #o #o #o #o #o #o #o #o #o #o #o #o #o #o #o #o #o #o #o #o #o #o #o #o #o #o #o #o #o #o #o #o # o #o #o #o #o #o #o #o #o #o #o #o #o #o #o #o #o #o #o #o #o #o #o #o #o #o #o #o #o #o #o # o #o #o #o #o #o #o #o #o #o #o #o #o #o #o #o #o #o #o #o #o #o #o #o #o #o #o #o #o #o #o #o #o #o #o #o #o #o #o # o #o #o #o #o #o #o #o #o #o #o #o #o #o #o #o #o #o #o #o #o #o #o #o #o #o #o #o #o #o #o #o #o #o #o #o #o #o #o #o #o #o ##o #o #o #o #o #o #o #o #o #o #o #o #o #o #o #o #o #o #o #o #o #o #o #o #o #o #o #o #o #o #o #o #o #o ##o #o #o #o #o #o # o #o #o #o #o #o #o #o #o #o #o #o #o #o #o #o #o #o #o #o #o #o #o #o #o #    금화왕돈까스 용마산역점 212개 완료.\n",
      "31번째 루앙의부엉이 시작\t펼펼펼펼펼펼펼펼펼펼펼펼펼펼펼펼펼펼펼치기 완료\n",
      "o #o #o #o #o #o #o #o #o #o #o #o #o #o #o #o #o #o #o #o #o #o #o #o #o #o #o #o #o #o #o #o #o #o #o #o #o #o #o #o #o #o #o #o #o #o #o #o #o #o #o #o #o #o #o #o #o #o #o #o #o #o #o #o #o #o #o #o #o #o #o #o #o #o #o #o #o #o #o #o #o # o #o #o #o #o #o #o #o #o #o #o #o #o #o #o #o #o #o #o #o #o #o #o #o #o #o #o #o #o #o #o #o # o #o #o #o #o #o #o #o #o #o #o #o #o #o #o #o #o #o #o #o #o #o #o #o #o #o #o #o #o #o #o #o #o #o #o #o #o #o #o #o #o #o #o #o #o #o #o #o #o #o #o #o #o #o #o #o #o #o #o #o #o #o #o #o #o #o #o #o #o #o #o #o #o #o #o #o #o #o #o #o #o #o #o #o #o #o #o #o #o #o #o #o #o #o #o #o #o #o #o #o #o #o #o #o # o #o #o #o #o #o #o #o #o #o #o #o #o #o ##o #o #o #o #o #o #o #o #o #o #o #o #o #o #o #o #o #o #    루앙의부엉이 250개 완료.\n",
      "32번째 장수살롱 시작\t1초 소요 로딩완료\t펼치기 완료\n",
      "o #o #o #o #o #o #o #o #o #o #o #    장수살롱 11개 완료.\n",
      "33번째 초가네장어구이 시작\t6초 소요 로딩완료\t펼펼펼펼펼펼펼펼펼펼펼펼치기 완료\n",
      "o #o #o #o #o #o #o #o #o #o #o #o #o #o #o #o #o #o #o #o #o #o #o #o #o # o #o #o #o #o #o #o #o #o #o #o #o #o #o #o #o #o #o #o #o #o #o #o #o #o #o ###o #####o ###o #o #o #o #o #o #o #o #o #o #o #o #o #o #o #o #o #o #o #o #o #o #o #o #o #o #o #o #o #o #o #o #o #o #o #o #o # o #o #o #o #o #o #o #o #o #o #o #o #o #o #o #o #o #o #o #o #o #o #o #o #o #o #o #o #o #o #o #    초가네장어구이 129개 완료.\n",
      "34번째 스테이 시작\t2초 소요 로딩완료\t펼펼펼펼펼펼펼펼펼치기 완료\n",
      "o #o #o #o #o #o ########o #o ##################    스테이 32개 완료.\n",
      "35번째 소문난감자탕 시작\t1초 소요 로딩완료\t펼펼치기 완료\n",
      "o #o #o #o #o #o #o #o #o #o #o #o #o #o #o #o #o #o #o #o #o #o #o #o #o #    소문난감자탕 25개 완료.\n",
      "36번째 진아구 사가정점 시작\t4초 소요 로딩완료\t펼펼펼펼펼펼펼펼펼펼치기 완료\n",
      "o #o #o #o #o #o #o #o #o #o #o #o #o #o #o #o #o #o #o #o #o #o #o #o #o #o #o #o #o #o #o #o #o #o #o #o #o #o #o #o #o #o #o #o #o #o #o #o #o #o #o #o #o #o #o #o #o #o #o #o #o # o #o #o #o #o #o #o #o #o #o #o #o #o #o #o #o #o #o #o #o #o #o #o #o #o #o #o #o #o #o #o #o #o #o #o #o # o #o #o #o #o #o #o #o #o #o #o #o #o #o #o #o #o #o #o #o #o #o #o #o #o #o #o #o #    진아구 사가정점 125개 완료.\n",
      "37번째 컨센트릭 시작\t1초 소요 로딩완료\t펼치기 완료\n",
      "o #o #o #o #o #o #o #o #o #o #o #o #o #o #o #o #    컨센트릭 16개 완료.\n",
      "38번째 참맛깔곱창 시작\t펼치기 완료\n",
      "o #o #o #o #o #o #o #o #o #o #o #o #o #o #o #o # o #o #o #o #o #o #o #o #o #o #o #o #o #o #o #o #o #o #o #o #o #o #o #o #o #o #o #o #o #o #o #o #o #o #o #o #o #o #o #o #o #o #o #o #o #o #o #o #o #o #o #o #o #o #o #o #o #o #o #o #o #o #o #o #o #o #o #o #o #o #o #o # o #o #o #o #o #o #o #o #o #o #o #o #o #o #o #o #o #o #o #o #o #o #o #o #o #o #o #o #o #o #o #o #o #o #o #o #o #o #o #o #o #o #o #o #o #o #o #o #o #o #o #o #o #o #o #o #o #o #o #o #o #o #o #o #o #o #o #o #o #o #o #o #o #o #o #o #o #o #o #o #o #o #o #o #o #o #o #o #o #o #o #o #o #o #o #o #o #o #o #o #o #o #o #o #o #o #o #o #o #o #o #o #o #o #o #o #o #o #o # o #o #o #o #o #o #o #o #o #o #o #o #o #o #o #o #o #o #o #o #    참맛깔곱창 227개 완료.\n",
      "39번째 바다마차 시작\t2초 소요 로딩완료\t펼펼치기 완료\n",
      "o #o #o #o #o #o #o #o #o #o # o #o #o #o #o #o #o #o #o # o #o #o #o #o #o #o #o #o #o #o #o #o #o #o #o #o # o #o #    바다마차 38개 완료.\n",
      "40번째 토리아에즈 사가정점 시작\t1초 소요 로딩완료\t펼펼펼펼치기 완료\n",
      "o ##o #o #o #o #o #o #o #o #o #o #o #o #o #o #o #o # o #o #o #o #o #o #o #o #o #o #o #    토리아에즈 사가정점 29개 완료.\n",
      "41번째 슌락 시작\t1초 소요 로딩완료\t펼펼치기 완료\n",
      "o #o #o #o #o #o #o #o #o #o #o #o #o #o #o #o #o #o #o #o #o #o #    슌락 22개 완료.\n",
      "42번째 통큰소무한리필 사가정점 시작\t펼펼펼펼펼펼펼펼펼펼펼펼펼펼펼펼펼펼펼치기 완료\n",
      "o #o #o #o #o #o #o ##o #o #o #o #o #o #o #o #o #o #o #o #o #o #o #o #o #o #o #o #o #o #o #o #o #o #o #o #o #o #o #o #o #o #o #o #o #o # o #o #o #o #o #o #o #o #o #o #o #o ###o #o #o ## o #o #o #o #!!o #o #o #o #o #o #o #o #o #o #o #o #o #o #o #o #o #o #o #o #o #o #o #o #o #o #o #o #o #o #o #o #o #o #o #o #o #o #o #o #o #o #o #o #o #o #o #o #o #o #o #o #o #o #o #o #o #o #o #o #o #o #o #o #o #o #o #o #o #o #o #o #o #o #o #o #o #o #o #o #o #o ##o #o #o #o ##o #o #o #o #o #o #o #o #o #o #o #o #o #o #o #o #o #o #o #o #o #o #o #o #o #o #o #o #o #o #o #o #o #o #o #o #o #o #o #o #o #o #o #o #o #o #o #o #o #o ##o #o #o #o #o #o #o #o #o #o #o #o #o #o #o #o #o #o #o #o #o #o #o #o #o #o #o #o # o #o #o #o #    통큰소무한리필 사가정점 239개 완료.\n",
      "43번째 사가정만두만 시작\t8초 소요 로딩완료\t펼펼펼펼펼펼펼펼펼펼펼펼펼펼펼펼펼치기 완료\n",
      "o #o #o #o #o #o #o #o #o #o #o #o #o #o #o #o #o #o #o #o #o #o #o #o #o #o #o #o #o #o #o #o #o #o #o #o #o #o #o #o #o #o #o #o #o #o #o #o #o #o #o #o #o #o #o #o #o #o #o #o #o #o #o # o #o #o #o #o #o #o #o #o #o #o #o #o #o #o #o #o #o #o #o #o #o #o #o #o #o #o #o #o #o #o #o #o #o #o #o #o #o #o #o #o #o #o #o #o #o #o #o #o #o #o #o #o #o #o #o #o #o #o #o #o #o #o #o #o #o #o #o #o #o #o #o #o #o #o #o #o #o #o #o #o #o #o #o #o #o #o #o #o #o #o #o #o #o #o #o # o #o #o #o #o #o #o #o #o #o #o #o #o #o #o #o #o #o #o #o #o #o #o #o ##o ##o #o #o #o #o #o #o #o #o #o #o #o #    사가정만두만 198개 완료.\n",
      "44번째 털보왕족발 시작\t1초 소요 로딩완료\t펼치기 완료\n",
      "o #o #o #o #o #o #o #o #o #o #o #o #o #o #o #o #o #o #o #o #o #o #o #o #o #o #o #o #    털보왕족발 28개 완료.\n",
      "45번째 숯불닭갈비에 반하닭 시작\t3초 소요 로딩완료\t펼펼펼펼펼펼치기 완료\n",
      "#o ####o #####o ##o #o ##o ##o ####o # #o #o #o ###########################################    숯불닭갈비에 반하닭 68개 완료.\n",
      "46번째 코코멧챠 시작\t2초 소요 로딩완료\t펼펼펼펼치기 완료\n",
      "o #o #o # o #o #o #o #o #o #o #o #o #o #o #o #o #o #o #o #o #o #o #o #o #o #o #o #o #o #o #o #o #o #o #o #o #o #o #o #o #o #o #o #o #o #o #o #    코코멧챠 47개 완료.\n",
      "47번째 화계장터 시작\t1초 소요 로딩완료\t펼펼펼치기 완료\n",
      "o #o #o #o #o #o #o #o #o #o #o #o #o #o #o #o #o #o #    화계장터 18개 완료.\n",
      "48번째 향촌칼국수 시작\t3초 소요 로딩완료\t펼펼펼펼펼펼펼펼치기 완료\n",
      "o #o #o #o #o #o #o #o #o #o #o #o #o #o #o #o #o #o #o #o #o #o #o #o #o #o #o #o #o #o #o #o #o #o #o #o #o #o #o #o #o #o #o # o #o #o #o #o #o #o #o #o #o #o #o #o #o #o #o #o #o #o #o #o #o #o #o #o #o #o #o #o #o #o #o #o #o #o #o #o #    향촌칼국수 80개 완료.\n",
      "49번째 자가제빵선명희피자 면목본점 시작\t펼펼펼펼펼펼펼펼펼펼펼펼치기 완료\n",
      "o #o #o #o #o #o #o #o #o #o #o #o #o #o #o #o #o #o #o #o #o #o #o #o #o #o #o #o #o #o #o #o #o #o #o ###o ###o ##o #o #o #o #o #o #o #o #o #o #o #o #o #o #o #o #o #o #o #o #o #o #o #o #o #o #o #o #o #o #o #o #o #o #o #o #o #o #o #o #o #o #o #o #o #o #o #o #o #o #o #o #o #o ##o #o #o #o #o #o #o #o #o #o #o #o #o #o #o #o #o #o #o #o #o #o #o #o #o #o #o #o #o #o #o #o #o #o #o #o #o #o #o #o #o #o #o #o #o #o #o #o #o #o #o #o #o #o #o #o #o #o #o #o #o #o #o #o #o #o #o #o #o #o #o #o #o #o #o #o #o #o #o #o #o #o #o #o #o #o #o #o #o #o #o #o #o #o #o #o #o #o #o #o #o #o #o #o #o #o #o #o #o #o #o #o #o ##o ####o #####    자가제빵선명희피자 면목본점 220개 완료.\n",
      "중랑구 면목제2동 식당 의 리뷰 스크래핑을 완료했습니다.\n",
      "5009 개 수집완료, 5746.565666437149\n"
     ]
    },
    {
     "name": "stderr",
     "output_type": "stream",
     "text": [
      "[WDM] - \n",
      "\n",
      "[WDM] - ====== WebDriver manager ======\n",
      "[WDM] - Current google-chrome version is 94.0.4606\n",
      "[WDM] - Get LATEST driver version for 94.0.4606\n",
      "[WDM] - Driver [C:\\Users\\bigne\\.wdm\\drivers\\chromedriver\\win32\\94.0.4606.61\\chromedriver.exe] found in cache\n"
     ]
    },
    {
     "name": "stdout",
     "output_type": "stream",
     "text": [
      "중랑구 면목제4동 식당 의 리뷰 스크래핑을 시작합니다.\n",
      "0번째 사가정클라쓰 시작\t2초 소요 로딩완료\t펼펼펼치기 완료\n",
      "o #o #o #o #o #o #o #o #o #o #o #o #o #o #o #o #o #o #o #o #o #o #o #o #o #o #o #o #o #o #o #o #o #o #o #o #o #o #o #o #o #o #o #o #o #o #o #o #o #o #    사가정클라쓰 50개 완료.\n",
      "1번째 팡그루 시작\t6초 소요 로딩완료\t펼펼펼펼펼펼펼치기 완료\n",
      "o #o #o #o #o #o #o #o #o #o #o #o #o #o #o #o #o #o #o #o #o #o #o #o # o #o #o #o #o #o #o #o #o #o #o #o #o #o #o #o #o #o #o #o #o #o #o #o #o #o #o #o #o #o #o #o #o #o #o #o #o #o #o #o #o #o #o #o #o #o #o #o #o #o #o #o #o #o #o #o #o #o #o #o #o #o #o #o #o #o #o #o #o #o #o #o #o #o #o #o #o #o #o #o #o #o #o #o #o #o #o #o #o #o #o #o #o #o #o #o #o #o #o #o #o #o #o #o #o #o #o #o #o #o # o #    팡그루 135개 완료.\n",
      "2번째 뱃놈과백정 사가정점 시작\t5초 소요 로딩완료\t펼펼펼치기 완료\n",
      "o #o #o #o #o #o #o # o #o #o #o #o #o #o #o #o #o #o #o #o #o #o #o #o #o #o #o #o #o #o #o #o #o #o #o #o #o #o #o #o #o #o #o #o #o #o #o #o #o #o #o #o #o #o #o #o #o #o #o #o #o #o #o #o #o #o #o #o #o #o #o #o #o #o #o #o #o #o #o #o #o #o #o #o #o #o #o #o #o #o #o #o #o #o #o #o #o #o #o #o #o #o #o #o #o #o #o # o #o #o # o #    뱃놈과백정 사가정점 111개 완료.\n",
      "3번째 면동떡볶이 시작\t1초 소요 로딩완료\t펼치기 완료\n",
      "o #o #o #o #o #o #o #o #o #o #o #o #    면동떡볶이 12개 완료.\n",
      "4번째 작은부엌 시작\t4초 소요 로딩완료\t펼펼펼펼펼치기 완료\n",
      "o #o #o #o #o #o #o # o #o #o #o #o #o # o #o #o #o #o #o #o #o #o #o #o #o #o #o #o #o #o #o #o #o #o #o #o #o #o #o #o #o #o #o #o # o #o #o #o #o #o #o #o #o #o #o #o #o #o #o #o #o #o #o #o #o #o #o #o #o #o #o #o #o #o #o #o #o # o #o #o #o #o #    작은부엌 82개 완료.\n",
      "5번째 키미노돼지국밥 시작\t5초 소요 로딩완료\t펼펼펼펼펼펼펼펼펼펼펼치기 완료\n",
      "o #o #o #o #o #o #o #o #o #o #o #o ##o #o #o #o #o #o #o #o #o #o #o #o #o #o #o #o #o #o #o #o #o #o #o #o #o #o #o #o #o #o #o #o #o #o #o #o #o #o #o #o #o #o #o #o #o ##o #o #o #o #o #o #o #o #o #o #o #o #o #o #o #o #o #o #o #o #o #o #o #o #o #o #o #o #o #o #o #o #o #o #o #o #o #o #o #o #o #o #o #o #o #o #o #o #o #o #o #o #o #o #o #o #o #    키미노돼지국밥 116개 완료.\n",
      "6번째 홍.순.우 순두부 우동국수 시작\t1초 소요 로딩완료\t펼치기 완료\n",
      "    홍.순.우 순두부 우동국수 0개 완료.\n",
      "7번째 원조부안집 면목동점 시작\t10초 소요 로딩완료\t펼펼펼펼펼펼펼펼펼펼펼펼펼펼펼펼펼펼펼펼펼펼펼펼치기 완료\n",
      "o #o #o #o #o #o #o #o #o ##o ##o #o #o ##o ###o #o #o #o #o #o #o #o #o #o #o #o #o #o #o #o #o #o #o #o #o #o #o #o #o #o #o #o #o #o #o #o #o #o #o #o #o #o #o #o #o #o #o #o #o #o #o #o #o #o #o #o #o #o #o #o #o #o #o #o #o #o #o #o #o #o #o #o #o #o #o #o #o #o #o #o #o #o #o #o #o #o #o #o #o #o #o #o #o #o #o #o #o #o #o #o #o #o #o #o #o #o #o #o #o #o #o #o #o #o #o ##o #o #o #o #o #o #o #o #o #o #o #o #o #o #o #o #o #o #o #o #o #o #o #o #o #o #o ##o #o #o #o #o #o #o #o #o #o #o #o #o #o #o #o #o #o #o #o #o #o #o # o #o #o #o #o #o #o #o #o #o #o #o #o #o #o #o #o #o #o #o #o #o #o #o #o #o #o #o #o #o #o #o #o #o #o #o #o #o #o #o #o #o #    원조부안집 면목동점 224개 완료.\n",
      "8번째 쥬스토 시작\t1초 소요 로딩완료\t펼펼펼펼치기 완료\n",
      "o #o #o #o #o # o #o #o #o #o #o #o #o #o #o #o #o #o #o #o #o #o # o #    쥬스토 23개 완료.\n",
      "9번째 면목식탁 시작\t4초 소요 로딩완료\t펼펼펼펼펼펼펼펼치기 완료\n",
      " o #o #o #o #o # o #o #o #o #o #o #o #o #o #o #o #o #o #o #o #o #o #o #o #o #o #o #o #o #o #o #o #o #o #o #o #o #o #o #o #o #o #o #o #o #o #o #o #o #o #o #o #o #o #o #o #o #o #o #o # o #o #o #o #o #o #o #o #o #o #o #o #o #o #o #o #o #o #o #o #o #o #o #o #o #    면목식탁 85개 완료.\n",
      "10번째 더바른차담소 시작\t10초 소요 로딩완료\t펼펼펼펼펼펼펼펼펼펼펼펼펼펼펼펼펼펼펼펼펼펼펼펼펼펼펼치기 완료\n",
      "o #o #o #o #o #o #o #o #o #o #o #o #o #o #o #o #o #o #o #o #o #o # o #o #o #o #o #o #o #o #o #o #o #o #o #o #o #o #o #o #o #o #o # o #o #o #o #o #o #o #o #o #o #o #o #o #o #o #o #o #o #o #o #o #o #o #o #o #o #o #o #o #o #o #o #o #o #o #o # o #o #o #o #o #o #o #o #o #o #o #o #o #o # o #o #o # o #o #o #o #o #o #o #o #o #o #o #o #o #o #o #o #o #o #o #o #o #o #o #o #o #o #o #o #o #o #o #o #o #o #o #o #o #o #o #o #o #o #o # o #o #o #o #o #o #o #o #o #o #o #o #o #o #o #o #o #o #o #o #o #o #o #o #o #o #o #o #o #o ##o #o #o #o #o # o #o #o #o #o #o #o #o #o #o #o #o #o #o #o #o ##o #o #o #o #o #o # o #o #o #o #o #o #o #o #o #o #o #o #o #o #    더바른차담소 212개 완료.\n",
      "11번째 농부보쌈 시작\t6초 소요 로딩완료\t펼펼펼치기 완료\n",
      "o #o #o #o #o #o #o #o #o #o #o #o #o #o #o # o #o #o #o #o #o #o #o #o #o # o #o #o #o # o #o #o #o #o #o #o #o #o #o #o #o #o #o #o #o #o #o #o #o #o #o #o #o # o #o #o #o #o #o #o #o #o #o # o #o #o #o #o #o #o #o #o #o #o #o #o #o #o #o #o #o #o #o #o #o #o #o #o #o #o #o #o #o #o #o #o #o #o #o #o #    농부보쌈 100개 완료.\n",
      "12번째 빵꽃빵꽃 시작\t3초 소요 로딩완료\t펼펼펼펼펼펼펼펼펼펼펼펼펼펼펼펼펼펼치기 완료\n",
      "o #o #o #o #o #o #o #o #o #o #o #o #o # o #o #o #o #o #o #o #o #o # o #o #o # o # o #o ##o ########o ##########o #o #o ##o #o #o ###o ###o #o #o #o #o #o #o #o #o #o #o #o #o #o #o ######    빵꽃빵꽃 79개 완료.\n",
      "13번째 위대한족보 시작\t2초 소요 로딩완료\t펼펼펼치기 완료\n",
      "!!o #o #o #o #o #o #o #o #o #o #o #o #o #o #o #o #o #o #o #o #o #o #o #o #o #o #o #o #o #o #o #o #o #o #o #o #o #o #o #o # o #o #o #o #o #    위대한족보 45개 완료.\n",
      "14번째 장수부띠끄 시작\t2초 소요 로딩완료\t펼펼펼펼펼치기 완료\n",
      "o #o #o #o #o #o #o #o #o #o #o #o #o #o #o #o #o #o #o #o # o # o # o #o #o #o #o #o #o #o #o #o #o #o #o #    장수부띠끄 35개 완료.\n",
      "15번째 열혈셰프 면목동본점 시작\t2초 소요 로딩완료\t펼펼펼치기 완료\n",
      "o #o #o #o #o #o #o ############ #####################    열혈셰프 면목동본점 39개 완료.\n",
      "16번째 주노샌드 시작\t3초 소요 로딩완료\t펼펼펼펼펼펼펼펼펼펼펼펼펼치기 완료\n",
      "o #o #o #o #o #o #o #o #o #o #o #o #o #o #o #o #o #o #o #o #o #o #o #o #o #o #o #o #o #o #o #o #o #o #o #o #o #o #o #o #o #o #o #o #o #o #o #o #o #o #o #o #o #o #o #o #o #o #o #o #o #o #o #o #o #o #o #o #o #o #o #o #o #o #o #o #o #o #o #o #o #o #o #o #o #o #o #o #o #o #    주노샌드 90개 완료.\n",
      "17번째 순돈까스 시작\t7초 소요 로딩완료\t펼펼펼펼펼펼펼펼펼펼치기 완료\n",
      "o #o #o #o #o #o #o #o #o #o #o #o #o #o #o #o #o #o #o #o #o #o #o #o #o #o #o #o #o #o #o #o #o #o #o #o #o #o #o #o #o #o #o #o #o #o #o #o #o #o #o #o #o #o #o #o #o #o #o #o #o #o #o #o #o #o #o #o #o #o #o #o #o #o #o #o #o #o #o #o #o #o #o #o #o #o #o #o #o #o #o #o #o #o #o #o #o #o #o #o #o #o #o #o #o #o #o #o #o #o #o #o #o #o #o #o #o #o #o #o #o #o #o #o #o #o #o #o #o #o #o #o #o #o #o #o #o #o #o #o #o #o #o #o #o #o #o #o #o #o #o #o #o #o #o #o #o #o #o #o #o #o #o #o #o #o #o #o #o #o #o #    순돈까스 171개 완료.\n",
      "18번째 재나양과점 시작\t4초 소요 로딩완료\t펼펼펼펼펼치기 완료\n",
      "o #o #o #o #o #o #o #o #o #o #o #o # o #o #o #o #o #o #o #o #o #o #o #o #o #o #o #o #o #o #o # o #o #o #o #o #o #o #o #o #o #o #o #o #o #o #o #o #o #o #o #o #o #o #o #o #o #o #o #o #o #o #o #o #o #o #o #o #o #o #o #o #o #o #o #o #o # o # o # o #o #o #o #o #o #o #o # o #o #o #o #o #o #o #o #o #o #    재나양과점 97개 완료.\n",
      "19번째 카페개인 시작\t3초 소요 로딩완료\t펼치기 완료\n",
      "o #o #o #o #o #o #o #o #o #o #o #o #o #o #o #o #o #o #o #o #o #o #o #o #o #o #o #o #o #o #o #o #o #o #o #o #o #o #o #o #o #o #o #o #o #o #o #o #o #o #o # o #o # o #o #o #o #o #o #o #o #    카페개인 61개 완료.\n",
      "20번째 찜집본점 시작\t9초 소요 로딩완료\t펼펼펼펼펼펼치기 완료\n",
      "o #o #o #o #o #o #o #o #o #o #o #o #o #o #o #o #o #o #o #o #o #o #o #o #o #o #o #o #o #o #o #o #o #o #o #o #o #o #o #o #o # o #o #o #o #o #o #o #o #o #o #o #o #o #o #o #o #o #o #o #o #o #o #o #o #o #o #o #o #o #o #o #o #o #o #o #o # o #o #o #o #o #o #o #o #o #o #o #o #o #o #o #o #o #o #o #o #o #o #o #o #o # o #o #o #o #o #o # o #o # o #o #o #o #o # o #o #o #o #o #o #o #o #o #o #o #o #o #o #o #o #o #o #o #o #o #o #o #o #o #o #o #o #o #o #o #o #o #o #o #o #o #o #o #o #o #o #o # o #o #o #o #o # o #o #o #o #o #o #o #o #o #o #o #o #o #o #o #o #o #o #    찜집본점 181개 완료.\n",
      "21번째 달콤한 나들이 시작\t1초 소요 로딩완료\t펼펼펼펼치기 완료\n",
      "o #o #o #o #o #o #o #o #o #o #o #o #o #o #o #o #o ##o #o #o #o #o #o #    달콤한 나들이 24개 완료.\n",
      "22번째 샤브숲 시작\t9초 소요 로딩완료\t펼펼펼펼치기 완료\n",
      "o #o #o # o #o #o #o #o #o #o #o #o #o #o #o #o #o #o #o #o #o #o #o #o #o #o #o #o #o #o #o #o #o #o #o #o #o #o #o #o #o #o #o #o #o #o #o #o #o #o #o #o #o #o #o #o #o #o #o #o #o #o #o #o #o #o #o #o #o #o #o #o #o #o #o #o #o #o #o #o #o #o #o #o #o #o #o #o #o #o #o #o #o #o #o #o #o #o #o #o #o #o #o #o #o #o #o #o #o #o #o #o #o #o #o #o #o #o #o #o #o #o #o #o #o #o #o #o #o #o #o #o #o #o # o # o #o #o #o #o #o #o #o #o #o #o #o # o #o #o #o #o #o #    샤브숲 153개 완료.\n",
      "23번째 사가정 고기를품다 시작\t펼펼펼펼펼펼펼펼펼펼펼펼펼펼펼펼펼펼펼펼펼펼펼펼펼펼펼펼펼펼펼펼펼펼펼펼펼펼치기 완료\n",
      "o #o #o #o #o #o #o #o #o #o #o #o #o #o #o #o #o #o # o #o #o #o #o # o #o #o #o #o #o #o #o #o #o #o #o #o #o #o #o #o #o #o #o #o ###########################o #####o ############ #o ###################################o #o #o #o #o # #o ###################################o ####################o ##o ######o ###############o ####o #o #o #o #o #o ######################################################    사가정 고기를품다 270개 완료.\n",
      "24번째 버거메이슨 시작\t2초 소요 로딩완료\t펼치기 완료\n"
     ]
    },
    {
     "name": "stdout",
     "output_type": "stream",
     "text": [
      "o #o #o #o #o #o #o #o #o #o #o #o #o #o #o #o #o # o #o #o #o #o #o #o #o #o #o #o #o #o #o #o #o #o #o #o #o #o #o #o #o #o #o #o #o #o #o #o #    버거메이슨 48개 완료.\n",
      "25번째 이차돌 면목역점 시작\t펼펼펼펼펼펼펼펼펼펼치기 완료\n",
      "o #o #o #o #o #o #o #o #o #o #o #o #o #o #o #o #o #o #o #o #o #o #o #o #o #o #o #o #o #o #o #o #o #o #o #o #o #o #o #o #o #o #o #o #o #o #o #o #o #o #o #o #o #o #o #o #o #o #o #o #o #o #o #o #o #o #o #o #o #o #o #o #o #o #o #o #o #o #o #o #o #o #o #o #o #o #o #o #o #o #o #o #o #o #o #o #o #o #o #o #o #o #o #o #o #o #o #o #o #o #o #o #o #o #o #o #o #o #o #o #o #o #o #o #o #o #o #o #o #o #o #o #o #o #o #o #o #o #o #o #o #o #o #o #o #o #o #o #o #o #o #o #o #o #o #o #o #o #o #o #o #o #o #o #o #o #o #o #o #o #o #o #o #o #o #o #o #o #o #o #o #o #o #o #o #o #o #o #o #o #o #o #o #o #o #o #o #o #o #o #o #o #o #o #o #o #o #o #o #o #o #o #o #o #o #o #o #o #o #o #o #o #o #o #o #o #o #o #o #o #o #o #o #o #o #o #o #o #o #o #    이차돌 면목역점 240개 완료.\n",
      "26번째 찡어찡어 시작\t3초 소요 로딩완료\t펼펼펼펼펼치기 완료\n",
      "o #o #o #o #o #o #o #o #o #o #o #o #o #o #o #o #o #o #o #o #o #o #o #o #o #o #o #o #o #o #o #o #o #o #o #o #o ##o #####o #o #o #o ##o #o #o #o #o #o #o #o #o #o #o #o #o #o #o #o #o #o #o #o #o #o #o #o #o #o #o #o #o #    찡어찡어 77개 완료.\n",
      "27번째 비스트로일상 시작\t4초 소요 로딩완료\t펼펼펼펼펼펼펼펼펼펼펼펼펼펼펼펼치기 완료\n",
      "o #o #o #o #o #o #o #o #o #o #o #o #o #o #o #o #o #o #o #o #o #o #o #o # o #o #o #o #o #o #o #o #o #o #o #o #o #o #o #o #o #o #o #o #o #o #o #o #o #o #o #o #o #o #o #o #o #o #o #o #o #o #o #o #o #o #o #o #o #o #o #o #o #o #o #o #o #o #o #o #o #o #o #o #o #o #o #o #o #o #o #o #o #o #o #o #o #o #o #o #o #o #o #o #o #o #o #o #o #o #o #o #o #o #    비스트로일상 114개 완료.\n",
      "28번째 단조 시작\t4초 소요 로딩완료\t펼펼펼펼펼펼치기 완료\n",
      "o #o #o #o #o #o #o #o #o #o #o #o #o #o #o #o #o #o #o #o #o #o #o #o #o #o #o #o #o # o #o #o #o #o #o #o #o #o #o #o #o #o #o #o #o # o #o #o #o #o #o #o #o #o #o #o #o #o #o #o #o #o #o #o #o #o #o #o #o #o #o #o #o #o #o #o #o #o #o #o #o #o #o #o # o #o #o #o #o #o #o #o #o #o #o #    단조 95개 완료.\n",
      "29번째 사계초밥 시작\t3초 소요 로딩완료\t펼펼펼치기 완료\n",
      "o #o #o #o #o #o #o #o #o #o #o #o #o #o #o #o #o # o #o #o #o #o #o #o # o #o #o #o #o #o #o #o #o #o #o #o #o # o #o #o #o #o #o #o #o #o #    사계초밥 46개 완료.\n"
     ]
    },
    {
     "name": "stderr",
     "output_type": "stream",
     "text": [
      "[WDM] - \n",
      "\n",
      "[WDM] - ====== WebDriver manager ======\n",
      "[WDM] - Current google-chrome version is 94.0.4606\n",
      "[WDM] - Get LATEST driver version for 94.0.4606\n",
      "[WDM] - Driver [C:\\Users\\bigne\\.wdm\\drivers\\chromedriver\\win32\\94.0.4606.61\\chromedriver.exe] found in cache\n"
     ]
    },
    {
     "name": "stdout",
     "output_type": "stream",
     "text": [
      "reboot chrome\n",
      "30번째 금화왕돈까스 용마산역점 시작\t8초 소요 로딩완료\t펼펼펼펼펼펼펼펼펼펼펼펼펼펼펼치기 완료\n",
      "o #o #o #o #o #o #o #o #o #o #o #o #o #o #o #o #o #o #o #o #o #o #o #o #o #o #o #o #o #o #o #o #o # o #o #o #o #o #o #o #o #o #o #o #o #o #o #o #o #o #o #o #o #o #o #o #o #o #o #o #o #o #o #o # o #o #o #o #o #o #o #o #o #o #o #o #o #o #o #o #o #o #o #o #o #o #o #o #o #o #o #o #o #o #o #o #o #o #o #o #o #o #o # o #o #o #o #o #o #o #o #o #o #o #o #o #o #o #o #o #o #o #o #o #o #o #o #o #o #o #o #o #o #o #o #o #o #o #o #o #o #o #o #o #o ##o #o #o #o #o #o #o #o #o #o #o #o #o #o #o #o #o #o #o #o #o #o #o #o #o #o #o #o #o #o #o #o #o #o ##o #o #o #o #o #o # o #o #o #o #o #o #o #o #o #o #o #o #o #o #o #o #o #o #o #o #o #o #o #o #o #    금화왕돈까스 용마산역점 212개 완료.\n",
      "31번째 루앙의부엉이 시작\t펼펼펼펼펼펼펼펼펼펼펼펼펼펼펼펼펼펼치기 완료\n",
      "o #o #o #o #o #o #o #o #o #o #o #o #o #o #o #o #o #o #o #o #o #o #o #o #o #o #o #o #o #o #o #o #o #o #o #o #o #o #o #o #o #o #o #o #o #o #o #o #o #o #o #o #o #o #o #o #o #o #o #o #o #o #o #o #o #o #o #o #o #o #o #o #o #o #o #o #o #o #o #o #o # o #o #o #o #o #o #o #o #o #o #o #o #o #o #o #o #o #o #o #o #o #o #o #o #o #o #o #o #o #o #o #o # o #o #o #o #o #o #o #o #o #o #o #o #o #o #o #o #o #o #o #o #o #o #o #o #o #o #o #o #o #o #o #o #o #o #o #o #o #o #o #o #o #o #o #o #o #o #o #o #o #o #o #o #o #o #o #o #o #o #o #o #o #o #o #o #o #o #o #o #o #o #o #o #o #o #o #o #o #o #o #o #o #o #o #o #o #o #o #o #o #o #o #o #o #o #o #o #o #o #o #o #o #o #o #o # o #o #o #o #o #o #o #o #o #o #o #o #o #o ##o #o #o #o #o #o #o #o #    루앙의부엉이 240개 완료.\n",
      "32번째 장수살롱 시작\t1초 소요 로딩완료\t펼치기 완료\n",
      "o #o #o #o #o #o #o #o #o #o #o #    장수살롱 11개 완료.\n",
      "33번째 초가네장어구이 시작\t5초 소요 로딩완료\t펼펼펼펼펼펼펼펼펼펼펼펼치기 완료\n",
      "o #o #o #o #o #o #o #o #o #o #o #o #o #o #o #o #o #o #o #o #o #o #o #o #o # o #o #o #o #o #o #o #o #o #o #o #o #o #o #o #o #o #o #o #o #o #o #o #o #o #o ###o #####o ###o #o #o #o #o #o #o #o #o #o #o #o #o #o #o #o #o #o #o #o #o #o #o #o #o #o #o #o #o #o #o #o #o #o #o #o #o # o #o #o #o #o #o #o #o #o #o #o #o #o #o #o #o #o #o #o #o #o #o #o #o #o #o #o #o #o #o #o #    초가네장어구이 129개 완료.\n",
      "34번째 스테이 시작\t2초 소요 로딩완료\t펼펼펼펼펼펼펼펼펼치기 완료\n",
      "o #o #o #o #o #o ########o #o ##################    스테이 32개 완료.\n",
      "35번째 소문난감자탕 시작\t1초 소요 로딩완료\t펼펼치기 완료\n",
      "o #o #o #o #o #o #o #o #o #o #o #o #o #o #o #o #o #o #o #o #o #o #o #o #o #    소문난감자탕 25개 완료.\n",
      "36번째 진아구 사가정점 시작\t5초 소요 로딩완료\t펼펼펼펼펼펼펼펼펼펼치기 완료\n",
      "o #o #o #o #o #o #o #o #o #o #o #o #o #o #o #o #o #o #o #o #o #o #o #o #o #o #o #o #o #o #o #o #o #o #o #o #o #o #o #o #o #o #o #o #o #o #o #o #o #o #o #o #o #o #o #o #o #o #o #o #o # o #o #o #o #o #o #o #o #o #o #o #o #o #o #o #o #o #o #o #o #o #o #o #o #o #o #o #o #o #o #o #o #o #o #o #o # o #o #o #o #o #o #o #o #o #o #o #o #o #o #o #o #o #o #o #o #o #o #o #o #o #o #o #o #    진아구 사가정점 125개 완료.\n",
      "37번째 컨센트릭 시작\t1초 소요 로딩완료\t펼치기 완료\n",
      "o #o #o #o #o #o #o #o #o #o #o #o #o #o #o #o #    컨센트릭 16개 완료.\n",
      "38번째 참맛깔곱창 시작\t9초 소요 로딩완료\t펼치기 완료\n",
      "o #o #o #o #o #o #o #o #o #o #o #o #o #o #o #o # o #o #o #o #o #o #o #o #o #o #o #o #o #o #o #o #o #o #o #o #o #o #o #o #o #o #o #o #o #o #o #o #o #o #o #o #o #o #o #o #o #o #o #o #o #o #o #o #o #o #o #o #o #o #o #o #o #o #o #o #o #o #o #o #o #o #o #o #o #o #o #o # o #o #o #o #o #o #o #o #o #o #o #o #o #o #o #o #o #o #o #o #o #o #o #o #o #o #o #o #o #o #o #o #o #o #o #o #o #o #o #o #o #o #o #o #o #o #o #o #o #o #o #o #o #o #o #o #o #o #o #o #o #o #o #o #o #o #o #o #o #o #o #o #o #o #o #o #o #o #o #o #o #o #o #o #o #o #o #o #o #o #o #o #o #o #o #o #o #o #o #o #o #o #o #o #o #o #o #o #o #o #o #o #o #o #o #o #o #o #o # o #o #o #o #o #o #o #o #o #o #o #o #o #o #o #o #o #o #o #o #    참맛깔곱창 227개 완료.\n",
      "39번째 바다마차 시작\t2초 소요 로딩완료\t펼펼치기 완료\n",
      "o #o #o #o #o #o #o #o #o #o # o #o #o #o #o #o #o #o #o # o #o #o #o #o #o #o #o #o #o #o #o #o #o #o #o #o # o #o #    바다마차 38개 완료.\n",
      "40번째 토리아에즈 사가정점 시작\t1초 소요 로딩완료\t펼펼펼펼치기 완료\n",
      "o ##o #o #o #o #o #o #o #o #o #o #o #o #o #o #o #o # o #o #o #o #o #o #o #o #o #o #o #    토리아에즈 사가정점 29개 완료.\n",
      "41번째 슌락 시작\t1초 소요 로딩완료\t펼펼치기 완료\n",
      "o #o #o #o #o #o #o #o #o #o #o #o #o #o #o #o #o #o #o #o #o #o #    슌락 22개 완료.\n",
      "42번째 통큰소무한리필 사가정점 시작\t펼펼펼펼펼펼펼펼펼펼펼펼펼펼펼펼펼펼펼펼펼치기 완료\n",
      "o #o #o #o #o #o #o ##o #o #o #o #o #o #o #o #o #o #o #o #o #o #o #o #o #o #o #o #o #o #o #o #o #o #o #o #o #o #o #o #o #o #o #o #o #o # o #o #o #o #o #o #o #o #o #o #o #o ###o #o #o ## o #o #o #o #!!o #o #o #o #o #o #o #o #o #o #o #o #o #o #o #o #o #o #o #o #o #o #o #o #o #o #o #o #o #o #o #o #o #o #o #o #o #o #o #o #o #o #o #o #o #o #o #o #o #o #o #o #o #o #o #o #o #o #o #o #o #o #o #o #o #o #o #o #o #o #o #o #o #o #o #o #o #o #o #o #o #o ##o #o #o #o ##o #o #o #o #o #o #o #o #o #o #o #o #o #o #o #o #o #o #o #o #o #o #o #o #o #o #o #o #o #o #o #o #o #o #o #o #o #o #o #o #o #o #o #o #o #o #o #o #o #o ##o #o #o #o #o #o #o #o #o #o #o #o #o #o #o #o #o #o #o #o #o #o #o #o #o #o #o #o # o #o #o #o #o #o # o #o #o #o #o #o #o #o #o #o #o #o #o #o #    통큰소무한리필 사가정점 255개 완료.\n",
      "43번째 사가정만두만 시작\t8초 소요 로딩완료\t펼펼펼펼펼펼펼펼펼펼펼펼펼펼펼펼펼치기 완료\n",
      "o #o #o #o #o #o #o #o #o #o #o #o #o #o #o #o #o #o #o #o #o #o #o #o #o #o #o #o #o #o #o #o #o #o #o #o #o #o #o #o #o #o #o #o #o #o #o #o #o #o #o #o #o #o #o #o #o #o #o #o #o #o #o # o #o #o #o #o #o #o #o #o #o #o #o #o #o #o #o #o #o #o #o #o #o #o #o #o #o #o #o #o #o #o #o #o #o #o #o #o #o #o #o #o #o #o #o #o #o #o #o #o #o #o #o #o #o #o #o #o #o #o #o #o #o #o #o #o #o #o #o #o #o #o #o #o #o #o #o #o #o #o #o #o #o #o #o #o #o #o #o #o #o #o #o #o #o #o #o # o #o #o #o #o #o #o #o #o #o #o #o #o #o #o #o #o #o #o #o #o #o #o #o ##o ##o #o #o #o #o #o #o #o #o #o #o #o #    사가정만두만 198개 완료.\n",
      "44번째 털보왕족발 시작\t1초 소요 로딩완료\t펼치기 완료\n",
      "o #o #o #o #o #o #o #o #o #o #o #o #o #o #o #o #o #o #o #o #o #o #o #o #o #o #o #o #    털보왕족발 28개 완료.\n",
      "45번째 숯불닭갈비에 반하닭 시작\t3초 소요 로딩완료\t펼펼펼펼펼펼치기 완료\n",
      "#o ####o #####o ##o #o ##o ##o ####o # #o #o #o ###########################################    숯불닭갈비에 반하닭 68개 완료.\n",
      "46번째 코코멧챠 시작\t2초 소요 로딩완료\t펼펼펼펼치기 완료\n",
      "o #o #o # o #o #o #o #o #o #o #o #o #o #o #o #o #o #o #o #o #o #o #o #o #o #o #o #o #o #o #o #o #o #o #o #o #o #o #o #o #o #o #o #o #o #o #o #    코코멧챠 47개 완료.\n",
      "47번째 화계장터 시작\t1초 소요 로딩완료\t펼펼펼치기 완료\n",
      "o #o #o #o #o #o #o #o #o #o #o #o #o #o #o #o #o #o #    화계장터 18개 완료.\n",
      "48번째 향촌칼국수 시작\t3초 소요 로딩완료\t펼펼펼펼펼펼펼펼치기 완료\n",
      "o #o #o #o #o #o #o #o #o #o #o #o #o #o #o #o #o #o #o #o #o #o #o #o #o #o #o #o #o #o #o #o #o #o #o #o #o #o #o #o #o #o #o # o #o #o #o #o #o #o #o #o #o #o #o #o #o #o #o #o #o #o #o #o #o #o #o #o #o #o #o #o #o #o #o #o #o #o #o #o #    향촌칼국수 80개 완료.\n",
      "49번째 자가제빵선명희피자 면목본점 시작\t펼펼펼펼펼펼펼펼펼펼펼펼펼치기 완료\n",
      "o #o #o #o #o #o #o #o #o #o #o #o #o #o #o #o #o #o #o #o #o #o #o #o #o #o #o #o #o #o #o #o #o #o #o ###o ###o ##o #o #o #o #o #o #o #o #o #o #o #o #o #o #o #o #o #o #o #o #o #o #o #o #o #o #o #o #o #o #o #o #o #o #o #o #o #o #o #o #o #o #o #o #o #o #o #o #o #o #o #o #o #o ##o #o #o #o #o #o #o #o #o #o #o #o #o #o #o #o #o #o #o #o #o #o #o #o #o #o #o #o #o #o #o #o #o #o #o #o #o #o #o #o #o #o #o #o #o #o #o #o #o #o #o #o #o #o #o #o #o #o #o #o #o #o #o #o #o #o #o #o #o #o #o #o #o #o #o #o #o #o #o #o #o #o #o #o #o #o #o #o #o #o #o #o #o #o #o #o #o #o #o #o #o #o #o #o #o #o #o #o #o #o #o #o #o ##o ####o #########o #########o ############# o ###o ##o #o #o #o ##o ##o #o #    자가제빵선명희피자 면목본점 260개 완료.\n",
      "중랑구 면목제4동 식당 의 리뷰 스크래핑을 완료했습니다.\n",
      "5075 개 수집완료, 5763.165924549103\n"
     ]
    },
    {
     "name": "stderr",
     "output_type": "stream",
     "text": [
      "[WDM] - \n",
      "\n",
      "[WDM] - ====== WebDriver manager ======\n",
      "[WDM] - Current google-chrome version is 94.0.4606\n",
      "[WDM] - Get LATEST driver version for 94.0.4606\n",
      "[WDM] - Driver [C:\\Users\\bigne\\.wdm\\drivers\\chromedriver\\win32\\94.0.4606.61\\chromedriver.exe] found in cache\n"
     ]
    },
    {
     "name": "stdout",
     "output_type": "stream",
     "text": [
      "중랑구 면목제5동 식당 의 리뷰 스크래핑을 시작합니다.\n",
      "0번째 사가정클라쓰 시작\t2초 소요 로딩완료\t펼펼펼치기 완료\n",
      "o #o #o #o #o #o #o #o #o #o #o #o #o #o #o #o #o #o #o #o #o #o #o #o #o #o #o #o #o #o #o #o #o #o #o #o #o #o #o #o #o #o #o #o #o #o #o #o #o #o #    사가정클라쓰 50개 완료.\n",
      "1번째 팡그루 시작\t6초 소요 로딩완료\t펼펼펼펼펼펼펼치기 완료\n",
      "o #o #o #o #o #o #o #o #o #o #o #o #o #o #o #o #o #o #o #o #o #o #o #o # o #o #o #o #o #o #o #o #o #o #o #o #o #o #o #o #o #o #o #o #o #o #o #o #o #o #o #o #o #o #o #o #o #o #o #o #o #o #o #o #o #o #o #o #o #o #o #o #o #o #o #o #o #o #o #o #o #o #o #o #o #o #o #o #o #o #o #o #o #o #o #o #o #o #o #o #o #o #o #o #o #o #o #o #o #o #o #o #o #o #o #o #o #o #o #o #o #o #o #o #o #o #o #o #o #o #o #o #o #o # o #    팡그루 135개 완료.\n",
      "2번째 뱃놈과백정 사가정점 시작\t5초 소요 로딩완료\t펼펼펼치기 완료\n",
      "o #o #o #o #o #o #o # o #o #o #o #o #o #o #o #o #o #o #o #o #o #o #o #o #o #o #o #o #o #o #o #o #o #o #o #o #o #o #o #o #o #o #o #o #o #o #o #o #o #o #o #o #o #o #o #o #o #o #o #o #o #o #o #o #o #o #o #o #o #o #o #o #o #o #o #o #o #o #o #o #o #o #o #o #o #o #o #o #o #o #o #o #o #o #o #o #o #o #o #o #o #o #o #o #o #o #o # o #o #o # o #    뱃놈과백정 사가정점 111개 완료.\n",
      "3번째 면동떡볶이 시작\t1초 소요 로딩완료\t펼치기 완료\n",
      "o #o #o #o #o #o #o #o #o #o #o #o #    면동떡볶이 12개 완료.\n",
      "4번째 작은부엌 시작\t3초 소요 로딩완료\t펼펼펼펼펼치기 완료\n",
      "o #o #o #o #o #o #o # o #o #o #o #o #o # o #o #o #o #o #o #o #o #o #o #o #o #o #o #o #o #o #o #o #o #o #o #o #o #o #o #o #o #o #o #o # o #o #o #o #o #o #o #o #o #o #o #o #o #o #o #o #o #o #o #o #o #o #o #o #o #o #o #o #o #o #o #o #o # o #o #o #o #o #    작은부엌 82개 완료.\n",
      "5번째 키미노돼지국밥 시작\t5초 소요 로딩완료\t펼펼펼펼펼펼펼펼펼펼펼치기 완료\n",
      "o #o #o #o #o #o #o #o #o #o #o #o ##o #o #o #o #o #o #o #o #o #o #o #o #o #o #o #o #o #o #o #o #o #o #o #o #o #o #o #o #o #o #o #o #o #o #o #o #o #o #o #o #o #o #o #o #o ##o #o #o #o #o #o #o #o #o #o #o #o #o #o #o #o #o #o #o #o #o #o #o #o #o #o #o #o #o #o #o #o #o #o #o #o #o #o #o #o #o #o #o #o #o #o #o #o #o #o #o #o #o #o #o #o #o #    키미노돼지국밥 116개 완료.\n",
      "6번째 홍.순.우 순두부 우동국수 시작\t1초 소요 로딩완료\t펼치기 완료\n",
      "    홍.순.우 순두부 우동국수 0개 완료.\n",
      "7번째 원조부안집 면목동점 시작\t10초 소요 로딩완료\t펼펼펼펼펼펼펼펼펼펼펼펼펼펼펼펼펼펼펼펼펼펼펼펼치기 완료\n",
      "o #o #o #o #o #o #o #o #o ##o ##o #o #o ##o ###o #o #o #o #o #o #o #o #o #o #o #o #o #o #o #o #o #o #o #o #o #o #o #o #o #o #o #o #o #o #o #o #o #o #o #o #o #o #o #o #o #o #o #o #o #o #o #o #o #o #o #o #o #o #o #o #o #o #o #o #o #o #o #o #o #o #o #o #o #o #o #o #o #o #o #o #o #o #o #o #o #o #o #o #o #o #o #o #o #o #o #o #o #o #o #o #o #o #o #o #o #o #o #o #o #o #o #o #o #o #o ##o #o #o #o #o #o #o #o #o #o #o #o #o #o #o #o #o #o #o #o #o #o #o #o #o #o #o ##o #o #o #o #o #o #o #o #o #o #o #o #o #o #o #o #o #o #o #o #o #o #o # o #o #o #o #o #o #o #o #o #o #o #o #o #o #o #o #o #o #o #o #o #o #o #o #o #o #o #o #o #o #o #o #o #o #o #o #o #o #o #o #o #o #    원조부안집 면목동점 224개 완료.\n",
      "8번째 쥬스토 시작\t1초 소요 로딩완료\t펼펼펼펼치기 완료\n",
      "o #o #o #o #o # o #o #o #o #o #o #o #o #o #o #o #o #o #o #o #o #o # o #    쥬스토 23개 완료.\n",
      "9번째 면목식탁 시작\t3초 소요 로딩완료\t펼펼펼펼펼펼펼펼치기 완료\n",
      " o #o #o #o #o # o #o #o #o #o #o #o #o #o #o #o #o #o #o #o #o #o #o #o #o #o #o #o #o #o #o #o #o #o #o #o #o #o #o #o #o #o #o #o #o #o #o #o #o #o #o #o #o #o #o #o #o #o #o #o # o #o #o #o #o #o #o #o #o #o #o #o #o #o #o #o #o #o #o #o #o #o #o #o #o #    면목식탁 85개 완료.\n",
      "10번째 더바른차담소 시작\t9초 소요 로딩완료\t펼펼펼펼펼펼펼펼펼펼펼펼펼펼펼펼펼펼펼펼펼펼펼펼펼펼펼치기 완료\n",
      "o #o #o #o #o #o #o #o #o #o #o #o #o #o #o #o #o #o #o #o #o #o # o #o #o #o #o #o #o #o #o #o #o #o #o #o #o #o #o #o #o #o #o # o #o #o #o #o #o #o #o #o #o #o #o #o #o #o #o #o #o #o #o #o #o #o #o #o #o #o #o #o #o #o #o #o #o #o #o # o #o #o #o #o #o #o #o #o #o #o #o #o #o # o #o #o # o #o #o #o #o #o #o #o #o #o #o #o #o #o #o #o #o #o #o #o #o #o #o #o #o #o #o #o #o #o #o #o #o #o #o #o #o #o #o #o #o #o #o # o #o #o #o #o #o #o #o #o #o #o #o #o #o #o #o #o #o #o #o #o #o #o #o #o #o #o #o #o #o ##o #o #o #o #o # o #o #o #o #o #o #o #o #o #o #o #o #o #o #o #o ##o #o #o #o #o #o # o #o #o #o #o #o #o #o #o #o #o #o #o #o #    더바른차담소 212개 완료.\n",
      "11번째 농부보쌈 시작\t3초 소요 로딩완료\t펼펼펼치기 완료\n",
      "o #o #o #o #o #o #o #o #o #o #o #o #o #o #o # o #o #o #o #o #o #o #o #o #o # o #o #o #o # o #o #o #o #o #o #o #o #o #o #o #o #o #o #o #o #o #o #o #o #o #o #o #o # o #o #o #o #o #o #o #o #o #o # o #o #o #o #o #o #o #o #o #o #o #o #o #o #o #o #o #o #o #o #o #o #o #o #o #o #o #o #o #o #o #o #o #o #o #o #o #    농부보쌈 100개 완료.\n",
      "12번째 빵꽃빵꽃 시작\t3초 소요 로딩완료\t펼펼펼펼펼펼펼펼펼펼펼펼펼펼펼펼펼펼치기 완료\n",
      "o #o #o #o #o #o #o #o #o #o #o #o #o # o #o #o #o #o #o #o #o #o # o #o #o # o # o #o ##o ########o ##########o #o #o ##o #o #o ###o ###o #o #o #o #o #o #o #o #o #o #o #o #o #o #o ######    빵꽃빵꽃 79개 완료.\n",
      "13번째 위대한족보 시작\t2초 소요 로딩완료\t펼펼펼치기 완료\n",
      "!!o #o #o #o #o #o #o #o #o #o #o #o #o #o #o #o #o #o #o #o #o #o #o #o #o #o #o #o #o #o #o #o #o #o #o #o #o #o #o #o # o #o #o #o #o #    위대한족보 45개 완료.\n",
      "14번째 장수부띠끄 시작\t2초 소요 로딩완료\t펼펼펼펼펼치기 완료\n",
      "o #o #o #o #o #o #o #o #o #o #o #o #o #o #o #o #o #o #o #o # o # o # o #o #o #o #o #o #o #o #o #o #o #o #o #    장수부띠끄 35개 완료.\n",
      "15번째 열혈셰프 면목동본점 시작\t2초 소요 로딩완료\t펼펼펼치기 완료\n",
      "o #o #o #o #o #o #o ############ #####################    열혈셰프 면목동본점 39개 완료.\n",
      "16번째 주노샌드 시작\t4초 소요 로딩완료\t펼펼펼펼펼펼펼펼펼펼펼펼펼치기 완료\n",
      "o #o #o #o #o #o #o #o #o #o #o #o #o #o #o #o #o #o #o #o #o #o #o #o #o #o #o #o #o #o #o #o #o #o #o #o #o #o #o #o #o #o #o #o #o #o #o #o #o #o #o #o #o #o #o #o #o #o #o #o #o #o #o #o #o #o #o #o #o #o #o #o #o #o #o #o #o #o #o #o #o #o #o #o #o #o #o #o #o #o #    주노샌드 90개 완료.\n",
      "17번째 순돈까스 시작\t7초 소요 로딩완료\t펼펼펼펼펼펼펼펼펼펼펼치기 완료\n",
      "o #o #o #o #o #o #o #o #o #o #o #o #o #o #o #o #o #o #o #o #o #o #o #o #o #o #o #o #o #o #o #o #o #o #o #o #o #o #o #o #o #o #o #o #o #o #o #o #o #o #o #o #o #o #o #o #o #o #o #o #o #o #o #o #o #o #o #o #o #o #o #o #o #o #o #o #o #o #o #o #o #o #o #o #o #o #o #o #o #o #o #o #o #o #o #o #o #o #o #o #o #o #o #o #o #o #o #o #o #o #o #o #o #o #o #o #o #o #o #o #o #o #o #o #o #o #o #o #o #o #o #o #o #o #o #o #o #o #o #o #o #o #o #o #o #o #o #o #o #o #o #o #o #o #o #o #o #o #o #o #o #o #o #o #o #o #o #o #o #o #o #    순돈까스 171개 완료.\n",
      "18번째 재나양과점 시작\t4초 소요 로딩완료\t펼펼펼펼펼치기 완료\n",
      "o #o #o #o #o #o #o #o #o #o #o #o # o #o #o #o #o #o #o #o #o #o #o #o #o #o #o #o #o #o #o # o #o #o #o #o #o #o #o #o #o #o #o #o #o #o #o #o #o #o #o #o #o #o #o #o #o #o #o #o #o #o #o #o #o #o #o #o #o #o #o #o #o #o #o #o #o # o # o # o #o #o #o #o #o #o #o # o #o #o #o #o #o #o #o #o #o #    재나양과점 97개 완료.\n",
      "19번째 카페개인 시작\t3초 소요 로딩완료\t펼치기 완료\n",
      "o #o #o #o #o #o #o #o #o #o #o #o #o #o #o #o #o #o #o #o #o #o #o #o #o #o #o #o #o #o #o #o #o #o #o #o #o #o #o #o #o #o #o #o #o #o #o #o #o #o #o # o #o # o #o #o #o #o #o #o #o #    카페개인 61개 완료.\n",
      "20번째 찜집본점 시작\t7초 소요 로딩완료\t펼펼펼펼펼펼치기 완료\n",
      "o #o #o #o #o #o #o #o #o #o #o #o #o #o #o #o #o #o #o #o #o #o #o #o #o #o #o #o #o #o #o #o #o #o #o #o #o #o #o #o #o # o #o #o #o #o #o #o #o #o #o #o #o #o #o #o #o #o #o #o #o #o #o #o #o #o #o #o #o #o #o #o #o #o #o #o #o # o #o #o #o #o #o #o #o #o #o #o #o #o #o #o #o #o #o #o #o #o #o #o #o #o # o #o #o #o #o #o # o #o # o #o #o #o #o # o #o #o #o #o #o #o #o #o #o #o #o #o #o #o #o #o #o #o #o #o #o #o #o #o #o #o #o #o #o #o #o #o #o #o #o #o #o #o #o #o #o #o # o #o #o #o #o # o #o #o #o #o #o #o #o #o #o #o #o #o #o #o #o #o #o #    찜집본점 181개 완료.\n",
      "21번째 달콤한 나들이 시작\t1초 소요 로딩완료\t펼펼펼펼치기 완료\n",
      "o #o #o #o #o #o #o #o #o #o #o #o #o #o #o #o #o ##o #o #o #o #o #o #    달콤한 나들이 24개 완료.\n",
      "22번째 샤브숲 시작\t5초 소요 로딩완료\t펼펼펼펼치기 완료\n",
      "o #o #o # o #o #o #o #o #o #o #o #o #o #o #o #o #o #o #o #o #o #o #o #o #o #o #o #o #o #o #o #o #o #o #o #o #o #o #o #o #o #o #o #o #o #o #o #o #o #o #o #o #o #o #o #o #o #o #o #o #o #o #o #o #o #o #o #o #o #o #o #o #o #o #o #o #o #o #o #o #o #o #o #o #o #o #o #o #o #o #o #o #o #o #o #o #o #o #o #o #o #o #o #o #o #o #o #o #o #o #o #o #o #o #o #o #o #o #o #o #o #o #o #o #o #o #o #o #o #o #o #o #o #o # o # o #o #o #o #o #o #o #o #o #o #o #o # o #o #o #o #o #o #    샤브숲 153개 완료.\n",
      "23번째 사가정 고기를품다 시작\t펼펼펼펼펼펼펼펼펼펼펼펼펼펼펼펼펼펼펼펼펼펼펼펼펼펼펼펼펼펼펼펼펼펼펼펼펼펼펼치기 완료\n",
      "o #o #o #o #o #o #o #o #o #o #o #o #o #o #o #o #o #o # o #o #o #o #o # o #o #o #o #o #o #o #o #o #o #o #o #o #o #o #o #o #o #o #o #o ###########################o #####o ############ #o ###################################o #o #o #o #o # #o ###################################o ####################o ##o ######o ###############o ####o #o #o #o #o #o ###############################################################o #    사가정 고기를품다 280개 완료.\n",
      "24번째 버거메이슨 시작\t4초 소요 로딩완료\t펼치기 완료\n"
     ]
    },
    {
     "name": "stdout",
     "output_type": "stream",
     "text": [
      "o #o #o #o #o #o #o #o #o #o #o #o #o #o #o #o #o # o #o #o #o #o #o #o #o #o #o #o #o #o #o #o #o #o #o #o #o #o #o #o #o #o #o #o #o #o #o #o #    버거메이슨 48개 완료.\n",
      "25번째 이차돌 면목역점 시작\t펼펼펼펼펼펼펼펼펼치기 완료\n",
      "o #o #o #o #o #o #o #o #o #o #o #o #o #o #o #o #o #o #o #o #o #o #o #o #o #o #o #o #o #o #o #o #o #o #o #o #o #o #o #o #o #o #o #o #o #o #o #o #o #o #o #o #o #o #o #o #o #o #o #o #o #o #o #o #o #o #o #o #o #o #o #o #o #o #o #o #o #o #o #o #o #o #o #o #o #o #o #o #o #o #o #o #o #o #o #o #o #o #o #o #o #o #o #o #o #o #o #o #o #o #o #o #o #o #o #o #o #o #o #o #o #o #o #o #o #o #o #o #o #o #o #o #o #o #o #o #o #o #o #o #o #o #o #o #o #o #o #o #o #o #o #o #o #o #o #o #o #o #o #o #o #o #o #o #o #o #o #o #o #o #o #o #o #o #o #o #o #o #o #o #o #o #o #o #o #o #o #o #o #o #o #o #o #o #o #o #o #o #o #o #o #o #o #o #o #o #o #o #o #o #o #o #o #o #o #o #o #o #o #o #o #o #o #o #o #o #o #o #o #o #    이차돌 면목역점 230개 완료.\n",
      "26번째 찡어찡어 시작\t3초 소요 로딩완료\t펼펼펼펼펼치기 완료\n",
      "o #o #o #o #o #o #o #o #o #o #o #o #o #o #o #o #o #o #o #o #o #o #o #o #o #o #o #o #o #o #o #o #o #o #o #o #o ##o #####o #o #o #o ##o #o #o #o #o #o #o #o #o #o #o #o #o #o #o #o #o #o #o #o #o #o #o #o #o #o #o #o #o #    찡어찡어 77개 완료.\n",
      "27번째 비스트로일상 시작\t5초 소요 로딩완료\t펼펼펼펼펼펼펼펼펼펼펼펼펼펼펼펼펼펼치기 완료\n",
      "o #o #o #o #o #o #o #o #o #o #o #o #o #o #o #o #o #o #o #o #o #o #o #o # o #o #o #o #o #o #o #o #o #o #o #o #o #o #o #o #o #o #o #o #o #o #o #o #o #o #o #o #o #o #o #o #o #o #o #o #o #o #o #o #o #o #o #o #o #o #o #o #o #o #o #o #o #o #o #o #o #o #o #o #o #o #o #o #o #o #o #o #o #o #o #o #o #o #o #o #o #o #o #o #o #o #o #o #o #o #o #o #o #o #o #o #o #o #o #o #o #o #o #o #o #o #o #o #o #o #    비스트로일상 130개 완료.\n",
      "28번째 단조 시작\t4초 소요 로딩완료\t펼펼펼펼펼펼펼펼펼펼펼치기 완료\n",
      "o #o #o #o #o #o #o #o #o #o #o #o #o #o #o #o #o #o #o #o #o #o #o #o #o #o #o #o #o #o #o #o #o #o #o #o #o #o #o #o #o #o #o #o #o #o #o #o #o #o #o #o #o #o #o #o #o #o #o #o #o #o #o #o #o #o #o #o #o #o #o #o #o #o #o #o #o #o #o #o #o #o #o #o # o #o #o #o #o #o #o #o #o #o # o #o #o #o #o #o #o #o #o #o # o #o #o #o #o #o #    단조 110개 완료.\n"
     ]
    }
   ],
   "source": [
    "while True:\n",
    "    try:\n",
    "        for 구이름 in 할당_list[::-1]:\n",
    "            동이름_list = dong_dict[구이름]        \n",
    "            for 동이름 in 동이름_list:\n",
    "                review_file = '리뷰정보_' + 구이름 + '_' + 동이름+ '_'+ 업종 + '.csv'\n",
    "                if check_file(file_path=review_path, file_name=review_file):\n",
    "                    print(f'{code_file}이 있습니다. 다음 지역으로 이동합니다')\n",
    "                    pass\n",
    "                else: naver_review_scrapping(구이름=구이름, 동이름=동이름, 업종=업종)\n",
    "    except:\n",
    "        for 구이름 in 할당_list[::-1]:\n",
    "            동이름_list = dong_dict[구이름]        \n",
    "            for 동이름 in 동이름_list:\n",
    "                review_file = '리뷰정보_' + 구이름 + '_' + 동이름+ '_'+ 업종 + '.csv'\n",
    "                if check_file(file_path=review_path, file_name=review_file):\n",
    "                    print(f'{code_file}이 있습니다. 다음 지역으로 이동합니다')\n",
    "                    pass\n",
    "                else: naver_review_scrapping(구이름=구이름, 동이름=동이름, 업종=업종)"
   ]
  }
 ],
 "metadata": {
  "kernelspec": {
   "display_name": "Python 3 (ipykernel)",
   "language": "python",
   "name": "python3"
  },
  "language_info": {
   "codemirror_mode": {
    "name": "ipython",
    "version": 3
   },
   "file_extension": ".py",
   "mimetype": "text/x-python",
   "name": "python",
   "nbconvert_exporter": "python",
   "pygments_lexer": "ipython3",
   "version": "3.8.11"
  },
  "toc": {
   "base_numbering": 1,
   "nav_menu": {},
   "number_sections": true,
   "sideBar": true,
   "skip_h1_title": false,
   "title_cell": "Table of Contents",
   "title_sidebar": "Contents",
   "toc_cell": false,
   "toc_position": {
    "height": "calc(100% - 180px)",
    "left": "10px",
    "top": "150px",
    "width": "403.49px"
   },
   "toc_section_display": true,
   "toc_window_display": false
  }
 },
 "nbformat": 4,
 "nbformat_minor": 5
}
