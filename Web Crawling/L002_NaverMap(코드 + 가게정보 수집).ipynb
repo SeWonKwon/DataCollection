{
 "cells": [
  {
   "cell_type": "markdown",
   "id": "54e6c7fa",
   "metadata": {},
   "source": [
    "# 기본 라이브러리 로드"
   ]
  },
  {
   "cell_type": "code",
   "execution_count": 1,
   "id": "cf8851bf",
   "metadata": {
    "ExecuteTime": {
     "end_time": "2021-10-15T07:50:03.472665Z",
     "start_time": "2021-10-15T07:50:02.823642Z"
    }
   },
   "outputs": [],
   "source": [
    "import time\n",
    "import pandas as pd\n",
    "import numpy as np\n",
    "import json\n",
    "\n",
    "from selenium import webdriver\n",
    "from selenium.webdriver.common.keys import Keys\n",
    "from selenium.common.exceptions import NoSuchElementException\n",
    "from selenium.common.exceptions import ElementNotInteractableException\n",
    "from selenium.common.exceptions import StaleElementReferenceException\n",
    "from selenium.common.exceptions import ElementClickInterceptedException\n",
    "from webdriver_manager.chrome import ChromeDriverManager\n",
    "from selenium.webdriver.common.by import By\n",
    "\n",
    "import warnings\n",
    "warnings.filterwarnings(action = 'ignore')\n"
   ]
  },
  {
   "cell_type": "markdown",
   "id": "6a2db927",
   "metadata": {},
   "source": [
    "# 함수"
   ]
  },
  {
   "cell_type": "code",
   "execution_count": 2,
   "id": "27fe50b0",
   "metadata": {
    "ExecuteTime": {
     "end_time": "2021-10-15T07:50:03.487690Z",
     "start_time": "2021-10-15T07:50:03.473670Z"
    }
   },
   "outputs": [],
   "source": [
    "def try_none_text(x):\n",
    "    try:\n",
    "        return x.text\n",
    "    except:\n",
    "        return 'NA'\n",
    "        "
   ]
  },
  {
   "cell_type": "code",
   "execution_count": 3,
   "id": "990a2c0c",
   "metadata": {
    "ExecuteTime": {
     "end_time": "2021-10-15T07:50:03.502709Z",
     "start_time": "2021-10-15T07:50:03.488695Z"
    }
   },
   "outputs": [],
   "source": [
    "def try_none_text_by_class_name(wd,class_name, col='col'):\n",
    "    try:\n",
    "        return wd.find_element_by_class_name(class_name).text\n",
    "    except NoSuchElementException:\n",
    "        print(col, end=' ')\n",
    "        return 'NA'\n",
    "        "
   ]
  },
  {
   "cell_type": "code",
   "execution_count": 4,
   "id": "266ea21d",
   "metadata": {
    "ExecuteTime": {
     "end_time": "2021-10-15T07:50:03.517721Z",
     "start_time": "2021-10-15T07:50:03.503708Z"
    }
   },
   "outputs": [],
   "source": [
    "def strong_try_none_text_by_class_name(wd,class_name, col='col'):\n",
    "    try:\n",
    "        temps = wd.find_elements_by_class_name(class_name)\n",
    "        for temp in temps:\n",
    "            if temp.text.startswith('편의'):\n",
    "                return temp.text.split('\\n')[1]\n",
    "        else:\n",
    "            return 'NA'\n",
    "    except NoSuchElementException:\n",
    "#         print(col, end='')\n",
    "        return 'NA'\n",
    "        "
   ]
  },
  {
   "cell_type": "code",
   "execution_count": 5,
   "id": "896cc519",
   "metadata": {
    "ExecuteTime": {
     "end_time": "2021-10-15T07:50:03.533044Z",
     "start_time": "2021-10-15T07:50:03.518722Z"
    }
   },
   "outputs": [],
   "source": [
    "def review_dict(s):\n",
    "    review_dict = {}\n",
    "#     print(s.split('평균 별점'))\n",
    "    s = s.split('평균 별점')\n",
    "    review_dict['평균_별점'] = s[-1].strip()\n",
    "    s = s[0].split('사진')\n",
    "    if len(s) >= 2:\n",
    "        review_dict['사진'] = int(s[-1])\n",
    "        review_dict['리뷰'] = s[0].split()[-1]\n",
    "    else:\n",
    "        review_dict['사진'] = 'NA'\n",
    "        review_dict['리뷰'] = s[0].split()[-1]\n",
    "# print(s)\n",
    "    return review_dict"
   ]
  },
  {
   "cell_type": "markdown",
   "id": "98aa6ce5",
   "metadata": {},
   "source": [
    "## 지역구 함수"
   ]
  },
  {
   "cell_type": "code",
   "execution_count": 6,
   "id": "f16a3a26",
   "metadata": {
    "ExecuteTime": {
     "end_time": "2021-10-15T07:50:03.548057Z",
     "start_time": "2021-10-15T07:50:03.534047Z"
    }
   },
   "outputs": [],
   "source": [
    "dong_list = ['종로구 청운효자동', '종로구 사직동', '종로구 삼청동', '종로구 부암동', '종로구 평창동', '종로구 무악동',\n",
    "       '종로구 교남동', '종로구 가회동', '종로구 종로1.2.3.4가동', '종로구 종로5.6가동', '종로구 이화동',\n",
    "       '종로구 혜화동', '종로구 창신제1동', '종로구 창신제2동', '종로구 창신제3동', '종로구 숭인제1동',\n",
    "       '종로구 숭인제2동', '중구 소공동', '중구 회현동', '중구 명동', '중구 필동', '중구 장충동',\n",
    "       '중구 광희동', '중구 을지로동', '중구 신당동', '중구 다산동', '중구 약수동', '중구 청구동',\n",
    "       '중구 신당제5동', '중구 동화동', '중구 황학동', '중구 중림동', '용산구 후암동', '용산구 용산2가동',\n",
    "       '용산구 남영동', '용산구 청파동', '용산구 원효로제1동', '용산구 원효로제2동', '용산구 효창동',\n",
    "       '용산구 용문동', '용산구 한강로동', '용산구 이촌제1동', '용산구 이촌제2동', '용산구 이태원제1동',\n",
    "       '용산구 이태원제2동', '용산구 한남동', '용산구 서빙고동', '용산구 보광동', '성동구 왕십리제2동',\n",
    "       '성동구 왕십리도선동', '성동구 마장동', '성동구 사근동', '성동구 행당제1동', '성동구 행당제2동',\n",
    "       '성동구 응봉동', '성동구 금호1가동', '성동구 금호2.3가동', '성동구 금호4가동', '성동구 옥수동',\n",
    "       '성동구 성수1가제1동', '성동구 성수1가제2동', '성동구 성수2가제1동', '성동구 성수2가제3동',\n",
    "       '성동구 송정동', '성동구 용답동', '광진구 화양동', '광진구 군자동', '광진구 중곡제1동',\n",
    "       '광진구 중곡제2동', '광진구 중곡제3동', '광진구 중곡제4동', '광진구 능동', '광진구 광장동',\n",
    "       '광진구 자양제1동', '광진구 자양제2동', '광진구 자양제3동', '광진구 자양제4동', '광진구 구의제1동',\n",
    "       '광진구 구의제2동', '광진구 구의제3동', '동대문구 용신동', '동대문구 제기동', '동대문구 전농제1동',\n",
    "       '동대문구 전농제2동', '동대문구 답십리제1동', '동대문구 답십리제2동', '동대문구 장안제1동',\n",
    "       '동대문구 장안제2동', '동대문구 청량리동', '동대문구 회기동', '동대문구 휘경제1동', '동대문구 휘경제2동',\n",
    "       '동대문구 이문제1동', '동대문구 이문제2동', '중랑구 면목제2동', '중랑구 면목제4동', '중랑구 면목제5동',\n",
    "       '중랑구 면목본동', '중랑구 면목제7동', '중랑구 면목제3.8동', '중랑구 상봉제1동', '중랑구 상봉제2동',\n",
    "       '중랑구 중화제1동', '중랑구 중화제2동', '중랑구 묵제1동', '중랑구 묵제2동', '중랑구 망우본동',\n",
    "       '중랑구 망우제3동', '중랑구 신내1동', '중랑구 신내2동', '성북구 성북동', '성북구 삼선동',\n",
    "       '성북구 동선동', '성북구 돈암제1동', '성북구 돈암제2동', '성북구 안암동', '성북구 보문동',\n",
    "       '성북구 정릉제1동', '성북구 정릉제2동', '성북구 정릉제3동', '성북구 정릉제4동', '성북구 길음제1동',\n",
    "       '성북구 길음제2동', '성북구 종암동', '성북구 월곡제1동', '성북구 월곡제2동', '성북구 장위제1동',\n",
    "       '성북구 장위제2동', '성북구 장위제3동', '성북구 석관동', '강북구 삼양동', '강북구 미아동',\n",
    "       '강북구 송중동', '강북구 송천동', '강북구 삼각산동', '강북구 번1동', '강북구 번2동', '강북구 번3동',\n",
    "       '강북구 수유1동', '강북구 수유2동', '강북구 수유3동', '강북구 우이동', '강북구 인수동',\n",
    "       '도봉구 창제1동', '도봉구 창제2동', '도봉구 창제3동', '도봉구 창제4동', '도봉구 창제5동',\n",
    "       '도봉구 도봉제1동', '도봉구 도봉제2동', '도봉구 쌍문제1동', '도봉구 쌍문제2동', '도봉구 쌍문제3동',\n",
    "       '도봉구 쌍문제4동', '도봉구 방학제1동', '도봉구 방학제2동', '도봉구 방학제3동', '노원구 월계1동',\n",
    "       '노원구 월계2동', '노원구 월계3동', '노원구 공릉1동', '노원구 공릉2동', '노원구 하계1동',\n",
    "       '노원구 하계2동', '노원구 중계본동', '노원구 중계1동', '노원구 중계4동', '노원구 중계2.3동',\n",
    "       '노원구 상계1동', '노원구 상계2동', '노원구 상계3.4동', '노원구 상계5동', '노원구 상계6.7동',\n",
    "       '노원구 상계8동', '노원구 상계9동', '노원구 상계10동', '은평구 녹번동', '은평구 불광제1동',\n",
    "       '은평구 불광제2동', '은평구 갈현제1동', '은평구 갈현제2동', '은평구 구산동', '은평구 대조동',\n",
    "       '은평구 응암제1동', '은평구 응암제2동', '은평구 응암제3동', '은평구 역촌동', '은평구 신사제1동',\n",
    "       '은평구 신사제2동', '은평구 증산동', '은평구 수색동', '은평구 진관동', '서대문구 천연동',\n",
    "       '서대문구 북아현동', '서대문구 충현동', '서대문구 신촌동', '서대문구 연희동', '서대문구 홍제제1동',\n",
    "       '서대문구 홍제제3동', '서대문구 홍제제2동', '서대문구 홍은제1동', '서대문구 홍은제2동',\n",
    "       '서대문구 남가좌제1동', '서대문구 남가좌제2동', '서대문구 북가좌제1동', '서대문구 북가좌제2동',\n",
    "       '마포구 아현동', '마포구 공덕동', '마포구 도화동', '마포구 용강동', '마포구 대흥동', '마포구 염리동',\n",
    "       '마포구 신수동', '마포구 서강동', '마포구 서교동', '마포구 합정동', '마포구 망원제1동',\n",
    "       '마포구 망원제2동', '마포구 연남동', '마포구 성산제1동', '마포구 성산제2동', '마포구 상암동',\n",
    "       '양천구 목1동', '양천구 목2동', '양천구 목3동', '양천구 목4동', '양천구 목5동', '양천구 신월1동',\n",
    "       '양천구 신월2동', '양천구 신월3동', '양천구 신월4동', '양천구 신월5동', '양천구 신월6동',\n",
    "       '양천구 신월7동', '양천구 신정1동', '양천구 신정2동', '양천구 신정3동', '양천구 신정4동',\n",
    "       '양천구 신정6동', '양천구 신정7동', '강서구 염창동', '강서구 등촌제1동', '강서구 등촌제2동',\n",
    "       '강서구 등촌제3동', '강서구 화곡제1동', '강서구 화곡제2동', '강서구 화곡제3동', '강서구 화곡제4동',\n",
    "       '강서구 화곡본동', '강서구 화곡제6동', '강서구 화곡제8동', '강서구 가양제1동', '강서구 가양제2동',\n",
    "       '강서구 가양제3동', '강서구 발산제1동', '강서구 우장산동', '강서구 공항동', '강서구 방화제1동',\n",
    "       '강서구 방화제2동', '강서구 방화제3동', '구로구 신도림동', '구로구 구로제1동', '구로구 구로제2동',\n",
    "       '구로구 구로제3동', '구로구 구로제4동', '구로구 구로제5동', '구로구 가리봉동', '구로구 고척제1동',\n",
    "       '구로구 고척제2동', '구로구 개봉제1동', '구로구 개봉제2동', '구로구 개봉제3동', '구로구 오류제1동',\n",
    "       '구로구 오류제2동', '구로구 수궁동', '구로구 항동', '금천구 가산동', '금천구 독산제1동',\n",
    "       '금천구 독산제2동', '금천구 독산제3동', '금천구 독산제4동', '금천구 시흥제1동', '금천구 시흥제2동',\n",
    "       '금천구 시흥제3동', '금천구 시흥제4동', '금천구 시흥제5동', '영등포구 영등포본동', '영등포구 영등포동',\n",
    "       '영등포구 여의동', '영등포구 당산제1동', '영등포구 당산제2동', '영등포구 도림동', '영등포구 문래동',\n",
    "       '영등포구 양평제1동', '영등포구 양평제2동', '영등포구 신길제1동', '영등포구 신길제3동',\n",
    "       '영등포구 신길제4동', '영등포구 신길제5동', '영등포구 신길제6동', '영등포구 신길제7동',\n",
    "       '영등포구 대림제1동', '영등포구 대림제2동', '영등포구 대림제3동', '동작구 노량진제1동',\n",
    "       '동작구 노량진제2동', '동작구 상도제1동', '동작구 상도제2동', '동작구 상도제3동', '동작구 상도제4동',\n",
    "       '동작구 흑석동', '동작구 사당제1동', '동작구 사당제2동', '동작구 사당제3동', '동작구 사당제4동',\n",
    "       '동작구 사당제5동', '동작구 대방동', '동작구 신대방제1동', '동작구 신대방제2동', '관악구 보라매동',\n",
    "       '관악구 청림동', '관악구 성현동', '관악구 행운동', '관악구 낙성대동', '관악구 청룡동', '관악구 은천동',\n",
    "       '관악구 중앙동', '관악구 인헌동', '관악구 남현동', '관악구 서원동', '관악구 신원동', '관악구 서림동',\n",
    "       '관악구 신사동', '관악구 신림동', '관악구 난향동', '관악구 조원동', '관악구 대학동', '관악구 삼성동',\n",
    "       '관악구 미성동', '관악구 난곡동', '서초구 서초1동', '서초구 서초2동', '서초구 서초3동',\n",
    "       '서초구 서초4동', '서초구 잠원동', '서초구 반포본동', '서초구 반포1동', '서초구 반포2동',\n",
    "       '서초구 반포3동', '서초구 반포4동', '서초구 방배본동', '서초구 방배1동', '서초구 방배2동',\n",
    "       '서초구 방배3동', '서초구 방배4동', '서초구 양재1동', '서초구 양재2동', '서초구 내곡동',\n",
    "       '강남구 신사동', '강남구 논현1동', '강남구 논현2동', '강남구 압구정동', '강남구 청담동',\n",
    "       '강남구 삼성1동', '강남구 삼성2동', '강남구 대치1동', '강남구 대치2동', '강남구 대치4동',\n",
    "       '강남구 역삼1동', '강남구 역삼2동', '강남구 도곡1동', '강남구 도곡2동', '강남구 개포1동',\n",
    "       '강남구 개포2동', '강남구 개포4동', '강남구 세곡동', '강남구 일원본동', '강남구 일원1동',\n",
    "       '강남구 일원2동', '강남구 수서동', '송파구 풍납1동', '송파구 풍납2동', '송파구 거여1동',\n",
    "       '송파구 거여2동', '송파구 마천1동', '송파구 마천2동', '송파구 방이1동', '송파구 방이2동',\n",
    "       '송파구 오륜동', '송파구 오금동', '송파구 송파1동', '송파구 송파2동', '송파구 석촌동', '송파구 삼전동',\n",
    "       '송파구 가락본동', '송파구 가락1동', '송파구 가락2동', '송파구 문정1동', '송파구 문정2동',\n",
    "       '송파구 장지동', '송파구 위례동', '송파구 잠실본동', '송파구 잠실2동', '송파구 잠실3동',\n",
    "       '송파구 잠실4동', '송파구 잠실6동', '송파구 잠실7동', '강동구 강일동', '강동구 상일제1동',\n",
    "       '강동구 상일제2동', '강동구 명일제1동', '강동구 명일제2동', '강동구 고덕제1동', '강동구 고덕제2동',\n",
    "       '강동구 암사제1동', '강동구 암사제2동', '강동구 암사제3동', '강동구 천호제1동', '강동구 천호제2동',\n",
    "       '강동구 천호제3동', '강동구 성내제1동', '강동구 성내제2동', '강동구 성내제3동', '강동구 길동',\n",
    "       '강동구 둔촌제1동', '강동구 둔촌제2동']\n"
   ]
  },
  {
   "cell_type": "code",
   "execution_count": 7,
   "id": "c9270578",
   "metadata": {
    "ExecuteTime": {
     "end_time": "2021-10-15T07:50:03.563071Z",
     "start_time": "2021-10-15T07:50:03.549057Z"
    },
    "scrolled": true
   },
   "outputs": [],
   "source": [
    "from collections import defaultdict\n",
    "dong_dict = defaultdict(list)\n",
    "for 구, 동 in [x.split() for x in dong_list]:\n",
    "    dong_dict[구].append(동)\n",
    "# dong_dict"
   ]
  },
  {
   "cell_type": "code",
   "execution_count": 8,
   "id": "99dd37f0",
   "metadata": {
    "ExecuteTime": {
     "end_time": "2021-10-15T07:50:03.578085Z",
     "start_time": "2021-10-15T07:50:03.564071Z"
    }
   },
   "outputs": [],
   "source": [
    "dong_key_list = list(dong_dict.keys())\n",
    "dong_key_list.sort()\n",
    "# dong_key_list"
   ]
  },
  {
   "cell_type": "code",
   "execution_count": 9,
   "id": "c14aeb3d",
   "metadata": {
    "ExecuteTime": {
     "end_time": "2021-10-15T07:50:03.593097Z",
     "start_time": "2021-10-15T07:50:03.579085Z"
    }
   },
   "outputs": [],
   "source": [
    "for 구이름 in dong_key_list:\n",
    "    dong_dict[구이름] = sorted(dong_dict[구이름])\n",
    "#     print(dong_dict[구이름])\n",
    "    "
   ]
  },
  {
   "cell_type": "code",
   "execution_count": 10,
   "id": "16c968f0",
   "metadata": {
    "ExecuteTime": {
     "end_time": "2021-10-15T07:50:03.608115Z",
     "start_time": "2021-10-15T07:50:03.595100Z"
    },
    "scrolled": false
   },
   "outputs": [],
   "source": [
    "for 구이름 in dong_key_list:\n",
    "    for 동이름 in dong_dict[구]:\n",
    "#         print(구이름, 동이름)\n",
    "        pass"
   ]
  },
  {
   "cell_type": "code",
   "execution_count": 11,
   "id": "12055410",
   "metadata": {
    "ExecuteTime": {
     "end_time": "2021-10-15T07:50:03.623126Z",
     "start_time": "2021-10-15T07:50:03.609113Z"
    }
   },
   "outputs": [],
   "source": [
    "import os\n",
    "def check_file(file_path, file_name):\n",
    "    return os.path.isfile(file_path+file_name)"
   ]
  },
  {
   "cell_type": "code",
   "execution_count": 12,
   "id": "eed490c3",
   "metadata": {
    "ExecuteTime": {
     "end_time": "2021-10-15T07:50:03.638140Z",
     "start_time": "2021-10-15T07:50:03.624128Z"
    }
   },
   "outputs": [],
   "source": [
    "def scroll_down(wd,SCROLL_PAUSE_SEC = 1):\n",
    "\n",
    "    # 스크롤 높이 가져옴\n",
    "    last_height = wd.execute_script(\"return document.body.scrollHeight\")\n",
    "#     print(last_height)\n",
    "    while True:\n",
    "        # 끝까지 스크롤 다운\n",
    "        wd.execute_script(\"window.scrollTo(0, document.body.scrollHeight);\")\n",
    "\n",
    "        # 1초 대기\n",
    "        time.sleep(SCROLL_PAUSE_SEC)\n",
    "\n",
    "        # 스크롤 다운 후 스크롤 높이 다시 가져옴\n",
    "        new_height = wd.execute_script(\"return document.body.scrollHeight\")\n",
    "        if new_height == last_height:\n",
    "            break\n",
    "        last_height = new_height"
   ]
  },
  {
   "cell_type": "markdown",
   "id": "66631c52",
   "metadata": {},
   "source": [
    "## json to list"
   ]
  },
  {
   "cell_type": "code",
   "execution_count": 13,
   "id": "6cb76f54",
   "metadata": {
    "ExecuteTime": {
     "end_time": "2021-10-15T07:50:03.653160Z",
     "start_time": "2021-10-15T07:50:03.639141Z"
    }
   },
   "outputs": [],
   "source": [
    "def restNo_script_to_list(wd):\n",
    "    restNo_list=[]\n",
    "    script_text = wd.find_element_by_xpath('/html/body/script[3]')\n",
    "\n",
    "    text1 = script_text.get_attribute('text')\n",
    "    text1 = text1.split('__APOLLO_STATE__ ')[1]\n",
    "    text1 = text1.split('[')[1]\n",
    "    text1 = text1.split(']')[0]\n",
    "    text1 = '{ \"result\":[ ' + text1 + ' ]}'\n",
    "    jsonObj = json.loads(text1)\n",
    "    \n",
    "#     print(len(jsonObj['result']),end='개완료#')\n",
    "    for code_num in jsonObj['result']:\n",
    "        restNo_list.append(str(code_num['id'].split(':')[1]))\n",
    "#     print(restNo_list)\n",
    "    time.sleep(1)\n",
    "    return restNo_list"
   ]
  },
  {
   "cell_type": "markdown",
   "id": "d599af84",
   "metadata": {},
   "source": [
    "## 가게코드 가져오기"
   ]
  },
  {
   "cell_type": "code",
   "execution_count": 14,
   "id": "584d578b",
   "metadata": {
    "ExecuteTime": {
     "end_time": "2021-10-15T07:50:03.668178Z",
     "start_time": "2021-10-15T07:50:03.654163Z"
    },
    "scrolled": true
   },
   "outputs": [],
   "source": [
    "def restaurant_code_store_scraping( 구이름, 동이름, 업종, slow=1):\n",
    "    options = webdriver.ChromeOptions()\n",
    "\n",
    "    # options.add_argument(\"--start-maximized\")\n",
    "    wd = webdriver.Chrome(ChromeDriverManager().install(), options= options)  # chromedriver 열기\n",
    "    wd.implicitly_wait(3)\n",
    "\n",
    "\n",
    "\n",
    "    pcmap_code_url = 'https://pcmap.place.naver.com/restaurant/list?query='\n",
    "\n",
    "    search_url_detail = pcmap_code_url + 구이름 +'%20'+ 동이름 + '%20' + 업종\n",
    "    code_file = '가게코드_' + 구이름 + '_' + 동이름+ '_'+ 업종 + '.csv'\n",
    "    code_path = 'data/코드/'\n",
    "    \n",
    "    code_df = pd.DataFrame()\n",
    "    store_idx= 0\n",
    "    wd.get(search_url_detail)\n",
    "    time.sleep(3*slow)\n",
    "\n",
    "    restNo_list=[]\n",
    "    print(\"@@@@@@@@@@@@@@@@@@@@@@@@@@@@@@@@@@@@@@@@@@@@@@@@@@@@@@@@@@@@@@@\")\n",
    "    print(f'@@@{구이름} {동이름} {업종} 식당 코드 수집을 시작합니다~~ 후비고~~')\n",
    "\n",
    "    last_num = wd.find_elements_by_class_name('_2tk2s ')[-1].text\n",
    "    current_num = wd.find_element_by_class_name('_5vmWW').text\n",
    "    \n",
    "    restNo_list += restNo_script_to_list(wd)\n",
    "\n",
    "    code_df = pd.DataFrame(data={'rest_No':list(set(restNo_list))})\n",
    "    code_df.to_csv(code_path + code_file, index=False)\n",
    "    print('\\n')\n",
    "    print(구이름,동이름,업종, f'가게 {code_df.shape[0]}개 식당코드 수집 완료' )\n",
    "    print('\\n','########################################################')\n",
    "    wd.close()"
   ]
  },
  {
   "cell_type": "code",
   "execution_count": 15,
   "id": "38411a7e",
   "metadata": {
    "ExecuteTime": {
     "end_time": "2021-10-15T07:50:03.683160Z",
     "start_time": "2021-10-15T07:50:03.669178Z"
    }
   },
   "outputs": [],
   "source": [
    "구이름 = '중랑구'\n",
    "동이름 = '망우본동'\n",
    "업종 = '식당'\n",
    "\n"
   ]
  },
  {
   "cell_type": "markdown",
   "id": "1e139f47",
   "metadata": {
    "ExecuteTime": {
     "end_time": "2021-10-14T19:46:16.312766Z",
     "start_time": "2021-10-14T19:45:49.096282Z"
    }
   },
   "source": [
    "restaurant_code_store_scraping(구이름, 동이름, 업종)"
   ]
  },
  {
   "cell_type": "code",
   "execution_count": 16,
   "id": "c8c108bf",
   "metadata": {
    "ExecuteTime": {
     "end_time": "2021-10-15T07:50:03.698148Z",
     "start_time": "2021-10-15T07:50:03.684162Z"
    }
   },
   "outputs": [],
   "source": [
    "def get_store_info(wd, code_no):\n",
    "    name = wd.find_element_by_class_name('_3XamX').text\n",
    "#     print(name)\n",
    "    r_type = try_none_text_by_class_name(wd,'_3ocDE','ty')\n",
    "#     print(r_type)\n",
    "    address = try_none_text_by_class_name(wd,'_2yqUQ','ad')\n",
    "#     print(address)\n",
    "    tel = try_none_text_by_class_name(wd,'_3ZA0S','tel') \n",
    "#     print(tel)\n",
    "    detail = try_none_text_by_class_name(wd,'WoYOw','de')\n",
    "#     print('d1',detail)\n",
    "    strong = strong_try_none_text_by_class_name(wd,'_1M_Iz.undefined','st')\n",
    "#     print('s1',strong)\n",
    "\n",
    "    try:\n",
    "        datalab_1 = {}\n",
    "        datalab_list = wd.find_elements_by_class_name('_3Ryhx')\n",
    "        for datalab in datalab_list:\n",
    "            datalab_1[datalab.find_element_by_class_name('_3hvd9').text] = [x.text for x in datalab.find_elements_by_class_name('_2irYJ') if x.text != '']\n",
    "    except:\n",
    "        datalab_1 = 'NA'\n",
    "#     print(name, datalab_1)\n",
    "\n",
    "    nums_list = wd.find_elements_by_class_name('_1Y6hi')\n",
    "    try:\n",
    "        score = nums_list[0].find_element_by_tag_name('em').text\n",
    "    except:\n",
    "        score = 'NA'\n",
    "    try:\n",
    "        review_num = nums_list[1].find_element_by_tag_name('em').text\n",
    "    except:\n",
    "        review_num = 'NA'\n",
    "        \n",
    "    try:\n",
    "        blog_nums = nums_list[2].find_element_by_tag_name('em').text\n",
    "    except:\n",
    "        blog_nums = 'NA'\n",
    "#     print(score, review_num, blog_nums)\n",
    "       \n",
    "\n",
    "\n",
    "    return name,code_no, r_type, address,tel, score, detail, strong, datalab_1, review_num, blog_nums"
   ]
  },
  {
   "cell_type": "code",
   "execution_count": 17,
   "id": "174b0c7b",
   "metadata": {
    "ExecuteTime": {
     "end_time": "2021-10-15T07:50:03.713140Z",
     "start_time": "2021-10-15T07:50:03.699147Z"
    }
   },
   "outputs": [],
   "source": [
    "def naver_map_store_scrapping( 구이름, 동이름, 업종, slow= 1):\n",
    "    start_time = time.time()\n",
    "\n",
    "    options = webdriver.ChromeOptions()\n",
    "\n",
    "    # options.add_argument(\"--start-maximized\")\n",
    "    wd = webdriver.Chrome(ChromeDriverManager().install(), options= options)  # chromedriver 열기\n",
    "    wd.implicitly_wait(1*slow)\n",
    "\n",
    "    code_path = 'data/코드/'\n",
    "    review_path = 'data/리뷰/'\n",
    "    store_path = 'data/가게/'\n",
    "\n",
    "    code_file = '가게코드_' + 구이름 + '_' + 동이름+ '_'+ 업종 + '.csv'\n",
    "    review_file = '리뷰정보_' + 구이름 + '_' + 동이름+ '_'+ 업종 + '.csv'\n",
    "    store_file = '가게정보_' + 구이름 + '_' + 동이름+ '_'+ 업종 + '.csv'\n",
    "    store_idx = 0\n",
    "    store_df = pd.DataFrame(columns=(\"name\", \"code_ne\", \"r_type\",\"address\",\"tel\",\"score\",\"detail\",\"strong\",\"datalab_1\",\"review_num\",\"blog_num\"))\n",
    "\n",
    "    current_num = 1\n",
    "\n",
    "    code_df = pd.read_csv(code_path+code_file, dtype='str')\n",
    "\n",
    "    print(f'{구이름} {동이름} {업종} 의 가게 정보 스크래핑을 시작합니다.')\n",
    "\n",
    "    code_no = code_df.loc[3].values[0]\n",
    "\n",
    "    for _, code_no_ in code_df.iterrows():\n",
    "        code_no = code_no_.values[0]\n",
    "\n",
    "        place_url = 'https://pcmap.place.naver.com/restaurant/'+str(code_no)\n",
    "\n",
    "        wd.get(place_url)\n",
    "        time.sleep(1*slow)\n",
    "        scroll_down(wd,2)\n",
    "        cnt_idx = 0\n",
    "\n",
    "        try:\n",
    "            store_df.loc[store_idx] = get_store_info(wd,code_no)\n",
    "            print(store_idx, end='#')\n",
    "            store_idx += 1\n",
    "        except:\n",
    "            print(store_idx, end='!!')\n",
    "            pass\n",
    "        ######################\n",
    "#         if store_idx >=10:\n",
    "#             store_df.to_csv(store_path+store_file, index=False)\n",
    "#             print(구이름,동이름,업종, f'가게 {store_idx}개 완료' )\n",
    "#             print(f'{time.time()-start_time} 소요')\n",
    "#             wd.close()\n",
    "#             break\n",
    "    else:\n",
    "        store_df.to_csv(store_path+store_file, index=False)\n",
    "        print(구이름,동이름,업종, f'가게 {store_idx}개 완료' )\n",
    "        print(f'{time.time()-start_time} 소요')\n",
    "        wd.close()\n",
    "        \n",
    "#     return store_df"
   ]
  },
  {
   "cell_type": "markdown",
   "id": "43d90f33",
   "metadata": {
    "ExecuteTime": {
     "end_time": "2021-10-14T17:50:17.748386Z",
     "start_time": "2021-10-14T17:49:06.292848Z"
    }
   },
   "source": [
    "store_df = naver_map_store_scrapping( 구이름, 동이름, 업종, slow= 1)"
   ]
  },
  {
   "cell_type": "markdown",
   "id": "1da0a4e0",
   "metadata": {
    "ExecuteTime": {
     "end_time": "2021-10-14T17:50:17.778963Z",
     "start_time": "2021-10-14T17:50:17.749387Z"
    }
   },
   "source": [
    "store_df"
   ]
  },
  {
   "cell_type": "markdown",
   "id": "a79b9b8a",
   "metadata": {
    "ExecuteTime": {
     "end_time": "2021-10-14T16:45:13.644823Z",
     "start_time": "2021-10-14T16:41:16.760360Z"
    }
   },
   "source": [
    "naver_review_scrapping( 구이름, 동이름, 업종, slow= 1)"
   ]
  },
  {
   "cell_type": "markdown",
   "id": "9da60fad",
   "metadata": {},
   "source": [
    "# 스크래핑 수행"
   ]
  },
  {
   "cell_type": "code",
   "execution_count": 18,
   "id": "c6902d2a",
   "metadata": {
    "ExecuteTime": {
     "end_time": "2021-10-15T07:50:03.728147Z",
     "start_time": "2021-10-15T07:50:03.714140Z"
    }
   },
   "outputs": [
    {
     "data": {
      "text/plain": [
       "['강남구',\n",
       " '강동구',\n",
       " '강북구',\n",
       " '강서구',\n",
       " '관악구',\n",
       " '광진구',\n",
       " '구로구',\n",
       " '금천구',\n",
       " '노원구',\n",
       " '도봉구',\n",
       " '동대문구',\n",
       " '동작구',\n",
       " '마포구',\n",
       " '서대문구',\n",
       " '서초구',\n",
       " '성동구',\n",
       " '성북구',\n",
       " '송파구',\n",
       " '양천구',\n",
       " '영등포구',\n",
       " '용산구',\n",
       " '은평구',\n",
       " '종로구',\n",
       " '중구',\n",
       " '중랑구']"
      ]
     },
     "execution_count": 18,
     "metadata": {},
     "output_type": "execute_result"
    }
   ],
   "source": [
    "dong_key_list # 사용 가능 구이름"
   ]
  },
  {
   "cell_type": "markdown",
   "id": "cb2b9665",
   "metadata": {
    "ExecuteTime": {
     "end_time": "2021-10-14T06:25:14.826634Z",
     "start_time": "2021-10-14T06:25:14.812607Z"
    }
   },
   "source": [
    "* 준혁 : \n",
    "\n",
    "'강남구',\n",
    " '강동구',\n",
    " '강북구',\n",
    " '강서구',\n",
    " '관악구',\n",
    " '광진구',\n",
    " '구로구',\n",
    " '금천구',\n",
    "    \n",
    "    \n",
    "    \n",
    "* 승순 :    \n",
    " '노원구',\n",
    " '도봉구',\n",
    " '동대문구',\n",
    " '동작구',\n",
    " '마포구',\n",
    " '서대문구',\n",
    " '서초구',\n",
    " '성동구',\n",
    " \n",
    " \n",
    " \n",
    "* 세원 :\n",
    " '성북구',\n",
    " '송파구',\n",
    " '양천구',\n",
    " '영등포구',\n",
    " '용산구',\n",
    " '은평구',\n",
    " '종로구',\n",
    " '중구',\n",
    " '중랑구'"
   ]
  },
  {
   "cell_type": "code",
   "execution_count": 19,
   "id": "b43cd01b",
   "metadata": {
    "ExecuteTime": {
     "end_time": "2021-10-15T07:50:03.743175Z",
     "start_time": "2021-10-15T07:50:03.729148Z"
    }
   },
   "outputs": [
    {
     "data": {
      "text/plain": [
       "['망우본동',\n",
       " '망우제3동',\n",
       " '면목본동',\n",
       " '면목제2동',\n",
       " '면목제3.8동',\n",
       " '면목제4동',\n",
       " '면목제5동',\n",
       " '면목제7동',\n",
       " '묵제1동',\n",
       " '묵제2동',\n",
       " '상봉제1동',\n",
       " '상봉제2동',\n",
       " '신내1동',\n",
       " '신내2동',\n",
       " '중화제1동',\n",
       " '중화제2동']"
      ]
     },
     "execution_count": 19,
     "metadata": {},
     "output_type": "execute_result"
    }
   ],
   "source": [
    "dong_dict['중랑구'] "
   ]
  },
  {
   "cell_type": "code",
   "execution_count": 20,
   "id": "31360953",
   "metadata": {
    "ExecuteTime": {
     "end_time": "2021-10-15T07:50:03.758183Z",
     "start_time": "2021-10-15T07:50:03.744174Z"
    }
   },
   "outputs": [],
   "source": [
    "dong_dict['중랑구'] = ['망우본동',\n",
    " '망우제3동',\n",
    " '면목본동',\n",
    " '면목제2동',\n",
    " '면목제4동',\n",
    " '면목제5동',\n",
    " '면목제7동',\n",
    " '묵제1동',\n",
    " '묵제2동',\n",
    " '상봉제1동',\n",
    " '상봉제2동',\n",
    " '신내1동',\n",
    " '신내2동',\n",
    " '중화제1동',\n",
    " '중화제2동']"
   ]
  },
  {
   "cell_type": "code",
   "execution_count": 21,
   "id": "5a784496",
   "metadata": {
    "ExecuteTime": {
     "end_time": "2021-10-15T07:50:03.773179Z",
     "start_time": "2021-10-15T07:50:03.759184Z"
    }
   },
   "outputs": [
    {
     "data": {
      "text/plain": [
       "['망우본동',\n",
       " '망우제3동',\n",
       " '면목본동',\n",
       " '면목제2동',\n",
       " '면목제4동',\n",
       " '면목제5동',\n",
       " '면목제7동',\n",
       " '묵제1동',\n",
       " '묵제2동',\n",
       " '상봉제1동',\n",
       " '상봉제2동',\n",
       " '신내1동',\n",
       " '신내2동',\n",
       " '중화제1동',\n",
       " '중화제2동']"
      ]
     },
     "execution_count": 21,
     "metadata": {},
     "output_type": "execute_result"
    }
   ],
   "source": [
    "dong_dict['중랑구']"
   ]
  },
  {
   "cell_type": "code",
   "execution_count": 22,
   "id": "31cf5911",
   "metadata": {
    "ExecuteTime": {
     "end_time": "2021-10-15T07:50:03.788182Z",
     "start_time": "2021-10-15T07:50:03.774176Z"
    }
   },
   "outputs": [],
   "source": [
    "code_path = 'data/코드/'\n",
    "review_path = 'data/리뷰/'\n",
    "store_path = 'data/가게/'"
   ]
  },
  {
   "cell_type": "code",
   "execution_count": 23,
   "id": "e141f5c1",
   "metadata": {
    "ExecuteTime": {
     "end_time": "2021-10-15T07:50:03.803178Z",
     "start_time": "2021-10-15T07:50:03.789183Z"
    }
   },
   "outputs": [],
   "source": [
    "업종 = '식당' # 까페\n",
    "구이름 = '중랑구'\n",
    "동이름_list = dong_dict[구이름]\n",
    "# 동이름_list = ['망우본동', '망우제3동']\n",
    "\n",
    "code_path = 'data/코드/'\n",
    "review_path = 'data/리뷰/'\n",
    "store_path = 'data/가게/'\n",
    "\n",
    "code_file = '가게코드_' + 구이름 + '_' + 동이름+ '_'+ 업종 + '.csv'\n",
    "review_file = '리뷰정보_' + 구이름 + '_' + 동이름+ '_'+ 업종 + '.csv'\n",
    "store_file = '가게정보' + 구이름 + '_' + 동이름+ '_'+ 업종 + '.csv'"
   ]
  },
  {
   "cell_type": "code",
   "execution_count": 24,
   "id": "1fec1dcc",
   "metadata": {
    "ExecuteTime": {
     "end_time": "2021-10-15T07:50:03.818176Z",
     "start_time": "2021-10-15T07:50:03.804180Z"
    }
   },
   "outputs": [],
   "source": [
    "할당_list = ['성북구', '송파구', '양천구', '영등포구', '용산구', '은평구', '종로구', '중구', '중랑구']"
   ]
  },
  {
   "cell_type": "code",
   "execution_count": 25,
   "id": "d71c13db",
   "metadata": {
    "ExecuteTime": {
     "end_time": "2021-10-15T07:50:03.848204Z",
     "start_time": "2021-10-15T07:50:03.819176Z"
    },
    "scrolled": true
   },
   "outputs": [
    {
     "name": "stdout",
     "output_type": "stream",
     "text": [
      "가게코드_중랑구_망우본동_식당.csv이 있습니다. 다음 지역으로 이동합니다\n",
      "가게코드_중랑구_망우제3동_식당.csv이 있습니다. 다음 지역으로 이동합니다\n",
      "가게코드_중랑구_면목본동_식당.csv이 있습니다. 다음 지역으로 이동합니다\n",
      "가게코드_중랑구_면목제2동_식당.csv이 있습니다. 다음 지역으로 이동합니다\n",
      "가게코드_중랑구_면목제4동_식당.csv이 있습니다. 다음 지역으로 이동합니다\n",
      "가게코드_중랑구_면목제5동_식당.csv이 있습니다. 다음 지역으로 이동합니다\n",
      "가게코드_중랑구_면목제7동_식당.csv이 있습니다. 다음 지역으로 이동합니다\n",
      "가게코드_중랑구_묵제1동_식당.csv이 있습니다. 다음 지역으로 이동합니다\n",
      "가게코드_중랑구_묵제2동_식당.csv이 있습니다. 다음 지역으로 이동합니다\n",
      "가게코드_중랑구_상봉제1동_식당.csv이 있습니다. 다음 지역으로 이동합니다\n",
      "가게코드_중랑구_상봉제2동_식당.csv이 있습니다. 다음 지역으로 이동합니다\n",
      "가게코드_중랑구_신내1동_식당.csv이 있습니다. 다음 지역으로 이동합니다\n",
      "가게코드_중랑구_신내2동_식당.csv이 있습니다. 다음 지역으로 이동합니다\n",
      "가게코드_중랑구_중화제1동_식당.csv이 있습니다. 다음 지역으로 이동합니다\n",
      "가게코드_중랑구_중화제2동_식당.csv이 있습니다. 다음 지역으로 이동합니다\n",
      "가게코드_중구_광희동_식당.csv이 있습니다. 다음 지역으로 이동합니다\n",
      "가게코드_중구_다산동_식당.csv이 있습니다. 다음 지역으로 이동합니다\n",
      "가게코드_중구_동화동_식당.csv이 있습니다. 다음 지역으로 이동합니다\n",
      "가게코드_중구_명동_식당.csv이 있습니다. 다음 지역으로 이동합니다\n",
      "가게코드_중구_소공동_식당.csv이 있습니다. 다음 지역으로 이동합니다\n",
      "가게코드_중구_신당동_식당.csv이 있습니다. 다음 지역으로 이동합니다\n",
      "가게코드_중구_신당제5동_식당.csv이 있습니다. 다음 지역으로 이동합니다\n",
      "가게코드_중구_약수동_식당.csv이 있습니다. 다음 지역으로 이동합니다\n",
      "가게코드_중구_을지로동_식당.csv이 있습니다. 다음 지역으로 이동합니다\n",
      "가게코드_중구_장충동_식당.csv이 있습니다. 다음 지역으로 이동합니다\n",
      "가게코드_중구_중림동_식당.csv이 있습니다. 다음 지역으로 이동합니다\n",
      "가게코드_중구_청구동_식당.csv이 있습니다. 다음 지역으로 이동합니다\n",
      "가게코드_중구_필동_식당.csv이 있습니다. 다음 지역으로 이동합니다\n",
      "가게코드_중구_황학동_식당.csv이 있습니다. 다음 지역으로 이동합니다\n",
      "가게코드_중구_회현동_식당.csv이 있습니다. 다음 지역으로 이동합니다\n",
      "가게코드_종로구_가회동_식당.csv이 있습니다. 다음 지역으로 이동합니다\n",
      "가게코드_종로구_교남동_식당.csv이 있습니다. 다음 지역으로 이동합니다\n",
      "가게코드_종로구_무악동_식당.csv이 있습니다. 다음 지역으로 이동합니다\n",
      "가게코드_종로구_부암동_식당.csv이 있습니다. 다음 지역으로 이동합니다\n",
      "가게코드_종로구_사직동_식당.csv이 있습니다. 다음 지역으로 이동합니다\n",
      "가게코드_종로구_삼청동_식당.csv이 있습니다. 다음 지역으로 이동합니다\n",
      "가게코드_종로구_숭인제1동_식당.csv이 있습니다. 다음 지역으로 이동합니다\n",
      "가게코드_종로구_숭인제2동_식당.csv이 있습니다. 다음 지역으로 이동합니다\n",
      "가게코드_종로구_이화동_식당.csv이 있습니다. 다음 지역으로 이동합니다\n",
      "가게코드_종로구_종로1.2.3.4가동_식당.csv이 있습니다. 다음 지역으로 이동합니다\n",
      "가게코드_종로구_종로5.6가동_식당.csv이 있습니다. 다음 지역으로 이동합니다\n",
      "가게코드_종로구_창신제1동_식당.csv이 있습니다. 다음 지역으로 이동합니다\n",
      "가게코드_종로구_창신제2동_식당.csv이 있습니다. 다음 지역으로 이동합니다\n",
      "가게코드_종로구_창신제3동_식당.csv이 있습니다. 다음 지역으로 이동합니다\n",
      "가게코드_종로구_청운효자동_식당.csv이 있습니다. 다음 지역으로 이동합니다\n",
      "가게코드_종로구_평창동_식당.csv이 있습니다. 다음 지역으로 이동합니다\n",
      "가게코드_종로구_혜화동_식당.csv이 있습니다. 다음 지역으로 이동합니다\n",
      "가게코드_은평구_갈현제1동_식당.csv이 있습니다. 다음 지역으로 이동합니다\n",
      "가게코드_은평구_갈현제2동_식당.csv이 있습니다. 다음 지역으로 이동합니다\n",
      "가게코드_은평구_구산동_식당.csv이 있습니다. 다음 지역으로 이동합니다\n",
      "가게코드_은평구_녹번동_식당.csv이 있습니다. 다음 지역으로 이동합니다\n",
      "가게코드_은평구_대조동_식당.csv이 있습니다. 다음 지역으로 이동합니다\n",
      "가게코드_은평구_불광제1동_식당.csv이 있습니다. 다음 지역으로 이동합니다\n",
      "가게코드_은평구_불광제2동_식당.csv이 있습니다. 다음 지역으로 이동합니다\n",
      "가게코드_은평구_수색동_식당.csv이 있습니다. 다음 지역으로 이동합니다\n",
      "가게코드_은평구_신사제1동_식당.csv이 있습니다. 다음 지역으로 이동합니다\n",
      "가게코드_은평구_신사제2동_식당.csv이 있습니다. 다음 지역으로 이동합니다\n",
      "가게코드_은평구_역촌동_식당.csv이 있습니다. 다음 지역으로 이동합니다\n",
      "가게코드_은평구_응암제1동_식당.csv이 있습니다. 다음 지역으로 이동합니다\n",
      "가게코드_은평구_응암제2동_식당.csv이 있습니다. 다음 지역으로 이동합니다\n",
      "가게코드_은평구_응암제3동_식당.csv이 있습니다. 다음 지역으로 이동합니다\n",
      "가게코드_은평구_증산동_식당.csv이 있습니다. 다음 지역으로 이동합니다\n",
      "가게코드_은평구_진관동_식당.csv이 있습니다. 다음 지역으로 이동합니다\n",
      "가게코드_용산구_남영동_식당.csv이 있습니다. 다음 지역으로 이동합니다\n",
      "가게코드_용산구_보광동_식당.csv이 있습니다. 다음 지역으로 이동합니다\n",
      "가게코드_용산구_서빙고동_식당.csv이 있습니다. 다음 지역으로 이동합니다\n",
      "가게코드_용산구_용문동_식당.csv이 있습니다. 다음 지역으로 이동합니다\n",
      "가게코드_용산구_용산2가동_식당.csv이 있습니다. 다음 지역으로 이동합니다\n",
      "가게코드_용산구_원효로제1동_식당.csv이 있습니다. 다음 지역으로 이동합니다\n",
      "가게코드_용산구_원효로제2동_식당.csv이 있습니다. 다음 지역으로 이동합니다\n",
      "가게코드_용산구_이촌제1동_식당.csv이 있습니다. 다음 지역으로 이동합니다\n",
      "가게코드_용산구_이촌제2동_식당.csv이 있습니다. 다음 지역으로 이동합니다\n",
      "가게코드_용산구_이태원제1동_식당.csv이 있습니다. 다음 지역으로 이동합니다\n",
      "가게코드_용산구_이태원제2동_식당.csv이 있습니다. 다음 지역으로 이동합니다\n",
      "가게코드_용산구_청파동_식당.csv이 있습니다. 다음 지역으로 이동합니다\n",
      "가게코드_용산구_한강로동_식당.csv이 있습니다. 다음 지역으로 이동합니다\n",
      "가게코드_용산구_한남동_식당.csv이 있습니다. 다음 지역으로 이동합니다\n",
      "가게코드_용산구_효창동_식당.csv이 있습니다. 다음 지역으로 이동합니다\n",
      "가게코드_용산구_후암동_식당.csv이 있습니다. 다음 지역으로 이동합니다\n",
      "가게코드_영등포구_당산제1동_식당.csv이 있습니다. 다음 지역으로 이동합니다\n",
      "가게코드_영등포구_당산제2동_식당.csv이 있습니다. 다음 지역으로 이동합니다\n",
      "가게코드_영등포구_대림제1동_식당.csv이 있습니다. 다음 지역으로 이동합니다\n",
      "가게코드_영등포구_대림제2동_식당.csv이 있습니다. 다음 지역으로 이동합니다\n",
      "가게코드_영등포구_대림제3동_식당.csv이 있습니다. 다음 지역으로 이동합니다\n",
      "가게코드_영등포구_도림동_식당.csv이 있습니다. 다음 지역으로 이동합니다\n",
      "가게코드_영등포구_문래동_식당.csv이 있습니다. 다음 지역으로 이동합니다\n",
      "가게코드_영등포구_신길제1동_식당.csv이 있습니다. 다음 지역으로 이동합니다\n",
      "가게코드_영등포구_신길제3동_식당.csv이 있습니다. 다음 지역으로 이동합니다\n",
      "가게코드_영등포구_신길제4동_식당.csv이 있습니다. 다음 지역으로 이동합니다\n",
      "가게코드_영등포구_신길제5동_식당.csv이 있습니다. 다음 지역으로 이동합니다\n",
      "가게코드_영등포구_신길제6동_식당.csv이 있습니다. 다음 지역으로 이동합니다\n",
      "가게코드_영등포구_신길제7동_식당.csv이 있습니다. 다음 지역으로 이동합니다\n",
      "가게코드_영등포구_양평제1동_식당.csv이 있습니다. 다음 지역으로 이동합니다\n",
      "가게코드_영등포구_양평제2동_식당.csv이 있습니다. 다음 지역으로 이동합니다\n",
      "가게코드_영등포구_여의동_식당.csv이 있습니다. 다음 지역으로 이동합니다\n",
      "가게코드_영등포구_영등포동_식당.csv이 있습니다. 다음 지역으로 이동합니다\n",
      "가게코드_영등포구_영등포본동_식당.csv이 있습니다. 다음 지역으로 이동합니다\n",
      "가게코드_양천구_목1동_식당.csv이 있습니다. 다음 지역으로 이동합니다\n",
      "가게코드_양천구_목2동_식당.csv이 있습니다. 다음 지역으로 이동합니다\n",
      "가게코드_양천구_목3동_식당.csv이 있습니다. 다음 지역으로 이동합니다\n",
      "가게코드_양천구_목4동_식당.csv이 있습니다. 다음 지역으로 이동합니다\n",
      "가게코드_양천구_목5동_식당.csv이 있습니다. 다음 지역으로 이동합니다\n",
      "가게코드_양천구_신월1동_식당.csv이 있습니다. 다음 지역으로 이동합니다\n",
      "가게코드_양천구_신월2동_식당.csv이 있습니다. 다음 지역으로 이동합니다\n",
      "가게코드_양천구_신월3동_식당.csv이 있습니다. 다음 지역으로 이동합니다\n",
      "가게코드_양천구_신월4동_식당.csv이 있습니다. 다음 지역으로 이동합니다\n",
      "가게코드_양천구_신월5동_식당.csv이 있습니다. 다음 지역으로 이동합니다\n",
      "가게코드_양천구_신월6동_식당.csv이 있습니다. 다음 지역으로 이동합니다\n",
      "가게코드_양천구_신월7동_식당.csv이 있습니다. 다음 지역으로 이동합니다\n",
      "가게코드_양천구_신정1동_식당.csv이 있습니다. 다음 지역으로 이동합니다\n",
      "가게코드_양천구_신정2동_식당.csv이 있습니다. 다음 지역으로 이동합니다\n",
      "가게코드_양천구_신정3동_식당.csv이 있습니다. 다음 지역으로 이동합니다\n",
      "가게코드_양천구_신정4동_식당.csv이 있습니다. 다음 지역으로 이동합니다\n",
      "가게코드_양천구_신정6동_식당.csv이 있습니다. 다음 지역으로 이동합니다\n",
      "가게코드_양천구_신정7동_식당.csv이 있습니다. 다음 지역으로 이동합니다\n",
      "가게코드_송파구_가락1동_식당.csv이 있습니다. 다음 지역으로 이동합니다\n",
      "가게코드_송파구_가락2동_식당.csv이 있습니다. 다음 지역으로 이동합니다\n",
      "가게코드_송파구_가락본동_식당.csv이 있습니다. 다음 지역으로 이동합니다\n",
      "가게코드_송파구_거여1동_식당.csv이 있습니다. 다음 지역으로 이동합니다\n",
      "가게코드_송파구_거여2동_식당.csv이 있습니다. 다음 지역으로 이동합니다\n",
      "가게코드_송파구_마천1동_식당.csv이 있습니다. 다음 지역으로 이동합니다\n",
      "가게코드_송파구_마천2동_식당.csv이 있습니다. 다음 지역으로 이동합니다\n",
      "가게코드_송파구_문정1동_식당.csv이 있습니다. 다음 지역으로 이동합니다\n",
      "가게코드_송파구_문정2동_식당.csv이 있습니다. 다음 지역으로 이동합니다\n",
      "가게코드_송파구_방이1동_식당.csv이 있습니다. 다음 지역으로 이동합니다\n",
      "가게코드_송파구_방이2동_식당.csv이 있습니다. 다음 지역으로 이동합니다\n",
      "가게코드_송파구_삼전동_식당.csv이 있습니다. 다음 지역으로 이동합니다\n",
      "가게코드_송파구_석촌동_식당.csv이 있습니다. 다음 지역으로 이동합니다\n",
      "가게코드_송파구_송파1동_식당.csv이 있습니다. 다음 지역으로 이동합니다\n",
      "가게코드_송파구_송파2동_식당.csv이 있습니다. 다음 지역으로 이동합니다\n",
      "가게코드_송파구_오금동_식당.csv이 있습니다. 다음 지역으로 이동합니다\n",
      "가게코드_송파구_오륜동_식당.csv이 있습니다. 다음 지역으로 이동합니다\n",
      "가게코드_송파구_위례동_식당.csv이 있습니다. 다음 지역으로 이동합니다\n",
      "가게코드_송파구_잠실2동_식당.csv이 있습니다. 다음 지역으로 이동합니다\n",
      "가게코드_송파구_잠실3동_식당.csv이 있습니다. 다음 지역으로 이동합니다\n",
      "가게코드_송파구_잠실4동_식당.csv이 있습니다. 다음 지역으로 이동합니다\n",
      "가게코드_송파구_잠실6동_식당.csv이 있습니다. 다음 지역으로 이동합니다\n",
      "가게코드_송파구_잠실7동_식당.csv이 있습니다. 다음 지역으로 이동합니다\n",
      "가게코드_송파구_잠실본동_식당.csv이 있습니다. 다음 지역으로 이동합니다\n",
      "가게코드_송파구_장지동_식당.csv이 있습니다. 다음 지역으로 이동합니다\n",
      "가게코드_송파구_풍납1동_식당.csv이 있습니다. 다음 지역으로 이동합니다\n",
      "가게코드_송파구_풍납2동_식당.csv이 있습니다. 다음 지역으로 이동합니다\n",
      "가게코드_성북구_길음제1동_식당.csv이 있습니다. 다음 지역으로 이동합니다\n",
      "가게코드_성북구_길음제2동_식당.csv이 있습니다. 다음 지역으로 이동합니다\n",
      "가게코드_성북구_돈암제1동_식당.csv이 있습니다. 다음 지역으로 이동합니다\n",
      "가게코드_성북구_돈암제2동_식당.csv이 있습니다. 다음 지역으로 이동합니다\n",
      "가게코드_성북구_동선동_식당.csv이 있습니다. 다음 지역으로 이동합니다\n",
      "가게코드_성북구_보문동_식당.csv이 있습니다. 다음 지역으로 이동합니다\n",
      "가게코드_성북구_삼선동_식당.csv이 있습니다. 다음 지역으로 이동합니다\n",
      "가게코드_성북구_석관동_식당.csv이 있습니다. 다음 지역으로 이동합니다\n",
      "가게코드_성북구_성북동_식당.csv이 있습니다. 다음 지역으로 이동합니다\n",
      "가게코드_성북구_안암동_식당.csv이 있습니다. 다음 지역으로 이동합니다\n",
      "가게코드_성북구_월곡제1동_식당.csv이 있습니다. 다음 지역으로 이동합니다\n",
      "가게코드_성북구_월곡제2동_식당.csv이 있습니다. 다음 지역으로 이동합니다\n",
      "가게코드_성북구_장위제1동_식당.csv이 있습니다. 다음 지역으로 이동합니다\n",
      "가게코드_성북구_장위제2동_식당.csv이 있습니다. 다음 지역으로 이동합니다\n",
      "가게코드_성북구_장위제3동_식당.csv이 있습니다. 다음 지역으로 이동합니다\n",
      "가게코드_성북구_정릉제1동_식당.csv이 있습니다. 다음 지역으로 이동합니다\n",
      "가게코드_성북구_정릉제2동_식당.csv이 있습니다. 다음 지역으로 이동합니다\n",
      "가게코드_성북구_정릉제3동_식당.csv이 있습니다. 다음 지역으로 이동합니다\n",
      "가게코드_성북구_정릉제4동_식당.csv이 있습니다. 다음 지역으로 이동합니다\n",
      "가게코드_성북구_종암동_식당.csv이 있습니다. 다음 지역으로 이동합니다\n"
     ]
    }
   ],
   "source": [
    "for 구이름 in 할당_list[::-1]:\n",
    "    동이름_list = dong_dict[구이름]   \n",
    "    for 동이름 in 동이름_list:\n",
    "        code_file = '가게코드_' + 구이름 + '_' + 동이름+ '_'+ 업종 + '.csv'\n",
    "        if check_file(file_path=code_path, file_name=code_file):\n",
    "            print(f'{code_file}이 있습니다. 다음 지역으로 이동합니다')\n",
    "            pass\n",
    "        else: restaurant_code_store_scraping(구이름=구이름, 동이름=동이름, 업종=업종)"
   ]
  },
  {
   "cell_type": "markdown",
   "id": "ef7d10b3",
   "metadata": {},
   "source": [
    "## 가게정보 수집"
   ]
  },
  {
   "cell_type": "markdown",
   "id": "d00df9b0",
   "metadata": {
    "ExecuteTime": {
     "start_time": "2021-10-15T07:26:29.196Z"
    },
    "scrolled": false
   },
   "source": [
    "for 구이름 in 할당_list[::-1]:\n",
    "    동이름_list = dong_dict[구이름]   \n",
    "    for 동이름 in 동이름_list:\n",
    "        store_file = '가게정보_' + 구이름 + '_' + 동이름+ '_'+ 업종 + '.csv'\n",
    "        if check_file(file_path=store_path, file_name=store_file):\n",
    "            print(f'{store_file}이 있습니다. 다음 지역으로 이동합니다')\n",
    "            pass\n",
    "        else: naver_map_store_scrapping(구이름=구이름, 동이름=동이름, 업종=업종)"
   ]
  },
  {
   "cell_type": "code",
   "execution_count": null,
   "id": "6f055a3f",
   "metadata": {
    "ExecuteTime": {
     "start_time": "2021-10-15T07:50:02.862Z"
    },
    "scrolled": false
   },
   "outputs": [
    {
     "name": "stderr",
     "output_type": "stream",
     "text": [
      "[WDM] - \n",
      "\n",
      "[WDM] - ====== WebDriver manager ======\n",
      "[WDM] - Current google-chrome version is 94.0.4606\n",
      "[WDM] - Get LATEST driver version for 94.0.4606\n",
      "[WDM] - Driver [C:\\Users\\bigne\\.wdm\\drivers\\chromedriver\\win32\\94.0.4606.61\\chromedriver.exe] found in cache\n"
     ]
    },
    {
     "name": "stdout",
     "output_type": "stream",
     "text": [
      "가게정보_중랑구_망우본동_식당.csv이 있습니다. 다음 지역으로 이동합니다\n",
      "가게정보_중랑구_망우제3동_식당.csv이 있습니다. 다음 지역으로 이동합니다\n",
      "가게정보_중랑구_면목본동_식당.csv이 있습니다. 다음 지역으로 이동합니다\n",
      "가게정보_중랑구_면목제2동_식당.csv이 있습니다. 다음 지역으로 이동합니다\n",
      "가게정보_중랑구_면목제4동_식당.csv이 있습니다. 다음 지역으로 이동합니다\n",
      "가게정보_중랑구_면목제5동_식당.csv이 있습니다. 다음 지역으로 이동합니다\n",
      "가게정보_중랑구_면목제7동_식당.csv이 있습니다. 다음 지역으로 이동합니다\n",
      "가게정보_중랑구_묵제1동_식당.csv이 있습니다. 다음 지역으로 이동합니다\n",
      "가게정보_중랑구_묵제2동_식당.csv이 있습니다. 다음 지역으로 이동합니다\n",
      "가게정보_중랑구_상봉제1동_식당.csv이 있습니다. 다음 지역으로 이동합니다\n",
      "가게정보_중랑구_상봉제2동_식당.csv이 있습니다. 다음 지역으로 이동합니다\n",
      "가게정보_중랑구_신내1동_식당.csv이 있습니다. 다음 지역으로 이동합니다\n",
      "가게정보_중랑구_신내2동_식당.csv이 있습니다. 다음 지역으로 이동합니다\n",
      "가게정보_중랑구_중화제1동_식당.csv이 있습니다. 다음 지역으로 이동합니다\n",
      "가게정보_중랑구_중화제2동_식당.csv이 있습니다. 다음 지역으로 이동합니다\n",
      "가게정보_중구_광희동_식당.csv이 있습니다. 다음 지역으로 이동합니다\n",
      "가게정보_중구_다산동_식당.csv이 있습니다. 다음 지역으로 이동합니다\n",
      "가게정보_중구_동화동_식당.csv이 있습니다. 다음 지역으로 이동합니다\n",
      "가게정보_중구_명동_식당.csv이 있습니다. 다음 지역으로 이동합니다\n",
      "가게정보_중구_소공동_식당.csv이 있습니다. 다음 지역으로 이동합니다\n",
      "가게정보_중구_신당동_식당.csv이 있습니다. 다음 지역으로 이동합니다\n",
      "가게정보_중구_신당제5동_식당.csv이 있습니다. 다음 지역으로 이동합니다\n",
      "가게정보_중구_약수동_식당.csv이 있습니다. 다음 지역으로 이동합니다\n",
      "가게정보_중구_을지로동_식당.csv이 있습니다. 다음 지역으로 이동합니다\n",
      "가게정보_중구_장충동_식당.csv이 있습니다. 다음 지역으로 이동합니다\n",
      "가게정보_중구_중림동_식당.csv이 있습니다. 다음 지역으로 이동합니다\n",
      "가게정보_중구_청구동_식당.csv이 있습니다. 다음 지역으로 이동합니다\n",
      "가게정보_중구_필동_식당.csv이 있습니다. 다음 지역으로 이동합니다\n",
      "가게정보_중구_황학동_식당.csv이 있습니다. 다음 지역으로 이동합니다\n",
      "가게정보_중구_회현동_식당.csv이 있습니다. 다음 지역으로 이동합니다\n",
      "종로구 가회동 식당 의 가게 정보 스크래핑을 시작합니다.\n",
      "0#tel 1#2#3#4#5#6#7#8#9#de 10#11#de 12#13#14#15#16#de 17#18#de 19#20#21#22#de 23#24#25#26#de 27#28#29#30#31#32#33#34#35#36#37#de 38#39#40#41#42#43#44#45#46#47#48#de "
     ]
    },
    {
     "name": "stderr",
     "output_type": "stream",
     "text": [
      "[WDM] - \n",
      "\n",
      "[WDM] - ====== WebDriver manager ======\n",
      "[WDM] - Current google-chrome version is 94.0.4606\n",
      "[WDM] - Get LATEST driver version for 94.0.4606\n",
      "[WDM] - Driver [C:\\Users\\bigne\\.wdm\\drivers\\chromedriver\\win32\\94.0.4606.61\\chromedriver.exe] found in cache\n"
     ]
    },
    {
     "name": "stdout",
     "output_type": "stream",
     "text": [
      "49#종로구 가회동 식당 가게 50개 완료\n",
      "288.02407598495483 소요\n",
      "종로구 교남동 식당 의 가게 정보 스크래핑을 시작합니다.\n",
      "0#1#2#3#4#5#6#7#8#9#10#11#12#13#14#15#16#17#18#19#20#21#22#23#24#25#26#27#28#29#30#31#32#33#34#35#36#37#38#39#40#41#42#43#44#45#46#47#48#49#종로구 교남동 식당 가게 50개 완료\n",
      "387.5761821269989 소요\n"
     ]
    },
    {
     "name": "stderr",
     "output_type": "stream",
     "text": [
      "[WDM] - \n",
      "\n",
      "[WDM] - ====== WebDriver manager ======\n",
      "[WDM] - Current google-chrome version is 94.0.4606\n",
      "[WDM] - Get LATEST driver version for 94.0.4606\n",
      "[WDM] - Driver [C:\\Users\\bigne\\.wdm\\drivers\\chromedriver\\win32\\94.0.4606.61\\chromedriver.exe] found in cache\n"
     ]
    },
    {
     "name": "stdout",
     "output_type": "stream",
     "text": [
      "종로구 무악동 식당 의 가게 정보 스크래핑을 시작합니다.\n",
      "de 0#1#2#3#4#5#6#7#8#9#10#11#de 12#13#14#15#tel de 16#17#tel de 18#19#tel 20#21#22#23#24#25#26#27#28#29#30#31#32#33#de 34#35#tel 36#37#38#39#tel 40#41#42#43#44#45#de 46#47#48#49#종로구 무악동 식당 가게 50개 완료\n",
      "403.0170249938965 소요\n"
     ]
    },
    {
     "name": "stderr",
     "output_type": "stream",
     "text": [
      "[WDM] - \n",
      "\n",
      "[WDM] - ====== WebDriver manager ======\n",
      "[WDM] - Current google-chrome version is 94.0.4606\n",
      "[WDM] - Get LATEST driver version for 94.0.4606\n",
      "[WDM] - Driver [C:\\Users\\bigne\\.wdm\\drivers\\chromedriver\\win32\\94.0.4606.61\\chromedriver.exe] found in cache\n"
     ]
    },
    {
     "name": "stdout",
     "output_type": "stream",
     "text": [
      "종로구 부암동 식당 의 가게 정보 스크래핑을 시작합니다.\n",
      "0#1#2#de 3#4#5#6#7#8#9#10#11#12#13#14#15#16#17#18#19#20#21#22#23#24#25#26#27#28#29#30#31#32#33#34#35#36#37#38#39#40#41#42#43#44#45#46#47#48#49#종로구 부암동 식당 가게 50개 완료\n",
      "377.2390158176422 소요\n"
     ]
    },
    {
     "name": "stderr",
     "output_type": "stream",
     "text": [
      "[WDM] - \n",
      "\n",
      "[WDM] - ====== WebDriver manager ======\n",
      "[WDM] - Current google-chrome version is 94.0.4606\n",
      "[WDM] - Get LATEST driver version for 94.0.4606\n",
      "[WDM] - Driver [C:\\Users\\bigne\\.wdm\\drivers\\chromedriver\\win32\\94.0.4606.61\\chromedriver.exe] found in cache\n"
     ]
    },
    {
     "name": "stdout",
     "output_type": "stream",
     "text": [
      "종로구 사직동 식당 의 가게 정보 스크래핑을 시작합니다.\n",
      "0#1#2#3#4#5#6#7#8#9#10#11#12#13#14#15#16#17#18#19#20#21#22#23#24#25#26#27#28#29#30#31#32#33#34#35#36#37#38#39#40#41#42#43#44#45#46#47#48#49#종로구 사직동 식당 가게 50개 완료\n",
      "369.80494022369385 소요\n"
     ]
    },
    {
     "name": "stderr",
     "output_type": "stream",
     "text": [
      "[WDM] - \n",
      "\n",
      "[WDM] - ====== WebDriver manager ======\n",
      "[WDM] - Current google-chrome version is 94.0.4606\n",
      "[WDM] - Get LATEST driver version for 94.0.4606\n",
      "[WDM] - Driver [C:\\Users\\bigne\\.wdm\\drivers\\chromedriver\\win32\\94.0.4606.61\\chromedriver.exe] found in cache\n"
     ]
    },
    {
     "name": "stdout",
     "output_type": "stream",
     "text": [
      "종로구 삼청동 식당 의 가게 정보 스크래핑을 시작합니다.\n",
      "0#1#2#3#4#5#6#7#8#9#10#11#12#13#14#15#16#17#18#19#20#21#22#23#24#25#26#27#28#29#30#31#32#33#34#35#36#37#38#39#40#41#42#43#44#45#46#47#48#49#종로구 삼청동 식당 가게 50개 완료\n",
      "368.6345965862274 소요\n"
     ]
    },
    {
     "name": "stderr",
     "output_type": "stream",
     "text": [
      "[WDM] - \n",
      "\n",
      "[WDM] - ====== WebDriver manager ======\n",
      "[WDM] - Current google-chrome version is 94.0.4606\n",
      "[WDM] - Get LATEST driver version for 94.0.4606\n",
      "[WDM] - Driver [C:\\Users\\bigne\\.wdm\\drivers\\chromedriver\\win32\\94.0.4606.61\\chromedriver.exe] found in cache\n"
     ]
    },
    {
     "name": "stdout",
     "output_type": "stream",
     "text": [
      "종로구 숭인제1동 식당 의 가게 정보 스크래핑을 시작합니다.\n",
      "0#1#2#3#4#5#6#7#8#9#10#11#12#13#14#15#16#17#18#19#20#21#22#23#24#25#26#27#28#29#30#31#32#33#34#35#36#37#38#39#40#41#42#43#44#45#46#47#48#49#종로구 숭인제1동 식당 가게 50개 완료\n",
      "386.2196023464203 소요\n"
     ]
    },
    {
     "name": "stderr",
     "output_type": "stream",
     "text": [
      "[WDM] - \n",
      "\n",
      "[WDM] - ====== WebDriver manager ======\n",
      "[WDM] - Current google-chrome version is 94.0.4606\n",
      "[WDM] - Get LATEST driver version for 94.0.4606\n",
      "[WDM] - Driver [C:\\Users\\bigne\\.wdm\\drivers\\chromedriver\\win32\\94.0.4606.61\\chromedriver.exe] found in cache\n"
     ]
    },
    {
     "name": "stdout",
     "output_type": "stream",
     "text": [
      "종로구 숭인제2동 식당 의 가게 정보 스크래핑을 시작합니다.\n",
      "0#1#2#3#4#5#6#7#8#9#10#11#12#13#14#15#16#17#18#19#20#21#22#23#24#25#26#27#28#29#30#31#32#33#34#35#36#37#38#39#40#41#42#43#44#45#46#47#48#49#종로구 숭인제2동 식당 가게 50개 완료\n",
      "388.96575021743774 소요\n"
     ]
    },
    {
     "name": "stderr",
     "output_type": "stream",
     "text": [
      "[WDM] - \n",
      "\n",
      "[WDM] - ====== WebDriver manager ======\n",
      "[WDM] - Current google-chrome version is 94.0.4606\n",
      "[WDM] - Get LATEST driver version for 94.0.4606\n",
      "[WDM] - Driver [C:\\Users\\bigne\\.wdm\\drivers\\chromedriver\\win32\\94.0.4606.61\\chromedriver.exe] found in cache\n"
     ]
    },
    {
     "name": "stdout",
     "output_type": "stream",
     "text": [
      "종로구 이화동 식당 의 가게 정보 스크래핑을 시작합니다.\n",
      "0#1#2#3#4#5#6#7#8#9#10#11#12#13#14#15#16#17#18#19#20#21#22#23#24#25#26#27#28#29#30#31#32#33#34#35#36#37#38#39#40#41#42#43#44#45#46#47#48#tel 49#종로구 이화동 식당 가게 50개 완료\n",
      "368.6288352012634 소요\n"
     ]
    },
    {
     "name": "stderr",
     "output_type": "stream",
     "text": [
      "[WDM] - \n",
      "\n",
      "[WDM] - ====== WebDriver manager ======\n",
      "[WDM] - Current google-chrome version is 94.0.4606\n",
      "[WDM] - Get LATEST driver version for 94.0.4606\n",
      "[WDM] - Driver [C:\\Users\\bigne\\.wdm\\drivers\\chromedriver\\win32\\94.0.4606.61\\chromedriver.exe] found in cache\n"
     ]
    },
    {
     "name": "stdout",
     "output_type": "stream",
     "text": [
      "종로구 종로1.2.3.4가동 식당 의 가게 정보 스크래핑을 시작합니다.\n",
      "0#1#2#3#4#5#6#7#8#9#10#11#12#13#14#15#16#tel 17#18#19#20#21#22#23#24#25#26#27#28#29#30#31#32#33#34#35#36#37#38#39#40#41#42#43#44#45#46#47#48#49#종로구 종로1.2.3.4가동 식당 가게 50개 완료\n",
      "365.15845131874084 소요\n"
     ]
    },
    {
     "name": "stderr",
     "output_type": "stream",
     "text": [
      "[WDM] - \n",
      "\n",
      "[WDM] - ====== WebDriver manager ======\n",
      "[WDM] - Current google-chrome version is 94.0.4606\n",
      "[WDM] - Get LATEST driver version for 94.0.4606\n",
      "[WDM] - Driver [C:\\Users\\bigne\\.wdm\\drivers\\chromedriver\\win32\\94.0.4606.61\\chromedriver.exe] found in cache\n"
     ]
    },
    {
     "name": "stdout",
     "output_type": "stream",
     "text": [
      "종로구 종로5.6가동 식당 의 가게 정보 스크래핑을 시작합니다.\n",
      "0#1#2#3#4#5#6#7#8#9#10#11#12#13#14#15#16#17#18#19#20#21#22#23#24#25#26#27#28#29#30#31#32#33#34#35#36#37#38#39#40#41#42#43#44#45#46#47#48#49#종로구 종로5.6가동 식당 가게 50개 완료\n",
      "372.75805497169495 소요\n"
     ]
    },
    {
     "name": "stderr",
     "output_type": "stream",
     "text": [
      "[WDM] - \n",
      "\n",
      "[WDM] - ====== WebDriver manager ======\n",
      "[WDM] - Current google-chrome version is 94.0.4606\n",
      "[WDM] - Get LATEST driver version for 94.0.4606\n",
      "[WDM] - Driver [C:\\Users\\bigne\\.wdm\\drivers\\chromedriver\\win32\\94.0.4606.61\\chromedriver.exe] found in cache\n"
     ]
    },
    {
     "name": "stdout",
     "output_type": "stream",
     "text": [
      "종로구 창신제1동 식당 의 가게 정보 스크래핑을 시작합니다.\n",
      "0#1#2#3#4#5#6#7#8#9#10#11#12#13#14#15#16#17#18#19#20#21#22#23#24#25#26#27#28#29#30#31#32#33#34#35#36#37#38#39#40#41#42#43#tel 44#45#tel 46#47#48#49#종로구 창신제1동 식당 가게 50개 완료\n",
      "386.940110206604 소요\n"
     ]
    },
    {
     "name": "stderr",
     "output_type": "stream",
     "text": [
      "[WDM] - \n",
      "\n",
      "[WDM] - ====== WebDriver manager ======\n",
      "[WDM] - Current google-chrome version is 94.0.4606\n",
      "[WDM] - Get LATEST driver version for 94.0.4606\n",
      "[WDM] - Driver [C:\\Users\\bigne\\.wdm\\drivers\\chromedriver\\win32\\94.0.4606.61\\chromedriver.exe] found in cache\n"
     ]
    },
    {
     "name": "stdout",
     "output_type": "stream",
     "text": [
      "종로구 창신제2동 식당 의 가게 정보 스크래핑을 시작합니다.\n",
      "0#1#2#3#4#5#6#7#8#9#10#11#12#13#14#15#16#17#18#19#20#21#22#23#24#25#26#27#28#29#30#31#32#33#34#35#36#37#38#39#40#41#42#43#tel 44#45#tel 46#47#48#49#종로구 창신제2동 식당 가게 50개 완료\n",
      "391.5688478946686 소요\n"
     ]
    },
    {
     "name": "stderr",
     "output_type": "stream",
     "text": [
      "[WDM] - \n",
      "\n",
      "[WDM] - ====== WebDriver manager ======\n",
      "[WDM] - Current google-chrome version is 94.0.4606\n",
      "[WDM] - Get LATEST driver version for 94.0.4606\n",
      "[WDM] - Driver [C:\\Users\\bigne\\.wdm\\drivers\\chromedriver\\win32\\94.0.4606.61\\chromedriver.exe] found in cache\n"
     ]
    },
    {
     "name": "stdout",
     "output_type": "stream",
     "text": [
      "종로구 창신제3동 식당 의 가게 정보 스크래핑을 시작합니다.\n",
      "0#1#2#3#4#5#6#7#8#9#10#11#12#13#14#15#16#17#18#19#20#21#22#23#24#25#26#27#28#29#30#31#32#33#34#35#36#37#38#39#40#41#42#43#tel 44#45#tel 46#47#48#49#종로구 창신제3동 식당 가게 50개 완료\n",
      "383.2718164920807 소요\n"
     ]
    },
    {
     "name": "stderr",
     "output_type": "stream",
     "text": [
      "[WDM] - \n",
      "\n",
      "[WDM] - ====== WebDriver manager ======\n",
      "[WDM] - Current google-chrome version is 94.0.4606\n",
      "[WDM] - Get LATEST driver version for 94.0.4606\n",
      "[WDM] - Driver [C:\\Users\\bigne\\.wdm\\drivers\\chromedriver\\win32\\94.0.4606.61\\chromedriver.exe] found in cache\n"
     ]
    },
    {
     "name": "stdout",
     "output_type": "stream",
     "text": [
      "종로구 청운효자동 식당 의 가게 정보 스크래핑을 시작합니다.\n",
      "0#1#2#3#4#5#6#7#8#9#10#11#12#13#14#15#16#17#18#19#20#21#22#23#24#25#26#27#28#29#30#31#32#33#34#35#36#37#38#39#40#41#42#43#44#45#46#47#48#49#종로구 청운효자동 식당 가게 50개 완료\n",
      "366.90721106529236 소요\n"
     ]
    },
    {
     "name": "stderr",
     "output_type": "stream",
     "text": [
      "[WDM] - \n",
      "\n",
      "[WDM] - ====== WebDriver manager ======\n",
      "[WDM] - Current google-chrome version is 94.0.4606\n",
      "[WDM] - Get LATEST driver version for 94.0.4606\n",
      "[WDM] - Driver [C:\\Users\\bigne\\.wdm\\drivers\\chromedriver\\win32\\94.0.4606.61\\chromedriver.exe] found in cache\n"
     ]
    },
    {
     "name": "stdout",
     "output_type": "stream",
     "text": [
      "종로구 평창동 식당 의 가게 정보 스크래핑을 시작합니다.\n",
      "0#1#2#3#4#5#6#7#8#9#10#11#12#13#14#15#16#17#18#19#20#21#22#23#24#25#26#27#28#29#30#31#32#33#34#35#36#37#38#39#40#41#42#43#44#45#46#47#48#49#종로구 평창동 식당 가게 50개 완료\n",
      "381.63010263442993 소요\n"
     ]
    },
    {
     "name": "stderr",
     "output_type": "stream",
     "text": [
      "[WDM] - \n",
      "\n",
      "[WDM] - ====== WebDriver manager ======\n",
      "[WDM] - Current google-chrome version is 94.0.4606\n",
      "[WDM] - Get LATEST driver version for 94.0.4606\n",
      "[WDM] - Driver [C:\\Users\\bigne\\.wdm\\drivers\\chromedriver\\win32\\94.0.4606.61\\chromedriver.exe] found in cache\n"
     ]
    },
    {
     "name": "stdout",
     "output_type": "stream",
     "text": [
      "종로구 혜화동 식당 의 가게 정보 스크래핑을 시작합니다.\n",
      "0#1#2#3#4#5#6#7#8#9#10#11#12#13#14#15#16#17#18#19#20#21#22#23#24#25#26#27#28#29#30#31#32#33#34#35#36#37#38#39#40#41#42#43#44#45#46#47#48#49#종로구 혜화동 식당 가게 50개 완료\n",
      "369.43861413002014 소요\n"
     ]
    },
    {
     "name": "stderr",
     "output_type": "stream",
     "text": [
      "[WDM] - \n",
      "\n",
      "[WDM] - ====== WebDriver manager ======\n",
      "[WDM] - Current google-chrome version is 94.0.4606\n",
      "[WDM] - Get LATEST driver version for 94.0.4606\n",
      "[WDM] - Driver [C:\\Users\\bigne\\.wdm\\drivers\\chromedriver\\win32\\94.0.4606.61\\chromedriver.exe] found in cache\n"
     ]
    },
    {
     "name": "stdout",
     "output_type": "stream",
     "text": [
      "은평구 갈현제1동 식당 의 가게 정보 스크래핑을 시작합니다.\n",
      "0#1#2#3#4#5#6#7#8#9#10#11#12#13#14#15#16#17#18#19#20#21#22#23#24#25#26#27#28#29#30#31#32#33#34#35#36#37#38#39#40#41#42#43#44#45#46#47#48#49#은평구 갈현제1동 식당 가게 50개 완료\n",
      "368.7763361930847 소요\n"
     ]
    },
    {
     "name": "stderr",
     "output_type": "stream",
     "text": [
      "[WDM] - \n",
      "\n",
      "[WDM] - ====== WebDriver manager ======\n",
      "[WDM] - Current google-chrome version is 94.0.4606\n",
      "[WDM] - Get LATEST driver version for 94.0.4606\n",
      "[WDM] - Driver [C:\\Users\\bigne\\.wdm\\drivers\\chromedriver\\win32\\94.0.4606.61\\chromedriver.exe] found in cache\n"
     ]
    },
    {
     "name": "stdout",
     "output_type": "stream",
     "text": [
      "은평구 갈현제2동 식당 의 가게 정보 스크래핑을 시작합니다.\n",
      "0#1#2#3#4#5#6#7#8#9#10#11#12#13#14#15#16#17#18#19#20#21#22#23#24#25#26#27#28#29#30#31#32#33#34#35#36#37#38#39#40#41#42#43#44#45#46#47#48#49#은평구 갈현제2동 식당 가게 50개 완료\n",
      "370.62508177757263 소요\n"
     ]
    },
    {
     "name": "stderr",
     "output_type": "stream",
     "text": [
      "[WDM] - \n",
      "\n",
      "[WDM] - ====== WebDriver manager ======\n",
      "[WDM] - Current google-chrome version is 94.0.4606\n",
      "[WDM] - Get LATEST driver version for 94.0.4606\n",
      "[WDM] - Driver [C:\\Users\\bigne\\.wdm\\drivers\\chromedriver\\win32\\94.0.4606.61\\chromedriver.exe] found in cache\n"
     ]
    },
    {
     "name": "stdout",
     "output_type": "stream",
     "text": [
      "은평구 구산동 식당 의 가게 정보 스크래핑을 시작합니다.\n",
      "0#1#2#3#4#5#6#7#8#9#10#11#12#13#14#15#16#17#18#19#20#21#22#23#24#25#26#27#28#29#30#31#32#33#34#35#36#37#38#39#40#41#42#43#44#45#46#47#48#49#은평구 구산동 식당 가게 50개 완료\n",
      "368.1649158000946 소요\n"
     ]
    },
    {
     "name": "stderr",
     "output_type": "stream",
     "text": [
      "[WDM] - \n",
      "\n",
      "[WDM] - ====== WebDriver manager ======\n",
      "[WDM] - Current google-chrome version is 94.0.4606\n",
      "[WDM] - Get LATEST driver version for 94.0.4606\n",
      "[WDM] - Driver [C:\\Users\\bigne\\.wdm\\drivers\\chromedriver\\win32\\94.0.4606.61\\chromedriver.exe] found in cache\n"
     ]
    },
    {
     "name": "stdout",
     "output_type": "stream",
     "text": [
      "은평구 녹번동 식당 의 가게 정보 스크래핑을 시작합니다.\n",
      "0#1#2#3#4#5#6#7#8#9#10#11#12#13#14#15#16#17#18#19#20#21#22#23#24#25#26#27#28#29#30#31#32#33#34#35#36#37#38#39#40#41#42#43#44#45#46#47#48#49#은평구 녹번동 식당 가게 50개 완료\n",
      "375.95222568511963 소요\n"
     ]
    },
    {
     "name": "stderr",
     "output_type": "stream",
     "text": [
      "[WDM] - \n",
      "\n",
      "[WDM] - ====== WebDriver manager ======\n",
      "[WDM] - Current google-chrome version is 94.0.4606\n",
      "[WDM] - Get LATEST driver version for 94.0.4606\n",
      "[WDM] - Driver [C:\\Users\\bigne\\.wdm\\drivers\\chromedriver\\win32\\94.0.4606.61\\chromedriver.exe] found in cache\n"
     ]
    },
    {
     "name": "stdout",
     "output_type": "stream",
     "text": [
      "은평구 대조동 식당 의 가게 정보 스크래핑을 시작합니다.\n",
      "0#1#2#3#4#5#6#7#8#9#10#11#12#13#tel 14#15#16#17#18#19#20#21#22#23#24#25#26#27#28#29#30#31#32#33#34#35#36#37#38#39#40#41#42#43#44#45#46#47#48#49#은평구 대조동 식당 가게 50개 완료\n",
      "378.90092301368713 소요\n"
     ]
    },
    {
     "name": "stderr",
     "output_type": "stream",
     "text": [
      "[WDM] - \n",
      "\n",
      "[WDM] - ====== WebDriver manager ======\n",
      "[WDM] - Current google-chrome version is 94.0.4606\n",
      "[WDM] - Get LATEST driver version for 94.0.4606\n",
      "[WDM] - Driver [C:\\Users\\bigne\\.wdm\\drivers\\chromedriver\\win32\\94.0.4606.61\\chromedriver.exe] found in cache\n"
     ]
    },
    {
     "name": "stdout",
     "output_type": "stream",
     "text": [
      "은평구 불광제1동 식당 의 가게 정보 스크래핑을 시작합니다.\n",
      "0#1#2#3#4#5#6#7#8#9#10#11#12#13#14#15#16#de 17#18#19#20#21#22#23#24#25#26#27#28#29#30#31#32#33#34#35#36#37#38#39#40#41#42#43#44#45#46#47#48#49#은평구 불광제1동 식당 가게 50개 완료\n",
      "384.61490964889526 소요\n"
     ]
    },
    {
     "name": "stderr",
     "output_type": "stream",
     "text": [
      "[WDM] - \n",
      "\n",
      "[WDM] - ====== WebDriver manager ======\n",
      "[WDM] - Current google-chrome version is 94.0.4606\n",
      "[WDM] - Get LATEST driver version for 94.0.4606\n",
      "[WDM] - Driver [C:\\Users\\bigne\\.wdm\\drivers\\chromedriver\\win32\\94.0.4606.61\\chromedriver.exe] found in cache\n"
     ]
    },
    {
     "name": "stdout",
     "output_type": "stream",
     "text": [
      "은평구 불광제2동 식당 의 가게 정보 스크래핑을 시작합니다.\n",
      "0#1#2#3#4#5#6#7#8#de 9#10#11#12#13#14#15#16#17#18#19#20#21#22#23#24#25#26#27#28#29#30#31#32#33#34#35#36#37#38#39#40#41#42#43#44#45#46#47#48#49#은평구 불광제2동 식당 가게 50개 완료\n",
      "382.51167392730713 소요\n"
     ]
    },
    {
     "name": "stderr",
     "output_type": "stream",
     "text": [
      "[WDM] - \n",
      "\n",
      "[WDM] - ====== WebDriver manager ======\n",
      "[WDM] - Current google-chrome version is 94.0.4606\n",
      "[WDM] - Get LATEST driver version for 94.0.4606\n",
      "[WDM] - Driver [C:\\Users\\bigne\\.wdm\\drivers\\chromedriver\\win32\\94.0.4606.61\\chromedriver.exe] found in cache\n"
     ]
    },
    {
     "name": "stdout",
     "output_type": "stream",
     "text": [
      "은평구 수색동 식당 의 가게 정보 스크래핑을 시작합니다.\n",
      "0#1#2#de 3#4#5#6#7#8#9#10#11#12#de 13#tel de 14#15#16#de 17#18#19#20#21#22#23#24#25#26#27#tel 28#29#30#31#32#33#tel de 34#35#36#37#38#39#de 40#41#tel de 42#tel 43#tel 44#45#46#47#48#tel 49#은평구 수색동 식당 가게 50개 완료\n",
      "403.86416125297546 소요\n"
     ]
    },
    {
     "name": "stderr",
     "output_type": "stream",
     "text": [
      "[WDM] - \n",
      "\n",
      "[WDM] - ====== WebDriver manager ======\n",
      "[WDM] - Current google-chrome version is 94.0.4606\n",
      "[WDM] - Get LATEST driver version for 94.0.4606\n",
      "[WDM] - Driver [C:\\Users\\bigne\\.wdm\\drivers\\chromedriver\\win32\\94.0.4606.61\\chromedriver.exe] found in cache\n"
     ]
    },
    {
     "name": "stdout",
     "output_type": "stream",
     "text": [
      "은평구 신사제1동 식당 의 가게 정보 스크래핑을 시작합니다.\n",
      "0#1#2#3#4#5#6#7#8#9#10#11#12#13#14#15#16#17#18#19#20#21#22#23#24#25#26#27#28#29#30#31#32#33#34#35#36#37#38#39#40#41#42#43#44#45#46#47#48#49#은평구 신사제1동 식당 가게 50개 완료\n",
      "381.88398480415344 소요\n"
     ]
    },
    {
     "name": "stderr",
     "output_type": "stream",
     "text": [
      "[WDM] - \n",
      "\n",
      "[WDM] - ====== WebDriver manager ======\n",
      "[WDM] - Current google-chrome version is 94.0.4606\n",
      "[WDM] - Get LATEST driver version for 94.0.4606\n",
      "[WDM] - Driver [C:\\Users\\bigne\\.wdm\\drivers\\chromedriver\\win32\\94.0.4606.61\\chromedriver.exe] found in cache\n"
     ]
    },
    {
     "name": "stdout",
     "output_type": "stream",
     "text": [
      "은평구 신사제2동 식당 의 가게 정보 스크래핑을 시작합니다.\n",
      "0#1#2#3#4#5#6#7#8#9#10#11#12#13#14#15#16#17#18#19#20#21#22#23#24#25#26#27#28#29#30#31#32#33#34#35#36#37#38#39#40#41#42#43#44#45#46#47#48#49#은평구 신사제2동 식당 가게 50개 완료\n",
      "385.0133237838745 소요\n"
     ]
    },
    {
     "name": "stderr",
     "output_type": "stream",
     "text": [
      "[WDM] - \n",
      "\n",
      "[WDM] - ====== WebDriver manager ======\n",
      "[WDM] - Current google-chrome version is 94.0.4606\n",
      "[WDM] - Get LATEST driver version for 94.0.4606\n",
      "[WDM] - Driver [C:\\Users\\bigne\\.wdm\\drivers\\chromedriver\\win32\\94.0.4606.61\\chromedriver.exe] found in cache\n"
     ]
    },
    {
     "name": "stdout",
     "output_type": "stream",
     "text": [
      "은평구 역촌동 식당 의 가게 정보 스크래핑을 시작합니다.\n",
      "0#1#2#3#4#5#6#7#8#9#10#11#12#13#14#15#16#17#18#19#20#21#22#23#24#25#26#27#28#29#30#31#32#33#34#35#36#37#38#39#40#41#42#43#44#45#46#47#48#49#은평구 역촌동 식당 가게 50개 완료\n",
      "382.0984091758728 소요\n"
     ]
    },
    {
     "name": "stderr",
     "output_type": "stream",
     "text": [
      "[WDM] - \n",
      "\n",
      "[WDM] - ====== WebDriver manager ======\n",
      "[WDM] - Current google-chrome version is 94.0.4606\n",
      "[WDM] - Get LATEST driver version for 94.0.4606\n",
      "[WDM] - Driver [C:\\Users\\bigne\\.wdm\\drivers\\chromedriver\\win32\\94.0.4606.61\\chromedriver.exe] found in cache\n"
     ]
    },
    {
     "name": "stdout",
     "output_type": "stream",
     "text": [
      "은평구 응암제1동 식당 의 가게 정보 스크래핑을 시작합니다.\n",
      "0#1#2#3#4#5#6#7#8#9#10#11#12#13#14#15#16#17#18#19#20#21#22#23#24#25#26#27#28#29#30#31#32#33#34#35#36#37#38#39#40#41#42#43#44#45#46#47#48#49#은평구 응암제1동 식당 가게 50개 완료\n",
      "379.65956711769104 소요\n"
     ]
    },
    {
     "name": "stderr",
     "output_type": "stream",
     "text": [
      "[WDM] - \n",
      "\n",
      "[WDM] - ====== WebDriver manager ======\n",
      "[WDM] - Current google-chrome version is 94.0.4606\n",
      "[WDM] - Get LATEST driver version for 94.0.4606\n",
      "[WDM] - Driver [C:\\Users\\bigne\\.wdm\\drivers\\chromedriver\\win32\\94.0.4606.61\\chromedriver.exe] found in cache\n"
     ]
    },
    {
     "name": "stdout",
     "output_type": "stream",
     "text": [
      "은평구 응암제2동 식당 의 가게 정보 스크래핑을 시작합니다.\n",
      "0#1#2#3#4#5#6#7#8#9#10#11#12#13#14#15#16#de 17#18#19#20#de 21#22#23#24#25#26#27#28#29#30#31#32#33#34#35#36#37#38#39#40#41#42#43#44#45#46#47#48#49#은평구 응암제2동 식당 가게 50개 완료\n",
      "374.4227409362793 소요\n"
     ]
    },
    {
     "name": "stderr",
     "output_type": "stream",
     "text": [
      "[WDM] - \n",
      "\n",
      "[WDM] - ====== WebDriver manager ======\n",
      "[WDM] - Current google-chrome version is 94.0.4606\n",
      "[WDM] - Get LATEST driver version for 94.0.4606\n",
      "[WDM] - Driver [C:\\Users\\bigne\\.wdm\\drivers\\chromedriver\\win32\\94.0.4606.61\\chromedriver.exe] found in cache\n"
     ]
    },
    {
     "name": "stdout",
     "output_type": "stream",
     "text": [
      "은평구 응암제3동 식당 의 가게 정보 스크래핑을 시작합니다.\n",
      "0#1#2#3#4#5#6#7#8#9#10#11#12#13#14#15#16#17#18#19#20#21#22#23#24#25#26#27#28#29#30#31#32#33#34#35#36#37#38#39#40#41#42#43#44#45#46#47#48#49#은평구 응암제3동 식당 가게 50개 완료\n",
      "372.05360889434814 소요\n"
     ]
    },
    {
     "name": "stderr",
     "output_type": "stream",
     "text": [
      "[WDM] - \n",
      "\n",
      "[WDM] - ====== WebDriver manager ======\n",
      "[WDM] - Current google-chrome version is 94.0.4606\n",
      "[WDM] - Get LATEST driver version for 94.0.4606\n",
      "[WDM] - Driver [C:\\Users\\bigne\\.wdm\\drivers\\chromedriver\\win32\\94.0.4606.61\\chromedriver.exe] found in cache\n"
     ]
    },
    {
     "name": "stdout",
     "output_type": "stream",
     "text": [
      "은평구 증산동 식당 의 가게 정보 스크래핑을 시작합니다.\n",
      "0#1#2#3#4#5#6#7#8#9#10#11#12#13#14#15#16#17#18#19#20#21#22#23#24#25#26#27#28#29#30#31#32#33#34#35#36#37#38#39#40#41#42#43#44#45#46#47#48#49#은평구 증산동 식당 가게 50개 완료\n",
      "418.49967408180237 소요\n"
     ]
    },
    {
     "name": "stderr",
     "output_type": "stream",
     "text": [
      "[WDM] - \n",
      "\n",
      "[WDM] - ====== WebDriver manager ======\n",
      "[WDM] - Current google-chrome version is 94.0.4606\n",
      "[WDM] - Get LATEST driver version for 94.0.4606\n",
      "[WDM] - Driver [C:\\Users\\bigne\\.wdm\\drivers\\chromedriver\\win32\\94.0.4606.61\\chromedriver.exe] found in cache\n"
     ]
    },
    {
     "name": "stdout",
     "output_type": "stream",
     "text": [
      "은평구 진관동 식당 의 가게 정보 스크래핑을 시작합니다.\n",
      "0#1#2#3#4#5#6#7#8#9#10#11#12#13#14#15#16#17#18#19#20#21#22#23#24#25#26#27#28#29#30#31#32#33#34#35#36#37#38#39#40#41#42#43#44#45#46#47#48#49#은평구 진관동 식당 가게 50개 완료\n",
      "372.7534489631653 소요\n"
     ]
    },
    {
     "name": "stderr",
     "output_type": "stream",
     "text": [
      "[WDM] - \n",
      "\n",
      "[WDM] - ====== WebDriver manager ======\n",
      "[WDM] - Current google-chrome version is 94.0.4606\n",
      "[WDM] - Get LATEST driver version for 94.0.4606\n",
      "[WDM] - Driver [C:\\Users\\bigne\\.wdm\\drivers\\chromedriver\\win32\\94.0.4606.61\\chromedriver.exe] found in cache\n"
     ]
    },
    {
     "name": "stdout",
     "output_type": "stream",
     "text": [
      "용산구 남영동 식당 의 가게 정보 스크래핑을 시작합니다.\n",
      "0#1#2#3#4#5#6#7#8#9#10#11#12#13#14#15#16#17#18#19#20#tel 21#22#23#24#25#26#27#28#29#30#31#32#33#34#35#36#37#38#39#40#41#42#43#44#45#46#47#48#49#용산구 남영동 식당 가게 50개 완료\n",
      "371.1144392490387 소요\n"
     ]
    },
    {
     "name": "stderr",
     "output_type": "stream",
     "text": [
      "[WDM] - \n",
      "\n",
      "[WDM] - ====== WebDriver manager ======\n",
      "[WDM] - Current google-chrome version is 94.0.4606\n",
      "[WDM] - Get LATEST driver version for 94.0.4606\n",
      "[WDM] - Driver [C:\\Users\\bigne\\.wdm\\drivers\\chromedriver\\win32\\94.0.4606.61\\chromedriver.exe] found in cache\n"
     ]
    },
    {
     "name": "stdout",
     "output_type": "stream",
     "text": [
      "용산구 보광동 식당 의 가게 정보 스크래핑을 시작합니다.\n",
      "0#1#2#3#4#de 5#6#7#8#9#10#11#12#13#14#15#16#17#18#19#20#21#tel 22#23#24#25#26#27#28#29#30#31#32#33#34#35#36#37#38#39#40#41#42#43#tel 44#45#46#47#48#49#용산구 보광동 식당 가게 50개 완료\n",
      "387.3651919364929 소요\n"
     ]
    },
    {
     "name": "stderr",
     "output_type": "stream",
     "text": [
      "[WDM] - \n",
      "\n",
      "[WDM] - ====== WebDriver manager ======\n",
      "[WDM] - Current google-chrome version is 94.0.4606\n",
      "[WDM] - Get LATEST driver version for 94.0.4606\n",
      "[WDM] - Driver [C:\\Users\\bigne\\.wdm\\drivers\\chromedriver\\win32\\94.0.4606.61\\chromedriver.exe] found in cache\n"
     ]
    },
    {
     "name": "stdout",
     "output_type": "stream",
     "text": [
      "용산구 서빙고동 식당 의 가게 정보 스크래핑을 시작합니다.\n",
      "0#1#2#3#4#5#6#7#8#9#10#11#12#13#14#de 15#16#17#18#tel 19#20#de 21#22#23#24#25#26#27#28#29#30#31#32#33#34#35#36#37#de 38#39#40#tel de 41#42#43#44#45#46#47#48#49#용산구 서빙고동 식당 가게 50개 완료\n",
      "398.08086371421814 소요\n"
     ]
    },
    {
     "name": "stderr",
     "output_type": "stream",
     "text": [
      "[WDM] - \n",
      "\n",
      "[WDM] - ====== WebDriver manager ======\n",
      "[WDM] - Current google-chrome version is 94.0.4606\n",
      "[WDM] - Get LATEST driver version for 94.0.4606\n",
      "[WDM] - Driver [C:\\Users\\bigne\\.wdm\\drivers\\chromedriver\\win32\\94.0.4606.61\\chromedriver.exe] found in cache\n"
     ]
    },
    {
     "name": "stdout",
     "output_type": "stream",
     "text": [
      "용산구 용문동 식당 의 가게 정보 스크래핑을 시작합니다.\n",
      "0#1#2#3#4#5#6#7#8#9#de 10#11#12#13#tel de 14#15#16#17#18#19#20#21#22#23#24#25#26#27#28#29#30#31#32#33#34#35#36#37#38#39#40#41#42#43#44#45#46#47#48#49#용산구 용문동 식당 가게 50개 완료\n",
      "403.89529848098755 소요\n"
     ]
    },
    {
     "name": "stderr",
     "output_type": "stream",
     "text": [
      "[WDM] - \n",
      "\n",
      "[WDM] - ====== WebDriver manager ======\n",
      "[WDM] - Current google-chrome version is 94.0.4606\n",
      "[WDM] - Get LATEST driver version for 94.0.4606\n",
      "[WDM] - Driver [C:\\Users\\bigne\\.wdm\\drivers\\chromedriver\\win32\\94.0.4606.61\\chromedriver.exe] found in cache\n"
     ]
    },
    {
     "name": "stdout",
     "output_type": "stream",
     "text": [
      "용산구 용산2가동 식당 의 가게 정보 스크래핑을 시작합니다.\n",
      "0#1#2#3#4#5#6#7#8#9#10#tel 11#12#13#14#15#16#17#18#19#20#21#22#23#24#25#26#27#28#29#30#31#tel 32#33#34#35#36#37#38#39#40#41#42#43#44#45#46#47#48#49#용산구 용산2가동 식당 가게 50개 완료\n",
      "377.3064134120941 소요\n"
     ]
    },
    {
     "name": "stderr",
     "output_type": "stream",
     "text": [
      "[WDM] - \n",
      "\n",
      "[WDM] - ====== WebDriver manager ======\n",
      "[WDM] - Current google-chrome version is 94.0.4606\n",
      "[WDM] - Get LATEST driver version for 94.0.4606\n",
      "[WDM] - Driver [C:\\Users\\bigne\\.wdm\\drivers\\chromedriver\\win32\\94.0.4606.61\\chromedriver.exe] found in cache\n"
     ]
    },
    {
     "name": "stdout",
     "output_type": "stream",
     "text": [
      "용산구 원효로제1동 식당 의 가게 정보 스크래핑을 시작합니다.\n",
      "0#1#2#3#de 4#5#6#7#8#9#10#11#12#13#14#15#16#17#18#19#20#21#22#23#24#25#26#27#28#29#30#31#de 32#33#34#35#36#tel 37#38#39#40#41#42#43#44#45#46#47#48#49#용산구 원효로제1동 식당 가게 50개 완료\n",
      "380.1298620700836 소요\n"
     ]
    },
    {
     "name": "stderr",
     "output_type": "stream",
     "text": [
      "[WDM] - \n",
      "\n",
      "[WDM] - ====== WebDriver manager ======\n",
      "[WDM] - Current google-chrome version is 94.0.4606\n",
      "[WDM] - Get LATEST driver version for 94.0.4606\n",
      "[WDM] - Driver [C:\\Users\\bigne\\.wdm\\drivers\\chromedriver\\win32\\94.0.4606.61\\chromedriver.exe] found in cache\n"
     ]
    },
    {
     "name": "stdout",
     "output_type": "stream",
     "text": [
      "용산구 원효로제2동 식당 의 가게 정보 스크래핑을 시작합니다.\n",
      "0#1#2#3#4#5#6#7#8#9#10#11#12#13#14#15#16#17#de 18#19#20#21#22#23#24#25#26#27#28#29#30#31#32#33#34#35#36#37#tel 38#39#40#41#42#43#44#45#46#47#48#49#용산구 원효로제2동 식당 가게 50개 완료\n",
      "398.57805609703064 소요\n"
     ]
    },
    {
     "name": "stderr",
     "output_type": "stream",
     "text": [
      "[WDM] - \n",
      "\n",
      "[WDM] - ====== WebDriver manager ======\n",
      "[WDM] - Current google-chrome version is 94.0.4606\n",
      "[WDM] - Get LATEST driver version for 94.0.4606\n",
      "[WDM] - Driver [C:\\Users\\bigne\\.wdm\\drivers\\chromedriver\\win32\\94.0.4606.61\\chromedriver.exe] found in cache\n"
     ]
    },
    {
     "name": "stdout",
     "output_type": "stream",
     "text": [
      "용산구 이촌제1동 식당 의 가게 정보 스크래핑을 시작합니다.\n",
      "0#1#2#3#4#5#6#7#8#9#10#11#12#13#14#15#16#17#18#19#20#21#22#23#24#25#26#27#28#29#30#31#32#33#34#35#36#37#38#39#40#41#42#43#44#45#46#47#48#49#용산구 이촌제1동 식당 가게 50개 완료\n",
      "378.50629925727844 소요\n"
     ]
    },
    {
     "name": "stderr",
     "output_type": "stream",
     "text": [
      "[WDM] - \n",
      "\n",
      "[WDM] - ====== WebDriver manager ======\n",
      "[WDM] - Current google-chrome version is 94.0.4606\n",
      "[WDM] - Get LATEST driver version for 94.0.4606\n",
      "[WDM] - Driver [C:\\Users\\bigne\\.wdm\\drivers\\chromedriver\\win32\\94.0.4606.61\\chromedriver.exe] found in cache\n"
     ]
    },
    {
     "name": "stdout",
     "output_type": "stream",
     "text": [
      "용산구 이촌제2동 식당 의 가게 정보 스크래핑을 시작합니다.\n",
      "0#1#2#3#4#5#6#7#8#9#10#11#12#13#14#15#16#17#18#19#20#21#22#23#24#25#26#27#28#29#30#31#32#33#34#35#36#37#38#39#40#41#42#43#44#45#46#47#48#49#용산구 이촌제2동 식당 가게 50개 완료\n",
      "380.39943981170654 소요\n"
     ]
    },
    {
     "name": "stderr",
     "output_type": "stream",
     "text": [
      "[WDM] - \n",
      "\n",
      "[WDM] - ====== WebDriver manager ======\n",
      "[WDM] - Current google-chrome version is 94.0.4606\n",
      "[WDM] - Get LATEST driver version for 94.0.4606\n",
      "[WDM] - Driver [C:\\Users\\bigne\\.wdm\\drivers\\chromedriver\\win32\\94.0.4606.61\\chromedriver.exe] found in cache\n"
     ]
    },
    {
     "name": "stdout",
     "output_type": "stream",
     "text": [
      "용산구 이태원제1동 식당 의 가게 정보 스크래핑을 시작합니다.\n",
      "0#1#2#3#4#5#6#7#8#9#10#11#12#13#14#15#16#17#18#19#20#21#22#23#24#25#26#27#28#29#30#31#32#33#34#35#36#37#38#39#40#41#42#43#44#45#46#47#48#49#용산구 이태원제1동 식당 가게 50개 완료\n",
      "357.7003149986267 소요\n"
     ]
    },
    {
     "name": "stderr",
     "output_type": "stream",
     "text": [
      "[WDM] - \n",
      "\n",
      "[WDM] - ====== WebDriver manager ======\n",
      "[WDM] - Current google-chrome version is 94.0.4606\n",
      "[WDM] - Get LATEST driver version for 94.0.4606\n",
      "[WDM] - Driver [C:\\Users\\bigne\\.wdm\\drivers\\chromedriver\\win32\\94.0.4606.61\\chromedriver.exe] found in cache\n"
     ]
    },
    {
     "name": "stdout",
     "output_type": "stream",
     "text": [
      "용산구 이태원제2동 식당 의 가게 정보 스크래핑을 시작합니다.\n",
      "0#1#2#3#4#5#6#7#8#9#10#11#12#13#14#15#16#17#18#19#20#21#22#23#24#25#26#27#28#29#30#31#32#33#34#35#36#37#38#39#40#41#42#43#44#45#46#47#48#49#용산구 이태원제2동 식당 가게 50개 완료\n",
      "357.1339111328125 소요\n"
     ]
    },
    {
     "name": "stderr",
     "output_type": "stream",
     "text": [
      "[WDM] - \n",
      "\n",
      "[WDM] - ====== WebDriver manager ======\n",
      "[WDM] - Current google-chrome version is 94.0.4606\n",
      "[WDM] - Get LATEST driver version for 94.0.4606\n",
      "[WDM] - Driver [C:\\Users\\bigne\\.wdm\\drivers\\chromedriver\\win32\\94.0.4606.61\\chromedriver.exe] found in cache\n"
     ]
    },
    {
     "name": "stdout",
     "output_type": "stream",
     "text": [
      "용산구 청파동 식당 의 가게 정보 스크래핑을 시작합니다.\n",
      "0#1#2#3#4#5#6#7#8#9#10#11#12#13#14#15#16#17#18#19#20#21#22#23#24#25#26#27#28#29#30#31#32#33#34#35#36#37#38#39#40#41#42#43#44#45#46#47#48#49#용산구 청파동 식당 가게 50개 완료\n",
      "377.2785668373108 소요\n"
     ]
    },
    {
     "name": "stderr",
     "output_type": "stream",
     "text": [
      "[WDM] - \n",
      "\n",
      "[WDM] - ====== WebDriver manager ======\n",
      "[WDM] - Current google-chrome version is 94.0.4606\n",
      "[WDM] - Get LATEST driver version for 94.0.4606\n",
      "[WDM] - Driver [C:\\Users\\bigne\\.wdm\\drivers\\chromedriver\\win32\\94.0.4606.61\\chromedriver.exe] found in cache\n"
     ]
    },
    {
     "name": "stdout",
     "output_type": "stream",
     "text": [
      "용산구 한강로동 식당 의 가게 정보 스크래핑을 시작합니다.\n",
      "tel 0#1#tel 2#3#4#5#6#7#8#9#10#11#12#13#14#15#16#17#18#19#20#21#22#23#24#25#26#27#28#29#30#31#32#33#34#35#36#37#38#39#40#41#42#43#44#45#46#47#48#49#용산구 한강로동 식당 가게 50개 완료\n",
      "377.66890144348145 소요\n"
     ]
    },
    {
     "name": "stderr",
     "output_type": "stream",
     "text": [
      "[WDM] - \n",
      "\n",
      "[WDM] - ====== WebDriver manager ======\n",
      "[WDM] - Current google-chrome version is 94.0.4606\n",
      "[WDM] - Get LATEST driver version for 94.0.4606\n",
      "[WDM] - Driver [C:\\Users\\bigne\\.wdm\\drivers\\chromedriver\\win32\\94.0.4606.61\\chromedriver.exe] found in cache\n"
     ]
    },
    {
     "name": "stdout",
     "output_type": "stream",
     "text": [
      "용산구 한남동 식당 의 가게 정보 스크래핑을 시작합니다.\n",
      "0#1#2#3#4#5#6#7#8#9#10#11#12#13#14#15#16#17#18#19#20#21#22#23#24#25#26#27#28#29#30#31#32#tel 33#34#35#36#37#38#39#40#41#42#43#44#45#46#47#48#49#용산구 한남동 식당 가게 50개 완료\n",
      "362.5468547344208 소요\n"
     ]
    },
    {
     "name": "stderr",
     "output_type": "stream",
     "text": [
      "[WDM] - \n",
      "\n",
      "[WDM] - ====== WebDriver manager ======\n",
      "[WDM] - Current google-chrome version is 94.0.4606\n",
      "[WDM] - Get LATEST driver version for 94.0.4606\n",
      "[WDM] - Driver [C:\\Users\\bigne\\.wdm\\drivers\\chromedriver\\win32\\94.0.4606.61\\chromedriver.exe] found in cache\n"
     ]
    },
    {
     "name": "stdout",
     "output_type": "stream",
     "text": [
      "용산구 효창동 식당 의 가게 정보 스크래핑을 시작합니다.\n",
      "0#1#2#3#4#tel 5#6#7#8#de 9#10#11#12#13#14#15#16#17#18#19#20#21#22#23#tel 24#25#26#27#28#29#30#31#tel 32#33#34#35#36#37#38#39#40#41#42#43#44#45#46#47#tel de 48#49#용산구 효창동 식당 가게 50개 완료\n",
      "400.75651264190674 소요\n"
     ]
    },
    {
     "name": "stderr",
     "output_type": "stream",
     "text": [
      "[WDM] - \n",
      "\n",
      "[WDM] - ====== WebDriver manager ======\n",
      "[WDM] - Current google-chrome version is 94.0.4606\n",
      "[WDM] - Get LATEST driver version for 94.0.4606\n",
      "[WDM] - Driver [C:\\Users\\bigne\\.wdm\\drivers\\chromedriver\\win32\\94.0.4606.61\\chromedriver.exe] found in cache\n"
     ]
    },
    {
     "name": "stdout",
     "output_type": "stream",
     "text": [
      "용산구 후암동 식당 의 가게 정보 스크래핑을 시작합니다.\n",
      "0#1#2#3#4#5#6#7#8#9#10#11#12#13#14#15#16#17#18#19#20#21#22#23#24#25#tel 26#27#28#29#30#tel 31#32#33#34#35#36#37#38#39#40#41#42#43#44#45#46#47#48#49#용산구 후암동 식당 가게 50개 완료\n",
      "379.5878527164459 소요\n"
     ]
    },
    {
     "name": "stderr",
     "output_type": "stream",
     "text": [
      "[WDM] - \n",
      "\n",
      "[WDM] - ====== WebDriver manager ======\n",
      "[WDM] - Current google-chrome version is 94.0.4606\n",
      "[WDM] - Get LATEST driver version for 94.0.4606\n",
      "[WDM] - Driver [C:\\Users\\bigne\\.wdm\\drivers\\chromedriver\\win32\\94.0.4606.61\\chromedriver.exe] found in cache\n"
     ]
    },
    {
     "name": "stdout",
     "output_type": "stream",
     "text": [
      "영등포구 당산제1동 식당 의 가게 정보 스크래핑을 시작합니다.\n",
      "0#1#2#3#4#5#6#7#8#9#10#11#12#13#14#15#16#17#18#19#20#21#22#23#24#25#26#27#28#29#30#31#32#33#34#35#36#37#38#39#40#41#42#43#44#45#46#47#48#49#영등포구 당산제1동 식당 가게 50개 완료\n",
      "386.87966537475586 소요\n"
     ]
    },
    {
     "name": "stderr",
     "output_type": "stream",
     "text": [
      "[WDM] - \n",
      "\n",
      "[WDM] - ====== WebDriver manager ======\n",
      "[WDM] - Current google-chrome version is 94.0.4606\n",
      "[WDM] - Get LATEST driver version for 94.0.4606\n",
      "[WDM] - Driver [C:\\Users\\bigne\\.wdm\\drivers\\chromedriver\\win32\\94.0.4606.61\\chromedriver.exe] found in cache\n"
     ]
    },
    {
     "name": "stdout",
     "output_type": "stream",
     "text": [
      "영등포구 당산제2동 식당 의 가게 정보 스크래핑을 시작합니다.\n",
      "0#1#2#3#4#5#6#7#8#9#10#11#12#13#14#15#16#17#18#19#20#21#22#23#24#25#26#27#28#29#30#31#32#33#34#35#36#37#38#39#40#41#42#43#44#45#46#47#48#49#영등포구 당산제2동 식당 가게 50개 완료\n",
      "373.8566520214081 소요\n"
     ]
    },
    {
     "name": "stderr",
     "output_type": "stream",
     "text": [
      "[WDM] - \n",
      "\n",
      "[WDM] - ====== WebDriver manager ======\n",
      "[WDM] - Current google-chrome version is 94.0.4606\n",
      "[WDM] - Get LATEST driver version for 94.0.4606\n",
      "[WDM] - Driver [C:\\Users\\bigne\\.wdm\\drivers\\chromedriver\\win32\\94.0.4606.61\\chromedriver.exe] found in cache\n"
     ]
    },
    {
     "name": "stdout",
     "output_type": "stream",
     "text": [
      "영등포구 대림제1동 식당 의 가게 정보 스크래핑을 시작합니다.\n",
      "0#1#2#3#4#5#6#7#8#9#10#11#12#13#14#tel 15#16#17#18#19#20#21#22#23#24#25#26#27#28#29#30#31#32#33#34#35#36#37#38#39#40#41#42#43#tel 44#45#46#47#48#49#영등포구 대림제1동 식당 가게 50개 완료\n",
      "389.08944511413574 소요\n"
     ]
    },
    {
     "name": "stderr",
     "output_type": "stream",
     "text": [
      "[WDM] - \n",
      "\n",
      "[WDM] - ====== WebDriver manager ======\n",
      "[WDM] - Current google-chrome version is 94.0.4606\n",
      "[WDM] - Get LATEST driver version for 94.0.4606\n",
      "[WDM] - Driver [C:\\Users\\bigne\\.wdm\\drivers\\chromedriver\\win32\\94.0.4606.61\\chromedriver.exe] found in cache\n"
     ]
    },
    {
     "name": "stdout",
     "output_type": "stream",
     "text": [
      "영등포구 대림제2동 식당 의 가게 정보 스크래핑을 시작합니다.\n",
      "0#1#2#3#4#5#6#7#8#9#10#11#12#13#14#tel 15#16#17#18#19#20#21#22#23#24#25#26#27#28#29#30#31#32#33#34#35#36#37#38#39#40#41#42#43#tel 44#45#46#47#48#49#영등포구 대림제2동 식당 가게 50개 완료\n",
      "382.8030652999878 소요\n"
     ]
    },
    {
     "name": "stderr",
     "output_type": "stream",
     "text": [
      "[WDM] - \n",
      "\n",
      "[WDM] - ====== WebDriver manager ======\n",
      "[WDM] - Current google-chrome version is 94.0.4606\n",
      "[WDM] - Get LATEST driver version for 94.0.4606\n",
      "[WDM] - Driver [C:\\Users\\bigne\\.wdm\\drivers\\chromedriver\\win32\\94.0.4606.61\\chromedriver.exe] found in cache\n"
     ]
    },
    {
     "name": "stdout",
     "output_type": "stream",
     "text": [
      "영등포구 대림제3동 식당 의 가게 정보 스크래핑을 시작합니다.\n",
      "0#1#de 2#3#4#5#6#7#8#9#10#11#12#13#tel 14#15#16#17#18#19#20#21#22#23#24#25#26#27#28#29#30#31#32#33#34#35#36#37#38#39#40#41#42#43#tel 44#45#46#47#48#49#영등포구 대림제3동 식당 가게 50개 완료\n",
      "381.1119785308838 소요\n"
     ]
    },
    {
     "name": "stderr",
     "output_type": "stream",
     "text": [
      "[WDM] - \n",
      "\n",
      "[WDM] - ====== WebDriver manager ======\n",
      "[WDM] - Current google-chrome version is 94.0.4606\n",
      "[WDM] - Get LATEST driver version for 94.0.4606\n",
      "[WDM] - Driver [C:\\Users\\bigne\\.wdm\\drivers\\chromedriver\\win32\\94.0.4606.61\\chromedriver.exe] found in cache\n"
     ]
    },
    {
     "name": "stdout",
     "output_type": "stream",
     "text": [
      "영등포구 도림동 식당 의 가게 정보 스크래핑을 시작합니다.\n",
      "0#1#2#3#4#tel 5#6#7#8#tel 9#10#11#12#13#14#15#16#17#18#19#20#21#22#23#24#25#26#27#28#29#30#31#32#33#34#35#36#37#38#39#40#41#42#43#44#45#46#47#48#49#영등포구 도림동 식당 가게 50개 완료\n",
      "388.18585419654846 소요\n"
     ]
    },
    {
     "name": "stderr",
     "output_type": "stream",
     "text": [
      "[WDM] - \n",
      "\n",
      "[WDM] - ====== WebDriver manager ======\n",
      "[WDM] - Current google-chrome version is 94.0.4606\n",
      "[WDM] - Get LATEST driver version for 94.0.4606\n",
      "[WDM] - Driver [C:\\Users\\bigne\\.wdm\\drivers\\chromedriver\\win32\\94.0.4606.61\\chromedriver.exe] found in cache\n"
     ]
    },
    {
     "name": "stdout",
     "output_type": "stream",
     "text": [
      "영등포구 문래동 식당 의 가게 정보 스크래핑을 시작합니다.\n",
      "0#1#2#3#4#5#6#7#8#9#10#11#12#13#14#15#16#17#18#19#20#21#22#23#24#25#26#27#28#29#30#31#32#33#34#35#36#37#38#39#40#41#42#43#44#45#46#47#48#49#영등포구 문래동 식당 가게 50개 완료\n",
      "368.238299369812 소요\n"
     ]
    },
    {
     "name": "stderr",
     "output_type": "stream",
     "text": [
      "[WDM] - \n",
      "\n",
      "[WDM] - ====== WebDriver manager ======\n",
      "[WDM] - Current google-chrome version is 94.0.4606\n",
      "[WDM] - Get LATEST driver version for 94.0.4606\n",
      "[WDM] - Driver [C:\\Users\\bigne\\.wdm\\drivers\\chromedriver\\win32\\94.0.4606.61\\chromedriver.exe] found in cache\n"
     ]
    },
    {
     "name": "stdout",
     "output_type": "stream",
     "text": [
      "영등포구 신길제1동 식당 의 가게 정보 스크래핑을 시작합니다.\n",
      "0#1#2#3#4#5#6#7#8#9#10#11#12#13#14#15#16#17#18#19#20#21#22#23#24#25#26#27#28#29#30#31#32#33#34#35#36#37#38#39#40#41#42#43#44#45#46#47#48#49#영등포구 신길제1동 식당 가게 50개 완료\n",
      "372.69535088539124 소요\n"
     ]
    },
    {
     "name": "stderr",
     "output_type": "stream",
     "text": [
      "[WDM] - \n",
      "\n",
      "[WDM] - ====== WebDriver manager ======\n",
      "[WDM] - Current google-chrome version is 94.0.4606\n",
      "[WDM] - Get LATEST driver version for 94.0.4606\n",
      "[WDM] - Driver [C:\\Users\\bigne\\.wdm\\drivers\\chromedriver\\win32\\94.0.4606.61\\chromedriver.exe] found in cache\n"
     ]
    },
    {
     "name": "stdout",
     "output_type": "stream",
     "text": [
      "영등포구 신길제3동 식당 의 가게 정보 스크래핑을 시작합니다.\n",
      "0#1#2#3#4#5#6#7#8#9#10#11#12#13#14#15#16#17#18#19#20#21#22#23#24#25#26#27#28#29#30#31#32#33#34#35#36#37#38#39#40#41#42#43#44#45#46#47#48#49#영등포구 신길제3동 식당 가게 50개 완료\n",
      "384.11229705810547 소요\n"
     ]
    },
    {
     "name": "stderr",
     "output_type": "stream",
     "text": [
      "[WDM] - \n",
      "\n",
      "[WDM] - ====== WebDriver manager ======\n",
      "[WDM] - Current google-chrome version is 94.0.4606\n",
      "[WDM] - Get LATEST driver version for 94.0.4606\n",
      "[WDM] - Driver [C:\\Users\\bigne\\.wdm\\drivers\\chromedriver\\win32\\94.0.4606.61\\chromedriver.exe] found in cache\n"
     ]
    },
    {
     "name": "stdout",
     "output_type": "stream",
     "text": [
      "영등포구 신길제4동 식당 의 가게 정보 스크래핑을 시작합니다.\n",
      "0#1#2#3#4#5#6#7#8#9#10#11#12#13#14#15#16#17#18#19#20#21#22#23#24#25#26#27#28#29#30#31#32#33#34#35#36#37#38#39#40#41#42#43#44#45#46#47#48#49#영등포구 신길제4동 식당 가게 50개 완료\n",
      "369.4079804420471 소요\n"
     ]
    },
    {
     "name": "stderr",
     "output_type": "stream",
     "text": [
      "[WDM] - \n",
      "\n",
      "[WDM] - ====== WebDriver manager ======\n",
      "[WDM] - Current google-chrome version is 94.0.4606\n",
      "[WDM] - Get LATEST driver version for 94.0.4606\n",
      "[WDM] - Driver [C:\\Users\\bigne\\.wdm\\drivers\\chromedriver\\win32\\94.0.4606.61\\chromedriver.exe] found in cache\n"
     ]
    },
    {
     "name": "stdout",
     "output_type": "stream",
     "text": [
      "영등포구 신길제5동 식당 의 가게 정보 스크래핑을 시작합니다.\n",
      "0#1#2#3#4#5#6#7#8#9#10#11#12#13#14#15#16#17#18#19#20#21#22#23#24#25#26#27#28#29#30#31#32#33#34#35#36#37#38#39#40#41#42#43#44#45#46#47#48#49#영등포구 신길제5동 식당 가게 50개 완료\n",
      "370.21105003356934 소요\n"
     ]
    },
    {
     "name": "stderr",
     "output_type": "stream",
     "text": [
      "[WDM] - \n",
      "\n",
      "[WDM] - ====== WebDriver manager ======\n",
      "[WDM] - Current google-chrome version is 94.0.4606\n",
      "[WDM] - Get LATEST driver version for 94.0.4606\n",
      "[WDM] - Driver [C:\\Users\\bigne\\.wdm\\drivers\\chromedriver\\win32\\94.0.4606.61\\chromedriver.exe] found in cache\n"
     ]
    },
    {
     "name": "stdout",
     "output_type": "stream",
     "text": [
      "영등포구 신길제6동 식당 의 가게 정보 스크래핑을 시작합니다.\n",
      "0#1#2#3#4#5#6#7#8#9#10#11#12#13#14#15#16#17#18#19#20#21#22#23#24#25#26#27#28#29#30#31#32#33#34#35#36#37#38#39#40#41#42#43#44#45#46#47#48#49#영등포구 신길제6동 식당 가게 50개 완료\n",
      "370.85455322265625 소요\n"
     ]
    },
    {
     "name": "stderr",
     "output_type": "stream",
     "text": [
      "[WDM] - \n",
      "\n",
      "[WDM] - ====== WebDriver manager ======\n",
      "[WDM] - Current google-chrome version is 94.0.4606\n",
      "[WDM] - Get LATEST driver version for 94.0.4606\n",
      "[WDM] - Driver [C:\\Users\\bigne\\.wdm\\drivers\\chromedriver\\win32\\94.0.4606.61\\chromedriver.exe] found in cache\n"
     ]
    },
    {
     "name": "stdout",
     "output_type": "stream",
     "text": [
      "영등포구 신길제7동 식당 의 가게 정보 스크래핑을 시작합니다.\n",
      "0#1#2#3#4#5#6#7#8#9#10#11#12#13#14#15#16#17#18#19#20#21#22#23#24#25#26#27#28#29#30#31#32#33#34#35#36#37#38#39#40#41#42#43#44#45#46#de 47#48#49#영등포구 신길제7동 식당 가게 50개 완료\n",
      "368.7533075809479 소요\n"
     ]
    },
    {
     "name": "stderr",
     "output_type": "stream",
     "text": [
      "[WDM] - \n",
      "\n",
      "[WDM] - ====== WebDriver manager ======\n",
      "[WDM] - Current google-chrome version is 94.0.4606\n",
      "[WDM] - Get LATEST driver version for 94.0.4606\n",
      "[WDM] - Driver [C:\\Users\\bigne\\.wdm\\drivers\\chromedriver\\win32\\94.0.4606.61\\chromedriver.exe] found in cache\n"
     ]
    },
    {
     "name": "stdout",
     "output_type": "stream",
     "text": [
      "영등포구 양평제1동 식당 의 가게 정보 스크래핑을 시작합니다.\n",
      "0#1#2#3#4#5#6#7#8#9#10#11#12#13#14#15#16#17#18#19#20#21#22#23#24#25#26#27#28#29#30#31#32#33#34#35#36#37#38#39#40#41#42#43#44#45#46#47#48#49#영등포구 양평제1동 식당 가게 50개 완료\n",
      "376.4508090019226 소요\n"
     ]
    },
    {
     "name": "stderr",
     "output_type": "stream",
     "text": [
      "[WDM] - \n",
      "\n",
      "[WDM] - ====== WebDriver manager ======\n",
      "[WDM] - Current google-chrome version is 94.0.4606\n",
      "[WDM] - Get LATEST driver version for 94.0.4606\n",
      "[WDM] - Driver [C:\\Users\\bigne\\.wdm\\drivers\\chromedriver\\win32\\94.0.4606.61\\chromedriver.exe] found in cache\n"
     ]
    },
    {
     "name": "stdout",
     "output_type": "stream",
     "text": [
      "영등포구 양평제2동 식당 의 가게 정보 스크래핑을 시작합니다.\n",
      "0#1#2#3#4#5#6#7#8#9#10#11#12#13#14#15#16#17#18#19#20#21#22#23#24#25#26#27#28#29#30#31#32#33#34#35#36#37#38#39#40#41#42#43#44#45#46#47#48#49#영등포구 양평제2동 식당 가게 50개 완료\n",
      "372.4089105129242 소요\n"
     ]
    },
    {
     "name": "stderr",
     "output_type": "stream",
     "text": [
      "[WDM] - \n",
      "\n",
      "[WDM] - ====== WebDriver manager ======\n",
      "[WDM] - Current google-chrome version is 94.0.4606\n",
      "[WDM] - Get LATEST driver version for 94.0.4606\n",
      "[WDM] - Driver [C:\\Users\\bigne\\.wdm\\drivers\\chromedriver\\win32\\94.0.4606.61\\chromedriver.exe] found in cache\n"
     ]
    },
    {
     "name": "stdout",
     "output_type": "stream",
     "text": [
      "영등포구 여의동 식당 의 가게 정보 스크래핑을 시작합니다.\n",
      "0#1#2#3#4#5#6#7#8#9#10#11#12#13#14#15#16#17#18#19#20#21#22#23#24#25#26#27#28#29#30#31#32#33#34#35#36#37#38#39#40#41#42#43#44#45#46#47#48#49#영등포구 여의동 식당 가게 50개 완료\n",
      "374.52715396881104 소요\n"
     ]
    },
    {
     "name": "stderr",
     "output_type": "stream",
     "text": [
      "[WDM] - \n",
      "\n",
      "[WDM] - ====== WebDriver manager ======\n",
      "[WDM] - Current google-chrome version is 94.0.4606\n",
      "[WDM] - Get LATEST driver version for 94.0.4606\n",
      "[WDM] - Driver [C:\\Users\\bigne\\.wdm\\drivers\\chromedriver\\win32\\94.0.4606.61\\chromedriver.exe] found in cache\n"
     ]
    },
    {
     "name": "stdout",
     "output_type": "stream",
     "text": [
      "영등포구 영등포동 식당 의 가게 정보 스크래핑을 시작합니다.\n",
      "0#1#2#3#4#5#6#7#8#9#10#11#12#13#14#15#16#17#18#19#20#21#22#23#24#25#26#27#28#29#30#31#32#33#34#35#36#37#38#39#40#41#42#43#44#45#46#47#48#49#영등포구 영등포동 식당 가게 50개 완료\n",
      "369.9427318572998 소요\n"
     ]
    },
    {
     "name": "stderr",
     "output_type": "stream",
     "text": [
      "[WDM] - \n",
      "\n",
      "[WDM] - ====== WebDriver manager ======\n",
      "[WDM] - Current google-chrome version is 94.0.4606\n",
      "[WDM] - Get LATEST driver version for 94.0.4606\n",
      "[WDM] - Driver [C:\\Users\\bigne\\.wdm\\drivers\\chromedriver\\win32\\94.0.4606.61\\chromedriver.exe] found in cache\n"
     ]
    },
    {
     "name": "stdout",
     "output_type": "stream",
     "text": [
      "영등포구 영등포본동 식당 의 가게 정보 스크래핑을 시작합니다.\n",
      "0#1#2#3#4#5#6#7#8#9#10#11#12#13#14#15#16#17#18#19#20#21#22#23#24#25#26#27#28#29#30#31#32#33#34#35#36#37#38#39#40#41#42#43#44#45#46#47#48#49#영등포구 영등포본동 식당 가게 50개 완료\n",
      "372.8386332988739 소요\n"
     ]
    },
    {
     "name": "stderr",
     "output_type": "stream",
     "text": [
      "[WDM] - \n",
      "\n",
      "[WDM] - ====== WebDriver manager ======\n",
      "[WDM] - Current google-chrome version is 94.0.4606\n",
      "[WDM] - Get LATEST driver version for 94.0.4606\n",
      "[WDM] - Driver [C:\\Users\\bigne\\.wdm\\drivers\\chromedriver\\win32\\94.0.4606.61\\chromedriver.exe] found in cache\n"
     ]
    },
    {
     "name": "stdout",
     "output_type": "stream",
     "text": [
      "양천구 목1동 식당 의 가게 정보 스크래핑을 시작합니다.\n",
      "0#1#2#de 3#4#5#6#7#8#9#10#11#12#13#14#15#16#17#18#19#20#21#22#23#24#25#26#27#28#29#30#31#32#33#34#35#36#37#38#de 39#40#41#42#43#44#45#46#47#48#49#양천구 목1동 식당 가게 50개 완료\n",
      "350.6204845905304 소요\n"
     ]
    },
    {
     "name": "stderr",
     "output_type": "stream",
     "text": [
      "[WDM] - \n",
      "\n",
      "[WDM] - ====== WebDriver manager ======\n",
      "[WDM] - Current google-chrome version is 94.0.4606\n",
      "[WDM] - Get LATEST driver version for 94.0.4606\n",
      "[WDM] - Driver [C:\\Users\\bigne\\.wdm\\drivers\\chromedriver\\win32\\94.0.4606.61\\chromedriver.exe] found in cache\n"
     ]
    },
    {
     "name": "stdout",
     "output_type": "stream",
     "text": [
      "양천구 목2동 식당 의 가게 정보 스크래핑을 시작합니다.\n",
      "0#1#2#3#4#5#6#7#8#9#10#11#12#13#14#15#16#17#18#19#20#21#22#23#24#25#26#27#28#29#30#"
     ]
    }
   ],
   "source": [
    "while True:\n",
    "    try:\n",
    "        for 구이름 in 할당_list[::-1]:\n",
    "            동이름_list = dong_dict[구이름]   \n",
    "            for 동이름 in 동이름_list:\n",
    "                store_file = '가게정보_' + 구이름 + '_' + 동이름+ '_'+ 업종 + '.csv'\n",
    "                if check_file(file_path=store_path, file_name=store_file):\n",
    "                    print(f'{store_file}이 있습니다. 다음 지역으로 이동합니다')\n",
    "                    pass\n",
    "                else: naver_map_store_scrapping(구이름=구이름, 동이름=동이름, 업종=업종)\n",
    "    except:\n",
    "        for 구이름 in 할당_list[::-1]:\n",
    "            동이름_list = dong_dict[구이름]   \n",
    "            for 동이름 in 동이름_list:\n",
    "                store_file = '가게정보_' + 구이름 + '_' + 동이름+ '_'+ 업종 + '.csv'\n",
    "                if check_file(file_path=store_path, file_name=store_file):\n",
    "                    print(f'{store_file}이 있습니다. 다음 지역으로 이동합니다')\n",
    "                    pass\n",
    "                else: naver_map_store_scrapping(구이름=구이름, 동이름=동이름, 업종=업종)"
   ]
  },
  {
   "cell_type": "code",
   "execution_count": null,
   "id": "b6263d4a",
   "metadata": {},
   "outputs": [],
   "source": []
  }
 ],
 "metadata": {
  "kernelspec": {
   "display_name": "Python 3 (ipykernel)",
   "language": "python",
   "name": "python3"
  },
  "language_info": {
   "codemirror_mode": {
    "name": "ipython",
    "version": 3
   },
   "file_extension": ".py",
   "mimetype": "text/x-python",
   "name": "python",
   "nbconvert_exporter": "python",
   "pygments_lexer": "ipython3",
   "version": "3.8.11"
  },
  "toc": {
   "base_numbering": 1,
   "nav_menu": {},
   "number_sections": true,
   "sideBar": true,
   "skip_h1_title": false,
   "title_cell": "Table of Contents",
   "title_sidebar": "Contents",
   "toc_cell": false,
   "toc_position": {
    "height": "calc(100% - 180px)",
    "left": "10px",
    "top": "150px",
    "width": "403.49px"
   },
   "toc_section_display": true,
   "toc_window_display": false
  }
 },
 "nbformat": 4,
 "nbformat_minor": 5
}
