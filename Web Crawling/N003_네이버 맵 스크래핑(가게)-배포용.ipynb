{
 "cells": [
  {
   "cell_type": "markdown",
   "id": "54e6c7fa",
   "metadata": {},
   "source": [
    "# 기본 라이브러리 로드"
   ]
  },
  {
   "cell_type": "code",
   "execution_count": 1,
   "id": "cf8851bf",
   "metadata": {
    "ExecuteTime": {
     "end_time": "2021-10-14T11:15:41.455428Z",
     "start_time": "2021-10-14T11:15:40.984959Z"
    }
   },
   "outputs": [],
   "source": [
    "import time\n",
    "import pandas as pd\n",
    "import numpy as np\n",
    "\n",
    "import warnings\n",
    "warnings.filterwarnings(action = 'ignore')\n"
   ]
  },
  {
   "cell_type": "markdown",
   "id": "6a2db927",
   "metadata": {},
   "source": [
    "# 함수"
   ]
  },
  {
   "cell_type": "code",
   "execution_count": 2,
   "id": "27fe50b0",
   "metadata": {
    "ExecuteTime": {
     "end_time": "2021-10-14T11:15:41.470567Z",
     "start_time": "2021-10-14T11:15:41.456429Z"
    }
   },
   "outputs": [],
   "source": [
    "def try_none_text(x):\n",
    "    try:\n",
    "        return x.text\n",
    "    except:\n",
    "        return 'NA'\n",
    "        "
   ]
  },
  {
   "cell_type": "code",
   "execution_count": 3,
   "id": "990a2c0c",
   "metadata": {
    "ExecuteTime": {
     "end_time": "2021-10-14T11:15:41.485438Z",
     "start_time": "2021-10-14T11:15:41.471572Z"
    }
   },
   "outputs": [],
   "source": [
    "def try_none_text_by_class_name(wd,class_name, col='col'):\n",
    "    try:\n",
    "        return wd.find_element_by_class_name(class_name).text\n",
    "    except NoSuchElementException:\n",
    "        print(col, end=' ')\n",
    "        return 'NA'\n",
    "        "
   ]
  },
  {
   "cell_type": "code",
   "execution_count": 4,
   "id": "266ea21d",
   "metadata": {
    "ExecuteTime": {
     "end_time": "2021-10-14T11:15:41.500764Z",
     "start_time": "2021-10-14T11:15:41.486440Z"
    }
   },
   "outputs": [],
   "source": [
    "def strong_try_none_text_by_class_name(wd,class_name, col='col'):\n",
    "    try:\n",
    "        temps = wd.find_elements_by_class_name(class_name)\n",
    "        for temp in temps:\n",
    "            if temp.text.startswith('편의'):\n",
    "                return temp.text.split('\\n')[1]\n",
    "        else:\n",
    "            return 'NA'\n",
    "    except NoSuchElementException:\n",
    "#         print(col, end='')\n",
    "        return 'NA'\n",
    "        "
   ]
  },
  {
   "cell_type": "markdown",
   "id": "98aa6ce5",
   "metadata": {},
   "source": [
    "## 지역구 함수"
   ]
  },
  {
   "cell_type": "code",
   "execution_count": 5,
   "id": "f16a3a26",
   "metadata": {
    "ExecuteTime": {
     "end_time": "2021-10-14T11:15:41.516034Z",
     "start_time": "2021-10-14T11:15:41.501767Z"
    }
   },
   "outputs": [],
   "source": [
    "dong_list = ['종로구 청운효자동', '종로구 사직동', '종로구 삼청동', '종로구 부암동', '종로구 평창동', '종로구 무악동',\n",
    "       '종로구 교남동', '종로구 가회동', '종로구 종로1.2.3.4가동', '종로구 종로5.6가동', '종로구 이화동',\n",
    "       '종로구 혜화동', '종로구 창신제1동', '종로구 창신제2동', '종로구 창신제3동', '종로구 숭인제1동',\n",
    "       '종로구 숭인제2동', '중구 소공동', '중구 회현동', '중구 명동', '중구 필동', '중구 장충동',\n",
    "       '중구 광희동', '중구 을지로동', '중구 신당동', '중구 다산동', '중구 약수동', '중구 청구동',\n",
    "       '중구 신당제5동', '중구 동화동', '중구 황학동', '중구 중림동', '용산구 후암동', '용산구 용산2가동',\n",
    "       '용산구 남영동', '용산구 청파동', '용산구 원효로제1동', '용산구 원효로제2동', '용산구 효창동',\n",
    "       '용산구 용문동', '용산구 한강로동', '용산구 이촌제1동', '용산구 이촌제2동', '용산구 이태원제1동',\n",
    "       '용산구 이태원제2동', '용산구 한남동', '용산구 서빙고동', '용산구 보광동', '성동구 왕십리제2동',\n",
    "       '성동구 왕십리도선동', '성동구 마장동', '성동구 사근동', '성동구 행당제1동', '성동구 행당제2동',\n",
    "       '성동구 응봉동', '성동구 금호1가동', '성동구 금호2.3가동', '성동구 금호4가동', '성동구 옥수동',\n",
    "       '성동구 성수1가제1동', '성동구 성수1가제2동', '성동구 성수2가제1동', '성동구 성수2가제3동',\n",
    "       '성동구 송정동', '성동구 용답동', '광진구 화양동', '광진구 군자동', '광진구 중곡제1동',\n",
    "       '광진구 중곡제2동', '광진구 중곡제3동', '광진구 중곡제4동', '광진구 능동', '광진구 광장동',\n",
    "       '광진구 자양제1동', '광진구 자양제2동', '광진구 자양제3동', '광진구 자양제4동', '광진구 구의제1동',\n",
    "       '광진구 구의제2동', '광진구 구의제3동', '동대문구 용신동', '동대문구 제기동', '동대문구 전농제1동',\n",
    "       '동대문구 전농제2동', '동대문구 답십리제1동', '동대문구 답십리제2동', '동대문구 장안제1동',\n",
    "       '동대문구 장안제2동', '동대문구 청량리동', '동대문구 회기동', '동대문구 휘경제1동', '동대문구 휘경제2동',\n",
    "       '동대문구 이문제1동', '동대문구 이문제2동', '중랑구 면목제2동', '중랑구 면목제4동', '중랑구 면목제5동',\n",
    "       '중랑구 면목본동', '중랑구 면목제7동', '중랑구 면목제3.8동', '중랑구 상봉제1동', '중랑구 상봉제2동',\n",
    "       '중랑구 중화제1동', '중랑구 중화제2동', '중랑구 묵제1동', '중랑구 묵제2동', '중랑구 망우본동',\n",
    "       '중랑구 망우제3동', '중랑구 신내1동', '중랑구 신내2동', '성북구 성북동', '성북구 삼선동',\n",
    "       '성북구 동선동', '성북구 돈암제1동', '성북구 돈암제2동', '성북구 안암동', '성북구 보문동',\n",
    "       '성북구 정릉제1동', '성북구 정릉제2동', '성북구 정릉제3동', '성북구 정릉제4동', '성북구 길음제1동',\n",
    "       '성북구 길음제2동', '성북구 종암동', '성북구 월곡제1동', '성북구 월곡제2동', '성북구 장위제1동',\n",
    "       '성북구 장위제2동', '성북구 장위제3동', '성북구 석관동', '강북구 삼양동', '강북구 미아동',\n",
    "       '강북구 송중동', '강북구 송천동', '강북구 삼각산동', '강북구 번1동', '강북구 번2동', '강북구 번3동',\n",
    "       '강북구 수유1동', '강북구 수유2동', '강북구 수유3동', '강북구 우이동', '강북구 인수동',\n",
    "       '도봉구 창제1동', '도봉구 창제2동', '도봉구 창제3동', '도봉구 창제4동', '도봉구 창제5동',\n",
    "       '도봉구 도봉제1동', '도봉구 도봉제2동', '도봉구 쌍문제1동', '도봉구 쌍문제2동', '도봉구 쌍문제3동',\n",
    "       '도봉구 쌍문제4동', '도봉구 방학제1동', '도봉구 방학제2동', '도봉구 방학제3동', '노원구 월계1동',\n",
    "       '노원구 월계2동', '노원구 월계3동', '노원구 공릉1동', '노원구 공릉2동', '노원구 하계1동',\n",
    "       '노원구 하계2동', '노원구 중계본동', '노원구 중계1동', '노원구 중계4동', '노원구 중계2.3동',\n",
    "       '노원구 상계1동', '노원구 상계2동', '노원구 상계3.4동', '노원구 상계5동', '노원구 상계6.7동',\n",
    "       '노원구 상계8동', '노원구 상계9동', '노원구 상계10동', '은평구 녹번동', '은평구 불광제1동',\n",
    "       '은평구 불광제2동', '은평구 갈현제1동', '은평구 갈현제2동', '은평구 구산동', '은평구 대조동',\n",
    "       '은평구 응암제1동', '은평구 응암제2동', '은평구 응암제3동', '은평구 역촌동', '은평구 신사제1동',\n",
    "       '은평구 신사제2동', '은평구 증산동', '은평구 수색동', '은평구 진관동', '서대문구 천연동',\n",
    "       '서대문구 북아현동', '서대문구 충현동', '서대문구 신촌동', '서대문구 연희동', '서대문구 홍제제1동',\n",
    "       '서대문구 홍제제3동', '서대문구 홍제제2동', '서대문구 홍은제1동', '서대문구 홍은제2동',\n",
    "       '서대문구 남가좌제1동', '서대문구 남가좌제2동', '서대문구 북가좌제1동', '서대문구 북가좌제2동',\n",
    "       '마포구 아현동', '마포구 공덕동', '마포구 도화동', '마포구 용강동', '마포구 대흥동', '마포구 염리동',\n",
    "       '마포구 신수동', '마포구 서강동', '마포구 서교동', '마포구 합정동', '마포구 망원제1동',\n",
    "       '마포구 망원제2동', '마포구 연남동', '마포구 성산제1동', '마포구 성산제2동', '마포구 상암동',\n",
    "       '양천구 목1동', '양천구 목2동', '양천구 목3동', '양천구 목4동', '양천구 목5동', '양천구 신월1동',\n",
    "       '양천구 신월2동', '양천구 신월3동', '양천구 신월4동', '양천구 신월5동', '양천구 신월6동',\n",
    "       '양천구 신월7동', '양천구 신정1동', '양천구 신정2동', '양천구 신정3동', '양천구 신정4동',\n",
    "       '양천구 신정6동', '양천구 신정7동', '강서구 염창동', '강서구 등촌제1동', '강서구 등촌제2동',\n",
    "       '강서구 등촌제3동', '강서구 화곡제1동', '강서구 화곡제2동', '강서구 화곡제3동', '강서구 화곡제4동',\n",
    "       '강서구 화곡본동', '강서구 화곡제6동', '강서구 화곡제8동', '강서구 가양제1동', '강서구 가양제2동',\n",
    "       '강서구 가양제3동', '강서구 발산제1동', '강서구 우장산동', '강서구 공항동', '강서구 방화제1동',\n",
    "       '강서구 방화제2동', '강서구 방화제3동', '구로구 신도림동', '구로구 구로제1동', '구로구 구로제2동',\n",
    "       '구로구 구로제3동', '구로구 구로제4동', '구로구 구로제5동', '구로구 가리봉동', '구로구 고척제1동',\n",
    "       '구로구 고척제2동', '구로구 개봉제1동', '구로구 개봉제2동', '구로구 개봉제3동', '구로구 오류제1동',\n",
    "       '구로구 오류제2동', '구로구 수궁동', '구로구 항동', '금천구 가산동', '금천구 독산제1동',\n",
    "       '금천구 독산제2동', '금천구 독산제3동', '금천구 독산제4동', '금천구 시흥제1동', '금천구 시흥제2동',\n",
    "       '금천구 시흥제3동', '금천구 시흥제4동', '금천구 시흥제5동', '영등포구 영등포본동', '영등포구 영등포동',\n",
    "       '영등포구 여의동', '영등포구 당산제1동', '영등포구 당산제2동', '영등포구 도림동', '영등포구 문래동',\n",
    "       '영등포구 양평제1동', '영등포구 양평제2동', '영등포구 신길제1동', '영등포구 신길제3동',\n",
    "       '영등포구 신길제4동', '영등포구 신길제5동', '영등포구 신길제6동', '영등포구 신길제7동',\n",
    "       '영등포구 대림제1동', '영등포구 대림제2동', '영등포구 대림제3동', '동작구 노량진제1동',\n",
    "       '동작구 노량진제2동', '동작구 상도제1동', '동작구 상도제2동', '동작구 상도제3동', '동작구 상도제4동',\n",
    "       '동작구 흑석동', '동작구 사당제1동', '동작구 사당제2동', '동작구 사당제3동', '동작구 사당제4동',\n",
    "       '동작구 사당제5동', '동작구 대방동', '동작구 신대방제1동', '동작구 신대방제2동', '관악구 보라매동',\n",
    "       '관악구 청림동', '관악구 성현동', '관악구 행운동', '관악구 낙성대동', '관악구 청룡동', '관악구 은천동',\n",
    "       '관악구 중앙동', '관악구 인헌동', '관악구 남현동', '관악구 서원동', '관악구 신원동', '관악구 서림동',\n",
    "       '관악구 신사동', '관악구 신림동', '관악구 난향동', '관악구 조원동', '관악구 대학동', '관악구 삼성동',\n",
    "       '관악구 미성동', '관악구 난곡동', '서초구 서초1동', '서초구 서초2동', '서초구 서초3동',\n",
    "       '서초구 서초4동', '서초구 잠원동', '서초구 반포본동', '서초구 반포1동', '서초구 반포2동',\n",
    "       '서초구 반포3동', '서초구 반포4동', '서초구 방배본동', '서초구 방배1동', '서초구 방배2동',\n",
    "       '서초구 방배3동', '서초구 방배4동', '서초구 양재1동', '서초구 양재2동', '서초구 내곡동',\n",
    "       '강남구 신사동', '강남구 논현1동', '강남구 논현2동', '강남구 압구정동', '강남구 청담동',\n",
    "       '강남구 삼성1동', '강남구 삼성2동', '강남구 대치1동', '강남구 대치2동', '강남구 대치4동',\n",
    "       '강남구 역삼1동', '강남구 역삼2동', '강남구 도곡1동', '강남구 도곡2동', '강남구 개포1동',\n",
    "       '강남구 개포2동', '강남구 개포4동', '강남구 세곡동', '강남구 일원본동', '강남구 일원1동',\n",
    "       '강남구 일원2동', '강남구 수서동', '송파구 풍납1동', '송파구 풍납2동', '송파구 거여1동',\n",
    "       '송파구 거여2동', '송파구 마천1동', '송파구 마천2동', '송파구 방이1동', '송파구 방이2동',\n",
    "       '송파구 오륜동', '송파구 오금동', '송파구 송파1동', '송파구 송파2동', '송파구 석촌동', '송파구 삼전동',\n",
    "       '송파구 가락본동', '송파구 가락1동', '송파구 가락2동', '송파구 문정1동', '송파구 문정2동',\n",
    "       '송파구 장지동', '송파구 위례동', '송파구 잠실본동', '송파구 잠실2동', '송파구 잠실3동',\n",
    "       '송파구 잠실4동', '송파구 잠실6동', '송파구 잠실7동', '강동구 강일동', '강동구 상일제1동',\n",
    "       '강동구 상일제2동', '강동구 명일제1동', '강동구 명일제2동', '강동구 고덕제1동', '강동구 고덕제2동',\n",
    "       '강동구 암사제1동', '강동구 암사제2동', '강동구 암사제3동', '강동구 천호제1동', '강동구 천호제2동',\n",
    "       '강동구 천호제3동', '강동구 성내제1동', '강동구 성내제2동', '강동구 성내제3동', '강동구 길동',\n",
    "       '강동구 둔촌제1동', '강동구 둔촌제2동']\n"
   ]
  },
  {
   "cell_type": "code",
   "execution_count": 6,
   "id": "c9270578",
   "metadata": {
    "ExecuteTime": {
     "end_time": "2021-10-14T11:15:41.530793Z",
     "start_time": "2021-10-14T11:15:41.517035Z"
    },
    "scrolled": true
   },
   "outputs": [],
   "source": [
    "from collections import defaultdict\n",
    "dong_dict = defaultdict(list)\n",
    "for 구, 동 in [x.split() for x in dong_list]:\n",
    "    dong_dict[구].append(동)\n",
    "# dong_dict"
   ]
  },
  {
   "cell_type": "code",
   "execution_count": 7,
   "id": "99dd37f0",
   "metadata": {
    "ExecuteTime": {
     "end_time": "2021-10-14T11:15:41.545792Z",
     "start_time": "2021-10-14T11:15:41.531143Z"
    }
   },
   "outputs": [],
   "source": [
    "dong_key_list = list(dong_dict.keys())\n",
    "dong_key_list.sort()\n",
    "# dong_key_list"
   ]
  },
  {
   "cell_type": "code",
   "execution_count": 8,
   "id": "c14aeb3d",
   "metadata": {
    "ExecuteTime": {
     "end_time": "2021-10-14T11:15:41.560814Z",
     "start_time": "2021-10-14T11:15:41.546792Z"
    }
   },
   "outputs": [],
   "source": [
    "for 구이름 in dong_key_list:\n",
    "    dong_dict[구이름] = sorted(dong_dict[구이름])\n",
    "#     print(dong_dict[구이름])\n",
    "    "
   ]
  },
  {
   "cell_type": "code",
   "execution_count": 9,
   "id": "16c968f0",
   "metadata": {
    "ExecuteTime": {
     "end_time": "2021-10-14T11:15:41.575832Z",
     "start_time": "2021-10-14T11:15:41.560814Z"
    },
    "scrolled": false
   },
   "outputs": [],
   "source": [
    "for 구이름 in dong_key_list:\n",
    "    for 동이름 in dong_dict[구]:\n",
    "#         print(구이름, 동이름)\n",
    "        pass"
   ]
  },
  {
   "cell_type": "code",
   "execution_count": 10,
   "id": "12055410",
   "metadata": {
    "ExecuteTime": {
     "end_time": "2021-10-14T11:15:41.590854Z",
     "start_time": "2021-10-14T11:15:41.576833Z"
    }
   },
   "outputs": [],
   "source": [
    "import os\n",
    "def check_file(file_path, file_name):\n",
    "    return os.path.isfile(file_path+file_name)"
   ]
  },
  {
   "cell_type": "markdown",
   "id": "b3398826",
   "metadata": {},
   "source": [
    "## 가게 세부 정보 스크래핑 함수"
   ]
  },
  {
   "cell_type": "code",
   "execution_count": 11,
   "id": "02703fdc",
   "metadata": {
    "ExecuteTime": {
     "end_time": "2021-10-14T11:15:41.606296Z",
     "start_time": "2021-10-14T11:15:41.591273Z"
    }
   },
   "outputs": [],
   "source": [
    "def get_store_info(wd):\n",
    "    name = wd.find_element_by_class_name('_3XamX').text\n",
    "#     print(name)\n",
    "    r_type = try_none_text_by_class_name(wd,'_3ocDE','ty')\n",
    "#     print(r_type)\n",
    "    address = try_none_text_by_class_name(wd,'_2yqUQ','ad')\n",
    "#     print(address)\n",
    "    tel = try_none_text_by_class_name(wd,'_3ZA0S','tel') \n",
    "#     print(tel)\n",
    "    detail = try_none_text_by_class_name(wd,'WoYOw','de')\n",
    "#     print('d1',detail)\n",
    "    strong = strong_try_none_text_by_class_name(wd,'_1M_Iz.undefined','st')\n",
    "#     print('s1',strong)\n",
    "\n",
    "    try:\n",
    "        datalab_1 = {}\n",
    "        datalab_list = wd.find_elements_by_class_name('_3Ryhx')\n",
    "        for datalab in datalab_list:\n",
    "            datalab_1[datalab.find_element_by_class_name('_3hvd9').text] = [x.text for x in datalab.find_elements_by_class_name('_2irYJ') if x.text != '']\n",
    "    except:\n",
    "        datalab_1 = 'NA'\n",
    "#     print(name, datalab_1)\n",
    "\n",
    "    nums_list = wd.find_elements_by_class_name('_1Y6hi')\n",
    "    score = nums_list[0].find_element_by_tag_name('em').text\n",
    "    review_num = nums_list[1].find_element_by_tag_name('em').text\n",
    "    try:\n",
    "        blog_nums = nums_list[2].find_element_by_tag_name('em').text\n",
    "    except:\n",
    "        blog_nums = 'NA'\n",
    "#     print(score, review_num, blog_nums)\n",
    "    for menus in wd.find_elements_by_class_name('_3iTUo'):\n",
    "        url = menus.get_attribute('href')\n",
    "#         print(url)\n",
    "        if 'review/visitor' in url:\n",
    "            place_url = url\n",
    "#             print(url)\n",
    "            break\n",
    "        else:\n",
    "            place_url = 'NA'\n",
    "        \n",
    "\n",
    "\n",
    "    return name, r_type, address,tel, score, detail, strong, datalab_1, review_num, blog_nums, place_url"
   ]
  },
  {
   "cell_type": "markdown",
   "id": "7cb9f8cf",
   "metadata": {},
   "source": [
    "wd.close()"
   ]
  },
  {
   "cell_type": "markdown",
   "id": "3022fbac",
   "metadata": {},
   "source": [
    "# 전체 스크롤링 함수"
   ]
  },
  {
   "cell_type": "code",
   "execution_count": 12,
   "id": "f8e6ef99",
   "metadata": {
    "ExecuteTime": {
     "end_time": "2021-10-14T11:15:41.801474Z",
     "start_time": "2021-10-14T11:15:41.607297Z"
    }
   },
   "outputs": [],
   "source": [
    "import time\n",
    "import pandas as pd\n",
    "import numpy as np\n",
    "\n",
    "from selenium import webdriver\n",
    "from selenium.webdriver.common.keys import Keys\n",
    "from selenium.common.exceptions import NoSuchElementException\n",
    "from selenium.common.exceptions import ElementNotInteractableException\n",
    "from selenium.common.exceptions import StaleElementReferenceException\n",
    "from selenium.common.exceptions import ElementClickInterceptedException\n",
    "from webdriver_manager.chrome import ChromeDriverManager\n",
    "from selenium.webdriver.common.by import By\n",
    "\n",
    "def naver_map_store_scraping(file_path, 구이름, 동이름, 업종):\n",
    "    options = webdriver.ChromeOptions()\n",
    "    # options.add_argument('--no-sandbox')\n",
    "\n",
    "#     options.add_argument('headless')\n",
    "    options.add_argument(\"--start-maximized\")\n",
    "#     options.add_argument(\"--window-size=1920,1080\")\n",
    "    wd = webdriver.Chrome(ChromeDriverManager().install(), options= options)  # chromedriver 열기\n",
    "    wd.implicitly_wait(3)\n",
    "    \n",
    "    # time.sleep(1)\n",
    "    store_idx = 0\n",
    "    store_df = pd.DataFrame(columns=(\"name\",\"r_type\",\"address\",\"tel\",\"score\",\"detail\",\"strong\",\"datalab_1\",\"review_num\",\"blog_num\", 'place_url'))\n",
    "\n",
    "    current_num = 1\n",
    "    start_time = time.time()\n",
    "\n",
    "\n",
    "    search_url = 'https://map.naver.com/v5/search/'\n",
    "    search_url_detail = search_url + 구이름 +'%20'+ 동이름 + '%20' + 업종\n",
    "\n",
    "    file_name = '가게정보_' + 구이름 + '_' + 동이름+ '_'+ 업종 + '.csv'\n",
    "    print(f'{구이름} {동이름} {업종} 시작합니다~~ 후비고~~')\n",
    "\n",
    "    wd.get(search_url_detail)\n",
    "    time.sleep(2)\n",
    "\n",
    "    wd.switch_to_frame('searchIframe')\n",
    "    time.sleep(0.1)\n",
    "    # print('ch')\n",
    "\n",
    "    while True:\n",
    "        # 스크롤 다운(iframe)\n",
    "        dfd = wd.find_element_by_tag_name('body')\n",
    "        dfd.click()\n",
    "        for _ in range(7):\n",
    "            dfd.send_keys(Keys.END)\n",
    "            time.sleep(0.3)\n",
    "        time.sleep(2)\n",
    "\n",
    "        # 가게 링크\n",
    "        inline_list = wd.find_elements_by_class_name('Ow5Yt')\n",
    "        print('페이지당 가게 :' ,len(inline_list))\n",
    "\n",
    "        # 각각의 가게 정보 스크랩핑\n",
    "        for inline in inline_list:\n",
    "            try:\n",
    "                inline.click()\n",
    "            except ElementClickInterceptedException:\n",
    "                print('Ele_C_Ex')\n",
    "                pass\n",
    "            except:\n",
    "                pass\n",
    "            time.sleep(0.8)\n",
    "\n",
    "            # iframe 전환\n",
    "            wd.switch_to_default_content()\n",
    "            wd.switch_to_frame('entryIframe')    \n",
    "\n",
    "    #         스크롤링\n",
    "            try:\n",
    "                time.sleep(0.2)\n",
    "                dfd = wd.find_element_by_class_name('_3XamX')\n",
    "                dfd.click()\n",
    "                time.sleep(0.2)\n",
    "                dfd = wd.find_element_by_tag_name('body')\n",
    "                for _ in range(5):\n",
    "                    dfd.send_keys(Keys.END)\n",
    "\n",
    "                    time.sleep(0.1)\n",
    "            except StaleElementReferenceException:\n",
    "                print('S_E_Exc')\n",
    "                pass\n",
    "            except:\n",
    "                pass\n",
    "\n",
    "            # 가게 정보 수집\n",
    "            try:\n",
    "                store_df.loc[store_idx] = get_store_info(wd)\n",
    "                print(store_idx, end='#')\n",
    "                store_idx += 1\n",
    "            except:\n",
    "                pass  \n",
    "            \n",
    "            try:\n",
    "                wd.switch_to_default_content()\n",
    "                wd.switch_to_frame('searchIframe')\n",
    "            except:\n",
    "                if store_df.shape[0] > 200:\n",
    "                    store_df.to_csv(file_path + file_name, index=False)\n",
    "                pass\n",
    "                \n",
    "    ##############################################\n",
    "#             if store_idx%3==0: # 테스트용\n",
    "#                 print(f'{current_num}page done, {store_df.shape}')\n",
    "#                 break\n",
    "    ##############################################\n",
    "            \n",
    "        else:\n",
    "            print(f'{current_num}page done, {store_df.shape}')\n",
    "\n",
    "        # 페이지 이동 및 종료\n",
    "        last_num = wd.find_elements_by_class_name('_2tk2s ')[-1].text\n",
    "        current_num = wd.find_element_by_class_name('_5vmWW').text\n",
    "###########################################     \n",
    "#         if store_idx > 5: # 테스트용\n",
    "#             store_df.to_csv(file_path + file_name, index=False)\n",
    "#             print(구이름,동이름,업종, f'가게 {store_idx}개 완료' )\n",
    "#             print(f'{time.time()-start_time} 소요')\n",
    "#             wd.close()\n",
    "#             break\n",
    "###########################################\n",
    "        if last_num == current_num:\n",
    "            store_df.to_csv(file_path + file_name, index=False)\n",
    "            print(구이름,동이름,업종, f'가게 {store_idx}개 완료' )\n",
    "            print(f'{time.time()-start_time} 소요')\n",
    "            wd.close()\n",
    "            break\n",
    "\n",
    "        try:\n",
    "            next_bnt = wd.find_element_by_css_selector('#app-root > div > div._2lx2y > div._2ky45 > a:nth-child(7) > svg')\n",
    "            next_bnt.click()\n",
    "            time.sleep(1)\n",
    "            wd.switch_to_default_content()\n",
    "            wd.switch_to_frame('searchIframe')\n",
    "\n",
    "        except:\n",
    "            print('page button 에러')\n",
    "            store_df.to_csv(file_path + file_name, index=False)\n",
    "            wd.close()\n",
    "            break\n",
    "            \n",
    "\n",
    "\n",
    "\n"
   ]
  },
  {
   "cell_type": "markdown",
   "id": "9da60fad",
   "metadata": {},
   "source": [
    "# 스크래핑 수행"
   ]
  },
  {
   "cell_type": "code",
   "execution_count": 13,
   "id": "c6902d2a",
   "metadata": {
    "ExecuteTime": {
     "end_time": "2021-10-14T11:15:41.816488Z",
     "start_time": "2021-10-14T11:15:41.802475Z"
    }
   },
   "outputs": [
    {
     "data": {
      "text/plain": [
       "['강남구',\n",
       " '강동구',\n",
       " '강북구',\n",
       " '강서구',\n",
       " '관악구',\n",
       " '광진구',\n",
       " '구로구',\n",
       " '금천구',\n",
       " '노원구',\n",
       " '도봉구',\n",
       " '동대문구',\n",
       " '동작구',\n",
       " '마포구',\n",
       " '서대문구',\n",
       " '서초구',\n",
       " '성동구',\n",
       " '성북구',\n",
       " '송파구',\n",
       " '양천구',\n",
       " '영등포구',\n",
       " '용산구',\n",
       " '은평구',\n",
       " '종로구',\n",
       " '중구',\n",
       " '중랑구']"
      ]
     },
     "execution_count": 13,
     "metadata": {},
     "output_type": "execute_result"
    }
   ],
   "source": [
    "dong_key_list # 사용 가능 구이름"
   ]
  },
  {
   "cell_type": "markdown",
   "id": "cb2b9665",
   "metadata": {
    "ExecuteTime": {
     "end_time": "2021-10-14T06:25:14.826634Z",
     "start_time": "2021-10-14T06:25:14.812607Z"
    }
   },
   "source": [
    "* 준혁 : \n",
    "\n",
    "'강남구',\n",
    " '강동구',\n",
    " '강북구',\n",
    " '강서구',\n",
    " '관악구',\n",
    " '광진구',\n",
    " '구로구',\n",
    " '금천구',\n",
    "    \n",
    "    \n",
    "    \n",
    "* 승순 :    \n",
    " '노원구',\n",
    " '도봉구',\n",
    " '동대문구',\n",
    " '동작구',\n",
    " '마포구',\n",
    " '서대문구',\n",
    " '서초구',\n",
    " '성동구',\n",
    " \n",
    " \n",
    " \n",
    "* 세원 :\n",
    " '성북구',\n",
    " '송파구',\n",
    " '양천구',\n",
    " '영등포구',\n",
    " '용산구',\n",
    " '은평구',\n",
    " '종로구',\n",
    " '중구',\n",
    " '중랑구'"
   ]
  },
  {
   "cell_type": "code",
   "execution_count": 14,
   "id": "31360953",
   "metadata": {
    "ExecuteTime": {
     "end_time": "2021-10-14T11:15:41.831497Z",
     "start_time": "2021-10-14T11:15:41.817488Z"
    }
   },
   "outputs": [
    {
     "data": {
      "text/plain": [
       "['망우본동',\n",
       " '망우제3동',\n",
       " '면목본동',\n",
       " '면목제2동',\n",
       " '면목제3.8동',\n",
       " '면목제4동',\n",
       " '면목제5동',\n",
       " '면목제7동',\n",
       " '묵제1동',\n",
       " '묵제2동',\n",
       " '상봉제1동',\n",
       " '상봉제2동',\n",
       " '신내1동',\n",
       " '신내2동',\n",
       " '중화제1동',\n",
       " '중화제2동']"
      ]
     },
     "execution_count": 14,
     "metadata": {},
     "output_type": "execute_result"
    }
   ],
   "source": [
    "dong_dict['중랑구']"
   ]
  },
  {
   "cell_type": "code",
   "execution_count": 15,
   "id": "e141f5c1",
   "metadata": {
    "ExecuteTime": {
     "end_time": "2021-10-14T11:15:41.846508Z",
     "start_time": "2021-10-14T11:15:41.832496Z"
    }
   },
   "outputs": [],
   "source": [
    "업종 = '식당' # 까페\n",
    "구이름 = '중랑구'\n",
    "동이름_list = dong_dict[구이름]\n",
    "# 동이름_list = ['망우본동', '망우제3동']\n",
    "file_path = 'data/가게/'\n"
   ]
  },
  {
   "cell_type": "code",
   "execution_count": 16,
   "id": "d71c13db",
   "metadata": {
    "ExecuteTime": {
     "end_time": "2021-10-14T11:15:47.198670Z",
     "start_time": "2021-10-14T11:15:41.847508Z"
    },
    "scrolled": false
   },
   "outputs": [
    {
     "name": "stderr",
     "output_type": "stream",
     "text": [
      "[WDM] - \n",
      "\n",
      "[WDM] - ====== WebDriver manager ======\n",
      "[WDM] - Current google-chrome version is 94.0.4606\n",
      "[WDM] - Get LATEST driver version for 94.0.4606\n",
      "[WDM] - Driver [C:\\Users\\bigne\\.wdm\\drivers\\chromedriver\\win32\\94.0.4606.61\\chromedriver.exe] found in cache\n"
     ]
    },
    {
     "name": "stdout",
     "output_type": "stream",
     "text": [
      "중랑구 망우본동 식당 시작합니다~~ 후비고~~\n"
     ]
    },
    {
     "ename": "KeyboardInterrupt",
     "evalue": "",
     "output_type": "error",
     "traceback": [
      "\u001b[1;31m---------------------------------------------------------------------------\u001b[0m",
      "\u001b[1;31mKeyboardInterrupt\u001b[0m                         Traceback (most recent call last)",
      "\u001b[1;32mC:\\Users\\Public\\Documents\\ESTsoft\\CreatorTemp/ipykernel_45792/3802548648.py\u001b[0m in \u001b[0;36m<module>\u001b[1;34m\u001b[0m\n\u001b[0;32m      4\u001b[0m         \u001b[0mprint\u001b[0m\u001b[1;33m(\u001b[0m\u001b[1;34mf'{file_name}이 있습니다. 다음 지역으로 이동합니다'\u001b[0m\u001b[1;33m)\u001b[0m\u001b[1;33m\u001b[0m\u001b[1;33m\u001b[0m\u001b[0m\n\u001b[0;32m      5\u001b[0m         \u001b[1;32mpass\u001b[0m\u001b[1;33m\u001b[0m\u001b[1;33m\u001b[0m\u001b[0m\n\u001b[1;32m----> 6\u001b[1;33m     \u001b[1;32melse\u001b[0m\u001b[1;33m:\u001b[0m \u001b[0mnaver_map_store_scraping\u001b[0m\u001b[1;33m(\u001b[0m\u001b[0mfile_path\u001b[0m\u001b[1;33m=\u001b[0m\u001b[0mfile_path\u001b[0m\u001b[1;33m,\u001b[0m \u001b[0m구이름\u001b[0m\u001b[1;33m=\u001b[0m\u001b[0m구이름\u001b[0m\u001b[1;33m,\u001b[0m \u001b[0m동이름\u001b[0m\u001b[1;33m=\u001b[0m\u001b[0m동이름\u001b[0m\u001b[1;33m,\u001b[0m \u001b[0m업종\u001b[0m\u001b[1;33m=\u001b[0m\u001b[0m업종\u001b[0m\u001b[1;33m)\u001b[0m\u001b[1;33m\u001b[0m\u001b[1;33m\u001b[0m\u001b[0m\n\u001b[0m",
      "\u001b[1;32mC:\\Users\\Public\\Documents\\ESTsoft\\CreatorTemp/ipykernel_45792/2179193299.py\u001b[0m in \u001b[0;36mnaver_map_store_scraping\u001b[1;34m(file_path, 구이름, 동이름, 업종)\u001b[0m\n\u001b[0;32m     49\u001b[0m         \u001b[1;32mfor\u001b[0m \u001b[0m_\u001b[0m \u001b[1;32min\u001b[0m \u001b[0mrange\u001b[0m\u001b[1;33m(\u001b[0m\u001b[1;36m7\u001b[0m\u001b[1;33m)\u001b[0m\u001b[1;33m:\u001b[0m\u001b[1;33m\u001b[0m\u001b[1;33m\u001b[0m\u001b[0m\n\u001b[0;32m     50\u001b[0m             \u001b[0mdfd\u001b[0m\u001b[1;33m.\u001b[0m\u001b[0msend_keys\u001b[0m\u001b[1;33m(\u001b[0m\u001b[0mKeys\u001b[0m\u001b[1;33m.\u001b[0m\u001b[0mEND\u001b[0m\u001b[1;33m)\u001b[0m\u001b[1;33m\u001b[0m\u001b[1;33m\u001b[0m\u001b[0m\n\u001b[1;32m---> 51\u001b[1;33m             \u001b[0mtime\u001b[0m\u001b[1;33m.\u001b[0m\u001b[0msleep\u001b[0m\u001b[1;33m(\u001b[0m\u001b[1;36m0.3\u001b[0m\u001b[1;33m)\u001b[0m\u001b[1;33m\u001b[0m\u001b[1;33m\u001b[0m\u001b[0m\n\u001b[0m\u001b[0;32m     52\u001b[0m         \u001b[0mtime\u001b[0m\u001b[1;33m.\u001b[0m\u001b[0msleep\u001b[0m\u001b[1;33m(\u001b[0m\u001b[1;36m2\u001b[0m\u001b[1;33m)\u001b[0m\u001b[1;33m\u001b[0m\u001b[1;33m\u001b[0m\u001b[0m\n\u001b[0;32m     53\u001b[0m \u001b[1;33m\u001b[0m\u001b[0m\n",
      "\u001b[1;31mKeyboardInterrupt\u001b[0m: "
     ]
    }
   ],
   "source": [
    "for 동이름 in 동이름_list:\n",
    "    file_name = '가게정보_' + 구이름 + '_' + 동이름+ '_'+ 업종 + '.csv'\n",
    "    if check_file(file_path=file_path, file_name=file_name):\n",
    "        print(f'{file_name}이 있습니다. 다음 지역으로 이동합니다')\n",
    "        pass\n",
    "    else: naver_map_store_scraping(file_path=file_path, 구이름=구이름, 동이름=동이름, 업종=업종)"
   ]
  },
  {
   "cell_type": "code",
   "execution_count": null,
   "id": "c5486d04",
   "metadata": {
    "ExecuteTime": {
     "end_time": "2021-10-14T11:15:47.199669Z",
     "start_time": "2021-10-14T11:15:47.199669Z"
    }
   },
   "outputs": [],
   "source": [
    "df1 = pd.read_csv('data/가게/가게정보_중랑구_망우본동_식당.csv')\n",
    "df1"
   ]
  },
  {
   "cell_type": "code",
   "execution_count": null,
   "id": "9e7a0491",
   "metadata": {
    "ExecuteTime": {
     "end_time": "2021-10-14T11:15:47.200670Z",
     "start_time": "2021-10-14T11:15:47.200670Z"
    }
   },
   "outputs": [],
   "source": [
    "df2 = pd.read_csv('data/가게/가게정보_중랑구_망우제3동_식당.csv')\n",
    "df2"
   ]
  },
  {
   "cell_type": "code",
   "execution_count": null,
   "id": "f1d6f710",
   "metadata": {},
   "outputs": [],
   "source": []
  }
 ],
 "metadata": {
  "kernelspec": {
   "display_name": "Python 3 (ipykernel)",
   "language": "python",
   "name": "python3"
  },
  "language_info": {
   "codemirror_mode": {
    "name": "ipython",
    "version": 3
   },
   "file_extension": ".py",
   "mimetype": "text/x-python",
   "name": "python",
   "nbconvert_exporter": "python",
   "pygments_lexer": "ipython3",
   "version": "3.8.11"
  },
  "toc": {
   "base_numbering": 1,
   "nav_menu": {},
   "number_sections": true,
   "sideBar": true,
   "skip_h1_title": false,
   "title_cell": "Table of Contents",
   "title_sidebar": "Contents",
   "toc_cell": false,
   "toc_position": {
    "height": "calc(100% - 180px)",
    "left": "10px",
    "top": "150px",
    "width": "403.49px"
   },
   "toc_section_display": true,
   "toc_window_display": false
  }
 },
 "nbformat": 4,
 "nbformat_minor": 5
}
