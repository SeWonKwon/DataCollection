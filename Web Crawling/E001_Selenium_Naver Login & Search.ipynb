{
 "cells": [
  {
   "cell_type": "markdown",
   "metadata": {},
   "source": [
    "출처: https://devmjun.github.io/archive/Selenium"
   ]
  },
  {
   "cell_type": "markdown",
   "metadata": {},
   "source": [
    "자동 로그인"
   ]
  },
  {
   "cell_type": "code",
   "execution_count": 12,
   "metadata": {},
   "outputs": [],
   "source": [
    "import os\n",
    "from selenium import webdriver\n",
    "from selenium.webdriver.support.ui import WebDriverWait\n",
    "from selenium.webdriver.support import expected_conditions as EC \n",
    "from selenium.webdriver.common.by import By\n",
    "\n",
    "# driver 를 설정합니다. \n",
    "driver = webdriver.Chrome()\n",
    "\n",
    "# api 가 처음 접근하는 url 을 설정합니다.\n",
    "\n",
    "# 네이버 로그인 페이지로 접근합니다. 자세한 url은, 크롬 `command + option + i` 키를 누르면 개발자 모드로 변경되어서, 사용하고 싶은 부분의 HTML을 긁어올수 있습니다. \n",
    "driver.get('https://nid.naver.com/nidlogin.login')\n",
    "\n",
    "# url 접근후 3초간 기다려줍니다. 이유는 명령어에 접근하는 시간이랑, 실제로 코드가 적용되는 시간이 차이가 있어서, 컴퓨터가 더 빠르면(?) 다음 명령어가 씹히는 경우도 있습니다. \n",
    "\n",
    "driver.implicitly_wait(3)\n",
    "\n",
    "# 'naver_id' 에 naverID 를, 'password' 에 비밀번호를 입력하면, 자동으로 robot이 입력을 해준다. \n",
    "naver_id=''\n",
    "password=''\n",
    "driver.find_element_by_name('id').send_keys(naver_id)\n",
    "driver.implicitly_wait(3)\n",
    "driver.find_element_by_name('pw').send_keys(password)\n",
    "\n",
    "# 로그인 버튼을 클릭 해줍니다. \n",
    "driver.find_element_by_xpath('//*[@id=\"frmNIDLogin\"]/fieldset/input').click()"
   ]
  },
  {
   "cell_type": "markdown",
   "metadata": {},
   "source": [
    "Search"
   ]
  },
  {
   "cell_type": "code",
   "execution_count": null,
   "metadata": {},
   "outputs": [],
   "source": [
    "import os\n",
    "import time\n",
    "from selenium import webdriver\n",
    "from selenium.webdriver.support.ui import WebDriverWait\n",
    "from selenium.webdriver.support import expected_conditions as EC \n",
    "from selenium.webdriver.common.by import By\n",
    "\n",
    "driver = webdriver.Chrome()\n",
    "driver.get(\"https://www.naver.co.kr/\")\n",
    "btn = 0\n",
    "\n",
    "# 웹드라이브 \n",
    "# naver 에서 검색값 id = query \n",
    "\n",
    "query = driver.find_element_by_id(\"query\") \n",
    " \n",
    "# 검색창에 적어 줍니다. \n",
    "\n",
    "keword='고양이'\n",
    "query.send_keys(keword) \n",
    "\n",
    "# 검색하기 전 5초를 기다린다 \n",
    "\n",
    "driver.implicitly_wait(5)\n",
    "\n",
    "# 초기 검색 버튼. \n",
    "\n",
    "driver.find_element_by_id(\"search_btn\").click()\n",
    "\n",
    "# 반복 검색 \n",
    "while btn < 100 :\n",
    "    btn += 1\n",
    "\n",
    "# robot 의 움직임이 5초 멈춤     \n",
    "    driver.implicitly_wait(5)\n",
    "    \n",
    "    # 코드의 흐름이 다음줄이 되면 10초가 멈춘후, 다음코드 실행     \n",
    "    time.sleep(10)\n",
    "    \n",
    "    # 새로운 검색창 검색값 id = bt_search     \n",
    "    driver.find_element_by_class_name(\"bt_search\").click()"
   ]
  },
  {
   "cell_type": "code",
   "execution_count": null,
   "metadata": {},
   "outputs": [],
   "source": []
  }
 ],
 "metadata": {
  "kernelspec": {
   "display_name": "Python 3",
   "language": "python",
   "name": "python3"
  },
  "language_info": {
   "codemirror_mode": {
    "name": "ipython",
    "version": 3
   },
   "file_extension": ".py",
   "mimetype": "text/x-python",
   "name": "python",
   "nbconvert_exporter": "python",
   "pygments_lexer": "ipython3",
   "version": "3.8.5"
  },
  "toc": {
   "base_numbering": 1,
   "nav_menu": {},
   "number_sections": true,
   "sideBar": true,
   "skip_h1_title": false,
   "title_cell": "Table of Contents",
   "title_sidebar": "Contents",
   "toc_cell": false,
   "toc_position": {},
   "toc_section_display": true,
   "toc_window_display": false
  }
 },
 "nbformat": 4,
 "nbformat_minor": 4
}
